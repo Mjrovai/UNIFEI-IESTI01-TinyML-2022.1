{
  "cells": [
    {
      "cell_type": "markdown",
      "metadata": {
        "id": "Zo2JiEtkzvQL"
      },
      "source": [
        "# House Pricing Regression using Dense Neural Network (DNN) "
      ]
    },
    {
      "cell_type": "markdown",
      "metadata": {
        "id": "z56YN3JZ0Duh"
      },
      "source": [
        "## Import Libraries"
      ]
    },
    {
      "cell_type": "code",
      "execution_count": 1,
      "metadata": {
        "id": "YfPnR74Gzc_q"
      },
      "outputs": [],
      "source": [
        "import numpy as np\n",
        "import matplotlib.pyplot as plt\n",
        "import tensorflow as tf"
      ]
    },
    {
      "cell_type": "markdown",
      "metadata": {
        "id": "xrGLDV6q0PCc"
      },
      "source": [
        "## Upload and Explore Dataset\n",
        "[The Boston house-price data](http://lib.stat.cmu.edu/datasets/boston) \n",
        "* This is a dataset taken from the StatLib library which is maintained at Carnegie Mellon University.\n",
        "* There are 506 samples, each one with 13 attributes (Features `Xi` from 0 to 12) of houses at different locations around the Boston suburbs in the late 1970s. The attributes themselves are defined in the StatLib website (as per capta crime rate in the area, number of rooms, distance  from employemment center, etc).\n",
        "Below the attributes (or features) in order:\n",
        " - CRIM     per capita crime rate by town\n",
        " - ZN       proportion of residential land zoned for lots over 25,000 sq.ft.\n",
        " - INDUS    proportion of non-retail business acres per town\n",
        " - CHAS     Charles River dummy variable (= 1 if tract bounds river; 0 otherwise)\n",
        " - NOX      nitric oxides concentration (parts per 10 million)\n",
        " - RM       average number of rooms per dwelling\n",
        " - AGE      proportion of owner-occupied units built prior to 1940\n",
        " - DIS      weighted distances to five Boston employment centres\n",
        " - RAD      index of accessibility to radial highways\n",
        " - TAX      full-value property-tax rate per $10,000\n",
        " - PTRATIO  pupil-teacher ratio by town\n",
        " - B        1000(Bk - 0.63)^2 where Bk is the proportion of blacks by town\n",
        " - LSTAT    % lower status of the population\n",
        " MEDV     Median value of owner-occupied homes in \\$1000's\n",
        "- Target (`Y`) is the median values of the houses at a location (in USD 1,000).\n",
        "\n",
        "**Goal**\n",
        "*  Our goal is to build a regression model that takes these **13 features as input** and **output a single value prediction** of the \"median value of owner-occupied homes (in USD 1000).\"\n",
        "* Dataset can be download direct from: [tf.keras.datasets.boston_housing](https://www.tensorflow.org/api_docs/python/tf/keras/datasets/boston_housing/load_data)\n"
      ]
    },
    {
      "cell_type": "code",
      "execution_count": 2,
      "metadata": {
        "id": "Ib2Ihepx0N6h",
        "outputId": "f26f04bf-0820-44c1-943c-b97e2f226856",
        "colab": {
          "base_uri": "https://localhost:8080/"
        }
      },
      "outputs": [
        {
          "output_type": "stream",
          "name": "stdout",
          "text": [
            "Downloading data from https://storage.googleapis.com/tensorflow/tf-keras-datasets/boston_housing.npz\n",
            "57344/57026 [==============================] - 0s 0us/step\n",
            "65536/57026 [==================================] - 0s 0us/step\n"
          ]
        }
      ],
      "source": [
        "data = tf.keras.datasets.boston_housing\n",
        "\n",
        "(x_train, y_train), (x_test, y_test) = data.load_data()"
      ]
    },
    {
      "cell_type": "code",
      "execution_count": 3,
      "metadata": {
        "id": "pq1bMIRd38b8",
        "outputId": "0175b596-5a88-460a-d980-9f8316022e95",
        "colab": {
          "base_uri": "https://localhost:8080/"
        }
      },
      "outputs": [
        {
          "output_type": "stream",
          "name": "stdout",
          "text": [
            "(404, 13)\n",
            "(404,)\n"
          ]
        }
      ],
      "source": [
        "print(x_train.shape)\n",
        "print(y_train.shape)"
      ]
    },
    {
      "cell_type": "code",
      "execution_count": 4,
      "metadata": {
        "id": "qHaUYnSs4bq4",
        "outputId": "ee9ad822-451e-4ba2-8054-3cd05891ca3b",
        "colab": {
          "base_uri": "https://localhost:8080/"
        }
      },
      "outputs": [
        {
          "output_type": "stream",
          "name": "stdout",
          "text": [
            "(102,)\n",
            "(102,)\n"
          ]
        }
      ],
      "source": [
        "print(y_test.shape)\n",
        "print(y_test.shape)"
      ]
    },
    {
      "cell_type": "code",
      "source": [
        "x_train[0]"
      ],
      "metadata": {
        "id": "4AZZyahM2Gxh",
        "outputId": "9d599bf8-5d23-453a-d115-49c45e2f74e1",
        "colab": {
          "base_uri": "https://localhost:8080/"
        }
      },
      "execution_count": 5,
      "outputs": [
        {
          "output_type": "execute_result",
          "data": {
            "text/plain": [
              "array([  1.23247,   0.     ,   8.14   ,   0.     ,   0.538  ,   6.142  ,\n",
              "        91.7    ,   3.9769 ,   4.     , 307.     ,  21.     , 396.9    ,\n",
              "        18.72   ])"
            ]
          },
          "metadata": {},
          "execution_count": 5
        }
      ]
    },
    {
      "cell_type": "markdown",
      "metadata": {
        "id": "44ENgGg2Qudp"
      },
      "source": [
        "### Exploring Target (Y)"
      ]
    },
    {
      "cell_type": "code",
      "execution_count": 6,
      "metadata": {
        "id": "imESCCOODh8K",
        "outputId": "ab772f90-6c30-44c9-d1c5-47b0546f23af",
        "colab": {
          "base_uri": "https://localhost:8080/"
        }
      },
      "outputs": [
        {
          "output_type": "execute_result",
          "data": {
            "text/plain": [
              "array([15.2, 42.3, 50. , 21.1, 17.7, 18.5, 11.3, 15.6, 15.6, 14.4, 12.1,\n",
              "       17.9, 23.1, 19.9, 15.7,  8.8, 50. , 22.5, 24.1, 27.5, 10.9, 30.8,\n",
              "       32.9, 24. , 18.5, 13.3, 22.9, 34.7, 16.6, 17.5, 22.3, 16.1, 14.9,\n",
              "       23.1, 34.9, 25. , 13.9, 13.1, 20.4, 20. , 15.2, 24.7, 22.2, 16.7,\n",
              "       12.7, 15.6, 18.4, 21. , 30.1, 15.1, 18.7,  9.6, 31.5, 24.8, 19.1,\n",
              "       22. , 14.5, 11. , 32. , 29.4, 20.3, 24.4, 14.6, 19.5, 14.1, 14.3,\n",
              "       15.6, 10.5,  6.3, 19.3, 19.3, 13.4, 36.4, 17.8, 13.5, 16.5,  8.3,\n",
              "       14.3, 16. , 13.4, 28.6, 43.5, 20.2, 22. , 23. , 20.7, 12.5, 48.5,\n",
              "       14.6, 13.4, 23.7, 50. , 21.7, 39.8, 38.7, 22.2, 34.9, 22.5, 31.1,\n",
              "       28.7, 46. , 41.7, 21. , 26.6, 15. , 24.4, 13.3, 21.2, 11.7, 21.7,\n",
              "       19.4, 50. , 22.8, 19.7, 24.7, 36.2, 14.2, 18.9, 18.3, 20.6, 24.6,\n",
              "       18.2,  8.7, 44. , 10.4, 13.2, 21.2, 37. , 30.7, 22.9, 20. , 19.3,\n",
              "       31.7, 32. , 23.1, 18.8, 10.9, 50. , 19.6,  5. , 14.4, 19.8, 13.8,\n",
              "       19.6, 23.9, 24.5, 25. , 19.9, 17.2, 24.6, 13.5, 26.6, 21.4, 11.9,\n",
              "       22.6, 19.6,  8.5, 23.7, 23.1, 22.4, 20.5, 23.6, 18.4, 35.2, 23.1,\n",
              "       27.9, 20.6, 23.7, 28. , 13.6, 27.1, 23.6, 20.6, 18.2, 21.7, 17.1,\n",
              "        8.4, 25.3, 13.8, 22.2, 18.4, 20.7, 31.6, 30.5, 20.3,  8.8, 19.2,\n",
              "       19.4, 23.1, 23. , 14.8, 48.8, 22.6, 33.4, 21.1, 13.6, 32.2, 13.1,\n",
              "       23.4, 18.9, 23.9, 11.8, 23.3, 22.8, 19.6, 16.7, 13.4, 22.2, 20.4,\n",
              "       21.8, 26.4, 14.9, 24.1, 23.8, 12.3, 29.1, 21. , 19.5, 23.3, 23.8,\n",
              "       17.8, 11.5, 21.7, 19.9, 25. , 33.4, 28.5, 21.4, 24.3, 27.5, 33.1,\n",
              "       16.2, 23.3, 48.3, 22.9, 22.8, 13.1, 12.7, 22.6, 15. , 15.3, 10.5,\n",
              "       24. , 18.5, 21.7, 19.5, 33.2, 23.2,  5. , 19.1, 12.7, 22.3, 10.2,\n",
              "       13.9, 16.3, 17. , 20.1, 29.9, 17.2, 37.3, 45.4, 17.8, 23.2, 29. ,\n",
              "       22. , 18. , 17.4, 34.6, 20.1, 25. , 15.6, 24.8, 28.2, 21.2, 21.4,\n",
              "       23.8, 31. , 26.2, 17.4, 37.9, 17.5, 20. ,  8.3, 23.9,  8.4, 13.8,\n",
              "        7.2, 11.7, 17.1, 21.6, 50. , 16.1, 20.4, 20.6, 21.4, 20.6, 36.5,\n",
              "        8.5, 24.8, 10.8, 21.9, 17.3, 18.9, 36.2, 14.9, 18.2, 33.3, 21.8,\n",
              "       19.7, 31.6, 24.8, 19.4, 22.8,  7.5, 44.8, 16.8, 18.7, 50. , 50. ,\n",
              "       19.5, 20.1, 50. , 17.2, 20.8, 19.3, 41.3, 20.4, 20.5, 13.8, 16.5,\n",
              "       23.9, 20.6, 31.5, 23.3, 16.8, 14. , 33.8, 36.1, 12.8, 18.3, 18.7,\n",
              "       19.1, 29. , 30.1, 50. , 50. , 22. , 11.9, 37.6, 50. , 22.7, 20.8,\n",
              "       23.5, 27.9, 50. , 19.3, 23.9, 22.6, 15.2, 21.7, 19.2, 43.8, 20.3,\n",
              "       33.2, 19.9, 22.5, 32.7, 22. , 17.1, 19. , 15. , 16.1, 25.1, 23.7,\n",
              "       28.7, 37.2, 22.6, 16.4, 25. , 29.8, 22.1, 17.4, 18.1, 30.3, 17.5,\n",
              "       24.7, 12.6, 26.5, 28.7, 13.3, 10.4, 24.4, 23. , 20. , 17.8,  7. ,\n",
              "       11.8, 24.4, 13.8, 19.4, 25.2, 19.4, 19.4, 29.1])"
            ]
          },
          "metadata": {},
          "execution_count": 6
        }
      ],
      "source": [
        "y_train"
      ]
    },
    {
      "cell_type": "code",
      "execution_count": 7,
      "metadata": {
        "id": "82O77YHNybhA",
        "outputId": "52812fe0-bc90-4904-f7bb-ada4ff51faf6",
        "colab": {
          "base_uri": "https://localhost:8080/"
        }
      },
      "outputs": [
        {
          "output_type": "stream",
          "name": "stdout",
          "text": [
            "Min price in $K:   5.0\n",
            "Max price in $K:   22.4\n",
            "Mean price in $K:  50.0\n"
          ]
        }
      ],
      "source": [
        "print('Min price in $K:  ',y_train.min())\n",
        "print('Max price in $K:  ',round(y_train.mean(),2))\n",
        "print('Mean price in $K: ',y_train.max())"
      ]
    },
    {
      "cell_type": "code",
      "execution_count": 8,
      "metadata": {
        "id": "1SCj8H9rysOM",
        "outputId": "666a9dee-fb22-4163-ff48-5a7623439711",
        "colab": {
          "base_uri": "https://localhost:8080/",
          "height": 279
        }
      },
      "outputs": [
        {
          "output_type": "display_data",
          "data": {
            "text/plain": [
              "<Figure size 432x288 with 1 Axes>"
            ],
            "image/png": "[encoded data removed]"
          },
          "metadata": {
            "needs_background": "light"
          }
        }
      ],
      "source": [
        "plt.hist(y_train, label='train')\n",
        "plt.hist(y_test, label = 'test')\n",
        "plt.xlabel('Price in K$')\n",
        "plt.legend();"
      ]
    },
    {
      "cell_type": "markdown",
      "metadata": {
        "id": "_M47lzg7z3vI"
      },
      "source": [
        "### Exploring Input Features (X)"
      ]
    },
    {
      "cell_type": "code",
      "execution_count": 10,
      "metadata": {
        "id": "sgy3E-Y7D__F",
        "outputId": "3b4f9f7d-23e1-4508-d746-da04153270b2",
        "colab": {
          "base_uri": "https://localhost:8080/"
        }
      },
      "outputs": [
        {
          "output_type": "stream",
          "name": "stdout",
          "text": [
            "Feature 0 ==> range from 0.00632 to 88.9762\n",
            "Feature 1 ==> range from 0.0 to 100.0\n",
            "Feature 2 ==> range from 0.46 to 27.74\n",
            "Feature 3 ==> range from 0.0 to 1.0\n",
            "Feature 4 ==> range from 0.385 to 0.871\n",
            "Feature 5 ==> range from 3.561 to 8.725\n",
            "Feature 6 ==> range from 2.9 to 100.0\n",
            "Feature 7 ==> range from 1.1296 to 10.7103\n",
            "Feature 8 ==> range from 1.0 to 24.0\n",
            "Feature 9 ==> range from 188.0 to 711.0\n",
            "Feature 10 ==> range from 12.6 to 22.0\n",
            "Feature 11 ==> range from 0.32 to 396.9\n",
            "Feature 12 ==> range from 1.73 to 37.97\n"
          ]
        }
      ],
      "source": [
        "for i in range(len(x_train[0])):\n",
        "  print(\"Feature {} ==> range from {} to {}\".format(\n",
        "      i, x_train[:,i].min(), x_train[:,i].max()\n",
        "      )\n",
        "  )"
      ]
    },
    {
      "cell_type": "code",
      "execution_count": null,
      "metadata": {
        "id": "hXAskOWeGHSx",
        "outputId": "c3352ca1-cf0c-41a1-8ffb-d80bd971d391"
      },
      "outputs": [
        {
          "data": {
            "image/png": "[encoded data removed]",
            "text/plain": [
              "<Figure size 432x288 with 1 Axes>"
            ]
          },
          "metadata": {
            "needs_background": "light"
          },
          "output_type": "display_data"
        }
      ],
      "source": [
        "feature = 1\n",
        "plt.hist(x_train[:,feature], label='train')\n",
        "plt.hist(x_test[:,feature], label = 'test')\n",
        "plt.legend();"
      ]
    },
    {
      "cell_type": "code",
      "execution_count": 11,
      "metadata": {
        "id": "btqWSp9dSrCB",
        "outputId": "2e40fda5-5bd8-4841-9f63-6fd201232f59",
        "colab": {
          "base_uri": "https://localhost:8080/"
        }
      },
      "outputs": [
        {
          "output_type": "stream",
          "name": "stdout",
          "text": [
            "711.0\n",
            "0.0\n"
          ]
        }
      ],
      "source": [
        "print (x_train.max())\n",
        "print (x_train.min())"
      ]
    },
    {
      "cell_type": "markdown",
      "metadata": {
        "id": "0-H0LwB_7von"
      },
      "source": [
        "### Preprocessing Data \n",
        "\n",
        "**Normalizing Data**: \n",
        "We notice that values range varies depending on the type of the feature. If we are training a neural network, for various reasons it's easier if we treat all values as between 0 and 1 (or at least with similar ranges), a process called 'normalizing'. In this case, all features will be `rescaled`.\n",
        "\n",
        "The standard score of a sample `x` is calculated as:\n",
        "\n",
        "        z = (x - u) / s\n",
        "\n",
        "where `u` is the mean of the training samples or zero if `with_mean=False` and `s` is the standard deviation of the training samples or one if `with_std=False`."
      ]
    },
    {
      "cell_type": "code",
      "execution_count": 12,
      "metadata": {
        "id": "uZrGVMsH0X3F"
      },
      "outputs": [],
      "source": [
        "from sklearn.preprocessing import StandardScaler\n",
        "scaler = StandardScaler()\n",
        "\n",
        "# first we fit the scaler on the training dataset\n",
        "scaler.fit(x_train)\n",
        "\n",
        "# then we call the transform method to scale both the training and testing data\n",
        "x_train_norm = scaler.transform(x_train)\n",
        "x_test_norm = scaler.transform(x_test)"
      ]
    },
    {
      "cell_type": "markdown",
      "metadata": {
        "id": "MG_fd0Ig5BuM"
      },
      "source": [
        "Another way do normalize data directly with numpy is:\n",
        "- Get per-feature statistics (mean, standard deviation) from the training set to normalize by:\n",
        "  - x_train_mean = np.mean(x_train, axis=0)\n",
        "  - x_train_std = np.std(x_train, axis=0)\n",
        "  - x_train_norm = (x_train - x_train_mean) / x_train_std\n",
        "\n",
        "  - x_test_norm = (x_test - x_train_mean) / x_train_std\n",
        "\n",
        "**Note** that the quantities used for normalizing the test data are computed using the training data. You should never use in your workflow any quantity computed on the test data, even for something as simple as data normalization."
      ]
    },
    {
      "cell_type": "code",
      "execution_count": 13,
      "metadata": {
        "id": "mMP87jskSZuv",
        "outputId": "023aeb23-6eb3-4724-cb08-474961c68997",
        "colab": {
          "base_uri": "https://localhost:8080/"
        }
      },
      "outputs": [
        {
          "output_type": "stream",
          "name": "stdout",
          "text": [
            "9.234847178400438\n",
            "-3.8172503201932715\n"
          ]
        }
      ],
      "source": [
        "print (x_train_norm.max())\n",
        "print (x_train_norm.min())"
      ]
    },
    {
      "cell_type": "markdown",
      "metadata": {
        "id": "amLdhSLI6gzT"
      },
      "source": [
        "A sample output"
      ]
    },
    {
      "cell_type": "code",
      "execution_count": 14,
      "metadata": {
        "id": "bDL5Es5W6caw",
        "outputId": "12ca4e46-0a84-4d68-8e27-aa443874dbfc",
        "colab": {
          "base_uri": "https://localhost:8080/"
        }
      },
      "outputs": [
        {
          "output_type": "stream",
          "name": "stdout",
          "text": [
            "[-0.27224633 -0.48361547 -0.43576161 -0.25683275 -0.1652266  -0.1764426\n",
            "  0.81306188  0.1166983  -0.62624905 -0.59517003  1.14850044  0.44807713\n",
            "  0.8252202 ]\n"
          ]
        }
      ],
      "source": [
        "print(x_train_norm[0])"
      ]
    },
    {
      "cell_type": "markdown",
      "metadata": {
        "id": "pYMsyOk8-xnf"
      },
      "source": [
        "## Define Model"
      ]
    },
    {
      "cell_type": "code",
      "execution_count": 15,
      "metadata": {
        "id": "JBUukyQ0INrf",
        "outputId": "7f8cf241-1793-4c80-f65d-61224f4167c8",
        "colab": {
          "base_uri": "https://localhost:8080/"
        }
      },
      "outputs": [
        {
          "output_type": "execute_result",
          "data": {
            "text/plain": [
              "(404, 13)"
            ]
          },
          "metadata": {},
          "execution_count": 15
        }
      ],
      "source": [
        "x_train.shape"
      ]
    },
    {
      "cell_type": "code",
      "execution_count": 16,
      "metadata": {
        "id": "ezpCJySN5h2Y",
        "outputId": "443248ba-2d27-4bca-cab8-b0b5a3594802",
        "colab": {
          "base_uri": "https://localhost:8080/"
        }
      },
      "outputs": [
        {
          "output_type": "execute_result",
          "data": {
            "text/plain": [
              "13"
            ]
          },
          "metadata": {},
          "execution_count": 16
        }
      ],
      "source": [
        "x_train.shape[1]"
      ]
    },
    {
      "cell_type": "code",
      "execution_count": 17,
      "metadata": {
        "id": "sDlDs9YO5qk_",
        "outputId": "f7a3af9e-d918-41f4-ff9c-2b984a4b0ce1",
        "colab": {
          "base_uri": "https://localhost:8080/"
        }
      },
      "outputs": [
        {
          "output_type": "execute_result",
          "data": {
            "text/plain": [
              "13"
            ]
          },
          "metadata": {},
          "execution_count": 17
        }
      ],
      "source": [
        "input_shape = x_train.shape[1]\n",
        "input_shape"
      ]
    },
    {
      "cell_type": "markdown",
      "metadata": {
        "id": "UZimwlA92lLr"
      },
      "source": [
        "The model should be created, for example with those layers:\n",
        "- [input] ==> [hidden] ==> [output]:\n",
        "  - 13 ==> [20] ==>  1\n",
        "\n",
        "The **Input Layer** should be 13 (number of features) and the **Output Layer** shoub be 1 to match the target (y). The number of neurons at **Hidden layers** are arbitrary."
      ]
    },
    {
      "cell_type": "code",
      "execution_count": 18,
      "metadata": {
        "id": "dEdoqWl28dB3",
        "outputId": "6d7e1565-891d-47ef-a040-d2ca6de4b68f",
        "colab": {
          "base_uri": "https://localhost:8080/"
        }
      },
      "outputs": [
        {
          "output_type": "stream",
          "name": "stdout",
          "text": [
            "Model: \"sequential\"\n",
            "_________________________________________________________________\n",
            " Layer (type)                Output Shape              Param #   \n",
            "=================================================================\n",
            " dense (Dense)               (None, 20)                280       \n",
            "                                                                 \n",
            " dense_1 (Dense)             (None, 1)                 21        \n",
            "                                                                 \n",
            "=================================================================\n",
            "Total params: 301\n",
            "Trainable params: 301\n",
            "Non-trainable params: 0\n",
            "_________________________________________________________________\n"
          ]
        }
      ],
      "source": [
        "model = tf.keras.models.Sequential([\n",
        "    tf.keras.layers.Input(input_shape),\n",
        "    tf.keras.layers.Dense(20, activation='relu'),\n",
        "    tf.keras.layers.Dense(1)\n",
        "    ])\n",
        "\n",
        "model.summary()"
      ]
    },
    {
      "cell_type": "markdown",
      "metadata": {
        "id": "FNTU33Hn1TRj"
      },
      "source": [
        "Input layer has 13 conections, one for each feature [X]. Each feature goes to each one of the neurons of 1st Dense Layer, that has 20 Neurons. So, total parameters 1st Dense Layer will be ws=(13 x 20) + bs=20 ==> 280. The output layer will be only one Neuron that has one input from the output of previous layer (20 ) + 1 b ==> 21.\n",
        "\n",
        "For simplicity, the input layer can be \"merge with 1st layer\""
      ]
    },
    {
      "cell_type": "code",
      "execution_count": 19,
      "metadata": {
        "id": "yXHoc5X42iR2",
        "outputId": "32744a79-bd78-4ab5-e6ba-280e644fd549",
        "colab": {
          "base_uri": "https://localhost:8080/"
        }
      },
      "outputs": [
        {
          "output_type": "stream",
          "name": "stdout",
          "text": [
            "Model: \"sequential_1\"\n",
            "_________________________________________________________________\n",
            " Layer (type)                Output Shape              Param #   \n",
            "=================================================================\n",
            " dense_2 (Dense)             (None, 20)                280       \n",
            "                                                                 \n",
            " dense_3 (Dense)             (None, 1)                 21        \n",
            "                                                                 \n",
            "=================================================================\n",
            "Total params: 301\n",
            "Trainable params: 301\n",
            "Non-trainable params: 0\n",
            "_________________________________________________________________\n"
          ]
        }
      ],
      "source": [
        "model = tf.keras.models.Sequential([\n",
        "    tf.keras.layers.Dense(20, \n",
        "                          activation='relu', \n",
        "                          input_shape = [13]),\n",
        "    tf.keras.layers.Dense(1)\n",
        "    ])\n",
        "\n",
        "model.summary()"
      ]
    },
    {
      "cell_type": "markdown",
      "metadata": {
        "id": "IfGTI8SY_3AL"
      },
      "source": [
        "##Compile Model"
      ]
    },
    {
      "cell_type": "markdown",
      "metadata": {
        "id": "QzTQem0EHY-O"
      },
      "source": [
        "### Type of errors\n",
        "In statistics, `Mean Absolute Error (MAE)` is a measure of errors between paired observations expressing the same phenomenon. Examples of Y versus X include comparisons of predicted versus observed, subsequent time versus initial time, and one technique of measurement versus an alternative technique of measurement. MAE is calculated as:\n",
        "\n",
        "\n",
        "$$MAE=\\frac{1}{n}\\sum_{i=1}^{n}(\\left|y_{i}-\\hat{y}_{i}\\right|)$$\n",
        "\n",
        "\n",
        "Another alternative to evaluate regression is the `Root Mean Square Error (RMSE)`.\n",
        "This is the root of the  mean of the squared errors. It is a most popular measure of regression model's performance because also keep the same unit as y and larger errors are noted more than with MAE.\n",
        "\n",
        "$$RSME=\\sqrt{\\frac{1}{n}\\sum_{i=1}^{n}{(y_{i}-\\hat{y}_{i})}^2}$$\n",
        "\n",
        "You can use MSE to calculate loss, but also tracking the MAE or RSME, once those values will have the \"same order\" of the Target (in the case, multiples of USD1,000)."
      ]
    },
    {
      "cell_type": "markdown",
      "metadata": {
        "id": "K7yHe1BU_Cr2"
      },
      "source": [
        "The optimizer used is [ADAM](https://www.tensorflow.org/api_docs/python/tf/keras/optimizers/Adam), a stochastic gradient descent method that is based on adaptive estimation of first-order and second-order moments. The hyperparameter \"Learning-Rate\" used is the default ==> 0.001"
      ]
    },
    {
      "cell_type": "code",
      "execution_count": 20,
      "metadata": {
        "id": "NA21O9Y0_BJ7"
      },
      "outputs": [],
      "source": [
        "model.compile(\n",
        "    optimizer='adam',\n",
        "    loss='mse',\n",
        "    metrics=['mae'] # used to monitor the training and testing steps.\n",
        "    )"
      ]
    },
    {
      "cell_type": "markdown",
      "metadata": {
        "id": "pJZ4fvT3_yd7"
      },
      "source": [
        "## Train the model"
      ]
    },
    {
      "cell_type": "code",
      "execution_count": 21,
      "metadata": {
        "id": "RxklrX_R_uvn"
      },
      "outputs": [],
      "source": [
        "history = model.fit(\n",
        "    x_train_norm, \n",
        "    y_train,\n",
        "    epochs=1000, \n",
        "    verbose=0\n",
        "    )"
      ]
    },
    {
      "cell_type": "markdown",
      "metadata": {
        "id": "0xAXSo5-HCIo"
      },
      "source": [
        "Inspecting the model"
      ]
    },
    {
      "cell_type": "code",
      "execution_count": 22,
      "metadata": {
        "id": "PXzMCGzVUuTx",
        "outputId": "ea8fc299-d455-4571-c37f-5240b83af63f",
        "colab": {
          "base_uri": "https://localhost:8080/"
        }
      },
      "outputs": [
        {
          "output_type": "stream",
          "name": "stdout",
          "text": [
            "13/13 [==============================] - 0s 2ms/step - loss: 5.0937 - mae: 1.5896\n",
            "Training data MSE: 1.6\n"
          ]
        }
      ],
      "source": [
        "train_eval = model.evaluate(x_train_norm, y_train)\n",
        "print (\"Training data MSE: {:.2}\".format(train_eval[1]))"
      ]
    },
    {
      "cell_type": "code",
      "execution_count": 23,
      "metadata": {
        "id": "ShUfx2ZSCylX",
        "outputId": "40072634-5382-4c58-e47f-6ad732dab7ac",
        "colab": {
          "base_uri": "https://localhost:8080/"
        }
      },
      "outputs": [
        {
          "output_type": "execute_result",
          "data": {
            "text/plain": [
              "dict_keys(['loss', 'mae'])"
            ]
          },
          "metadata": {},
          "execution_count": 23
        }
      ],
      "source": [
        "history.history.keys()"
      ]
    },
    {
      "cell_type": "code",
      "execution_count": 24,
      "metadata": {
        "id": "npIubpXaKl6u",
        "outputId": "58fe897b-b0ca-4ab7-ecb5-682a9598dceb",
        "colab": {
          "base_uri": "https://localhost:8080/",
          "height": 295
        }
      },
      "outputs": [
        {
          "output_type": "display_data",
          "data": {
            "text/plain": [
              "<Figure size 432x288 with 1 Axes>"
            ],
            "image/png": "[encoded data removed]"
          },
          "metadata": {
            "needs_background": "light"
          }
        }
      ],
      "source": [
        "plt.plot(history.history['loss'], label='MSE')\n",
        "plt.title('model loss')\n",
        "plt.ylabel('loss')\n",
        "plt.xlabel('epoch')\n",
        "plt.legend(loc='upper right')\n",
        "#plt.ylim([0,50])\n",
        "plt.show()"
      ]
    },
    {
      "cell_type": "code",
      "execution_count": 25,
      "metadata": {
        "id": "g6qHpwg8BpZi",
        "outputId": "555f19a1-17c0-46d8-869f-f5f0c5152d48",
        "colab": {
          "base_uri": "https://localhost:8080/",
          "height": 295
        }
      },
      "outputs": [
        {
          "output_type": "display_data",
          "data": {
            "text/plain": [
              "<Figure size 432x288 with 1 Axes>"
            ],
            "image/png": "[encoded data removed]"
          },
          "metadata": {
            "needs_background": "light"
          }
        }
      ],
      "source": [
        "plt.plot(history.history['mae'], label='MAE')\n",
        "plt.title('model loss')\n",
        "plt.ylabel('loss in $K')\n",
        "plt.xlabel('epoch')\n",
        "plt.legend(loc='upper right')\n",
        "#plt.ylim([0,50])\n",
        "plt.show()"
      ]
    },
    {
      "cell_type": "markdown",
      "metadata": {
        "id": "JYHTdEJVH0tZ"
      },
      "source": [
        "## Testing the trained model\n",
        "\n"
      ]
    },
    {
      "cell_type": "code",
      "execution_count": 26,
      "metadata": {
        "id": "QBuJGqbSH6xT",
        "outputId": "9b81e1a7-6f67-4e12-cc32-6c101c651032",
        "colab": {
          "base_uri": "https://localhost:8080/"
        }
      },
      "outputs": [
        {
          "output_type": "stream",
          "name": "stdout",
          "text": [
            "4/4 [==============================] - 0s 4ms/step - loss: 16.2039 - mae: 2.7049\n",
            "Test data MAE: 2.7\n"
          ]
        }
      ],
      "source": [
        "test_eval = model.evaluate(x_test_norm, y_test)\n",
        "print (\"Test data MAE: {:.2}\".format(test_eval[1]))"
      ]
    },
    {
      "cell_type": "code",
      "execution_count": 27,
      "metadata": {
        "id": "J4H-5TF42ZjL",
        "outputId": "7ff5f094-0e6a-47c3-c9ff-d86fd603c20d",
        "colab": {
          "base_uri": "https://localhost:8080/"
        }
      },
      "outputs": [
        {
          "output_type": "execute_result",
          "data": {
            "text/plain": [
              "4.025"
            ]
          },
          "metadata": {},
          "execution_count": 27
        }
      ],
      "source": [
        "rsme = round(np.sqrt(test_eval[0]), 3)\n",
        "rsme"
      ]
    },
    {
      "cell_type": "markdown",
      "metadata": {
        "id": "we1LXnkDzbaS"
      },
      "source": [
        "The model has an RSME error of around USD4,000 and an MAE of around USD 2,600, what is very good for house's price estimation.  "
      ]
    },
    {
      "cell_type": "markdown",
      "metadata": {
        "id": "G_-PyEde1sAq"
      },
      "source": [
        "Note: With features **not normalized**, we got loss (MSE): 22.0815; RSME: USD4,700 and  MAE: USD3,500"
      ]
    },
    {
      "cell_type": "code",
      "execution_count": 28,
      "metadata": {
        "id": "tkaTLMaTIbIL",
        "outputId": "31191fb9-0253-4bbf-8bd4-8ad71a5bd094",
        "colab": {
          "base_uri": "https://localhost:8080/"
        }
      },
      "outputs": [
        {
          "output_type": "stream",
          "name": "stdout",
          "text": [
            "[[ 7.49674 ]\n",
            " [18.02265 ]\n",
            " [21.477474]\n",
            " [31.83675 ]\n",
            " [25.293085]]\n"
          ]
        }
      ],
      "source": [
        "y_hat = model.predict(x_test_norm)\n",
        "print(y_hat[:5]) # get the output predict values for the 5 first samples"
      ]
    },
    {
      "cell_type": "code",
      "execution_count": 29,
      "metadata": {
        "id": "9p9buLk54A1W",
        "outputId": "7114e547-39a2-4682-b641-b5bbdfb6016c",
        "colab": {
          "base_uri": "https://localhost:8080/"
        }
      },
      "outputs": [
        {
          "output_type": "execute_result",
          "data": {
            "text/plain": [
              "array([ 7.2, 18.8, 19. , 27. , 22.2])"
            ]
          },
          "metadata": {},
          "execution_count": 29
        }
      ],
      "source": [
        "y_test[:5] # get the output real known values for the 5 first samples"
      ]
    },
    {
      "cell_type": "code",
      "execution_count": 30,
      "metadata": {
        "id": "ERuEyCmx4QHY",
        "outputId": "6015a55d-e681-46f1-80c5-74ad8882a0fe",
        "colab": {
          "base_uri": "https://localhost:8080/",
          "height": 279
        }
      },
      "outputs": [
        {
          "output_type": "display_data",
          "data": {
            "text/plain": [
              "<Figure size 432x288 with 1 Axes>"
            ],
            "image/png": "[encoded data removed]"
          },
          "metadata": {
            "needs_background": "light"
          }
        }
      ],
      "source": [
        "plt.hist(y_hat, label='predictions', color = 'b')\n",
        "plt.hist(y_test, label = 'real values', color = 'r', alpha=0.5)\n",
        "plt.xlabel('Price in K$')\n",
        "plt.legend();"
      ]
    },
    {
      "cell_type": "markdown",
      "metadata": {
        "id": "RQgmjypmxaFP"
      },
      "source": [
        "## Doing Inference"
      ]
    },
    {
      "cell_type": "code",
      "execution_count": 31,
      "metadata": {
        "id": "EIior9FBvdcs",
        "outputId": "bfa24ff2-071c-4698-c2a0-850b0ba5a9f4",
        "colab": {
          "base_uri": "https://localhost:8080/"
        }
      },
      "outputs": [
        {
          "output_type": "execute_result",
          "data": {
            "text/plain": [
              "(13,)"
            ]
          },
          "metadata": {},
          "execution_count": 31
        }
      ],
      "source": [
        "xt = np.array([1.1, 0., 9., 0., 0.6, 7., 92., 3.8 , 4., 300., 21., 200, 19.5])\n",
        "xt.shape"
      ]
    },
    {
      "cell_type": "code",
      "execution_count": 32,
      "metadata": {
        "id": "Vp2mV37ZyOXE",
        "outputId": "a9c789e0-f002-445b-f26d-76bac22e4170",
        "colab": {
          "base_uri": "https://localhost:8080/"
        }
      },
      "outputs": [
        {
          "output_type": "execute_result",
          "data": {
            "text/plain": [
              "(404, 13)"
            ]
          },
          "metadata": {},
          "execution_count": 32
        }
      ],
      "source": [
        "x_train.shape"
      ]
    },
    {
      "cell_type": "code",
      "execution_count": 33,
      "metadata": {
        "id": "2qp7KDtgyz8g",
        "outputId": "8d3a3002-a714-42c8-cd6d-aab512c67ea8",
        "colab": {
          "base_uri": "https://localhost:8080/"
        }
      },
      "outputs": [
        {
          "output_type": "execute_result",
          "data": {
            "text/plain": [
              "(1, 13)"
            ]
          },
          "metadata": {},
          "execution_count": 33
        }
      ],
      "source": [
        "xt = np.reshape(xt, (1, 13))\n",
        "xt.shape"
      ]
    },
    {
      "cell_type": "code",
      "execution_count": 34,
      "metadata": {
        "id": "1pLLiifrzO-3",
        "outputId": "d338ab98-763a-4db0-f2f4-9c6d9c111e49",
        "colab": {
          "base_uri": "https://localhost:8080/"
        }
      },
      "outputs": [
        {
          "output_type": "execute_result",
          "data": {
            "text/plain": [
              "array([[  1.1,   0. ,   9. ,   0. ,   0.6,   7. ,  92. ,   3.8,   4. ,\n",
              "        300. ,  21. , 200. ,  19.5]])"
            ]
          },
          "metadata": {},
          "execution_count": 34
        }
      ],
      "source": [
        "xt"
      ]
    },
    {
      "cell_type": "code",
      "execution_count": 35,
      "metadata": {
        "id": "XDlArmS2xfuR",
        "outputId": "ae733d7e-5d1b-45c0-a4cd-e7e4fd89d3a8",
        "colab": {
          "base_uri": "https://localhost:8080/"
        }
      },
      "outputs": [
        {
          "output_type": "execute_result",
          "data": {
            "text/plain": [
              "array([[-0.28659955, -0.48361547, -0.30934443, -0.25683275,  0.36401915,\n",
              "         1.03386853,  0.82381223,  0.02945662, -0.62624905, -0.63729594,\n",
              "         1.14850044, -1.64672402,  0.93287232]])"
            ]
          },
          "metadata": {},
          "execution_count": 35
        }
      ],
      "source": [
        "xt_norm = scaler.transform(xt)\n",
        "xt_norm"
      ]
    },
    {
      "cell_type": "code",
      "execution_count": 36,
      "metadata": {
        "id": "fHbXuOGkzJ-n",
        "outputId": "5b5ea836-df3e-4dad-f10d-aeb77d71b675",
        "colab": {
          "base_uri": "https://localhost:8080/"
        }
      },
      "outputs": [
        {
          "output_type": "execute_result",
          "data": {
            "text/plain": [
              "array([[14.430009]], dtype=float32)"
            ]
          },
          "metadata": {},
          "execution_count": 36
        }
      ],
      "source": [
        "yt = model.predict(xt_norm)\n",
        "yt"
      ]
    },
    {
      "cell_type": "code",
      "execution_count": 42,
      "metadata": {
        "id": "lfb5RGKT0rs3",
        "outputId": "c3120fb8-7e03-4182-ce1b-bff143bfe575",
        "colab": {
          "base_uri": "https://localhost:8080/"
        }
      },
      "outputs": [
        {
          "output_type": "stream",
          "name": "stdout",
          "text": [
            "The predict value for this house is US$14.43\n"
          ]
        }
      ],
      "source": [
        "xt = np.array([1.1, 0., 9., 0., 0.6, 7., 92., 3.8 , 4., 300., 21., 200, 19.5])\n",
        "xt = np.reshape(xt, (1, 13))\n",
        "xt_norm = scaler.transform(xt)\n",
        "yt = model.predict(xt_norm)\n",
        "print(\"The predict value for this house is US${:.2f}\".format(yt[0][0]))"
      ]
    },
    {
      "cell_type": "markdown",
      "metadata": {
        "id": "RUNbBC_FgcWZ"
      },
      "source": [
        "# Extra \n",
        "## Finding the correct Hyperparameters\n",
        "- [KerasTuner](https://keras.io/keras_tuner/)\n",
        "\n",
        "KerasTuner is an easy-to-use, scalable hyperparameter optimization framework that solves the pain points of hyperparameter search.\n"
      ]
    },
    {
      "cell_type": "code",
      "execution_count": null,
      "metadata": {
        "id": "dql5K0r9gU1F"
      },
      "outputs": [],
      "source": [
        "!pip install keras-tuner --upgrade"
      ]
    },
    {
      "cell_type": "code",
      "execution_count": 44,
      "metadata": {
        "id": "AP1tw9u9g5Uf"
      },
      "outputs": [],
      "source": [
        "import tensorflow as tf\n",
        "import keras_tuner as kt"
      ]
    },
    {
      "cell_type": "code",
      "execution_count": 45,
      "metadata": {
        "id": "VLYVscNQkaWS"
      },
      "outputs": [],
      "source": [
        "data = tf.keras.datasets.boston_housing\n",
        "(x_train, y_train), (x_test, y_test) = data.load_data()"
      ]
    },
    {
      "cell_type": "code",
      "execution_count": 46,
      "metadata": {
        "id": "pE7gSlcTkl20"
      },
      "outputs": [],
      "source": [
        "from sklearn.preprocessing import StandardScaler\n",
        "scaler = StandardScaler()\n",
        "\n",
        "# first we fit the scaler on the training dataset\n",
        "scaler.fit(x_train)\n",
        "\n",
        "# then we call the transform method to scale both the training and testing data\n",
        "x_train_norm = scaler.transform(x_train)\n",
        "x_test_norm = scaler.transform(x_test)"
      ]
    },
    {
      "cell_type": "markdown",
      "metadata": {
        "id": "5UHfySq-hJHo"
      },
      "source": [
        "Write a function that creates and returns a Keras model. Use the `hp` argument to define the hyperparameters during model creation."
      ]
    },
    {
      "cell_type": "code",
      "execution_count": 47,
      "metadata": {
        "id": "qbvjlmNdhBn6"
      },
      "outputs": [],
      "source": [
        "def build_model(hp):\n",
        "  model = tf.keras.Sequential()\n",
        "  model.add(tf.keras.layers.Dense(\n",
        "      hp.Choice('units', [10, 20, 30]),\n",
        "      activation='relu'))\n",
        "  \n",
        "  model.add(tf.keras.layers.Dense(1))\n",
        "  model.compile(optimizer='adam', loss='mse')\n",
        "  return model"
      ]
    },
    {
      "cell_type": "markdown",
      "metadata": {
        "id": "lsNpzZpeh2Hi"
      },
      "source": [
        "Initialize a tuner (here, RandomSearch). We use objective to specify the objective to select the best models, and we use max_trials to specify the number of different models to try."
      ]
    },
    {
      "cell_type": "code",
      "execution_count": 48,
      "metadata": {
        "id": "zufG9sUjh1xV"
      },
      "outputs": [],
      "source": [
        "tuner = kt.RandomSearch(\n",
        "    build_model,\n",
        "    objective='val_loss',\n",
        "    max_trials=5)"
      ]
    },
    {
      "cell_type": "markdown",
      "metadata": {
        "id": "wN6Ci84OiFaZ"
      },
      "source": [
        "Start the search and get the best model:"
      ]
    },
    {
      "cell_type": "code",
      "execution_count": 49,
      "metadata": {
        "id": "WnkdoSzLiJUY",
        "outputId": "9213137a-1672-44bd-a99f-2ff8d3f3ddcc",
        "colab": {
          "base_uri": "https://localhost:8080/"
        }
      },
      "outputs": [
        {
          "output_type": "stream",
          "name": "stdout",
          "text": [
            "Trial 3 Complete [00h 01m 22s]\n",
            "val_loss: 19.190624237060547\n",
            "\n",
            "Best val_loss So Far: 18.2888240814209\n",
            "Total elapsed time: 00h 02m 58s\n",
            "INFO:tensorflow:Oracle triggered exit\n"
          ]
        }
      ],
      "source": [
        "tuner.search(\n",
        "    x_train_norm, y_train, \n",
        "    epochs=500, \n",
        "    validation_data=(x_test_norm, y_test))\n",
        "\n",
        "best_model = tuner.get_best_models()[0]"
      ]
    },
    {
      "cell_type": "code",
      "execution_count": 50,
      "metadata": {
        "id": "70gOV5Idme4w",
        "outputId": "086c9c55-eae2-45b3-e5c7-5465a05d114f",
        "colab": {
          "base_uri": "https://localhost:8080/"
        }
      },
      "outputs": [
        {
          "output_type": "stream",
          "name": "stdout",
          "text": [
            "Search space summary\n",
            "Default search space size: 1\n",
            "units (Choice)\n",
            "{'default': 10, 'conditions': [], 'values': [10, 20, 30], 'ordered': True}\n"
          ]
        }
      ],
      "source": [
        "tuner.search_space_summary()"
      ]
    },
    {
      "cell_type": "code",
      "execution_count": 51,
      "metadata": {
        "id": "zcF6Ogb_mtYW",
        "outputId": "9b29b1bd-31d1-4027-f213-e888bf6bcda3",
        "colab": {
          "base_uri": "https://localhost:8080/"
        }
      },
      "outputs": [
        {
          "output_type": "stream",
          "name": "stdout",
          "text": [
            "Results summary\n",
            "Results in ./untitled_project\n",
            "Showing 10 best trials\n",
            "<keras_tuner.engine.objective.Objective object at 0x7efd8905dd50>\n",
            "Trial summary\n",
            "Hyperparameters:\n",
            "units: 20\n",
            "Score: 18.2888240814209\n",
            "Trial summary\n",
            "Hyperparameters:\n",
            "units: 30\n",
            "Score: 19.190624237060547\n",
            "Trial summary\n",
            "Hyperparameters:\n",
            "units: 10\n",
            "Score: 19.335128784179688\n"
          ]
        }
      ],
      "source": [
        "tuner.results_summary()"
      ]
    }
  ],
  "metadata": {
    "colab": {
      "name": "Copy of TF_Boston_Housing_Regression.ipynb",
      "provenance": []
    },
    "kernelspec": {
      "display_name": "Python 3",
      "name": "python3"
    },
    "language_info": {
      "name": "python"
    }
  },
  "nbformat": 4,
  "nbformat_minor": 0
}