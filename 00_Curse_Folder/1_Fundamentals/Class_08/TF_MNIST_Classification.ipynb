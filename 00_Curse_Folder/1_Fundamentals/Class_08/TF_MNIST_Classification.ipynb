{
  "cells": [
    {
      "cell_type": "markdown",
      "metadata": {
        "id": "Zo2JiEtkzvQL"
      },
      "source": [
        "# Digit Classification using Dense Neural Network (DNN) "
      ]
    },
    {
      "cell_type": "markdown",
      "source": [
        "**NOTE**: Confirm if Runtime Type is set to: `GPU`"
      ],
      "metadata": {
        "id": "MoBLov_rmT5W"
      }
    },
    {
      "cell_type": "markdown",
      "metadata": {
        "id": "z56YN3JZ0Duh"
      },
      "source": [
        "## Import Libraries"
      ]
    },
    {
      "cell_type": "code",
      "execution_count": 1,
      "metadata": {
        "id": "YfPnR74Gzc_q"
      },
      "outputs": [],
      "source": [
        "import numpy as np\n",
        "import matplotlib.pyplot as plt\n",
        "import tensorflow as tf"
      ]
    },
    {
      "cell_type": "markdown",
      "metadata": {
        "id": "xrGLDV6q0PCc"
      },
      "source": [
        "## Upload and Explore Dataset\n",
        "**MNIST** handwritten digits dataset\n",
        "\n",
        "The MNIST database of handwritten digits, available from this [page](http://yann.lecun.com/exdb/mnist/), has a training set of 60,000 28x28 grayscale images of the 10 digits along a test set of 10,000 images. It is a subset of a larger set available from NIST. The digits have been size-normalized and centered in a fixed-size image.\n",
        "\n",
        "<img src=\"https://i.imgur.com/ITrm9x4.png\" width=\"500px\">\n"
      ]
    },
    {
      "cell_type": "code",
      "execution_count": 2,
      "metadata": {
        "id": "Ib2Ihepx0N6h",
        "outputId": "fee6bb2f-f639-4866-9ae5-85dfa656cd18",
        "colab": {
          "base_uri": "https://localhost:8080/"
        }
      },
      "outputs": [
        {
          "output_type": "stream",
          "name": "stdout",
          "text": [
            "Downloading data from https://storage.googleapis.com/tensorflow/tf-keras-datasets/mnist.npz\n",
            "11493376/11490434 [==============================] - 0s 0us/step\n",
            "11501568/11490434 [==============================] - 0s 0us/step\n"
          ]
        }
      ],
      "source": [
        "data = tf.keras.datasets.mnist\n",
        "\n",
        "(training_images, training_labels), (val_images, val_labels) = data.load_data()"
      ]
    },
    {
      "cell_type": "code",
      "execution_count": 3,
      "metadata": {
        "id": "pq1bMIRd38b8",
        "outputId": "67241957-e1b9-4a48-cf9d-0b93aaf45652",
        "colab": {
          "base_uri": "https://localhost:8080/"
        }
      },
      "outputs": [
        {
          "output_type": "stream",
          "name": "stdout",
          "text": [
            "(60000, 28, 28)\n",
            "(60000,)\n"
          ]
        }
      ],
      "source": [
        "print(training_images.shape)\n",
        "print(training_labels.shape)"
      ]
    },
    {
      "cell_type": "code",
      "execution_count": 4,
      "metadata": {
        "id": "qHaUYnSs4bq4",
        "outputId": "19b5008d-6249-4e4c-e071-4e5e6aa39c71",
        "colab": {
          "base_uri": "https://localhost:8080/"
        }
      },
      "outputs": [
        {
          "output_type": "stream",
          "name": "stdout",
          "text": [
            "(10000, 28, 28)\n",
            "(10000,)\n"
          ]
        }
      ],
      "source": [
        "print(val_images.shape)\n",
        "print(val_labels.shape)"
      ]
    },
    {
      "cell_type": "markdown",
      "metadata": {
        "id": "p5b0wydUaU1N"
      },
      "source": [
        "### Exploring Labels"
      ]
    },
    {
      "cell_type": "code",
      "execution_count": 5,
      "metadata": {
        "id": "qyfWBrrW9gAd",
        "outputId": "8633e1e8-8f6f-4b87-964a-1a867f519d90",
        "colab": {
          "base_uri": "https://localhost:8080/"
        }
      },
      "outputs": [
        {
          "output_type": "execute_result",
          "data": {
            "text/plain": [
              "array([5, 0, 4, ..., 5, 6, 8], dtype=uint8)"
            ]
          },
          "metadata": {},
          "execution_count": 5
        }
      ],
      "source": [
        "training_labels"
      ]
    },
    {
      "cell_type": "markdown",
      "metadata": {
        "id": "Cv8z_QGpYoEj"
      },
      "source": [
        "It is possible to keep training labels as \"numbers\", but in this case when compiling the model, you should use: `loss=\"sparse_categorical_crossentropy\".`"
      ]
    },
    {
      "cell_type": "markdown",
      "metadata": {
        "id": "sr8u2BMUZbwq"
      },
      "source": [
        "**And how about changing labels to categorical?**"
      ]
    },
    {
      "cell_type": "code",
      "execution_count": 6,
      "metadata": {
        "id": "qc-FKEkWYRXL",
        "outputId": "9bfee4d7-ee83-47a9-df35-17ac27deeecb",
        "colab": {
          "base_uri": "https://localhost:8080/"
        }
      },
      "outputs": [
        {
          "output_type": "execute_result",
          "data": {
            "text/plain": [
              "array([5, 0, 4, 1, 9, 2, 1, 3, 1, 4], dtype=uint8)"
            ]
          },
          "metadata": {},
          "execution_count": 6
        }
      ],
      "source": [
        "training_labels[:10]"
      ]
    },
    {
      "cell_type": "code",
      "execution_count": 7,
      "metadata": {
        "id": "PRwje9DsX2EA",
        "outputId": "ddb6602b-62ac-4b84-f39a-a5f3f7223480",
        "colab": {
          "base_uri": "https://localhost:8080/"
        }
      },
      "outputs": [
        {
          "output_type": "execute_result",
          "data": {
            "text/plain": [
              "array([[0., 0., 0., 0., 0., 1., 0., 0., 0., 0.],\n",
              "       [1., 0., 0., 0., 0., 0., 0., 0., 0., 0.],\n",
              "       [0., 0., 0., 0., 1., 0., 0., 0., 0., 0.],\n",
              "       [0., 1., 0., 0., 0., 0., 0., 0., 0., 0.],\n",
              "       [0., 0., 0., 0., 0., 0., 0., 0., 0., 1.],\n",
              "       [0., 0., 1., 0., 0., 0., 0., 0., 0., 0.],\n",
              "       [0., 1., 0., 0., 0., 0., 0., 0., 0., 0.],\n",
              "       [0., 0., 0., 1., 0., 0., 0., 0., 0., 0.],\n",
              "       [0., 1., 0., 0., 0., 0., 0., 0., 0., 0.],\n",
              "       [0., 0., 0., 0., 1., 0., 0., 0., 0., 0.]], dtype=float32)"
            ]
          },
          "metadata": {},
          "execution_count": 7
        }
      ],
      "source": [
        "from tensorflow.keras.utils import to_categorical\n",
        "to_categorical(training_labels[:10])"
      ]
    },
    {
      "cell_type": "markdown",
      "metadata": {
        "id": "9cPQOQsnZtcK"
      },
      "source": [
        "When labels are defined as categories, when compiling the model you should use: `loss=\"categorical_crossentropy\".`"
      ]
    },
    {
      "cell_type": "markdown",
      "metadata": {
        "id": "ZF4d2rJfaL3T"
      },
      "source": [
        "### Exploring images"
      ]
    },
    {
      "cell_type": "code",
      "execution_count": 9,
      "metadata": {
        "id": "TMu0y_Az4hRr",
        "outputId": "8e164151-4a1c-4507-dbad-b1e2fd40165f",
        "colab": {
          "base_uri": "https://localhost:8080/"
        }
      },
      "outputs": [
        {
          "output_type": "stream",
          "name": "stdout",
          "text": [
            "[[  0   0   0   0   0   0   0   0   0   0   0   0   0   0   0   0   0   0   0   0   0   0   0   0   0   0   0   0]\n",
            " [  0   0   0   0   0   0   0   0   0   0   0   0   0   0   0   0   0   0   0   0   0   0   0   0   0   0   0   0]\n",
            " [  0   0   0   0   0   0   0   0   0   0   0   0   0   0   0   0   0   0   0   0   0   0   0   0   0   0   0   0]\n",
            " [  0   0   0   0   0   0   0   0   0   0   0   0   0   0   0   0   0   0   0   0   0   0   0   0   0   0   0   0]\n",
            " [  0   0   0   0   0   0   0   0   0   0   0   0   0   0   0   0   0   0   0   0   0   0   0   0   0   0   0   0]\n",
            " [  0   0   0   0   0   0   0   0   0   0   0   0   0   0   0   0   0   0   0   0  67 232  39   0   0   0   0   0]\n",
            " [  0   0   0   0  62  81   0   0   0   0   0   0   0   0   0   0   0   0   0   0 120 180  39   0   0   0   0   0]\n",
            " [  0   0   0   0 126 163   0   0   0   0   0   0   0   0   0   0   0   0   0   2 153 210  40   0   0   0   0   0]\n",
            " [  0   0   0   0 220 163   0   0   0   0   0   0   0   0   0   0   0   0   0  27 254 162   0   0   0   0   0   0]\n",
            " [  0   0   0   0 222 163   0   0   0   0   0   0   0   0   0   0   0   0   0 183 254 125   0   0   0   0   0   0]\n",
            " [  0   0   0  46 245 163   0   0   0   0   0   0   0   0   0   0   0   0   0 198 254  56   0   0   0   0   0   0]\n",
            " [  0   0   0 120 254 163   0   0   0   0   0   0   0   0   0   0   0   0  23 231 254  29   0   0   0   0   0   0]\n",
            " [  0   0   0 159 254 120   0   0   0   0   0   0   0   0   0   0   0   0 163 254 216  16   0   0   0   0   0   0]\n",
            " [  0   0   0 159 254  67   0   0   0   0   0   0   0   0   0  14  86 178 248 254  91   0   0   0   0   0   0   0]\n",
            " [  0   0   0 159 254  85   0   0   0  47  49 116 144 150 241 243 234 179 241 252  40   0   0   0   0   0   0   0]\n",
            " [  0   0   0 150 253 237 207 207 207 253 254 250 240 198 143  91  28   5 233 250   0   0   0   0   0   0   0   0]\n",
            " [  0   0   0   0 119 177 177 177 177 177  98  56   0   0   0   0   0 102 254 220   0   0   0   0   0   0   0   0]\n",
            " [  0   0   0   0   0   0   0   0   0   0   0   0   0   0   0   0   0 169 254 137   0   0   0   0   0   0   0   0]\n",
            " [  0   0   0   0   0   0   0   0   0   0   0   0   0   0   0   0   0 169 254  57   0   0   0   0   0   0   0   0]\n",
            " [  0   0   0   0   0   0   0   0   0   0   0   0   0   0   0   0   0 169 254  57   0   0   0   0   0   0   0   0]\n",
            " [  0   0   0   0   0   0   0   0   0   0   0   0   0   0   0   0   0 169 255  94   0   0   0   0   0   0   0   0]\n",
            " [  0   0   0   0   0   0   0   0   0   0   0   0   0   0   0   0   0 169 254  96   0   0   0   0   0   0   0   0]\n",
            " [  0   0   0   0   0   0   0   0   0   0   0   0   0   0   0   0   0 169 254 153   0   0   0   0   0   0   0   0]\n",
            " [  0   0   0   0   0   0   0   0   0   0   0   0   0   0   0   0   0 169 255 153   0   0   0   0   0   0   0   0]\n",
            " [  0   0   0   0   0   0   0   0   0   0   0   0   0   0   0   0   0  96 254 153   0   0   0   0   0   0   0   0]\n",
            " [  0   0   0   0   0   0   0   0   0   0   0   0   0   0   0   0   0   0   0   0   0   0   0   0   0   0   0   0]\n",
            " [  0   0   0   0   0   0   0   0   0   0   0   0   0   0   0   0   0   0   0   0   0   0   0   0   0   0   0   0]\n",
            " [  0   0   0   0   0   0   0   0   0   0   0   0   0   0   0   0   0   0   0   0   0   0   0   0   0   0   0   0]]\n"
          ]
        }
      ],
      "source": [
        "np.set_printoptions(linewidth=200)\n",
        "print(training_images[2])"
      ]
    },
    {
      "cell_type": "code",
      "execution_count": 10,
      "metadata": {
        "colab": {
          "base_uri": "https://localhost:8080/"
        },
        "id": "yxbAHxFY6JVK",
        "outputId": "f77b6120-5c5d-4a49-e5b6-22a5df91f6b0"
      },
      "outputs": [
        {
          "output_type": "execute_result",
          "data": {
            "text/plain": [
              "4"
            ]
          },
          "metadata": {},
          "execution_count": 10
        }
      ],
      "source": [
        "training_labels[2]"
      ]
    },
    {
      "cell_type": "code",
      "execution_count": 15,
      "metadata": {
        "id": "3K1XrD3a5cU0",
        "outputId": "434dabd4-b2bf-418b-f2d8-f7c3f9283f79",
        "colab": {
          "base_uri": "https://localhost:8080/",
          "height": 283
        }
      },
      "outputs": [
        {
          "output_type": "stream",
          "name": "stdout",
          "text": [
            "     Label of image 2 is: 4\n"
          ]
        },
        {
          "output_type": "display_data",
          "data": {
            "text/plain": [
              "<Figure size 432x288 with 1 Axes>"
            ],
            "image/png": "[encoded data removed]"
          },
          "metadata": {
            "needs_background": "light"
          }
        }
      ],
      "source": [
        "img = 2\n",
        "print(\"     Label of image {} is: {}\".format(img, training_labels[img]))\n",
        "plt.imshow(training_images[img], cmap='gray');"
      ]
    },
    {
      "cell_type": "code",
      "execution_count": 16,
      "metadata": {
        "id": "wHbD0jQj7NaL",
        "outputId": "95ca603b-da5d-4a7e-e446-63955b09ebf6",
        "colab": {
          "base_uri": "https://localhost:8080/"
        }
      },
      "outputs": [
        {
          "output_type": "execute_result",
          "data": {
            "text/plain": [
              "255"
            ]
          },
          "metadata": {},
          "execution_count": 16
        }
      ],
      "source": [
        "training_images.max()"
      ]
    },
    {
      "cell_type": "code",
      "execution_count": 17,
      "metadata": {
        "id": "OSY9uSFD7WOc",
        "outputId": "600ab037-6d4d-4e7d-eacd-cbae19e41a58",
        "colab": {
          "base_uri": "https://localhost:8080/"
        }
      },
      "outputs": [
        {
          "output_type": "execute_result",
          "data": {
            "text/plain": [
              "0"
            ]
          },
          "metadata": {},
          "execution_count": 17
        }
      ],
      "source": [
        "training_images.min()"
      ]
    },
    {
      "cell_type": "code",
      "source": [
        "plt.figure(figsize=(10,4))\n",
        "for i in range(10):\n",
        "    plt.subplot(2,5,i+1)\n",
        "    plt.xticks([])\n",
        "    plt.yticks([])\n",
        "    plt.grid(False)\n",
        "    plt.imshow(training_images[i], cmap='binary') # cmap = 'gray'\n",
        "    plt.xlabel(training_labels[i])"
      ],
      "metadata": {
        "id": "s5W2UKkqoBX0",
        "outputId": "486eaf33-dc77-4afd-b0aa-01888684a2dc",
        "colab": {
          "base_uri": "https://localhost:8080/",
          "height": 260
        }
      },
      "execution_count": 18,
      "outputs": [
        {
          "output_type": "display_data",
          "data": {
            "text/plain": [
              "<Figure size 720x288 with 10 Axes>"
            ],
            "image/png": "[encoded data removed]"
          },
          "metadata": {}
        }
      ]
    },
    {
      "cell_type": "markdown",
      "metadata": {
        "id": "0-H0LwB_7von"
      },
      "source": [
        "### Preprocessing Data \n",
        "\n",
        "**Normalizing Data**: \n",
        "We notice that all of the values in the number are between 0 and 255. If we are training a neural network, for various reasons it's easier if we treat all values as between 0 and 1, a process called 'normalizing'."
      ]
    },
    {
      "cell_type": "code",
      "execution_count": 19,
      "metadata": {
        "id": "uZrGVMsH0X3F"
      },
      "outputs": [],
      "source": [
        "training_images  = training_images / 255.0\n",
        "val_images = val_images / 255.0"
      ]
    },
    {
      "cell_type": "code",
      "execution_count": null,
      "metadata": {
        "id": "Khec4VhU8mkR",
        "outputId": "172dbed3-6cde-4013-a033-4be9ab2d3cbc",
        "colab": {
          "base_uri": "https://localhost:8080/"
        }
      },
      "outputs": [
        {
          "output_type": "stream",
          "name": "stdout",
          "text": [
            "[[0.         0.         0.         0.         0.         0.         0.         0.         0.         0.         0.         0.         0.         0.         0.         0.         0.\n",
            "  0.         0.         0.         0.         0.         0.         0.         0.         0.         0.         0.        ]\n",
            " [0.         0.         0.         0.         0.         0.         0.         0.         0.         0.         0.         0.         0.         0.         0.         0.         0.\n",
            "  0.         0.         0.         0.         0.         0.         0.         0.         0.         0.         0.        ]\n",
            " [0.         0.         0.         0.         0.         0.         0.         0.         0.         0.         0.         0.         0.         0.         0.         0.         0.\n",
            "  0.         0.         0.         0.         0.         0.         0.         0.         0.         0.         0.        ]\n",
            " [0.         0.         0.         0.         0.         0.         0.         0.         0.         0.         0.         0.         0.         0.         0.         0.         0.\n",
            "  0.         0.         0.         0.         0.         0.         0.         0.         0.         0.         0.        ]\n",
            " [0.         0.         0.         0.         0.         0.         0.         0.         0.         0.         0.         0.         0.         0.         0.         0.         0.\n",
            "  0.         0.         0.         0.         0.         0.         0.         0.         0.         0.         0.        ]\n",
            " [0.         0.         0.         0.         0.         0.         0.         0.         0.         0.         0.         0.         0.         0.         0.         0.         0.\n",
            "  0.         0.         0.         0.2627451  0.90980392 0.15294118 0.         0.         0.         0.         0.        ]\n",
            " [0.         0.         0.         0.         0.24313725 0.31764706 0.         0.         0.         0.         0.         0.         0.         0.         0.         0.         0.\n",
            "  0.         0.         0.         0.47058824 0.70588235 0.15294118 0.         0.         0.         0.         0.        ]\n",
            " [0.         0.         0.         0.         0.49411765 0.63921569 0.         0.         0.         0.         0.         0.         0.         0.         0.         0.         0.\n",
            "  0.         0.         0.00784314 0.6        0.82352941 0.15686275 0.         0.         0.         0.         0.        ]\n",
            " [0.         0.         0.         0.         0.8627451  0.63921569 0.         0.         0.         0.         0.         0.         0.         0.         0.         0.         0.\n",
            "  0.         0.         0.10588235 0.99607843 0.63529412 0.         0.         0.         0.         0.         0.        ]\n",
            " [0.         0.         0.         0.         0.87058824 0.63921569 0.         0.         0.         0.         0.         0.         0.         0.         0.         0.         0.\n",
            "  0.         0.         0.71764706 0.99607843 0.49019608 0.         0.         0.         0.         0.         0.        ]\n",
            " [0.         0.         0.         0.18039216 0.96078431 0.63921569 0.         0.         0.         0.         0.         0.         0.         0.         0.         0.         0.\n",
            "  0.         0.         0.77647059 0.99607843 0.21960784 0.         0.         0.         0.         0.         0.        ]\n",
            " [0.         0.         0.         0.47058824 0.99607843 0.63921569 0.         0.         0.         0.         0.         0.         0.         0.         0.         0.         0.\n",
            "  0.         0.09019608 0.90588235 0.99607843 0.11372549 0.         0.         0.         0.         0.         0.        ]\n",
            " [0.         0.         0.         0.62352941 0.99607843 0.47058824 0.         0.         0.         0.         0.         0.         0.         0.         0.         0.         0.\n",
            "  0.         0.63921569 0.99607843 0.84705882 0.0627451  0.         0.         0.         0.         0.         0.        ]\n",
            " [0.         0.         0.         0.62352941 0.99607843 0.2627451  0.         0.         0.         0.         0.         0.         0.         0.         0.         0.05490196 0.3372549\n",
            "  0.69803922 0.97254902 0.99607843 0.35686275 0.         0.         0.         0.         0.         0.         0.        ]\n",
            " [0.         0.         0.         0.62352941 0.99607843 0.33333333 0.         0.         0.         0.18431373 0.19215686 0.45490196 0.56470588 0.58823529 0.94509804 0.95294118 0.91764706\n",
            "  0.70196078 0.94509804 0.98823529 0.15686275 0.         0.         0.         0.         0.         0.         0.        ]\n",
            " [0.         0.         0.         0.58823529 0.99215686 0.92941176 0.81176471 0.81176471 0.81176471 0.99215686 0.99607843 0.98039216 0.94117647 0.77647059 0.56078431 0.35686275 0.10980392\n",
            "  0.01960784 0.91372549 0.98039216 0.         0.         0.         0.         0.         0.         0.         0.        ]\n",
            " [0.         0.         0.         0.         0.46666667 0.69411765 0.69411765 0.69411765 0.69411765 0.69411765 0.38431373 0.21960784 0.         0.         0.         0.         0.\n",
            "  0.4        0.99607843 0.8627451  0.         0.         0.         0.         0.         0.         0.         0.        ]\n",
            " [0.         0.         0.         0.         0.         0.         0.         0.         0.         0.         0.         0.         0.         0.         0.         0.         0.\n",
            "  0.6627451  0.99607843 0.5372549  0.         0.         0.         0.         0.         0.         0.         0.        ]\n",
            " [0.         0.         0.         0.         0.         0.         0.         0.         0.         0.         0.         0.         0.         0.         0.         0.         0.\n",
            "  0.6627451  0.99607843 0.22352941 0.         0.         0.         0.         0.         0.         0.         0.        ]\n",
            " [0.         0.         0.         0.         0.         0.         0.         0.         0.         0.         0.         0.         0.         0.         0.         0.         0.\n",
            "  0.6627451  0.99607843 0.22352941 0.         0.         0.         0.         0.         0.         0.         0.        ]\n",
            " [0.         0.         0.         0.         0.         0.         0.         0.         0.         0.         0.         0.         0.         0.         0.         0.         0.\n",
            "  0.6627451  1.         0.36862745 0.         0.         0.         0.         0.         0.         0.         0.        ]\n",
            " [0.         0.         0.         0.         0.         0.         0.         0.         0.         0.         0.         0.         0.         0.         0.         0.         0.\n",
            "  0.6627451  0.99607843 0.37647059 0.         0.         0.         0.         0.         0.         0.         0.        ]\n",
            " [0.         0.         0.         0.         0.         0.         0.         0.         0.         0.         0.         0.         0.         0.         0.         0.         0.\n",
            "  0.6627451  0.99607843 0.6        0.         0.         0.         0.         0.         0.         0.         0.        ]\n",
            " [0.         0.         0.         0.         0.         0.         0.         0.         0.         0.         0.         0.         0.         0.         0.         0.         0.\n",
            "  0.6627451  1.         0.6        0.         0.         0.         0.         0.         0.         0.         0.        ]\n",
            " [0.         0.         0.         0.         0.         0.         0.         0.         0.         0.         0.         0.         0.         0.         0.         0.         0.\n",
            "  0.37647059 0.99607843 0.6        0.         0.         0.         0.         0.         0.         0.         0.        ]\n",
            " [0.         0.         0.         0.         0.         0.         0.         0.         0.         0.         0.         0.         0.         0.         0.         0.         0.\n",
            "  0.         0.         0.         0.         0.         0.         0.         0.         0.         0.         0.        ]\n",
            " [0.         0.         0.         0.         0.         0.         0.         0.         0.         0.         0.         0.         0.         0.         0.         0.         0.\n",
            "  0.         0.         0.         0.         0.         0.         0.         0.         0.         0.         0.        ]\n",
            " [0.         0.         0.         0.         0.         0.         0.         0.         0.         0.         0.         0.         0.         0.         0.         0.         0.\n",
            "  0.         0.         0.         0.         0.         0.         0.         0.         0.         0.         0.        ]]\n"
          ]
        }
      ],
      "source": [
        "print(training_images[2])"
      ]
    },
    {
      "cell_type": "code",
      "execution_count": 20,
      "metadata": {
        "id": "TbxuCDhg-djD",
        "outputId": "e2ecf994-df4f-4a73-e8af-d74973f966d9",
        "colab": {
          "base_uri": "https://localhost:8080/"
        }
      },
      "outputs": [
        {
          "output_type": "execute_result",
          "data": {
            "text/plain": [
              "1.0"
            ]
          },
          "metadata": {},
          "execution_count": 20
        }
      ],
      "source": [
        "training_images.max()"
      ]
    },
    {
      "cell_type": "code",
      "execution_count": 24,
      "metadata": {
        "id": "W8aRT6RL8fIG",
        "outputId": "759aa5dd-3650-47e2-8f21-30f4a9b32aff",
        "colab": {
          "base_uri": "https://localhost:8080/",
          "height": 265
        }
      },
      "outputs": [
        {
          "output_type": "display_data",
          "data": {
            "text/plain": [
              "<Figure size 432x288 with 1 Axes>"
            ],
            "image/png": "[encoded data removed]"
          },
          "metadata": {
            "needs_background": "light"
          }
        }
      ],
      "source": [
        "plt.imshow(training_images[2]);"
      ]
    },
    {
      "cell_type": "markdown",
      "metadata": {
        "id": "pYMsyOk8-xnf"
      },
      "source": [
        "## Define and Compile Model"
      ]
    },
    {
      "cell_type": "code",
      "execution_count": 25,
      "metadata": {
        "id": "dEdoqWl28dB3",
        "outputId": "628aa467-5f5d-4613-8faa-9ea915e5a89c",
        "colab": {
          "base_uri": "https://localhost:8080/"
        }
      },
      "outputs": [
        {
          "output_type": "stream",
          "name": "stdout",
          "text": [
            "Model: \"sequential\"\n",
            "_________________________________________________________________\n",
            " Layer (type)                Output Shape              Param #   \n",
            "=================================================================\n",
            " flatten (Flatten)           (None, 784)               0         \n",
            "                                                                 \n",
            " dense (Dense)               (None, 20)                15700     \n",
            "                                                                 \n",
            " dense_1 (Dense)             (None, 10)                210       \n",
            "                                                                 \n",
            "=================================================================\n",
            "Total params: 15,910\n",
            "Trainable params: 15,910\n",
            "Non-trainable params: 0\n",
            "_________________________________________________________________\n"
          ]
        }
      ],
      "source": [
        "model = tf.keras.models.Sequential([tf.keras.layers.Flatten(input_shape=(28,28)),\n",
        "                                    tf.keras.layers.Dense(20, activation=tf.nn.relu),\n",
        "                                    tf.keras.layers.Dense(10, activation=tf.nn.softmax)])\n",
        "model.summary()"
      ]
    },
    {
      "cell_type": "code",
      "execution_count": 26,
      "metadata": {
        "id": "NA21O9Y0_BJ7"
      },
      "outputs": [],
      "source": [
        "model.compile(\n",
        "    optimizer='adam',\n",
        "    loss='sparse_categorical_crossentropy', # Labels are presented as numeric [0,5,...] and not as an array \n",
        "    metrics=['accuracy'] # Calculates how often predictions equal labels\n",
        "    )"
      ]
    },
    {
      "cell_type": "markdown",
      "metadata": {
        "id": "pJZ4fvT3_yd7"
      },
      "source": [
        "## Train the model"
      ]
    },
    {
      "cell_type": "code",
      "execution_count": 27,
      "metadata": {
        "id": "RxklrX_R_uvn",
        "outputId": "4068d5ed-16d0-4afc-9bc2-2425ea6b4d1d",
        "colab": {
          "base_uri": "https://localhost:8080/"
        }
      },
      "outputs": [
        {
          "output_type": "stream",
          "name": "stdout",
          "text": [
            "Epoch 1/20\n",
            "1875/1875 [==============================] - 7s 3ms/step - loss: 0.4116 - accuracy: 0.8844\n",
            "Epoch 2/20\n",
            "1875/1875 [==============================] - 5s 3ms/step - loss: 0.2270 - accuracy: 0.9350\n",
            "Epoch 3/20\n",
            "1875/1875 [==============================] - 5s 3ms/step - loss: 0.1876 - accuracy: 0.9454\n",
            "Epoch 4/20\n",
            "1875/1875 [==============================] - 5s 3ms/step - loss: 0.1638 - accuracy: 0.9518\n",
            "Epoch 5/20\n",
            "1875/1875 [==============================] - 5s 3ms/step - loss: 0.1473 - accuracy: 0.9566\n",
            "Epoch 6/20\n",
            "1875/1875 [==============================] - 6s 3ms/step - loss: 0.1351 - accuracy: 0.9606\n",
            "Epoch 7/20\n",
            "1875/1875 [==============================] - 6s 3ms/step - loss: 0.1265 - accuracy: 0.9628\n",
            "Epoch 8/20\n",
            "1875/1875 [==============================] - 5s 3ms/step - loss: 0.1195 - accuracy: 0.9644\n",
            "Epoch 9/20\n",
            "1875/1875 [==============================] - 5s 3ms/step - loss: 0.1138 - accuracy: 0.9663\n",
            "Epoch 10/20\n",
            "1875/1875 [==============================] - 5s 3ms/step - loss: 0.1081 - accuracy: 0.9683\n",
            "Epoch 11/20\n",
            "1875/1875 [==============================] - 5s 3ms/step - loss: 0.1038 - accuracy: 0.9689\n",
            "Epoch 12/20\n",
            "1875/1875 [==============================] - 5s 3ms/step - loss: 0.1006 - accuracy: 0.9702\n",
            "Epoch 13/20\n",
            "1875/1875 [==============================] - 5s 3ms/step - loss: 0.0962 - accuracy: 0.9716\n",
            "Epoch 14/20\n",
            "1875/1875 [==============================] - 5s 3ms/step - loss: 0.0932 - accuracy: 0.9718\n",
            "Epoch 15/20\n",
            "1875/1875 [==============================] - 5s 3ms/step - loss: 0.0905 - accuracy: 0.9729\n",
            "Epoch 16/20\n",
            "1875/1875 [==============================] - 5s 3ms/step - loss: 0.0881 - accuracy: 0.9734\n",
            "Epoch 17/20\n",
            "1875/1875 [==============================] - 5s 3ms/step - loss: 0.0852 - accuracy: 0.9743\n",
            "Epoch 18/20\n",
            "1875/1875 [==============================] - 5s 3ms/step - loss: 0.0834 - accuracy: 0.9752\n",
            "Epoch 19/20\n",
            "1875/1875 [==============================] - 5s 3ms/step - loss: 0.0821 - accuracy: 0.9752\n",
            "Epoch 20/20\n",
            "1875/1875 [==============================] - 5s 3ms/step - loss: 0.0794 - accuracy: 0.9762\n",
            "CPU times: user 1min 46s, sys: 13.4 s, total: 1min 59s\n",
            "Wall time: 1min 45s\n"
          ]
        }
      ],
      "source": [
        "%%time\n",
        "history = model.fit(\n",
        "    training_images, \n",
        "    training_labels, \n",
        "    epochs=20, \n",
        "    )"
      ]
    },
    {
      "cell_type": "markdown",
      "metadata": {
        "id": "0xAXSo5-HCIo"
      },
      "source": [
        "Inspecting the model"
      ]
    },
    {
      "cell_type": "code",
      "execution_count": 28,
      "metadata": {
        "id": "ChxfmUKr8xrA",
        "outputId": "8572d5a3-d155-4477-a927-d011c94cdff2",
        "colab": {
          "base_uri": "https://localhost:8080/"
        }
      },
      "outputs": [
        {
          "output_type": "stream",
          "name": "stdout",
          "text": [
            "1875/1875 [==============================] - 5s 2ms/step - loss: 0.0683 - accuracy: 0.9805\n",
            "Training data Accuracy: 98.1%\n"
          ]
        }
      ],
      "source": [
        "train_eval = model.evaluate(training_images, training_labels)\n",
        "print (\"Training data Accuracy: {:.1f}%\".format(train_eval[1]*100))"
      ]
    },
    {
      "cell_type": "code",
      "execution_count": 29,
      "metadata": {
        "id": "g6qHpwg8BpZi",
        "outputId": "40eebf8a-e2db-4845-82ab-9425d3d68bd3",
        "colab": {
          "base_uri": "https://localhost:8080/",
          "height": 295
        }
      },
      "outputs": [
        {
          "output_type": "display_data",
          "data": {
            "text/plain": [
              "<Figure size 432x288 with 1 Axes>"
            ],
            "image/png": "[encoded data removed]"
          },
          "metadata": {
            "needs_background": "light"
          }
        }
      ],
      "source": [
        "plt.plot(history.history['loss'])\n",
        "plt.title('model loss')\n",
        "plt.ylabel('loss')\n",
        "plt.xlabel('epoch')\n",
        "plt.legend(['train'], loc='upper right')\n",
        "plt.show()"
      ]
    },
    {
      "cell_type": "code",
      "execution_count": 30,
      "metadata": {
        "id": "yRvANX7cHU2n",
        "outputId": "0f2ff84b-046f-4048-cbe8-baf6609d3e86",
        "colab": {
          "base_uri": "https://localhost:8080/",
          "height": 295
        }
      },
      "outputs": [
        {
          "output_type": "display_data",
          "data": {
            "text/plain": [
              "<Figure size 432x288 with 1 Axes>"
            ],
            "image/png": "[encoded data removed]"
          },
          "metadata": {
            "needs_background": "light"
          }
        }
      ],
      "source": [
        "plt.plot(history.history['accuracy'])\n",
        "plt.title('model accuracy')\n",
        "plt.ylabel('accuracy')\n",
        "plt.xlabel('epoch')\n",
        "plt.legend(['accuraccy'], loc='upper left')\n",
        "plt.show()"
      ]
    },
    {
      "cell_type": "markdown",
      "metadata": {
        "id": "JYHTdEJVH0tZ"
      },
      "source": [
        "## Testing the trained model\n",
        "\n",
        "Using `model.evaluate`, you can get metrics for a test set. In this case we only have a training set and a validation set, so we can try it out with the validation set. The accuracy will be slightly lower, at maybe 96%. This is because the model hasn't previously seen this data and may not be fully generalized for all data. Still it's a pretty good score.\n",
        "You can also predict images, and compare against their actual label. The [0] image in the set is a number 7, and here you can see that neuron 7 has a 9.9e-1 (99%+) probability, so it got it right!"
      ]
    },
    {
      "cell_type": "code",
      "execution_count": 31,
      "metadata": {
        "id": "QBuJGqbSH6xT",
        "outputId": "1b1f3fe5-fc89-43e5-83d4-4fe59f0e2f08",
        "colab": {
          "base_uri": "https://localhost:8080/"
        }
      },
      "outputs": [
        {
          "output_type": "stream",
          "name": "stdout",
          "text": [
            "313/313 [==============================] - 1s 3ms/step - loss: 0.1443 - accuracy: 0.9600\n",
            "Testing data Accuracy: 96.0%\n"
          ]
        }
      ],
      "source": [
        "test_eval = model.evaluate(val_images, val_labels)\n",
        "print (\"Testing data Accuracy: {:.1f}%\".format(test_eval[1]*100))"
      ]
    },
    {
      "cell_type": "code",
      "execution_count": 37,
      "metadata": {
        "id": "rvNEv5BPIwPE",
        "outputId": "99024bb5-3e21-4bce-8e26-24dd0ce57adf",
        "colab": {
          "base_uri": "https://localhost:8080/",
          "height": 265
        }
      },
      "outputs": [
        {
          "output_type": "display_data",
          "data": {
            "text/plain": [
              "<Figure size 432x288 with 1 Axes>"
            ],
            "image/png": "[encoded data removed]"
          },
          "metadata": {
            "needs_background": "light"
          }
        }
      ],
      "source": [
        "plt.imshow(val_images[1]);"
      ]
    },
    {
      "cell_type": "code",
      "execution_count": 38,
      "metadata": {
        "id": "ysGu1V_PJ28-",
        "outputId": "3b1d5c4f-8880-41d3-f42c-8a20c323c777",
        "colab": {
          "base_uri": "https://localhost:8080/"
        }
      },
      "outputs": [
        {
          "output_type": "stream",
          "name": "stdout",
          "text": [
            "2\n"
          ]
        }
      ],
      "source": [
        "print(val_labels[1])"
      ]
    },
    {
      "cell_type": "code",
      "execution_count": 34,
      "metadata": {
        "id": "tkaTLMaTIbIL",
        "outputId": "93813b84-93c9-4274-f357-f8711fa64aad",
        "colab": {
          "base_uri": "https://localhost:8080/"
        }
      },
      "outputs": [
        {
          "output_type": "execute_result",
          "data": {
            "text/plain": [
              "(10000, 10)"
            ]
          },
          "metadata": {},
          "execution_count": 34
        }
      ],
      "source": [
        "classifications = model.predict(val_images)\n",
        "classifications.shape"
      ]
    },
    {
      "cell_type": "code",
      "source": [
        "classifications[1]"
      ],
      "metadata": {
        "id": "KnjQSnVurth8",
        "outputId": "081a40cd-02f0-4bc9-c0fe-561c8e12238d",
        "colab": {
          "base_uri": "https://localhost:8080/"
        }
      },
      "execution_count": 39,
      "outputs": [
        {
          "output_type": "execute_result",
          "data": {
            "text/plain": [
              "array([1.00349865e-07, 2.77130639e-05, 9.99731004e-01, 2.27011755e-04, 2.53986033e-20, 8.06643038e-06, 5.75033846e-06, 7.62399400e-17, 3.44452502e-07, 3.39783069e-18], dtype=float32)"
            ]
          },
          "metadata": {},
          "execution_count": 39
        }
      ]
    },
    {
      "cell_type": "code",
      "execution_count": 40,
      "metadata": {
        "id": "yjenS2EZJH6h",
        "outputId": "27fe5da2-1f80-44ef-b6fa-a4f7c21625b9",
        "colab": {
          "base_uri": "https://localhost:8080/"
        }
      },
      "outputs": [
        {
          "output_type": "execute_result",
          "data": {
            "text/plain": [
              "2"
            ]
          },
          "metadata": {},
          "execution_count": 40
        }
      ],
      "source": [
        "# Returns the indices of the maximum values along an axis.\n",
        "np.argmax(classifications[1])"
      ]
    },
    {
      "cell_type": "markdown",
      "metadata": {
        "id": "wT3DM9IRjy6J"
      },
      "source": [
        "## Inspecting Errors"
      ]
    },
    {
      "cell_type": "code",
      "execution_count": 41,
      "metadata": {
        "id": "ZNzmTmJmATNQ",
        "outputId": "d7629faf-d980-4519-a7aa-f22295a8520d",
        "colab": {
          "base_uri": "https://localhost:8080/"
        }
      },
      "outputs": [
        {
          "output_type": "stream",
          "name": "stdout",
          "text": [
            "0.96\n"
          ]
        }
      ],
      "source": [
        "predict_errors = []\n",
        "for i in range(len(val_labels)):\n",
        "  predicted_label = np.argmax(classifications[i])\n",
        "  if predicted_label != val_labels[i]:\n",
        "    predict_errors.append(i)\n",
        "\n",
        "print(1-(len(predict_errors)/len(val_labels)))"
      ]
    },
    {
      "cell_type": "code",
      "execution_count": 42,
      "metadata": {
        "id": "Sq2oMvHyFLH_",
        "outputId": "d494c17c-5400-48a7-c73c-6e7dab72f573",
        "colab": {
          "base_uri": "https://localhost:8080/"
        }
      },
      "outputs": [
        {
          "output_type": "execute_result",
          "data": {
            "text/plain": [
              "[8, 18, 124, 149, 241, 247, 259, 321, 324, 340]"
            ]
          },
          "metadata": {},
          "execution_count": 42
        }
      ],
      "source": [
        "predict_errors[:10]"
      ]
    },
    {
      "cell_type": "code",
      "execution_count": 44,
      "metadata": {
        "id": "K6eEPtN5AdCX",
        "outputId": "9adcf412-6b82-4b06-8017-57a88e7890de",
        "colab": {
          "base_uri": "https://localhost:8080/",
          "height": 300
        }
      },
      "outputs": [
        {
          "output_type": "stream",
          "name": "stdout",
          "text": [
            "    Real label of image 18 is: 3\n",
            " Predict label of image 18 is: 8\n"
          ]
        },
        {
          "output_type": "display_data",
          "data": {
            "text/plain": [
              "<Figure size 432x288 with 1 Axes>"
            ],
            "image/png": "[encoded data removed]"
          },
          "metadata": {
            "needs_background": "light"
          }
        }
      ],
      "source": [
        "i = predict_errors[1]\n",
        "predicted_label = np.argmax(classifications[i])\n",
        "print(\"    Real label of image {} is: {}\".format(i, val_labels[i]))\n",
        "print(\" Predict label of image {} is: {}\".format(i, predicted_label))\n",
        "plt.imshow(val_images[i]);"
      ]
    },
    {
      "cell_type": "markdown",
      "metadata": {
        "id": "N_D_yEaAKHlr"
      },
      "source": [
        "## Modify to inspect learned values\n",
        "\n",
        "This code is identical, except that the layers are named prior to adding to the sequential. This allows us to inspect their learned parameters later."
      ]
    },
    {
      "cell_type": "code",
      "execution_count": null,
      "metadata": {
        "id": "DCwgerwjKaLz",
        "outputId": "e262679c-bb15-4f19-9a05-8f0a57aa87a2",
        "colab": {
          "base_uri": "https://localhost:8080/"
        }
      },
      "outputs": [
        {
          "output_type": "stream",
          "name": "stdout",
          "text": [
            "313/313 [==============================] - 1s 3ms/step - loss: 0.1448 - accuracy: 0.9600\n",
            "Testing data Accuracy: 96.0%\n"
          ]
        }
      ],
      "source": [
        "layer_1 = tf.keras.layers.Dense(20, activation=tf.nn.relu)\n",
        "layer_2 = tf.keras.layers.Dense(10, activation=tf.nn.softmax)\n",
        "\n",
        "model = tf.keras.models.Sequential([tf.keras.layers.Flatten(input_shape=(28,28)),\n",
        "                                    layer_1,\n",
        "                                    layer_2])\n",
        "\n",
        "model.compile(optimizer='adam',\n",
        "              loss='sparse_categorical_crossentropy',\n",
        "              metrics=['accuracy'])\n",
        "\n",
        "model.fit(training_images, \n",
        "          training_labels, \n",
        "          epochs=20,\n",
        "          verbose=0\n",
        "          )\n",
        "\n",
        "test_eval = model.evaluate(val_images, val_labels)\n",
        "print (\"Testing data Accuracy: {:.1f}%\".format(test_eval[1]*100))"
      ]
    },
    {
      "cell_type": "code",
      "execution_count": null,
      "metadata": {
        "id": "oNUJdZ6gKwf0",
        "outputId": "87212435-f1a0-463f-9fc1-437a7c4dc6a6",
        "colab": {
          "base_uri": "https://localhost:8080/"
        }
      },
      "outputs": [
        {
          "output_type": "stream",
          "name": "stdout",
          "text": [
            "[1.6059446e-06 8.3785917e-14 8.5839229e-06 8.3057089e-03 8.2769950e-15 2.4870616e-05 2.1908116e-14 9.9159396e-01 3.8256152e-05 2.7149130e-05]\n",
            "7\n",
            "7\n"
          ]
        }
      ],
      "source": [
        "classifications = model.predict(val_images)\n",
        "print(classifications[0])\n",
        "print(np.argmax(classifications[0]))\n",
        "print(val_labels[0])"
      ]
    },
    {
      "cell_type": "markdown",
      "metadata": {
        "id": "Kr4qEvowLSai"
      },
      "source": [
        "Inspect Layer 1"
      ]
    },
    {
      "cell_type": "code",
      "execution_count": null,
      "metadata": {
        "id": "2qbgKY71Latz",
        "outputId": "04a88c0f-3bf8-4335-a462-dca59f2da18c",
        "colab": {
          "base_uri": "https://localhost:8080/"
        }
      },
      "outputs": [
        {
          "output_type": "stream",
          "name": "stdout",
          "text": [
            "Layer 1 Ws ==> 15680\n",
            "Layer 1 bs ==> 20\n"
          ]
        }
      ],
      "source": [
        "print(\"Layer 1 Ws ==>\", layer_1.get_weights()[0].size)\n",
        "print(\"Layer 1 bs ==>\", layer_1.get_weights()[1].size)"
      ]
    },
    {
      "cell_type": "markdown",
      "metadata": {
        "id": "0IOf5K5_LqLw"
      },
      "source": [
        "The `get_weights()[0]` contains the weights (Ws). Why we have 15,680 w's on layer 1? Recall that there are 20 neurons in the first layer and, that the images are 28x28 pixels, which is 784. So, if you multiply 784 x 20 you get 15,680.\n",
        "\n",
        "This layer has 20 neurons, and each neuron learns a W parameter for each pixel. So instead of y=Mx+c, we have \n",
        "y=M1X1+M2X2+M3X3+....+M784X784+C in every neuron! Every pixel has a weight in every neuron. Those weights are multiplied by the pixel value, summed up, and given a bias.\n",
        "\n",
        "The `get_weights()[1]` contains the biases (bs), one for each of the 20 neurons in this layer.\n"
      ]
    },
    {
      "cell_type": "markdown",
      "metadata": {
        "id": "AtzjbvbeNxts"
      },
      "source": [
        "Inspect Layer 2"
      ]
    },
    {
      "cell_type": "code",
      "execution_count": null,
      "metadata": {
        "id": "_FCiM_CEOPep",
        "outputId": "fbef59f5-1921-4fac-a3e2-232984918332",
        "colab": {
          "base_uri": "https://localhost:8080/"
        }
      },
      "outputs": [
        {
          "output_type": "stream",
          "name": "stdout",
          "text": [
            "Layer 2 Ws ==> 200\n",
            "Layer 2 bs ==> 10\n"
          ]
        }
      ],
      "source": [
        "print(\"Layer 2 Ws ==>\", layer_2.get_weights()[0].size)\n",
        "print(\"Layer 2 bs ==>\", layer_2.get_weights()[1].size)"
      ]
    },
    {
      "cell_type": "markdown",
      "metadata": {
        "id": "YbvQq_3vOlVf"
      },
      "source": [
        "Layer 2 has 200 Ws. This is because are 10 neurons in this layer, but there are 20 neurons in the previous layer. So, each neuron in this layer will learn a weight for the incoming value from the previous layer. So, for example, the if the first neuron in this layer is N21, and the neurons output from the previous layers are N11-N120, then this neuron will have 20 weights (W1-W20) and it will calculate its output to be:\n",
        "\n",
        "`W1N11+W2N12+W3N13+...+W20N120+Bias`\n",
        "\n",
        "So each of these weights will be learned as will the bias, for every neuron.\n",
        "\n",
        "Note that N11 refers to Layer 1 Neuron 1."
      ]
    },
    {
      "cell_type": "markdown",
      "metadata": {
        "id": "dnPuvtrWPJ0f"
      },
      "source": [
        "...and as expected there are 10 elements in the second array, representing the 10 biases for the 10 neurons.\n",
        "Hopefully this helps you see how the element of a simple neuron containing y=mx+c can be expanded greatly into a deep neural network, and that DNN can learn the parameters that match the 784 pixels of an image to their output!"
      ]
    }
  ],
  "metadata": {
    "accelerator": "GPU",
    "colab": {
      "name": "TF_MNIST_Classification.ipynb",
      "provenance": []
    },
    "kernelspec": {
      "display_name": "Python 3 (ipykernel)",
      "language": "python",
      "name": "python3"
    },
    "language_info": {
      "codemirror_mode": {
        "name": "ipython",
        "version": 3
      },
      "file_extension": ".py",
      "mimetype": "text/x-python",
      "name": "python",
      "nbconvert_exporter": "python",
      "pygments_lexer": "ipython3",
      "version": "3.9.7"
    }
  },
  "nbformat": 4,
  "nbformat_minor": 0
}