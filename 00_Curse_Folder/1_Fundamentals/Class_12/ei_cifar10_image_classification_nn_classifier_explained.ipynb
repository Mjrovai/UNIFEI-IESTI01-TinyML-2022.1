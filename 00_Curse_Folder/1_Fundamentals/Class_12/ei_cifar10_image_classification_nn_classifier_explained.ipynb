{
 "cells": [
  {
   "cell_type": "markdown",
   "metadata": {
    "id": "1ahhVFOSjBSR"
   },
   "source": [
    "Download the data - after extracting features through a processing block - so we can train a machine learning model."
   ]
  },
  {
   "cell_type": "code",
   "execution_count": 1,
   "metadata": {
    "id": "ugu97cuojBSV"
   },
   "outputs": [],
   "source": [
    "import numpy as np\n",
    "import requests\n",
    "\n",
    "API_KEY = 'ei_3c5808f2fc3861a086e7091325c13812d1090b11c8ae02af5b5d3e5a2cdf2da8'\n",
    "\n",
    "def download_data(url):\n",
    "    response = requests.get(url, headers={'x-api-key': API_KEY})\n",
    "    if response.status_code == 200:\n",
    "        return response.content\n",
    "    else:\n",
    "        print(response.content)\n",
    "        raise ConnectionError('Could not download data file')\n",
    "\n",
    "X = download_data('https://studio.edgeimpulse.com/v1/api/51070/training/6/x')\n",
    "Y = download_data('https://studio.edgeimpulse.com/v1/api/51070/training/6/y')\n"
   ]
  },
  {
   "cell_type": "markdown",
   "metadata": {
    "id": "a0KMIKTRjBSX"
   },
   "source": [
    "Store the data in a temporary file, and load it back through Numpy."
   ]
  },
  {
   "cell_type": "code",
   "execution_count": 2,
   "metadata": {
    "id": "YGRjzs8AjBSX"
   },
   "outputs": [],
   "source": [
    "with open('x_train.npy', 'wb') as file:\n",
    "    file.write(X)\n",
    "with open('y_train.npy', 'wb') as file:\n",
    "    file.write(Y)\n",
    "X = np.load('x_train.npy')\n",
    "Y = np.load('y_train.npy')[:,0]"
   ]
  },
  {
   "cell_type": "code",
   "execution_count": 3,
   "metadata": {
    "colab": {
     "base_uri": "https://localhost:8080/"
    },
    "id": "-HVuPBwIjaX8",
    "outputId": "4b75a369-f13a-48c2-b623-0547a1f37d05"
   },
   "outputs": [
    {
     "data": {
      "text/plain": [
       "((10000, 3072), (10000,))"
      ]
     },
     "execution_count": 3,
     "metadata": {},
     "output_type": "execute_result"
    }
   ],
   "source": [
    "X.shape, Y.shape"
   ]
  },
  {
   "cell_type": "code",
   "execution_count": 4,
   "metadata": {
    "id": "HT-2nABQjnKY"
   },
   "outputs": [],
   "source": [
    "import tensorflow as tf\n",
    "import matplotlib.pyplot as plt"
   ]
  },
  {
   "cell_type": "code",
   "execution_count": 5,
   "metadata": {
    "colab": {
     "base_uri": "https://localhost:8080/",
     "height": 283
    },
    "id": "fOOTnIOJlEmE",
    "outputId": "7eeae180-37b2-4278-cc57-601c3e6b08e9"
   },
   "outputs": [
    {
     "name": "stdout",
     "output_type": "stream",
     "text": [
      "\t Label Image==>  2\n"
     ]
    },
    {
     "data": {
      "image/png": "[encoded data removed]",
      "text/plain": [
       "<Figure size 432x288 with 1 Axes>"
      ]
     },
     "metadata": {
      "needs_background": "light"
     },
     "output_type": "display_data"
    }
   ],
   "source": [
    "image = X[0]\n",
    "label = Y[0]\n",
    "reshape_to = (32,32,3)\n",
    "\n",
    "print(\"\\t Label Image==> \",label)\n",
    "img = tf.reshape(image, reshape_to)\n",
    "plt.imshow(img);"
   ]
  },
  {
   "cell_type": "markdown",
   "metadata": {
    "id": "bp8KOk2yjBSX"
   },
   "source": [
    "Define our labels and split the data up in a test and training set:"
   ]
  },
  {
   "cell_type": "code",
   "execution_count": 6,
   "metadata": {
    "colab": {
     "base_uri": "https://localhost:8080/"
    },
    "id": "8lX-xNAYjBSY",
    "outputId": "797ce75d-bbef-4280-b174-31187f12ca93"
   },
   "outputs": [
    {
     "data": {
      "text/plain": [
       "2"
      ]
     },
     "execution_count": 6,
     "metadata": {},
     "output_type": "execute_result"
    }
   ],
   "source": [
    "import sys, os, random\n",
    "from sklearn.model_selection import train_test_split\n",
    "\n",
    "# Set random seeds for repeatable results\n",
    "RANDOM_SEED = 3\n",
    "random.seed(RANDOM_SEED)\n",
    "np.random.seed(RANDOM_SEED)\n",
    "tf.random.set_seed(RANDOM_SEED)\n",
    "\n",
    "classes_values = [ \"cat\", \"dog\" ]\n",
    "classes = len(classes_values)\n",
    "classes"
   ]
  },
  {
   "cell_type": "code",
   "execution_count": 7,
   "metadata": {
    "colab": {
     "base_uri": "https://localhost:8080/"
    },
    "id": "tTuvSVyJnLgr",
    "outputId": "466a8800-7820-4953-9638-fbdafaea0774"
   },
   "outputs": [
    {
     "data": {
      "text/plain": [
       "array([2, 2, 2, ..., 1, 1, 1], dtype=int32)"
      ]
     },
     "execution_count": 7,
     "metadata": {},
     "output_type": "execute_result"
    }
   ],
   "source": [
    "Y"
   ]
  },
  {
   "cell_type": "code",
   "execution_count": 8,
   "metadata": {
    "colab": {
     "base_uri": "https://localhost:8080/"
    },
    "id": "dS4IHm2LnOAv",
    "outputId": "7fa71ebc-9904-46c1-e1b8-fa66c74bd2bc"
   },
   "outputs": [
    {
     "data": {
      "text/plain": [
       "{1, 2}"
      ]
     },
     "execution_count": 8,
     "metadata": {},
     "output_type": "execute_result"
    }
   ],
   "source": [
    "set(Y)"
   ]
  },
  {
   "cell_type": "code",
   "execution_count": 9,
   "metadata": {
    "colab": {
     "base_uri": "https://localhost:8080/"
    },
    "id": "m06dnuc_m9qW",
    "outputId": "36ca4524-c9ae-41c1-9e23-7b6ad13c2155"
   },
   "outputs": [
    {
     "data": {
      "text/plain": [
       "array([[0., 1.],\n",
       "       [0., 1.],\n",
       "       [0., 1.],\n",
       "       ...,\n",
       "       [1., 0.],\n",
       "       [1., 0.],\n",
       "       [1., 0.]], dtype=float32)"
      ]
     },
     "execution_count": 9,
     "metadata": {},
     "output_type": "execute_result"
    }
   ],
   "source": [
    "Y = tf.keras.utils.to_categorical(Y - 1, classes)\n",
    "Y"
   ]
  },
  {
   "cell_type": "code",
   "execution_count": 10,
   "metadata": {
    "colab": {
     "base_uri": "https://localhost:8080/"
    },
    "id": "fGlvRAiGnTaD",
    "outputId": "aa11165f-18ce-4f04-9109-cfd6e8f13fb8"
   },
   "outputs": [
    {
     "name": "stdout",
     "output_type": "stream",
     "text": [
      "(8000, 3072) (2000, 2)\n",
      "(2000, 3072) (2000, 2)\n"
     ]
    }
   ],
   "source": [
    "X_train, X_test, Y_train, Y_test = train_test_split(X, Y, test_size=0.2, random_state=1)\n",
    "\n",
    "print(X_train.shape, Y_test.shape)\n",
    "print(X_test.shape, Y_test.shape)"
   ]
  },
  {
   "cell_type": "code",
   "execution_count": 11,
   "metadata": {
    "colab": {
     "base_uri": "https://localhost:8080/"
    },
    "id": "p3vo0j4Vni18",
    "outputId": "fed22e64-aaa7-400a-9df5-74c6b773f7ec"
   },
   "outputs": [
    {
     "data": {
      "text/plain": [
       "3072"
      ]
     },
     "execution_count": 11,
     "metadata": {},
     "output_type": "execute_result"
    }
   ],
   "source": [
    "input_length = X_train[0].shape[0]\n",
    "input_length"
   ]
  },
  {
   "cell_type": "markdown",
   "metadata": {
    "id": "RAOHANkqouL3"
   },
   "source": [
    "The [tf.data API](https://www.tensorflow.org/guide/data) enables you to build complex input pipelines from simple, reusable pieces. For example, the pipeline for an image model might aggregate data from files in a distributed file system, apply random perturbations to each image, and merge randomly selected images into a batch for training."
   ]
  },
  {
   "cell_type": "code",
   "execution_count": 12,
   "metadata": {
    "id": "7fapeHh6n_vt"
   },
   "outputs": [],
   "source": [
    "train_dataset = tf.data.Dataset.from_tensor_slices((X_train, Y_train))\n",
    "validation_dataset = tf.data.Dataset.from_tensor_slices((X_test, Y_test))"
   ]
  },
  {
   "cell_type": "code",
   "execution_count": 13,
   "metadata": {
    "colab": {
     "base_uri": "https://localhost:8080/"
    },
    "id": "L5j2KHvnpRvU",
    "outputId": "5596951a-06a9-4128-977d-368b7d17e3b2"
   },
   "outputs": [
    {
     "name": "stdout",
     "output_type": "stream",
     "text": [
      "<TensorSliceDataset shapes: ((3072,), (2,)), types: (tf.float32, tf.float32)>\n",
      "<TensorSliceDataset shapes: ((3072,), (2,)), types: (tf.float32, tf.float32)>\n"
     ]
    }
   ],
   "source": [
    "print(train_dataset)\n",
    "print(validation_dataset)"
   ]
  },
  {
   "cell_type": "code",
   "execution_count": 14,
   "metadata": {
    "id": "rNHpZSZ3pO5Q"
   },
   "outputs": [],
   "source": [
    "def get_reshape_function(reshape_to):\n",
    "    def reshape(image, label):\n",
    "        return tf.reshape(image, reshape_to), label\n",
    "    return reshape\n",
    "\n",
    "callbacks = []"
   ]
  },
  {
   "cell_type": "markdown",
   "metadata": {
    "id": "RKUaAlurjBSY"
   },
   "source": [
    "Train the model:"
   ]
  },
  {
   "cell_type": "code",
   "execution_count": 15,
   "metadata": {
    "id": "RO1BxcM_jBSZ"
   },
   "outputs": [],
   "source": [
    "import tensorflow as tf\n",
    "from tensorflow.keras.models import Sequential\n",
    "from tensorflow.keras.layers import Dense, InputLayer, Dropout, Conv1D, Conv2D, Flatten, Reshape, MaxPooling1D, MaxPooling2D, BatchNormalization, TimeDistributed\n",
    "from tensorflow.keras.optimizers import Adam\n",
    "\n",
    "# model architecture\n",
    "model = Sequential()\n",
    "model.add(Conv2D(32, kernel_size=3, activation='relu', kernel_constraint=tf.keras.constraints.MaxNorm(1), padding='same'))\n",
    "model.add(MaxPooling2D(pool_size=2, strides=2, padding='same'))\n",
    "model.add(Conv2D(64, kernel_size=3, activation='relu', kernel_constraint=tf.keras.constraints.MaxNorm(1), padding='same'))\n",
    "model.add(MaxPooling2D(pool_size=2, strides=2, padding='same'))\n",
    "model.add(Flatten())\n",
    "model.add(Dense(64, activation='relu',\n",
    "    activity_regularizer=tf.keras.regularizers.l1(0.00001)))\n",
    "model.add(Dense(classes, activation='softmax', name='y_pred'))"
   ]
  },
  {
   "cell_type": "code",
   "execution_count": 16,
   "metadata": {
    "colab": {
     "base_uri": "https://localhost:8080/"
    },
    "id": "B143Zyqrps4S",
    "outputId": "e41f8550-7cc9-4a91-8ffc-0bb61efef1c9"
   },
   "outputs": [
    {
     "name": "stderr",
     "output_type": "stream",
     "text": [
      "/usr/local/lib/python3.7/dist-packages/keras/optimizer_v2/optimizer_v2.py:356: UserWarning: The `lr` argument is deprecated, use `learning_rate` instead.\n",
      "  \"The `lr` argument is deprecated, use `learning_rate` instead.\")\n"
     ]
    }
   ],
   "source": [
    "# this controls the learning rate\n",
    "opt = Adam(lr=0.0005, beta_1=0.9, beta_2=0.999)"
   ]
  },
  {
   "cell_type": "code",
   "execution_count": 17,
   "metadata": {
    "id": "uSs_E6sMrGcj"
   },
   "outputs": [],
   "source": [
    "# This is only required for some input types, e.g. images\n",
    "SPECIFIC_INPUT_SHAPE = (32, 32, 3)\n",
    "\n",
    "train_dataset = train_dataset.map(get_reshape_function(SPECIFIC_INPUT_SHAPE), tf.data.experimental.AUTOTUNE)\n",
    "validation_dataset = validation_dataset.map(get_reshape_function(SPECIFIC_INPUT_SHAPE), tf.data.experimental.AUTOTUNE)"
   ]
  },
  {
   "cell_type": "code",
   "execution_count": 18,
   "metadata": {
    "colab": {
     "base_uri": "https://localhost:8080/"
    },
    "id": "sNAwDobWrOS7",
    "outputId": "d2628796-78e8-4de8-fe52-ede34103f065"
   },
   "outputs": [
    {
     "name": "stdout",
     "output_type": "stream",
     "text": [
      "<ParallelMapDataset shapes: ((32, 32, 3), (2,)), types: (tf.float32, tf.float32)>\n",
      "<ParallelMapDataset shapes: ((32, 32, 3), (2,)), types: (tf.float32, tf.float32)>\n"
     ]
    }
   ],
   "source": [
    "print(train_dataset)\n",
    "print(validation_dataset)"
   ]
  },
  {
   "cell_type": "code",
   "execution_count": 19,
   "metadata": {
    "id": "z1dn3oDQquli"
   },
   "outputs": [],
   "source": [
    "# this controls the batch size, or you can manipulate the tf.data.Dataset objects yourself\n",
    "BATCH_SIZE = 32\n",
    "train_dataset = train_dataset.batch(BATCH_SIZE, drop_remainder=False)\n",
    "validation_dataset = validation_dataset.batch(BATCH_SIZE, drop_remainder=False)"
   ]
  },
  {
   "cell_type": "code",
   "execution_count": 20,
   "metadata": {
    "colab": {
     "base_uri": "https://localhost:8080/"
    },
    "id": "Z465qlPcra4j",
    "outputId": "21c62c26-f512-4b2b-ec5f-19f36eaa2d8a"
   },
   "outputs": [
    {
     "name": "stdout",
     "output_type": "stream",
     "text": [
      "<BatchDataset shapes: ((None, 32, 32, 3), (None, 2)), types: (tf.float32, tf.float32)>\n",
      "<BatchDataset shapes: ((None, 32, 32, 3), (None, 2)), types: (tf.float32, tf.float32)>\n"
     ]
    }
   ],
   "source": [
    "print(train_dataset)\n",
    "print(validation_dataset)"
   ]
  },
  {
   "cell_type": "code",
   "execution_count": 21,
   "metadata": {
    "id": "1nbXZ6z2rYVG"
   },
   "outputs": [],
   "source": [
    "# compile the model\n",
    "model.compile(\n",
    "    loss='categorical_crossentropy', \n",
    "    optimizer=opt, \n",
    "    metrics=['accuracy']\n",
    "    )"
   ]
  },
  {
   "cell_type": "code",
   "execution_count": 22,
   "metadata": {
    "colab": {
     "base_uri": "https://localhost:8080/"
    },
    "id": "fb7sqqIlrrkd",
    "outputId": "2e074d0a-0e84-4953-9fc9-d5241744aff5"
   },
   "outputs": [
    {
     "name": "stdout",
     "output_type": "stream",
     "text": [
      "Epoch 1/10\n",
      "250/250 - 14s - loss: 0.6650 - accuracy: 0.5897 - val_loss: 0.6713 - val_accuracy: 0.5785\n",
      "Epoch 2/10\n",
      "250/250 - 13s - loss: 0.6099 - accuracy: 0.6654 - val_loss: 0.6262 - val_accuracy: 0.6525\n",
      "Epoch 3/10\n",
      "250/250 - 13s - loss: 0.5703 - accuracy: 0.7013 - val_loss: 0.5952 - val_accuracy: 0.6845\n",
      "Epoch 4/10\n",
      "250/250 - 13s - loss: 0.5394 - accuracy: 0.7244 - val_loss: 0.5992 - val_accuracy: 0.6900\n",
      "Epoch 5/10\n",
      "250/250 - 13s - loss: 0.5097 - accuracy: 0.7481 - val_loss: 0.5896 - val_accuracy: 0.7035\n",
      "Epoch 6/10\n",
      "250/250 - 13s - loss: 0.4799 - accuracy: 0.7670 - val_loss: 0.6034 - val_accuracy: 0.7010\n",
      "Epoch 7/10\n",
      "250/250 - 13s - loss: 0.4486 - accuracy: 0.7885 - val_loss: 0.6286 - val_accuracy: 0.7040\n",
      "Epoch 8/10\n",
      "250/250 - 13s - loss: 0.4144 - accuracy: 0.8070 - val_loss: 0.6420 - val_accuracy: 0.7050\n",
      "Epoch 9/10\n",
      "250/250 - 13s - loss: 0.3756 - accuracy: 0.8320 - val_loss: 0.6554 - val_accuracy: 0.7150\n",
      "Epoch 10/10\n",
      "250/250 - 13s - loss: 0.3376 - accuracy: 0.8554 - val_loss: 0.6899 - val_accuracy: 0.7150\n"
     ]
    }
   ],
   "source": [
    "# train the neural network\n",
    "history = model.fit(\n",
    "    train_dataset, \n",
    "    epochs=10, \n",
    "    validation_data=validation_dataset, \n",
    "    verbose=2, \n",
    "    callbacks=callbacks\n",
    "    )"
   ]
  },
  {
   "cell_type": "code",
   "execution_count": 23,
   "metadata": {
    "colab": {
     "base_uri": "https://localhost:8080/",
     "height": 295
    },
    "id": "lAYilIQytAQP",
    "outputId": "d8b5c73e-009a-48b7-ae1a-e4673ae2f499"
   },
   "outputs": [
    {
     "data": {
      "image/png": "[encoded data removed]",
      "text/plain": [
       "<Figure size 432x288 with 1 Axes>"
      ]
     },
     "metadata": {
      "needs_background": "light"
     },
     "output_type": "display_data"
    }
   ],
   "source": [
    "# summarize history for accuracy\n",
    "plt.plot(history.history['accuracy'])\n",
    "plt.plot(history.history['val_accuracy'])\n",
    "plt.title('model accuracy')\n",
    "plt.ylabel('accuracy')\n",
    "plt.xlabel('epoch')\n",
    "plt.legend(['train', 'validation'], loc='upper left')\n",
    "plt.show()"
   ]
  },
  {
   "cell_type": "code",
   "execution_count": 24,
   "metadata": {
    "colab": {
     "base_uri": "https://localhost:8080/"
    },
    "id": "1WS3xIsUjBSa",
    "outputId": "5b1bf10c-316e-4769-d79f-3a8b4d9f9a2e"
   },
   "outputs": [
    {
     "name": "stdout",
     "output_type": "stream",
     "text": [
      "INFO:tensorflow:Assets written to: saved_model/assets\n"
     ]
    }
   ],
   "source": [
    "# Save the model to disk\n",
    "model.save('saved_model')"
   ]
  },
  {
   "cell_type": "markdown",
   "metadata": {
    "id": "IsEK3peJ9PJ5"
   },
   "source": [
    "# Test Model"
   ]
  },
  {
   "cell_type": "code",
   "execution_count": 25,
   "metadata": {
    "colab": {
     "base_uri": "https://localhost:8080/",
     "height": 786
    },
    "id": "ty6KG_e4jBSb",
    "outputId": "11b5b078-1888-4cc7-f7fb-eceaeb7ec847"
   },
   "outputs": [
    {
     "data": {
      "image/svg+xml": [
       "<svg height=\"574pt\" viewBox=\"0.00 0.00 412.00 636.00\" width=\"372pt\" xmlns=\"http://www.w3.org/2000/svg\" xmlns:xlink=\"http://www.w3.org/1999/xlink\">\n",
       "<g class=\"graph\" id=\"graph0\" transform=\"scale(.9028 .9028) rotate(0) translate(4 632)\">\n",
       "<title>G</title>\n",
       "<polygon fill=\"#ffffff\" points=\"-4,4 -4,-632 408,-632 408,4 -4,4\" stroke=\"transparent\"/>\n",
       "<!-- 139951716180240 -->\n",
       "<g class=\"node\" id=\"node1\">\n",
       "<title>139951716180240</title>\n",
       "<polygon fill=\"none\" points=\"25.5,-581.5 25.5,-627.5 378.5,-627.5 378.5,-581.5 25.5,-581.5\" stroke=\"#000000\"/>\n",
       "<text fill=\"#000000\" font-family=\"Times,serif\" font-size=\"14.00\" text-anchor=\"middle\" x=\"110\" y=\"-600.8\">conv2d_input: InputLayer</text>\n",
       "<polyline fill=\"none\" points=\"194.5,-581.5 194.5,-627.5 \" stroke=\"#000000\"/>\n",
       "<text fill=\"#000000\" font-family=\"Times,serif\" font-size=\"14.00\" text-anchor=\"middle\" x=\"223.5\" y=\"-612.3\">input:</text>\n",
       "<polyline fill=\"none\" points=\"194.5,-604.5 252.5,-604.5 \" stroke=\"#000000\"/>\n",
       "<text fill=\"#000000\" font-family=\"Times,serif\" font-size=\"14.00\" text-anchor=\"middle\" x=\"223.5\" y=\"-589.3\">output:</text>\n",
       "<polyline fill=\"none\" points=\"252.5,-581.5 252.5,-627.5 \" stroke=\"#000000\"/>\n",
       "<text fill=\"#000000\" font-family=\"Times,serif\" font-size=\"14.00\" text-anchor=\"middle\" x=\"315.5\" y=\"-612.3\">[(None, 32, 32, 3)]</text>\n",
       "<polyline fill=\"none\" points=\"252.5,-604.5 378.5,-604.5 \" stroke=\"#000000\"/>\n",
       "<text fill=\"#000000\" font-family=\"Times,serif\" font-size=\"14.00\" text-anchor=\"middle\" x=\"315.5\" y=\"-589.3\">[(None, 32, 32, 3)]</text>\n",
       "</g>\n",
       "<!-- 139951963398672 -->\n",
       "<g class=\"node\" id=\"node2\">\n",
       "<title>139951963398672</title>\n",
       "<polygon fill=\"none\" points=\"51.5,-498.5 51.5,-544.5 352.5,-544.5 352.5,-498.5 51.5,-498.5\" stroke=\"#000000\"/>\n",
       "<text fill=\"#000000\" font-family=\"Times,serif\" font-size=\"14.00\" text-anchor=\"middle\" x=\"110.5\" y=\"-517.8\">conv2d: Conv2D</text>\n",
       "<polyline fill=\"none\" points=\"169.5,-498.5 169.5,-544.5 \" stroke=\"#000000\"/>\n",
       "<text fill=\"#000000\" font-family=\"Times,serif\" font-size=\"14.00\" text-anchor=\"middle\" x=\"198.5\" y=\"-529.3\">input:</text>\n",
       "<polyline fill=\"none\" points=\"169.5,-521.5 227.5,-521.5 \" stroke=\"#000000\"/>\n",
       "<text fill=\"#000000\" font-family=\"Times,serif\" font-size=\"14.00\" text-anchor=\"middle\" x=\"198.5\" y=\"-506.3\">output:</text>\n",
       "<polyline fill=\"none\" points=\"227.5,-498.5 227.5,-544.5 \" stroke=\"#000000\"/>\n",
       "<text fill=\"#000000\" font-family=\"Times,serif\" font-size=\"14.00\" text-anchor=\"middle\" x=\"290\" y=\"-529.3\">(None, 32, 32, 3)</text>\n",
       "<polyline fill=\"none\" points=\"227.5,-521.5 352.5,-521.5 \" stroke=\"#000000\"/>\n",
       "<text fill=\"#000000\" font-family=\"Times,serif\" font-size=\"14.00\" text-anchor=\"middle\" x=\"290\" y=\"-506.3\">(None, 32, 32, 32)</text>\n",
       "</g>\n",
       "<!-- 139951716180240&#45;&gt;139951963398672 -->\n",
       "<g class=\"edge\" id=\"edge1\">\n",
       "<title>139951716180240-&gt;139951963398672</title>\n",
       "<path d=\"M202,-581.3799C202,-573.1745 202,-563.7679 202,-554.8786\" fill=\"none\" stroke=\"#000000\"/>\n",
       "<polygon fill=\"#000000\" points=\"205.5001,-554.784 202,-544.784 198.5001,-554.784 205.5001,-554.784\" stroke=\"#000000\"/>\n",
       "</g>\n",
       "<!-- 139951769117456 -->\n",
       "<g class=\"node\" id=\"node3\">\n",
       "<title>139951769117456</title>\n",
       "<polygon fill=\"none\" points=\"7.5,-415.5 7.5,-461.5 396.5,-461.5 396.5,-415.5 7.5,-415.5\" stroke=\"#000000\"/>\n",
       "<text fill=\"#000000\" font-family=\"Times,serif\" font-size=\"14.00\" text-anchor=\"middle\" x=\"110.5\" y=\"-434.8\">max_pooling2d: MaxPooling2D</text>\n",
       "<polyline fill=\"none\" points=\"213.5,-415.5 213.5,-461.5 \" stroke=\"#000000\"/>\n",
       "<text fill=\"#000000\" font-family=\"Times,serif\" font-size=\"14.00\" text-anchor=\"middle\" x=\"242.5\" y=\"-446.3\">input:</text>\n",
       "<polyline fill=\"none\" points=\"213.5,-438.5 271.5,-438.5 \" stroke=\"#000000\"/>\n",
       "<text fill=\"#000000\" font-family=\"Times,serif\" font-size=\"14.00\" text-anchor=\"middle\" x=\"242.5\" y=\"-423.3\">output:</text>\n",
       "<polyline fill=\"none\" points=\"271.5,-415.5 271.5,-461.5 \" stroke=\"#000000\"/>\n",
       "<text fill=\"#000000\" font-family=\"Times,serif\" font-size=\"14.00\" text-anchor=\"middle\" x=\"334\" y=\"-446.3\">(None, 32, 32, 32)</text>\n",
       "<polyline fill=\"none\" points=\"271.5,-438.5 396.5,-438.5 \" stroke=\"#000000\"/>\n",
       "<text fill=\"#000000\" font-family=\"Times,serif\" font-size=\"14.00\" text-anchor=\"middle\" x=\"334\" y=\"-423.3\">(None, 16, 16, 32)</text>\n",
       "</g>\n",
       "<!-- 139951963398672&#45;&gt;139951769117456 -->\n",
       "<g class=\"edge\" id=\"edge2\">\n",
       "<title>139951963398672-&gt;139951769117456</title>\n",
       "<path d=\"M202,-498.3799C202,-490.1745 202,-480.7679 202,-471.8786\" fill=\"none\" stroke=\"#000000\"/>\n",
       "<polygon fill=\"#000000\" points=\"205.5001,-471.784 202,-461.784 198.5001,-471.784 205.5001,-471.784\" stroke=\"#000000\"/>\n",
       "</g>\n",
       "<!-- 139951760108624 -->\n",
       "<g class=\"node\" id=\"node4\">\n",
       "<title>139951760108624</title>\n",
       "<polygon fill=\"none\" points=\"44,-332.5 44,-378.5 360,-378.5 360,-332.5 44,-332.5\" stroke=\"#000000\"/>\n",
       "<text fill=\"#000000\" font-family=\"Times,serif\" font-size=\"14.00\" text-anchor=\"middle\" x=\"110.5\" y=\"-351.8\">conv2d_1: Conv2D</text>\n",
       "<polyline fill=\"none\" points=\"177,-332.5 177,-378.5 \" stroke=\"#000000\"/>\n",
       "<text fill=\"#000000\" font-family=\"Times,serif\" font-size=\"14.00\" text-anchor=\"middle\" x=\"206\" y=\"-363.3\">input:</text>\n",
       "<polyline fill=\"none\" points=\"177,-355.5 235,-355.5 \" stroke=\"#000000\"/>\n",
       "<text fill=\"#000000\" font-family=\"Times,serif\" font-size=\"14.00\" text-anchor=\"middle\" x=\"206\" y=\"-340.3\">output:</text>\n",
       "<polyline fill=\"none\" points=\"235,-332.5 235,-378.5 \" stroke=\"#000000\"/>\n",
       "<text fill=\"#000000\" font-family=\"Times,serif\" font-size=\"14.00\" text-anchor=\"middle\" x=\"297.5\" y=\"-363.3\">(None, 16, 16, 32)</text>\n",
       "<polyline fill=\"none\" points=\"235,-355.5 360,-355.5 \" stroke=\"#000000\"/>\n",
       "<text fill=\"#000000\" font-family=\"Times,serif\" font-size=\"14.00\" text-anchor=\"middle\" x=\"297.5\" y=\"-340.3\">(None, 16, 16, 64)</text>\n",
       "</g>\n",
       "<!-- 139951769117456&#45;&gt;139951760108624 -->\n",
       "<g class=\"edge\" id=\"edge3\">\n",
       "<title>139951769117456-&gt;139951760108624</title>\n",
       "<path d=\"M202,-415.3799C202,-407.1745 202,-397.7679 202,-388.8786\" fill=\"none\" stroke=\"#000000\"/>\n",
       "<polygon fill=\"#000000\" points=\"205.5001,-388.784 202,-378.784 198.5001,-388.784 205.5001,-388.784\" stroke=\"#000000\"/>\n",
       "</g>\n",
       "<!-- 139951760108688 -->\n",
       "<g class=\"node\" id=\"node5\">\n",
       "<title>139951760108688</title>\n",
       "<polygon fill=\"none\" points=\"0,-249.5 0,-295.5 404,-295.5 404,-249.5 0,-249.5\" stroke=\"#000000\"/>\n",
       "<text fill=\"#000000\" font-family=\"Times,serif\" font-size=\"14.00\" text-anchor=\"middle\" x=\"110.5\" y=\"-268.8\">max_pooling2d_1: MaxPooling2D</text>\n",
       "<polyline fill=\"none\" points=\"221,-249.5 221,-295.5 \" stroke=\"#000000\"/>\n",
       "<text fill=\"#000000\" font-family=\"Times,serif\" font-size=\"14.00\" text-anchor=\"middle\" x=\"250\" y=\"-280.3\">input:</text>\n",
       "<polyline fill=\"none\" points=\"221,-272.5 279,-272.5 \" stroke=\"#000000\"/>\n",
       "<text fill=\"#000000\" font-family=\"Times,serif\" font-size=\"14.00\" text-anchor=\"middle\" x=\"250\" y=\"-257.3\">output:</text>\n",
       "<polyline fill=\"none\" points=\"279,-249.5 279,-295.5 \" stroke=\"#000000\"/>\n",
       "<text fill=\"#000000\" font-family=\"Times,serif\" font-size=\"14.00\" text-anchor=\"middle\" x=\"341.5\" y=\"-280.3\">(None, 16, 16, 64)</text>\n",
       "<polyline fill=\"none\" points=\"279,-272.5 404,-272.5 \" stroke=\"#000000\"/>\n",
       "<text fill=\"#000000\" font-family=\"Times,serif\" font-size=\"14.00\" text-anchor=\"middle\" x=\"341.5\" y=\"-257.3\">(None, 8, 8, 64)</text>\n",
       "</g>\n",
       "<!-- 139951760108624&#45;&gt;139951760108688 -->\n",
       "<g class=\"edge\" id=\"edge4\">\n",
       "<title>139951760108624-&gt;139951760108688</title>\n",
       "<path d=\"M202,-332.3799C202,-324.1745 202,-314.7679 202,-305.8786\" fill=\"none\" stroke=\"#000000\"/>\n",
       "<polygon fill=\"#000000\" points=\"205.5001,-305.784 202,-295.784 198.5001,-305.784 205.5001,-305.784\" stroke=\"#000000\"/>\n",
       "</g>\n",
       "<!-- 139951759631952 -->\n",
       "<g class=\"node\" id=\"node6\">\n",
       "<title>139951759631952</title>\n",
       "<polygon fill=\"none\" points=\"69,-166.5 69,-212.5 335,-212.5 335,-166.5 69,-166.5\" stroke=\"#000000\"/>\n",
       "<text fill=\"#000000\" font-family=\"Times,serif\" font-size=\"14.00\" text-anchor=\"middle\" x=\"118\" y=\"-185.8\">flatten: Flatten</text>\n",
       "<polyline fill=\"none\" points=\"167,-166.5 167,-212.5 \" stroke=\"#000000\"/>\n",
       "<text fill=\"#000000\" font-family=\"Times,serif\" font-size=\"14.00\" text-anchor=\"middle\" x=\"196\" y=\"-197.3\">input:</text>\n",
       "<polyline fill=\"none\" points=\"167,-189.5 225,-189.5 \" stroke=\"#000000\"/>\n",
       "<text fill=\"#000000\" font-family=\"Times,serif\" font-size=\"14.00\" text-anchor=\"middle\" x=\"196\" y=\"-174.3\">output:</text>\n",
       "<polyline fill=\"none\" points=\"225,-166.5 225,-212.5 \" stroke=\"#000000\"/>\n",
       "<text fill=\"#000000\" font-family=\"Times,serif\" font-size=\"14.00\" text-anchor=\"middle\" x=\"280\" y=\"-197.3\">(None, 8, 8, 64)</text>\n",
       "<polyline fill=\"none\" points=\"225,-189.5 335,-189.5 \" stroke=\"#000000\"/>\n",
       "<text fill=\"#000000\" font-family=\"Times,serif\" font-size=\"14.00\" text-anchor=\"middle\" x=\"280\" y=\"-174.3\">(None, 4096)</text>\n",
       "</g>\n",
       "<!-- 139951760108688&#45;&gt;139951759631952 -->\n",
       "<g class=\"edge\" id=\"edge5\">\n",
       "<title>139951760108688-&gt;139951759631952</title>\n",
       "<path d=\"M202,-249.3799C202,-241.1745 202,-231.7679 202,-222.8786\" fill=\"none\" stroke=\"#000000\"/>\n",
       "<polygon fill=\"#000000\" points=\"205.5001,-222.784 202,-212.784 198.5001,-222.784 205.5001,-222.784\" stroke=\"#000000\"/>\n",
       "</g>\n",
       "<!-- 139951759633744 -->\n",
       "<g class=\"node\" id=\"node7\">\n",
       "<title>139951759633744</title>\n",
       "<polygon fill=\"none\" points=\"79.5,-83.5 79.5,-129.5 324.5,-129.5 324.5,-83.5 79.5,-83.5\" stroke=\"#000000\"/>\n",
       "<text fill=\"#000000\" font-family=\"Times,serif\" font-size=\"14.00\" text-anchor=\"middle\" x=\"125.5\" y=\"-102.8\">dense: Dense</text>\n",
       "<polyline fill=\"none\" points=\"171.5,-83.5 171.5,-129.5 \" stroke=\"#000000\"/>\n",
       "<text fill=\"#000000\" font-family=\"Times,serif\" font-size=\"14.00\" text-anchor=\"middle\" x=\"200.5\" y=\"-114.3\">input:</text>\n",
       "<polyline fill=\"none\" points=\"171.5,-106.5 229.5,-106.5 \" stroke=\"#000000\"/>\n",
       "<text fill=\"#000000\" font-family=\"Times,serif\" font-size=\"14.00\" text-anchor=\"middle\" x=\"200.5\" y=\"-91.3\">output:</text>\n",
       "<polyline fill=\"none\" points=\"229.5,-83.5 229.5,-129.5 \" stroke=\"#000000\"/>\n",
       "<text fill=\"#000000\" font-family=\"Times,serif\" font-size=\"14.00\" text-anchor=\"middle\" x=\"277\" y=\"-114.3\">(None, 4096)</text>\n",
       "<polyline fill=\"none\" points=\"229.5,-106.5 324.5,-106.5 \" stroke=\"#000000\"/>\n",
       "<text fill=\"#000000\" font-family=\"Times,serif\" font-size=\"14.00\" text-anchor=\"middle\" x=\"277\" y=\"-91.3\">(None, 64)</text>\n",
       "</g>\n",
       "<!-- 139951759631952&#45;&gt;139951759633744 -->\n",
       "<g class=\"edge\" id=\"edge6\">\n",
       "<title>139951759631952-&gt;139951759633744</title>\n",
       "<path d=\"M202,-166.3799C202,-158.1745 202,-148.7679 202,-139.8786\" fill=\"none\" stroke=\"#000000\"/>\n",
       "<polygon fill=\"#000000\" points=\"205.5001,-139.784 202,-129.784 198.5001,-139.784 205.5001,-139.784\" stroke=\"#000000\"/>\n",
       "</g>\n",
       "<!-- 139951759633936 -->\n",
       "<g class=\"node\" id=\"node8\">\n",
       "<title>139951759633936</title>\n",
       "<polygon fill=\"none\" points=\"83,-.5 83,-46.5 321,-46.5 321,-.5 83,-.5\" stroke=\"#000000\"/>\n",
       "<text fill=\"#000000\" font-family=\"Times,serif\" font-size=\"14.00\" text-anchor=\"middle\" x=\"133\" y=\"-19.8\">y_pred: Dense</text>\n",
       "<polyline fill=\"none\" points=\"183,-.5 183,-46.5 \" stroke=\"#000000\"/>\n",
       "<text fill=\"#000000\" font-family=\"Times,serif\" font-size=\"14.00\" text-anchor=\"middle\" x=\"212\" y=\"-31.3\">input:</text>\n",
       "<polyline fill=\"none\" points=\"183,-23.5 241,-23.5 \" stroke=\"#000000\"/>\n",
       "<text fill=\"#000000\" font-family=\"Times,serif\" font-size=\"14.00\" text-anchor=\"middle\" x=\"212\" y=\"-8.3\">output:</text>\n",
       "<polyline fill=\"none\" points=\"241,-.5 241,-46.5 \" stroke=\"#000000\"/>\n",
       "<text fill=\"#000000\" font-family=\"Times,serif\" font-size=\"14.00\" text-anchor=\"middle\" x=\"281\" y=\"-31.3\">(None, 64)</text>\n",
       "<polyline fill=\"none\" points=\"241,-23.5 321,-23.5 \" stroke=\"#000000\"/>\n",
       "<text fill=\"#000000\" font-family=\"Times,serif\" font-size=\"14.00\" text-anchor=\"middle\" x=\"281\" y=\"-8.3\">(None, 2)</text>\n",
       "</g>\n",
       "<!-- 139951759633744&#45;&gt;139951759633936 -->\n",
       "<g class=\"edge\" id=\"edge7\">\n",
       "<title>139951759633744-&gt;139951759633936</title>\n",
       "<path d=\"M202,-83.3799C202,-75.1745 202,-65.7679 202,-56.8786\" fill=\"none\" stroke=\"#000000\"/>\n",
       "<polygon fill=\"#000000\" points=\"205.5001,-56.784 202,-46.784 198.5001,-56.784 205.5001,-56.784\" stroke=\"#000000\"/>\n",
       "</g>\n",
       "</g>\n",
       "</svg>"
      ],
      "text/plain": [
       "<IPython.core.display.SVG object>"
      ]
     },
     "execution_count": 25,
     "metadata": {},
     "output_type": "execute_result"
    }
   ],
   "source": [
    "# visualize the Xception model architecture\n",
    "from IPython.display import SVG\n",
    "from keras.utils.vis_utils import model_to_dot\n",
    "SVG(model_to_dot(model, show_shapes= True, show_layer_names=True, dpi=65).create(prog='dot', format='svg'))"
   ]
  },
  {
   "cell_type": "markdown",
   "metadata": {
    "id": "_85CHmOdr2O-"
   },
   "source": [
    "### Single image test"
   ]
  },
  {
   "cell_type": "code",
   "execution_count": 26,
   "metadata": {
    "colab": {
     "base_uri": "https://localhost:8080/"
    },
    "id": "iWgC_9wAqBRg",
    "outputId": "6bc34b5f-10a5-40a2-eb4c-4c56e3b21ea3"
   },
   "outputs": [
    {
     "data": {
      "text/plain": [
       "(3072,)"
      ]
     },
     "execution_count": 26,
     "metadata": {},
     "output_type": "execute_result"
    }
   ],
   "source": [
    "my_image = X_test[1]\n",
    "my_image.shape"
   ]
  },
  {
   "cell_type": "code",
   "execution_count": 27,
   "metadata": {
    "colab": {
     "base_uri": "https://localhost:8080/"
    },
    "id": "HDH3EUtVqNwh",
    "outputId": "56b7302c-e74a-4e25-81a4-245ff152645a"
   },
   "outputs": [
    {
     "data": {
      "text/plain": [
       "(1, 32, 32, 3)"
      ]
     },
     "execution_count": 27,
     "metadata": {},
     "output_type": "execute_result"
    }
   ],
   "source": [
    "my_image = my_image.reshape(1,32,32,3)\n",
    "my_image.shape"
   ]
  },
  {
   "cell_type": "code",
   "execution_count": 28,
   "metadata": {
    "colab": {
     "base_uri": "https://localhost:8080/",
     "height": 266
    },
    "id": "e8feLEEwq1oC",
    "outputId": "f8a9f159-444e-4a0f-820d-168464d023df"
   },
   "outputs": [
    {
     "data": {
      "image/png": "[encoded data removed]",
      "text/plain": [
       "<Figure size 432x288 with 1 Axes>"
      ]
     },
     "metadata": {
      "needs_background": "light"
     },
     "output_type": "display_data"
    }
   ],
   "source": [
    "plt.imshow(my_image.reshape(32,32,3));"
   ]
  },
  {
   "cell_type": "code",
   "execution_count": 29,
   "metadata": {
    "colab": {
     "base_uri": "https://localhost:8080/",
     "height": 35
    },
    "id": "p01CckW2o2zm",
    "outputId": "883a6c55-ed3d-4bb9-aef1-607fcc4685e4"
   },
   "outputs": [
    {
     "data": {
      "application/vnd.google.colaboratory.intrinsic+json": {
       "type": "string"
      },
      "text/plain": [
       "'dog'"
      ]
     },
     "execution_count": 29,
     "metadata": {},
     "output_type": "execute_result"
    }
   ],
   "source": [
    "img_pred = np.argmax(model.predict(my_image))\n",
    "pred_label = classes_values[img_pred]\n",
    "pred_label"
   ]
  },
  {
   "cell_type": "markdown",
   "metadata": {
    "id": "VuctnTdhr8RA"
   },
   "source": [
    "### Matriz de Confusão"
   ]
  },
  {
   "cell_type": "code",
   "execution_count": 30,
   "metadata": {
    "colab": {
     "base_uri": "https://localhost:8080/"
    },
    "id": "sONmeJ_Y1bY8",
    "outputId": "7bdee1ca-ff65-46c8-d4b5-84992584df8d"
   },
   "outputs": [
    {
     "data": {
      "text/plain": [
       "(2000, 2)"
      ]
     },
     "execution_count": 30,
     "metadata": {},
     "output_type": "execute_result"
    }
   ],
   "source": [
    "Y_test.shape"
   ]
  },
  {
   "cell_type": "code",
   "execution_count": 32,
   "metadata": {
    "colab": {
     "base_uri": "https://localhost:8080/"
    },
    "id": "ZHcwGHbJ20rr",
    "outputId": "e4b2b68c-16d5-4a3a-c123-d9bb06a5e6de"
   },
   "outputs": [
    {
     "data": {
      "text/plain": [
       "(2000,)"
      ]
     },
     "execution_count": 32,
     "metadata": {},
     "output_type": "execute_result"
    }
   ],
   "source": [
    "images = X_test.reshape((2000,32,32,3))\n",
    "predictions = np.argmax(model.predict(images), axis=-1)\n",
    "predictions.shape"
   ]
  },
  {
   "cell_type": "code",
   "execution_count": 33,
   "metadata": {
    "colab": {
     "base_uri": "https://localhost:8080/"
    },
    "id": "pvXszzFr10i8",
    "outputId": "f193af69-3bcd-4ce2-c4cd-22180981bd2a"
   },
   "outputs": [
    {
     "data": {
      "text/plain": [
       "(2000,)"
      ]
     },
     "execution_count": 33,
     "metadata": {},
     "output_type": "execute_result"
    }
   ],
   "source": [
    "test_labels = np.argmax(Y_test, axis=-1)\n",
    "test_labels.shape"
   ]
  },
  {
   "cell_type": "code",
   "execution_count": 34,
   "metadata": {
    "colab": {
     "base_uri": "https://localhost:8080/"
    },
    "id": "E5zOOmwE5rkp",
    "outputId": "3d132811-8551-4ad8-e0ab-de3d614d50cd"
   },
   "outputs": [
    {
     "data": {
      "text/plain": [
       "{0, 1}"
      ]
     },
     "execution_count": 34,
     "metadata": {},
     "output_type": "execute_result"
    }
   ],
   "source": [
    "set(list(predictions))"
   ]
  },
  {
   "cell_type": "code",
   "execution_count": 35,
   "metadata": {
    "id": "OOP1ytNXoKpB"
   },
   "outputs": [],
   "source": [
    "from sklearn.metrics import classification_report,confusion_matrix"
   ]
  },
  {
   "cell_type": "code",
   "execution_count": 37,
   "metadata": {
    "colab": {
     "base_uri": "https://localhost:8080/"
    },
    "id": "RCdeOcKooS0o",
    "outputId": "51439fad-5208-4f70-b54a-8ce88d3b47d7"
   },
   "outputs": [
    {
     "name": "stdout",
     "output_type": "stream",
     "text": [
      "              precision    recall  f1-score   support\n",
      "\n",
      "         cat       0.77      0.60      0.67       979\n",
      "         dog       0.68      0.83      0.75      1021\n",
      "\n",
      "    accuracy                           0.71      2000\n",
      "   macro avg       0.72      0.71      0.71      2000\n",
      "weighted avg       0.72      0.71      0.71      2000\n",
      "\n"
     ]
    }
   ],
   "source": [
    "print(classification_report(test_labels, predictions, target_names=classes_values))"
   ]
  },
  {
   "cell_type": "code",
   "execution_count": 38,
   "metadata": {
    "colab": {
     "base_uri": "https://localhost:8080/"
    },
    "id": "DiAQINRH6S80",
    "outputId": "4484b0e4-1894-4560-ee04-462425eb8322"
   },
   "outputs": [
    {
     "data": {
      "text/plain": [
       "array([[587, 392],\n",
       "       [178, 843]])"
      ]
     },
     "execution_count": 38,
     "metadata": {},
     "output_type": "execute_result"
    }
   ],
   "source": [
    "confusion_matrix(test_labels,predictions)"
   ]
  },
  {
   "cell_type": "code",
   "execution_count": 39,
   "metadata": {
    "colab": {
     "base_uri": "https://localhost:8080/",
     "height": 483
    },
    "id": "K7IUBbcI6VRB",
    "outputId": "064632e0-02de-429e-e657-74189a919da0"
   },
   "outputs": [
    {
     "data": {
      "image/png": "[encoded data removed]",
      "text/plain": [
       "<Figure size 1080x576 with 2 Axes>"
      ]
     },
     "metadata": {
      "needs_background": "light"
     },
     "output_type": "display_data"
    }
   ],
   "source": [
    "import seaborn as sns\n",
    "plt.figure(figsize=(15,8))\n",
    "sns.heatmap(confusion_matrix(test_labels,predictions), cmap='Blues', annot=True, fmt='g');"
   ]
  }
 ],
 "metadata": {
  "colab": {
   "name": "ei_cifar10_image_classification_nn_classifier_explained.ipynb",
   "provenance": []
  },
  "kernelspec": {
   "display_name": "Python 3 (ipykernel)",
   "language": "python",
   "name": "python3"
  },
  "language_info": {
   "codemirror_mode": {
    "name": "ipython",
    "version": 3
   },
   "file_extension": ".py",
   "mimetype": "text/x-python",
   "name": "python",
   "nbconvert_exporter": "python",
   "pygments_lexer": "ipython3",
   "version": "3.9.7"
  }
 },
 "nbformat": 4,
 "nbformat_minor": 1
}
