{
  "cells": [
    {
      "cell_type": "markdown",
      "metadata": {
        "id": "1ahhVFOSjBSR"
      },
      "source": [
        "Download the data - after extracting features through a processing block - so we can train a machine learning model."
      ]
    },
    {
      "cell_type": "code",
      "execution_count": 1,
      "metadata": {
        "id": "ugu97cuojBSV"
      },
      "outputs": [],
      "source": [
        "import numpy as np\n",
        "import requests\n",
        "\n",
        "API_KEY = 'ei_3c5808f2fc3861a086e7091325c13812d1090b11c8ae02af5b5d3e5a2cdf2da8'\n",
        "\n",
        "def download_data(url):\n",
        "    response = requests.get(url, headers={'x-api-key': API_KEY})\n",
        "    if response.status_code == 200:\n",
        "        return response.content\n",
        "    else:\n",
        "        print(response.content)\n",
        "        raise ConnectionError('Could not download data file')\n",
        "\n",
        "X = download_data('https://studio.edgeimpulse.com/v1/api/51070/training/6/x')\n",
        "Y = download_data('https://studio.edgeimpulse.com/v1/api/51070/training/6/y')\n"
      ]
    },
    {
      "cell_type": "markdown",
      "metadata": {
        "id": "a0KMIKTRjBSX"
      },
      "source": [
        "Store the data in a temporary file, and load it back through Numpy."
      ]
    },
    {
      "cell_type": "code",
      "execution_count": 2,
      "metadata": {
        "id": "YGRjzs8AjBSX"
      },
      "outputs": [],
      "source": [
        "with open('x_train.npy', 'wb') as file:\n",
        "    file.write(X)\n",
        "with open('y_train.npy', 'wb') as file:\n",
        "    file.write(Y)\n",
        "X = np.load('x_train.npy')\n",
        "Y = np.load('y_train.npy')[:,0]"
      ]
    },
    {
      "cell_type": "code",
      "execution_count": 3,
      "metadata": {
        "colab": {
          "base_uri": "https://localhost:8080/"
        },
        "id": "-HVuPBwIjaX8",
        "outputId": "ffeb5ebe-4ecb-4076-a3f7-3c3a490096e6"
      },
      "outputs": [
        {
          "output_type": "execute_result",
          "data": {
            "text/plain": [
              "((10000, 3072), (10000,))"
            ]
          },
          "metadata": {},
          "execution_count": 3
        }
      ],
      "source": [
        "X.shape, Y.shape"
      ]
    },
    {
      "cell_type": "code",
      "execution_count": 4,
      "metadata": {
        "id": "HT-2nABQjnKY"
      },
      "outputs": [],
      "source": [
        "import tensorflow as tf\n",
        "import matplotlib.pyplot as plt"
      ]
    },
    {
      "cell_type": "code",
      "execution_count": 5,
      "metadata": {
        "colab": {
          "base_uri": "https://localhost:8080/",
          "height": 283
        },
        "id": "fOOTnIOJlEmE",
        "outputId": "5d669e71-a9b8-4c95-e74b-a1ca8771902d"
      },
      "outputs": [
        {
          "output_type": "stream",
          "name": "stdout",
          "text": [
            "\t Label Image==>  2\n"
          ]
        },
        {
          "output_type": "display_data",
          "data": {
            "text/plain": [
              "<Figure size 432x288 with 1 Axes>"
            ],
            "image/png": "[encoded data removed]"
          },
          "metadata": {
            "needs_background": "light"
          }
        }
      ],
      "source": [
        "image = X[0]\n",
        "label = Y[0]\n",
        "reshape_to = (32,32,3)\n",
        "\n",
        "print(\"\\t Label Image==> \",label)\n",
        "img = tf.reshape(image, reshape_to)\n",
        "plt.imshow(img);"
      ]
    },
    {
      "cell_type": "markdown",
      "metadata": {
        "id": "bp8KOk2yjBSX"
      },
      "source": [
        "Define our labels and split the data up in a test and training set:"
      ]
    },
    {
      "cell_type": "code",
      "execution_count": 6,
      "metadata": {
        "colab": {
          "base_uri": "https://localhost:8080/"
        },
        "id": "8lX-xNAYjBSY",
        "outputId": "598959f3-95a6-4c81-f3dc-ae3c84ea88d6"
      },
      "outputs": [
        {
          "output_type": "execute_result",
          "data": {
            "text/plain": [
              "2"
            ]
          },
          "metadata": {},
          "execution_count": 6
        }
      ],
      "source": [
        "import sys, os, random\n",
        "from sklearn.model_selection import train_test_split\n",
        "\n",
        "# Set random seeds for repeatable results\n",
        "RANDOM_SEED = 3\n",
        "random.seed(RANDOM_SEED)\n",
        "np.random.seed(RANDOM_SEED)\n",
        "tf.random.set_seed(RANDOM_SEED)\n",
        "\n",
        "classes_values = [ \"cat\", \"dog\" ]\n",
        "classes = len(classes_values)\n",
        "classes"
      ]
    },
    {
      "cell_type": "code",
      "execution_count": 7,
      "metadata": {
        "colab": {
          "base_uri": "https://localhost:8080/"
        },
        "id": "tTuvSVyJnLgr",
        "outputId": "0b685ea0-b1f8-4836-8c6e-57778c7e9972"
      },
      "outputs": [
        {
          "output_type": "execute_result",
          "data": {
            "text/plain": [
              "array([2, 2, 2, ..., 1, 1, 1], dtype=int32)"
            ]
          },
          "metadata": {},
          "execution_count": 7
        }
      ],
      "source": [
        "Y"
      ]
    },
    {
      "cell_type": "code",
      "execution_count": 8,
      "metadata": {
        "colab": {
          "base_uri": "https://localhost:8080/"
        },
        "id": "dS4IHm2LnOAv",
        "outputId": "e5709130-de5f-4a09-a0c5-4679954db2a7"
      },
      "outputs": [
        {
          "output_type": "execute_result",
          "data": {
            "text/plain": [
              "{1, 2}"
            ]
          },
          "metadata": {},
          "execution_count": 8
        }
      ],
      "source": [
        "set(Y)"
      ]
    },
    {
      "cell_type": "code",
      "execution_count": 9,
      "metadata": {
        "colab": {
          "base_uri": "https://localhost:8080/"
        },
        "id": "m06dnuc_m9qW",
        "outputId": "efc6c7b3-42c3-4951-a9bd-4fcd1a7ec99a"
      },
      "outputs": [
        {
          "output_type": "execute_result",
          "data": {
            "text/plain": [
              "array([[0., 1.],\n",
              "       [0., 1.],\n",
              "       [0., 1.],\n",
              "       ...,\n",
              "       [1., 0.],\n",
              "       [1., 0.],\n",
              "       [1., 0.]], dtype=float32)"
            ]
          },
          "metadata": {},
          "execution_count": 9
        }
      ],
      "source": [
        "Y = tf.keras.utils.to_categorical(Y - 1, classes)\n",
        "Y"
      ]
    },
    {
      "cell_type": "code",
      "execution_count": 10,
      "metadata": {
        "colab": {
          "base_uri": "https://localhost:8080/"
        },
        "id": "fGlvRAiGnTaD",
        "outputId": "db776a30-9957-4779-9b6e-85b15776b73a"
      },
      "outputs": [
        {
          "output_type": "stream",
          "name": "stdout",
          "text": [
            "(8000, 3072) (2000, 2)\n",
            "(2000, 3072) (2000, 2)\n"
          ]
        }
      ],
      "source": [
        "X_train, X_test, Y_train, Y_test = train_test_split(X, Y, test_size=0.2, random_state=1)\n",
        "\n",
        "print(X_train.shape, Y_test.shape)\n",
        "print(X_test.shape, Y_test.shape)"
      ]
    },
    {
      "cell_type": "code",
      "execution_count": 11,
      "metadata": {
        "colab": {
          "base_uri": "https://localhost:8080/"
        },
        "id": "p3vo0j4Vni18",
        "outputId": "078075d8-5871-493b-de72-79bcb38aa932"
      },
      "outputs": [
        {
          "output_type": "execute_result",
          "data": {
            "text/plain": [
              "3072"
            ]
          },
          "metadata": {},
          "execution_count": 11
        }
      ],
      "source": [
        "input_length = X_train[0].shape[0]\n",
        "input_length"
      ]
    },
    {
      "cell_type": "markdown",
      "metadata": {
        "id": "RAOHANkqouL3"
      },
      "source": [
        "The [tf.data API](https://www.tensorflow.org/guide/data) enables you to build complex input pipelines from simple, reusable pieces. For example, the pipeline for an image model might aggregate data from files in a distributed file system, apply random perturbations to each image, and merge randomly selected images into a batch for training."
      ]
    },
    {
      "cell_type": "code",
      "execution_count": 12,
      "metadata": {
        "id": "7fapeHh6n_vt"
      },
      "outputs": [],
      "source": [
        "train_dataset = tf.data.Dataset.from_tensor_slices((X_train, Y_train))\n",
        "validation_dataset = tf.data.Dataset.from_tensor_slices((X_test, Y_test))"
      ]
    },
    {
      "cell_type": "code",
      "execution_count": 13,
      "metadata": {
        "colab": {
          "base_uri": "https://localhost:8080/"
        },
        "id": "L5j2KHvnpRvU",
        "outputId": "2c298ede-1579-4701-ffbe-ca2b20df0b6d"
      },
      "outputs": [
        {
          "output_type": "stream",
          "name": "stdout",
          "text": [
            "<TensorSliceDataset element_spec=(TensorSpec(shape=(3072,), dtype=tf.float32, name=None), TensorSpec(shape=(2,), dtype=tf.float32, name=None))>\n",
            "<TensorSliceDataset element_spec=(TensorSpec(shape=(3072,), dtype=tf.float32, name=None), TensorSpec(shape=(2,), dtype=tf.float32, name=None))>\n"
          ]
        }
      ],
      "source": [
        "print(train_dataset)\n",
        "print(validation_dataset)"
      ]
    },
    {
      "cell_type": "code",
      "execution_count": 14,
      "metadata": {
        "id": "rNHpZSZ3pO5Q"
      },
      "outputs": [],
      "source": [
        "def get_reshape_function(reshape_to):\n",
        "    def reshape(image, label):\n",
        "        return tf.reshape(image, reshape_to), label\n",
        "    return reshape\n",
        "\n",
        "callbacks = []"
      ]
    },
    {
      "cell_type": "markdown",
      "metadata": {
        "id": "RKUaAlurjBSY"
      },
      "source": [
        "Train the model:"
      ]
    },
    {
      "cell_type": "code",
      "execution_count": 15,
      "metadata": {
        "id": "RO1BxcM_jBSZ"
      },
      "outputs": [],
      "source": [
        "import tensorflow as tf\n",
        "from tensorflow.keras.models import Sequential\n",
        "from tensorflow.keras.layers import Dense, InputLayer, Dropout, Conv1D, Conv2D, Flatten, Reshape, MaxPooling1D, MaxPooling2D, BatchNormalization, TimeDistributed\n",
        "from tensorflow.keras.optimizers import Adam\n",
        "\n",
        "# model architecture\n",
        "model = Sequential()\n",
        "model.add(Conv2D(32, kernel_size=3, activation='relu', kernel_constraint=tf.keras.constraints.MaxNorm(1), padding='same'))\n",
        "model.add(MaxPooling2D(pool_size=2, strides=2, padding='same'))\n",
        "model.add(Conv2D(64, kernel_size=3, activation='relu', kernel_constraint=tf.keras.constraints.MaxNorm(1), padding='same'))\n",
        "model.add(MaxPooling2D(pool_size=2, strides=2, padding='same'))\n",
        "model.add(Flatten())\n",
        "model.add(Dense(64, activation='relu',\n",
        "    activity_regularizer=tf.keras.regularizers.l1(0.00001)))\n",
        "model.add(Dense(classes, activation='softmax', name='y_pred'))"
      ]
    },
    {
      "cell_type": "code",
      "execution_count": 16,
      "metadata": {
        "colab": {
          "base_uri": "https://localhost:8080/"
        },
        "id": "B143Zyqrps4S",
        "outputId": "6367a3dd-0074-4b87-da53-a7b974c5ab16"
      },
      "outputs": [
        {
          "output_type": "stream",
          "name": "stderr",
          "text": [
            "/usr/local/lib/python3.7/dist-packages/keras/optimizer_v2/adam.py:105: UserWarning: The `lr` argument is deprecated, use `learning_rate` instead.\n",
            "  super(Adam, self).__init__(name, **kwargs)\n"
          ]
        }
      ],
      "source": [
        "# this controls the learning rate\n",
        "opt = Adam(lr=0.0005, beta_1=0.9, beta_2=0.999)"
      ]
    },
    {
      "cell_type": "code",
      "execution_count": 17,
      "metadata": {
        "id": "uSs_E6sMrGcj"
      },
      "outputs": [],
      "source": [
        "# This is only required for some input types, e.g. images\n",
        "SPECIFIC_INPUT_SHAPE = (32, 32, 3)\n",
        "\n",
        "train_dataset = train_dataset.map(get_reshape_function(SPECIFIC_INPUT_SHAPE), tf.data.experimental.AUTOTUNE)\n",
        "validation_dataset = validation_dataset.map(get_reshape_function(SPECIFIC_INPUT_SHAPE), tf.data.experimental.AUTOTUNE)"
      ]
    },
    {
      "cell_type": "code",
      "execution_count": 18,
      "metadata": {
        "colab": {
          "base_uri": "https://localhost:8080/"
        },
        "id": "sNAwDobWrOS7",
        "outputId": "595a9b17-4791-4f45-e779-60534a7f276c"
      },
      "outputs": [
        {
          "output_type": "stream",
          "name": "stdout",
          "text": [
            "<ParallelMapDataset element_spec=(TensorSpec(shape=(32, 32, 3), dtype=tf.float32, name=None), TensorSpec(shape=(2,), dtype=tf.float32, name=None))>\n",
            "<ParallelMapDataset element_spec=(TensorSpec(shape=(32, 32, 3), dtype=tf.float32, name=None), TensorSpec(shape=(2,), dtype=tf.float32, name=None))>\n"
          ]
        }
      ],
      "source": [
        "print(train_dataset)\n",
        "print(validation_dataset)"
      ]
    },
    {
      "cell_type": "code",
      "execution_count": 19,
      "metadata": {
        "id": "z1dn3oDQquli"
      },
      "outputs": [],
      "source": [
        "# this controls the batch size, or you can manipulate the tf.data.Dataset objects yourself\n",
        "BATCH_SIZE = 32\n",
        "train_dataset = train_dataset.batch(BATCH_SIZE, drop_remainder=False)\n",
        "validation_dataset = validation_dataset.batch(BATCH_SIZE, drop_remainder=False)"
      ]
    },
    {
      "cell_type": "code",
      "execution_count": 20,
      "metadata": {
        "colab": {
          "base_uri": "https://localhost:8080/"
        },
        "id": "Z465qlPcra4j",
        "outputId": "3cae40aa-f4b3-48cd-f2dd-070b6b58e152"
      },
      "outputs": [
        {
          "output_type": "stream",
          "name": "stdout",
          "text": [
            "<BatchDataset element_spec=(TensorSpec(shape=(None, 32, 32, 3), dtype=tf.float32, name=None), TensorSpec(shape=(None, 2), dtype=tf.float32, name=None))>\n",
            "<BatchDataset element_spec=(TensorSpec(shape=(None, 32, 32, 3), dtype=tf.float32, name=None), TensorSpec(shape=(None, 2), dtype=tf.float32, name=None))>\n"
          ]
        }
      ],
      "source": [
        "print(train_dataset)\n",
        "print(validation_dataset)"
      ]
    },
    {
      "cell_type": "code",
      "execution_count": 21,
      "metadata": {
        "id": "1nbXZ6z2rYVG"
      },
      "outputs": [],
      "source": [
        "# compile the model\n",
        "model.compile(\n",
        "    loss='categorical_crossentropy', \n",
        "    optimizer=opt, \n",
        "    metrics=['accuracy']\n",
        "    )"
      ]
    },
    {
      "cell_type": "code",
      "execution_count": 22,
      "metadata": {
        "colab": {
          "base_uri": "https://localhost:8080/"
        },
        "id": "fb7sqqIlrrkd",
        "outputId": "a7d41367-7999-4922-8f44-6736d533b513"
      },
      "outputs": [
        {
          "output_type": "stream",
          "name": "stdout",
          "text": [
            "Epoch 1/10\n",
            "250/250 - 16s - loss: 0.6650 - accuracy: 0.5897 - val_loss: 0.6713 - val_accuracy: 0.5785 - 16s/epoch - 62ms/step\n",
            "Epoch 2/10\n",
            "250/250 - 12s - loss: 0.6099 - accuracy: 0.6654 - val_loss: 0.6262 - val_accuracy: 0.6525 - 12s/epoch - 50ms/step\n",
            "Epoch 3/10\n",
            "250/250 - 12s - loss: 0.5703 - accuracy: 0.7013 - val_loss: 0.5952 - val_accuracy: 0.6845 - 12s/epoch - 50ms/step\n",
            "Epoch 4/10\n",
            "250/250 - 13s - loss: 0.5394 - accuracy: 0.7244 - val_loss: 0.5992 - val_accuracy: 0.6900 - 13s/epoch - 50ms/step\n",
            "Epoch 5/10\n",
            "250/250 - 12s - loss: 0.5097 - accuracy: 0.7481 - val_loss: 0.5896 - val_accuracy: 0.7035 - 12s/epoch - 50ms/step\n",
            "Epoch 6/10\n",
            "250/250 - 13s - loss: 0.4799 - accuracy: 0.7670 - val_loss: 0.6034 - val_accuracy: 0.7010 - 13s/epoch - 50ms/step\n",
            "Epoch 7/10\n",
            "250/250 - 13s - loss: 0.4486 - accuracy: 0.7885 - val_loss: 0.6286 - val_accuracy: 0.7040 - 13s/epoch - 50ms/step\n",
            "Epoch 8/10\n",
            "250/250 - 13s - loss: 0.4144 - accuracy: 0.8070 - val_loss: 0.6420 - val_accuracy: 0.7050 - 13s/epoch - 50ms/step\n",
            "Epoch 9/10\n",
            "250/250 - 12s - loss: 0.3756 - accuracy: 0.8320 - val_loss: 0.6554 - val_accuracy: 0.7150 - 12s/epoch - 50ms/step\n",
            "Epoch 10/10\n",
            "250/250 - 12s - loss: 0.3376 - accuracy: 0.8554 - val_loss: 0.6899 - val_accuracy: 0.7150 - 12s/epoch - 50ms/step\n"
          ]
        }
      ],
      "source": [
        "# train the neural network\n",
        "history = model.fit(\n",
        "    train_dataset, \n",
        "    epochs=10, \n",
        "    validation_data=validation_dataset, \n",
        "    verbose=2, \n",
        "    callbacks=callbacks\n",
        "    )"
      ]
    },
    {
      "cell_type": "code",
      "execution_count": 23,
      "metadata": {
        "colab": {
          "base_uri": "https://localhost:8080/",
          "height": 295
        },
        "id": "lAYilIQytAQP",
        "outputId": "58514d5e-c39b-4c8c-ee57-24fd6ead9c32"
      },
      "outputs": [
        {
          "output_type": "display_data",
          "data": {
            "text/plain": [
              "<Figure size 432x288 with 1 Axes>"
            ],
            "image/png": "[encoded data removed]"
          },
          "metadata": {
            "needs_background": "light"
          }
        }
      ],
      "source": [
        "# summarize history for accuracy\n",
        "plt.plot(history.history['accuracy'])\n",
        "plt.plot(history.history['val_accuracy'])\n",
        "plt.title('model accuracy')\n",
        "plt.ylabel('accuracy')\n",
        "plt.xlabel('epoch')\n",
        "plt.legend(['train', 'validation'], loc='upper left')\n",
        "plt.show()"
      ]
    },
    {
      "cell_type": "code",
      "execution_count": null,
      "metadata": {
        "colab": {
          "base_uri": "https://localhost:8080/"
        },
        "id": "1WS3xIsUjBSa",
        "outputId": "5b1bf10c-316e-4769-d79f-3a8b4d9f9a2e"
      },
      "outputs": [
        {
          "name": "stdout",
          "output_type": "stream",
          "text": [
            "INFO:tensorflow:Assets written to: saved_model/assets\n"
          ]
        }
      ],
      "source": [
        "# Save the model to disk\n",
        "model.save('saved_model')"
      ]
    },
    {
      "cell_type": "markdown",
      "metadata": {
        "id": "IsEK3peJ9PJ5"
      },
      "source": [
        "# Test Model"
      ]
    },
    {
      "cell_type": "code",
      "execution_count": 24,
      "metadata": {
        "colab": {
          "base_uri": "https://localhost:8080/",
          "height": 787
        },
        "id": "ty6KG_e4jBSb",
        "outputId": "e10e85df-8a38-4859-8795-85fb702f5a97"
      },
      "outputs": [
        {
          "output_type": "execute_result",
          "data": {
            "text/plain": [
              "<IPython.core.display.SVG object>"
            ],
            "image/svg+xml": "<svg height=\"574pt\" viewBox=\"0.00 0.00 425.00 636.00\" width=\"384pt\" xmlns=\"http://www.w3.org/2000/svg\" xmlns:xlink=\"http://www.w3.org/1999/xlink\">\n<g class=\"graph\" id=\"graph0\" transform=\"scale(.9028 .9028) rotate(0) translate(4 632)\">\n<title>G</title>\n<polygon fill=\"#ffffff\" points=\"-4,4 -4,-632 421,-632 421,4 -4,4\" stroke=\"transparent\"/>\n<!-- 140567402674640 -->\n<g class=\"node\" id=\"node1\">\n<title>140567402674640</title>\n<polygon fill=\"none\" points=\"4.5,-581.5 4.5,-627.5 412.5,-627.5 412.5,-581.5 4.5,-581.5\" stroke=\"#000000\"/>\n<text fill=\"#000000\" font-family=\"Times,serif\" font-size=\"14.00\" text-anchor=\"middle\" x=\"53.5\" y=\"-612.3\">conv2d_input</text>\n<polyline fill=\"none\" points=\"4.5,-604.5 102.5,-604.5 \" stroke=\"#000000\"/>\n<text fill=\"#000000\" font-family=\"Times,serif\" font-size=\"14.00\" text-anchor=\"middle\" x=\"53.5\" y=\"-589.3\">InputLayer</text>\n<polyline fill=\"none\" points=\"102.5,-581.5 102.5,-627.5 \" stroke=\"#000000\"/>\n<text fill=\"#000000\" font-family=\"Times,serif\" font-size=\"14.00\" text-anchor=\"middle\" x=\"131.5\" y=\"-612.3\">input:</text>\n<polyline fill=\"none\" points=\"102.5,-604.5 160.5,-604.5 \" stroke=\"#000000\"/>\n<text fill=\"#000000\" font-family=\"Times,serif\" font-size=\"14.00\" text-anchor=\"middle\" x=\"131.5\" y=\"-589.3\">output:</text>\n<polyline fill=\"none\" points=\"160.5,-581.5 160.5,-627.5 \" stroke=\"#000000\"/>\n<text fill=\"#000000\" font-family=\"Times,serif\" font-size=\"14.00\" text-anchor=\"middle\" x=\"223.5\" y=\"-600.8\">[(None, 32, 32, 3)]</text>\n<polyline fill=\"none\" points=\"286.5,-581.5 286.5,-627.5 \" stroke=\"#000000\"/>\n<text fill=\"#000000\" font-family=\"Times,serif\" font-size=\"14.00\" text-anchor=\"middle\" x=\"349.5\" y=\"-600.8\">[(None, 32, 32, 3)]</text>\n</g>\n<!-- 140567469760464 -->\n<g class=\"node\" id=\"node2\">\n<title>140567469760464</title>\n<polygon fill=\"none\" points=\"25,-498.5 25,-544.5 392,-544.5 392,-498.5 25,-498.5\" stroke=\"#000000\"/>\n<text fill=\"#000000\" font-family=\"Times,serif\" font-size=\"14.00\" text-anchor=\"middle\" x=\"58.5\" y=\"-529.3\">conv2d</text>\n<polyline fill=\"none\" points=\"25,-521.5 92,-521.5 \" stroke=\"#000000\"/>\n<text fill=\"#000000\" font-family=\"Times,serif\" font-size=\"14.00\" text-anchor=\"middle\" x=\"58.5\" y=\"-506.3\">Conv2D</text>\n<polyline fill=\"none\" points=\"92,-498.5 92,-544.5 \" stroke=\"#000000\"/>\n<text fill=\"#000000\" font-family=\"Times,serif\" font-size=\"14.00\" text-anchor=\"middle\" x=\"121\" y=\"-529.3\">input:</text>\n<polyline fill=\"none\" points=\"92,-521.5 150,-521.5 \" stroke=\"#000000\"/>\n<text fill=\"#000000\" font-family=\"Times,serif\" font-size=\"14.00\" text-anchor=\"middle\" x=\"121\" y=\"-506.3\">output:</text>\n<polyline fill=\"none\" points=\"150,-498.5 150,-544.5 \" stroke=\"#000000\"/>\n<text fill=\"#000000\" font-family=\"Times,serif\" font-size=\"14.00\" text-anchor=\"middle\" x=\"208.5\" y=\"-517.8\">(None, 32, 32, 3)</text>\n<polyline fill=\"none\" points=\"267,-498.5 267,-544.5 \" stroke=\"#000000\"/>\n<text fill=\"#000000\" font-family=\"Times,serif\" font-size=\"14.00\" text-anchor=\"middle\" x=\"329.5\" y=\"-517.8\">(None, 32, 32, 32)</text>\n</g>\n<!-- 140567402674640&#45;&gt;140567469760464 -->\n<g class=\"edge\" id=\"edge1\">\n<title>140567402674640-&gt;140567469760464</title>\n<path d=\"M208.5,-581.3799C208.5,-573.1745 208.5,-563.7679 208.5,-554.8786\" fill=\"none\" stroke=\"#000000\"/>\n<polygon fill=\"#000000\" points=\"212.0001,-554.784 208.5,-544.784 205.0001,-554.784 212.0001,-554.784\" stroke=\"#000000\"/>\n</g>\n<!-- 140567455682832 -->\n<g class=\"node\" id=\"node3\">\n<title>140567455682832</title>\n<polygon fill=\"none\" points=\"0,-415.5 0,-461.5 417,-461.5 417,-415.5 0,-415.5\" stroke=\"#000000\"/>\n<text fill=\"#000000\" font-family=\"Times,serif\" font-size=\"14.00\" text-anchor=\"middle\" x=\"54.5\" y=\"-446.3\">max_pooling2d</text>\n<polyline fill=\"none\" points=\"0,-438.5 109,-438.5 \" stroke=\"#000000\"/>\n<text fill=\"#000000\" font-family=\"Times,serif\" font-size=\"14.00\" text-anchor=\"middle\" x=\"54.5\" y=\"-423.3\">MaxPooling2D</text>\n<polyline fill=\"none\" points=\"109,-415.5 109,-461.5 \" stroke=\"#000000\"/>\n<text fill=\"#000000\" font-family=\"Times,serif\" font-size=\"14.00\" text-anchor=\"middle\" x=\"138\" y=\"-446.3\">input:</text>\n<polyline fill=\"none\" points=\"109,-438.5 167,-438.5 \" stroke=\"#000000\"/>\n<text fill=\"#000000\" font-family=\"Times,serif\" font-size=\"14.00\" text-anchor=\"middle\" x=\"138\" y=\"-423.3\">output:</text>\n<polyline fill=\"none\" points=\"167,-415.5 167,-461.5 \" stroke=\"#000000\"/>\n<text fill=\"#000000\" font-family=\"Times,serif\" font-size=\"14.00\" text-anchor=\"middle\" x=\"229.5\" y=\"-434.8\">(None, 32, 32, 32)</text>\n<polyline fill=\"none\" points=\"292,-415.5 292,-461.5 \" stroke=\"#000000\"/>\n<text fill=\"#000000\" font-family=\"Times,serif\" font-size=\"14.00\" text-anchor=\"middle\" x=\"354.5\" y=\"-434.8\">(None, 16, 16, 32)</text>\n</g>\n<!-- 140567469760464&#45;&gt;140567455682832 -->\n<g class=\"edge\" id=\"edge2\">\n<title>140567469760464-&gt;140567455682832</title>\n<path d=\"M208.5,-498.3799C208.5,-490.1745 208.5,-480.7679 208.5,-471.8786\" fill=\"none\" stroke=\"#000000\"/>\n<polygon fill=\"#000000\" points=\"212.0001,-471.784 208.5,-461.784 205.0001,-471.784 212.0001,-471.784\" stroke=\"#000000\"/>\n</g>\n<!-- 140567447092112 -->\n<g class=\"node\" id=\"node4\">\n<title>140567447092112</title>\n<polygon fill=\"none\" points=\"17,-332.5 17,-378.5 400,-378.5 400,-332.5 17,-332.5\" stroke=\"#000000\"/>\n<text fill=\"#000000\" font-family=\"Times,serif\" font-size=\"14.00\" text-anchor=\"middle\" x=\"54.5\" y=\"-363.3\">conv2d_1</text>\n<polyline fill=\"none\" points=\"17,-355.5 92,-355.5 \" stroke=\"#000000\"/>\n<text fill=\"#000000\" font-family=\"Times,serif\" font-size=\"14.00\" text-anchor=\"middle\" x=\"54.5\" y=\"-340.3\">Conv2D</text>\n<polyline fill=\"none\" points=\"92,-332.5 92,-378.5 \" stroke=\"#000000\"/>\n<text fill=\"#000000\" font-family=\"Times,serif\" font-size=\"14.00\" text-anchor=\"middle\" x=\"121\" y=\"-363.3\">input:</text>\n<polyline fill=\"none\" points=\"92,-355.5 150,-355.5 \" stroke=\"#000000\"/>\n<text fill=\"#000000\" font-family=\"Times,serif\" font-size=\"14.00\" text-anchor=\"middle\" x=\"121\" y=\"-340.3\">output:</text>\n<polyline fill=\"none\" points=\"150,-332.5 150,-378.5 \" stroke=\"#000000\"/>\n<text fill=\"#000000\" font-family=\"Times,serif\" font-size=\"14.00\" text-anchor=\"middle\" x=\"212.5\" y=\"-351.8\">(None, 16, 16, 32)</text>\n<polyline fill=\"none\" points=\"275,-332.5 275,-378.5 \" stroke=\"#000000\"/>\n<text fill=\"#000000\" font-family=\"Times,serif\" font-size=\"14.00\" text-anchor=\"middle\" x=\"337.5\" y=\"-351.8\">(None, 16, 16, 64)</text>\n</g>\n<!-- 140567455682832&#45;&gt;140567447092112 -->\n<g class=\"edge\" id=\"edge3\">\n<title>140567455682832-&gt;140567447092112</title>\n<path d=\"M208.5,-415.3799C208.5,-407.1745 208.5,-397.7679 208.5,-388.8786\" fill=\"none\" stroke=\"#000000\"/>\n<polygon fill=\"#000000\" points=\"212.0001,-388.784 208.5,-378.784 205.0001,-388.784 212.0001,-388.784\" stroke=\"#000000\"/>\n</g>\n<!-- 140567447093200 -->\n<g class=\"node\" id=\"node5\">\n<title>140567447093200</title>\n<polygon fill=\"none\" points=\"0,-249.5 0,-295.5 417,-295.5 417,-249.5 0,-249.5\" stroke=\"#000000\"/>\n<text fill=\"#000000\" font-family=\"Times,serif\" font-size=\"14.00\" text-anchor=\"middle\" x=\"62\" y=\"-280.3\">max_pooling2d_1</text>\n<polyline fill=\"none\" points=\"0,-272.5 124,-272.5 \" stroke=\"#000000\"/>\n<text fill=\"#000000\" font-family=\"Times,serif\" font-size=\"14.00\" text-anchor=\"middle\" x=\"62\" y=\"-257.3\">MaxPooling2D</text>\n<polyline fill=\"none\" points=\"124,-249.5 124,-295.5 \" stroke=\"#000000\"/>\n<text fill=\"#000000\" font-family=\"Times,serif\" font-size=\"14.00\" text-anchor=\"middle\" x=\"153\" y=\"-280.3\">input:</text>\n<polyline fill=\"none\" points=\"124,-272.5 182,-272.5 \" stroke=\"#000000\"/>\n<text fill=\"#000000\" font-family=\"Times,serif\" font-size=\"14.00\" text-anchor=\"middle\" x=\"153\" y=\"-257.3\">output:</text>\n<polyline fill=\"none\" points=\"182,-249.5 182,-295.5 \" stroke=\"#000000\"/>\n<text fill=\"#000000\" font-family=\"Times,serif\" font-size=\"14.00\" text-anchor=\"middle\" x=\"244.5\" y=\"-268.8\">(None, 16, 16, 64)</text>\n<polyline fill=\"none\" points=\"307,-249.5 307,-295.5 \" stroke=\"#000000\"/>\n<text fill=\"#000000\" font-family=\"Times,serif\" font-size=\"14.00\" text-anchor=\"middle\" x=\"362\" y=\"-268.8\">(None, 8, 8, 64)</text>\n</g>\n<!-- 140567447092112&#45;&gt;140567447093200 -->\n<g class=\"edge\" id=\"edge4\">\n<title>140567447092112-&gt;140567447093200</title>\n<path d=\"M208.5,-332.3799C208.5,-324.1745 208.5,-314.7679 208.5,-305.8786\" fill=\"none\" stroke=\"#000000\"/>\n<polygon fill=\"#000000\" points=\"212.0001,-305.784 208.5,-295.784 205.0001,-305.784 212.0001,-305.784\" stroke=\"#000000\"/>\n</g>\n<!-- 140567446603152 -->\n<g class=\"node\" id=\"node6\">\n<title>140567446603152</title>\n<polygon fill=\"none\" points=\"49,-166.5 49,-212.5 368,-212.5 368,-166.5 49,-166.5\" stroke=\"#000000\"/>\n<text fill=\"#000000\" font-family=\"Times,serif\" font-size=\"14.00\" text-anchor=\"middle\" x=\"77\" y=\"-197.3\">flatten</text>\n<polyline fill=\"none\" points=\"49,-189.5 105,-189.5 \" stroke=\"#000000\"/>\n<text fill=\"#000000\" font-family=\"Times,serif\" font-size=\"14.00\" text-anchor=\"middle\" x=\"77\" y=\"-174.3\">Flatten</text>\n<polyline fill=\"none\" points=\"105,-166.5 105,-212.5 \" stroke=\"#000000\"/>\n<text fill=\"#000000\" font-family=\"Times,serif\" font-size=\"14.00\" text-anchor=\"middle\" x=\"134\" y=\"-197.3\">input:</text>\n<polyline fill=\"none\" points=\"105,-189.5 163,-189.5 \" stroke=\"#000000\"/>\n<text fill=\"#000000\" font-family=\"Times,serif\" font-size=\"14.00\" text-anchor=\"middle\" x=\"134\" y=\"-174.3\">output:</text>\n<polyline fill=\"none\" points=\"163,-166.5 163,-212.5 \" stroke=\"#000000\"/>\n<text fill=\"#000000\" font-family=\"Times,serif\" font-size=\"14.00\" text-anchor=\"middle\" x=\"218\" y=\"-185.8\">(None, 8, 8, 64)</text>\n<polyline fill=\"none\" points=\"273,-166.5 273,-212.5 \" stroke=\"#000000\"/>\n<text fill=\"#000000\" font-family=\"Times,serif\" font-size=\"14.00\" text-anchor=\"middle\" x=\"320.5\" y=\"-185.8\">(None, 4096)</text>\n</g>\n<!-- 140567447093200&#45;&gt;140567446603152 -->\n<g class=\"edge\" id=\"edge5\">\n<title>140567447093200-&gt;140567446603152</title>\n<path d=\"M208.5,-249.3799C208.5,-241.1745 208.5,-231.7679 208.5,-222.8786\" fill=\"none\" stroke=\"#000000\"/>\n<polygon fill=\"#000000\" points=\"212.0001,-222.784 208.5,-212.784 205.0001,-222.784 212.0001,-222.784\" stroke=\"#000000\"/>\n</g>\n<!-- 140567446604688 -->\n<g class=\"node\" id=\"node7\">\n<title>140567446604688</title>\n<polygon fill=\"none\" points=\"66,-83.5 66,-129.5 351,-129.5 351,-83.5 66,-83.5\" stroke=\"#000000\"/>\n<text fill=\"#000000\" font-family=\"Times,serif\" font-size=\"14.00\" text-anchor=\"middle\" x=\"92\" y=\"-114.3\">dense</text>\n<polyline fill=\"none\" points=\"66,-106.5 118,-106.5 \" stroke=\"#000000\"/>\n<text fill=\"#000000\" font-family=\"Times,serif\" font-size=\"14.00\" text-anchor=\"middle\" x=\"92\" y=\"-91.3\">Dense</text>\n<polyline fill=\"none\" points=\"118,-83.5 118,-129.5 \" stroke=\"#000000\"/>\n<text fill=\"#000000\" font-family=\"Times,serif\" font-size=\"14.00\" text-anchor=\"middle\" x=\"147\" y=\"-114.3\">input:</text>\n<polyline fill=\"none\" points=\"118,-106.5 176,-106.5 \" stroke=\"#000000\"/>\n<text fill=\"#000000\" font-family=\"Times,serif\" font-size=\"14.00\" text-anchor=\"middle\" x=\"147\" y=\"-91.3\">output:</text>\n<polyline fill=\"none\" points=\"176,-83.5 176,-129.5 \" stroke=\"#000000\"/>\n<text fill=\"#000000\" font-family=\"Times,serif\" font-size=\"14.00\" text-anchor=\"middle\" x=\"223.5\" y=\"-102.8\">(None, 4096)</text>\n<polyline fill=\"none\" points=\"271,-83.5 271,-129.5 \" stroke=\"#000000\"/>\n<text fill=\"#000000\" font-family=\"Times,serif\" font-size=\"14.00\" text-anchor=\"middle\" x=\"311\" y=\"-102.8\">(None, 64)</text>\n</g>\n<!-- 140567446603152&#45;&gt;140567446604688 -->\n<g class=\"edge\" id=\"edge6\">\n<title>140567446603152-&gt;140567446604688</title>\n<path d=\"M208.5,-166.3799C208.5,-158.1745 208.5,-148.7679 208.5,-139.8786\" fill=\"none\" stroke=\"#000000\"/>\n<polygon fill=\"#000000\" points=\"212.0001,-139.784 208.5,-129.784 205.0001,-139.784 212.0001,-139.784\" stroke=\"#000000\"/>\n</g>\n<!-- 140567447093136 -->\n<g class=\"node\" id=\"node8\">\n<title>140567447093136</title>\n<polygon fill=\"none\" points=\"75,-.5 75,-46.5 342,-46.5 342,-.5 75,-.5\" stroke=\"#000000\"/>\n<text fill=\"#000000\" font-family=\"Times,serif\" font-size=\"14.00\" text-anchor=\"middle\" x=\"103.5\" y=\"-31.3\">y_pred</text>\n<polyline fill=\"none\" points=\"75,-23.5 132,-23.5 \" stroke=\"#000000\"/>\n<text fill=\"#000000\" font-family=\"Times,serif\" font-size=\"14.00\" text-anchor=\"middle\" x=\"103.5\" y=\"-8.3\">Dense</text>\n<polyline fill=\"none\" points=\"132,-.5 132,-46.5 \" stroke=\"#000000\"/>\n<text fill=\"#000000\" font-family=\"Times,serif\" font-size=\"14.00\" text-anchor=\"middle\" x=\"161\" y=\"-31.3\">input:</text>\n<polyline fill=\"none\" points=\"132,-23.5 190,-23.5 \" stroke=\"#000000\"/>\n<text fill=\"#000000\" font-family=\"Times,serif\" font-size=\"14.00\" text-anchor=\"middle\" x=\"161\" y=\"-8.3\">output:</text>\n<polyline fill=\"none\" points=\"190,-.5 190,-46.5 \" stroke=\"#000000\"/>\n<text fill=\"#000000\" font-family=\"Times,serif\" font-size=\"14.00\" text-anchor=\"middle\" x=\"230\" y=\"-19.8\">(None, 64)</text>\n<polyline fill=\"none\" points=\"270,-.5 270,-46.5 \" stroke=\"#000000\"/>\n<text fill=\"#000000\" font-family=\"Times,serif\" font-size=\"14.00\" text-anchor=\"middle\" x=\"306\" y=\"-19.8\">(None, 2)</text>\n</g>\n<!-- 140567446604688&#45;&gt;140567447093136 -->\n<g class=\"edge\" id=\"edge7\">\n<title>140567446604688-&gt;140567447093136</title>\n<path d=\"M208.5,-83.3799C208.5,-75.1745 208.5,-65.7679 208.5,-56.8786\" fill=\"none\" stroke=\"#000000\"/>\n<polygon fill=\"#000000\" points=\"212.0001,-56.784 208.5,-46.784 205.0001,-56.784 212.0001,-56.784\" stroke=\"#000000\"/>\n</g>\n</g>\n</svg>"
          },
          "metadata": {},
          "execution_count": 24
        }
      ],
      "source": [
        "# visualize the Xception model architecture\n",
        "from IPython.display import SVG\n",
        "from keras.utils.vis_utils import model_to_dot\n",
        "SVG(model_to_dot(model, show_shapes= True, show_layer_names=True, dpi=65).create(prog='dot', format='svg'))"
      ]
    },
    {
      "cell_type": "markdown",
      "metadata": {
        "id": "_85CHmOdr2O-"
      },
      "source": [
        "### Single image test"
      ]
    },
    {
      "cell_type": "code",
      "execution_count": 25,
      "metadata": {
        "colab": {
          "base_uri": "https://localhost:8080/"
        },
        "id": "iWgC_9wAqBRg",
        "outputId": "048a9b67-a6db-454a-c90c-a6fe57832e11"
      },
      "outputs": [
        {
          "output_type": "execute_result",
          "data": {
            "text/plain": [
              "(3072,)"
            ]
          },
          "metadata": {},
          "execution_count": 25
        }
      ],
      "source": [
        "my_image = X_test[1]\n",
        "my_image.shape"
      ]
    },
    {
      "cell_type": "code",
      "execution_count": 26,
      "metadata": {
        "colab": {
          "base_uri": "https://localhost:8080/"
        },
        "id": "HDH3EUtVqNwh",
        "outputId": "d0336c94-13e2-4db1-aaac-db04ab2e7741"
      },
      "outputs": [
        {
          "output_type": "execute_result",
          "data": {
            "text/plain": [
              "(1, 32, 32, 3)"
            ]
          },
          "metadata": {},
          "execution_count": 26
        }
      ],
      "source": [
        "my_image = my_image.reshape(1,32,32,3)\n",
        "my_image.shape"
      ]
    },
    {
      "cell_type": "code",
      "execution_count": 27,
      "metadata": {
        "colab": {
          "base_uri": "https://localhost:8080/",
          "height": 266
        },
        "id": "e8feLEEwq1oC",
        "outputId": "45f98b4f-31e5-4269-9068-a1ee37eb79b8"
      },
      "outputs": [
        {
          "output_type": "display_data",
          "data": {
            "text/plain": [
              "<Figure size 432x288 with 1 Axes>"
            ],
            "image/png": "[encoded data removed]"
          },
          "metadata": {
            "needs_background": "light"
          }
        }
      ],
      "source": [
        "plt.imshow(my_image.reshape(32,32,3));"
      ]
    },
    {
      "cell_type": "code",
      "execution_count": 28,
      "metadata": {
        "colab": {
          "base_uri": "https://localhost:8080/",
          "height": 35
        },
        "id": "p01CckW2o2zm",
        "outputId": "59106c8a-7533-4f88-8fc4-70174db56aef"
      },
      "outputs": [
        {
          "output_type": "execute_result",
          "data": {
            "text/plain": [
              "'dog'"
            ],
            "application/vnd.google.colaboratory.intrinsic+json": {
              "type": "string"
            }
          },
          "metadata": {},
          "execution_count": 28
        }
      ],
      "source": [
        "img_pred = np.argmax(model.predict(my_image))\n",
        "pred_label = classes_values[img_pred]\n",
        "pred_label"
      ]
    },
    {
      "cell_type": "markdown",
      "metadata": {
        "id": "VuctnTdhr8RA"
      },
      "source": [
        "### Matriz de Confusão"
      ]
    },
    {
      "cell_type": "code",
      "execution_count": 29,
      "metadata": {
        "colab": {
          "base_uri": "https://localhost:8080/"
        },
        "id": "sONmeJ_Y1bY8",
        "outputId": "a088636a-5b4b-44a0-d609-7659d1e2716e"
      },
      "outputs": [
        {
          "output_type": "execute_result",
          "data": {
            "text/plain": [
              "(2000, 2)"
            ]
          },
          "metadata": {},
          "execution_count": 29
        }
      ],
      "source": [
        "Y_test.shape"
      ]
    },
    {
      "cell_type": "code",
      "execution_count": 30,
      "metadata": {
        "colab": {
          "base_uri": "https://localhost:8080/"
        },
        "id": "ZHcwGHbJ20rr",
        "outputId": "d3c021a6-cb3c-44ac-f050-8fadeee513ce"
      },
      "outputs": [
        {
          "output_type": "execute_result",
          "data": {
            "text/plain": [
              "(2000,)"
            ]
          },
          "metadata": {},
          "execution_count": 30
        }
      ],
      "source": [
        "images = X_test.reshape((2000,32,32,3))\n",
        "predictions = np.argmax(model.predict(images), axis=-1)\n",
        "predictions.shape"
      ]
    },
    {
      "cell_type": "code",
      "execution_count": 31,
      "metadata": {
        "colab": {
          "base_uri": "https://localhost:8080/"
        },
        "id": "pvXszzFr10i8",
        "outputId": "5665013a-623b-45af-daa8-e8df056454f0"
      },
      "outputs": [
        {
          "output_type": "execute_result",
          "data": {
            "text/plain": [
              "(2000,)"
            ]
          },
          "metadata": {},
          "execution_count": 31
        }
      ],
      "source": [
        "test_labels = np.argmax(Y_test, axis=-1)\n",
        "test_labels.shape"
      ]
    },
    {
      "cell_type": "code",
      "execution_count": 32,
      "metadata": {
        "colab": {
          "base_uri": "https://localhost:8080/"
        },
        "id": "E5zOOmwE5rkp",
        "outputId": "18c70a3c-bc28-41e1-ec33-7c7d1de032b6"
      },
      "outputs": [
        {
          "output_type": "execute_result",
          "data": {
            "text/plain": [
              "{0, 1}"
            ]
          },
          "metadata": {},
          "execution_count": 32
        }
      ],
      "source": [
        "set(list(predictions))"
      ]
    },
    {
      "cell_type": "code",
      "execution_count": 33,
      "metadata": {
        "id": "OOP1ytNXoKpB"
      },
      "outputs": [],
      "source": [
        "from sklearn.metrics import classification_report,confusion_matrix"
      ]
    },
    {
      "cell_type": "code",
      "execution_count": 34,
      "metadata": {
        "colab": {
          "base_uri": "https://localhost:8080/"
        },
        "id": "RCdeOcKooS0o",
        "outputId": "f59084e2-7696-413b-971b-448308c64de6"
      },
      "outputs": [
        {
          "output_type": "stream",
          "name": "stdout",
          "text": [
            "              precision    recall  f1-score   support\n",
            "\n",
            "         cat       0.77      0.60      0.67       979\n",
            "         dog       0.68      0.83      0.75      1021\n",
            "\n",
            "    accuracy                           0.71      2000\n",
            "   macro avg       0.72      0.71      0.71      2000\n",
            "weighted avg       0.72      0.71      0.71      2000\n",
            "\n"
          ]
        }
      ],
      "source": [
        "print(classification_report(test_labels, predictions, target_names=classes_values))"
      ]
    },
    {
      "cell_type": "code",
      "execution_count": 35,
      "metadata": {
        "colab": {
          "base_uri": "https://localhost:8080/"
        },
        "id": "DiAQINRH6S80",
        "outputId": "385ae710-4bde-4f7b-bdc9-9c492c365460"
      },
      "outputs": [
        {
          "output_type": "execute_result",
          "data": {
            "text/plain": [
              "array([[587, 392],\n",
              "       [178, 843]])"
            ]
          },
          "metadata": {},
          "execution_count": 35
        }
      ],
      "source": [
        "confusion_matrix(test_labels,predictions)"
      ]
    },
    {
      "cell_type": "code",
      "execution_count": 40,
      "metadata": {
        "colab": {
          "base_uri": "https://localhost:8080/",
          "height": 483
        },
        "id": "K7IUBbcI6VRB",
        "outputId": "8b7b5963-5563-40da-e44e-d4564fbb6fef"
      },
      "outputs": [
        {
          "output_type": "display_data",
          "data": {
            "text/plain": [
              "<Figure size 1080x576 with 2 Axes>"
            ],
            "image/png": "[encoded data removed]"
          },
          "metadata": {
            "needs_background": "light"
          }
        }
      ],
      "source": [
        "import seaborn as sns\n",
        "plt.figure(figsize=(15,8))\n",
        "sns.heatmap(confusion_matrix(test_labels,predictions), cmap='Blues', annot=True, fmt='g', xticklabels=classes_values, yticklabels=classes_values);"
      ]
    }
  ],
  "metadata": {
    "colab": {
      "name": "ei_cifar10_image_classification_nn_classifier_explained.ipynb",
      "provenance": []
    },
    "kernelspec": {
      "display_name": "Python 3 (ipykernel)",
      "language": "python",
      "name": "python3"
    },
    "language_info": {
      "codemirror_mode": {
        "name": "ipython",
        "version": 3
      },
      "file_extension": ".py",
      "mimetype": "text/x-python",
      "name": "python",
      "nbconvert_exporter": "python",
      "pygments_lexer": "ipython3",
      "version": "3.9.7"
    }
  },
  "nbformat": 4,
  "nbformat_minor": 0
}