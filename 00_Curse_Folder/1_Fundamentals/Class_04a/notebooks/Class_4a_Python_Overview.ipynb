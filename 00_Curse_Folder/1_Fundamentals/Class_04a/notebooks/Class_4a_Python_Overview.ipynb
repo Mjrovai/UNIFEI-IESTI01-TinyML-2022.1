{
  "cells": [
    {
      "cell_type": "markdown",
      "metadata": {
        "id": "NCIjkytX6euH"
      },
      "source": [
        "# Notebook - Python "
      ]
    },
    {
      "cell_type": "code",
      "execution_count": 1,
      "metadata": {
        "ExecuteTime": {
          "start_time": "2021-05-05T16:35:42.344Z"
        },
        "id": "WoiU90ha5N48"
      },
      "outputs": [],
      "source": [
        "# Notebook - Python "
      ]
    },
    {
      "cell_type": "markdown",
      "metadata": {
        "id": "ScZmDiLk70UF"
      },
      "source": [
        "This is a notebook for testing Python Code"
      ]
    },
    {
      "cell_type": "markdown",
      "metadata": {
        "id": "IOO7ZHav6laX"
      },
      "source": [
        "## Basic operation and main data types"
      ]
    },
    {
      "cell_type": "code",
      "execution_count": null,
      "metadata": {
        "ExecuteTime": {
          "end_time": "2021-05-05T23:20:03.999951Z",
          "start_time": "2021-05-05T23:20:03.997498Z"
        },
        "id": "Hz9nacVI7w4W"
      },
      "outputs": [],
      "source": [
        "x = 1"
      ]
    },
    {
      "cell_type": "code",
      "execution_count": null,
      "metadata": {
        "ExecuteTime": {
          "end_time": "2021-05-05T23:20:04.681468Z",
          "start_time": "2021-05-05T23:20:04.677368Z"
        },
        "id": "s9T1YbXV8c1z"
      },
      "outputs": [],
      "source": [
        "x"
      ]
    },
    {
      "cell_type": "code",
      "execution_count": null,
      "metadata": {
        "ExecuteTime": {
          "end_time": "2021-05-05T23:20:05.480939Z",
          "start_time": "2021-05-05T23:20:05.477570Z"
        },
        "id": "jD7Tj-EE8eRL"
      },
      "outputs": [],
      "source": [
        "y = 2"
      ]
    },
    {
      "cell_type": "code",
      "execution_count": null,
      "metadata": {
        "ExecuteTime": {
          "end_time": "2021-05-05T23:20:06.153584Z",
          "start_time": "2021-05-05T23:20:06.150059Z"
        },
        "id": "aW30FcGm8gli"
      },
      "outputs": [],
      "source": [
        "y"
      ]
    },
    {
      "cell_type": "code",
      "execution_count": null,
      "metadata": {
        "ExecuteTime": {
          "end_time": "2021-05-05T23:20:07.000368Z",
          "start_time": "2021-05-05T23:20:06.997262Z"
        },
        "id": "lsyryCV28lPo"
      },
      "outputs": [],
      "source": [
        "print (x+y)"
      ]
    },
    {
      "cell_type": "code",
      "execution_count": null,
      "metadata": {
        "ExecuteTime": {
          "end_time": "2021-05-05T23:20:07.902989Z",
          "start_time": "2021-05-05T23:20:07.900480Z"
        },
        "id": "Xy5vScjN9OlM"
      },
      "outputs": [],
      "source": [
        "text = \"python is a good language\""
      ]
    },
    {
      "cell_type": "code",
      "execution_count": null,
      "metadata": {
        "ExecuteTime": {
          "end_time": "2021-05-05T23:20:10.813015Z",
          "start_time": "2021-05-05T23:20:10.808829Z"
        },
        "id": "0caTdpi7-Imy"
      },
      "outputs": [],
      "source": [
        "text"
      ]
    },
    {
      "cell_type": "code",
      "execution_count": null,
      "metadata": {
        "ExecuteTime": {
          "end_time": "2021-05-05T23:20:11.644615Z",
          "start_time": "2021-05-05T23:20:11.641466Z"
        },
        "id": "6BapZT6k-Uz0"
      },
      "outputs": [],
      "source": [
        "print(text)"
      ]
    },
    {
      "cell_type": "code",
      "execution_count": null,
      "metadata": {
        "ExecuteTime": {
          "end_time": "2021-05-05T23:20:15.149209Z",
          "start_time": "2021-05-05T23:20:15.145444Z"
        },
        "id": "vdtjeosH-Ug2"
      },
      "outputs": [],
      "source": [
        "print(str(x)+text+str(y))"
      ]
    },
    {
      "cell_type": "code",
      "execution_count": null,
      "metadata": {
        "ExecuteTime": {
          "end_time": "2021-05-05T23:20:25.829332Z",
          "start_time": "2021-05-05T23:20:25.825883Z"
        },
        "id": "n60O22bf-UWT"
      },
      "outputs": [],
      "source": [
        "print(\"A variável x tem um valor de {} e a y de {}\".format(x, y))"
      ]
    },
    {
      "cell_type": "code",
      "execution_count": null,
      "metadata": {
        "ExecuteTime": {
          "end_time": "2021-05-05T23:20:26.803213Z",
          "start_time": "2021-05-05T23:20:26.800652Z"
        },
        "id": "yp9zECVn_qy9"
      },
      "outputs": [],
      "source": [
        "pi = 3.1416"
      ]
    },
    {
      "cell_type": "code",
      "execution_count": null,
      "metadata": {
        "ExecuteTime": {
          "end_time": "2021-05-05T23:20:27.897484Z",
          "start_time": "2021-05-05T23:20:27.894549Z"
        },
        "id": "r5RnbKLZL4AE"
      },
      "outputs": [],
      "source": [
        "print(\"Pi tem um valor aproximado de {:.2f}\".format(pi))"
      ]
    },
    {
      "cell_type": "markdown",
      "metadata": {
        "id": "TDZOneUDL4AE"
      },
      "source": [
        "https://mkaz.blog/code/python-string-format-cookbook/"
      ]
    },
    {
      "cell_type": "code",
      "execution_count": null,
      "metadata": {
        "ExecuteTime": {
          "end_time": "2021-05-05T23:20:33.505430Z",
          "start_time": "2021-05-05T23:20:33.502719Z"
        },
        "id": "q0x-bl1Q-UL6"
      },
      "outputs": [],
      "source": [
        "lista = [1, 2, 3, 4, 5]"
      ]
    },
    {
      "cell_type": "code",
      "execution_count": null,
      "metadata": {
        "ExecuteTime": {
          "end_time": "2021-05-05T23:20:34.365676Z",
          "start_time": "2021-05-05T23:20:34.361949Z"
        },
        "id": "RyuO4uyT_bUS"
      },
      "outputs": [],
      "source": [
        "lista"
      ]
    },
    {
      "cell_type": "code",
      "execution_count": null,
      "metadata": {
        "ExecuteTime": {
          "end_time": "2021-05-05T23:20:35.265931Z",
          "start_time": "2021-05-05T23:20:35.261748Z"
        },
        "id": "gGRs64hp_bR-"
      },
      "outputs": [],
      "source": [
        "print(type(lista))\n",
        "print(type(text))\n",
        "print(type(x))\n",
        "print(type(pi))"
      ]
    },
    {
      "cell_type": "code",
      "execution_count": null,
      "metadata": {
        "ExecuteTime": {
          "end_time": "2021-05-05T23:20:41.307167Z",
          "start_time": "2021-05-05T23:20:41.303629Z"
        },
        "id": "TJy_qMZV_bPL"
      },
      "outputs": [],
      "source": [
        "int(pi)"
      ]
    },
    {
      "cell_type": "code",
      "execution_count": null,
      "metadata": {
        "ExecuteTime": {
          "end_time": "2021-05-05T23:20:42.285490Z",
          "start_time": "2021-05-05T23:20:42.281740Z"
        },
        "id": "cDtU7rJv_bMr"
      },
      "outputs": [],
      "source": [
        "pi"
      ]
    },
    {
      "cell_type": "code",
      "execution_count": null,
      "metadata": {
        "ExecuteTime": {
          "end_time": "2021-05-05T23:20:43.247433Z",
          "start_time": "2021-05-05T23:20:43.243231Z"
        },
        "id": "2FglzAq__bJr"
      },
      "outputs": [],
      "source": [
        "# converting to integer, change the variable value\n",
        "pi = int(pi)\n",
        "pi"
      ]
    },
    {
      "cell_type": "code",
      "execution_count": null,
      "metadata": {
        "ExecuteTime": {
          "end_time": "2021-05-05T23:20:44.011046Z",
          "start_time": "2021-05-05T23:20:44.007184Z"
        },
        "id": "2Xqmxs5d_bHI"
      },
      "outputs": [],
      "source": [
        "# converting back to float does notreturn with original value\n",
        "float(pi)"
      ]
    },
    {
      "cell_type": "code",
      "execution_count": null,
      "metadata": {
        "ExecuteTime": {
          "end_time": "2021-05-05T23:22:39.805763Z",
          "start_time": "2021-05-05T23:22:39.802617Z"
        },
        "id": "Plw0AHbDAfKn"
      },
      "outputs": [],
      "source": [
        "print(min(lista))\n",
        "print(max(lista))"
      ]
    },
    {
      "cell_type": "code",
      "execution_count": null,
      "metadata": {
        "ExecuteTime": {
          "end_time": "2021-05-05T23:22:40.931141Z",
          "start_time": "2021-05-05T23:22:40.927389Z"
        },
        "id": "Jvo3UfmAAfcq"
      },
      "outputs": [],
      "source": [
        "len(lista)"
      ]
    },
    {
      "cell_type": "code",
      "execution_count": null,
      "metadata": {
        "ExecuteTime": {
          "end_time": "2021-05-05T23:22:46.040249Z",
          "start_time": "2021-05-05T23:22:46.035909Z"
        },
        "id": "E3ZCrEmfCEcc"
      },
      "outputs": [],
      "source": [
        "lst = list(('a', 'b', 'c', 1, 2, 3))\n",
        "lst"
      ]
    },
    {
      "cell_type": "code",
      "execution_count": null,
      "metadata": {
        "ExecuteTime": {
          "end_time": "2021-05-05T23:22:47.669181Z",
          "start_time": "2021-05-05T23:22:47.664962Z"
        },
        "id": "aa9k24iyCETU"
      },
      "outputs": [],
      "source": [
        "lst.append(3)\n",
        "lst"
      ]
    },
    {
      "cell_type": "code",
      "execution_count": null,
      "metadata": {
        "ExecuteTime": {
          "end_time": "2021-05-05T23:22:53.535585Z",
          "start_time": "2021-05-05T23:22:53.531493Z"
        },
        "id": "cgfcMOrNC4yA"
      },
      "outputs": [],
      "source": [
        "# set takes only unique values (ordering values)\n",
        "set(lst)"
      ]
    },
    {
      "cell_type": "code",
      "execution_count": null,
      "metadata": {
        "ExecuteTime": {
          "end_time": "2021-05-05T23:23:53.171158Z",
          "start_time": "2021-05-05T23:23:53.167247Z"
        },
        "id": "qEFh7T7uC40j"
      },
      "outputs": [],
      "source": [
        "# original lst does not changed (to change it, do: lst = set(lst))\n",
        "lst"
      ]
    },
    {
      "cell_type": "code",
      "execution_count": null,
      "metadata": {
        "ExecuteTime": {
          "end_time": "2021-05-05T23:25:20.872975Z",
          "start_time": "2021-05-05T23:25:20.869078Z"
        },
        "id": "xHiMmo0vC5BE"
      },
      "outputs": [],
      "source": [
        "lista.append(0)\n",
        "lista.sort()\n",
        "lista"
      ]
    },
    {
      "cell_type": "code",
      "execution_count": null,
      "metadata": {
        "ExecuteTime": {
          "end_time": "2021-05-05T23:25:28.297625Z",
          "start_time": "2021-05-05T23:25:28.293709Z"
        },
        "id": "31qXDMZWC5Dv"
      },
      "outputs": [],
      "source": [
        "lista.pop(0)\n",
        "lista"
      ]
    },
    {
      "cell_type": "code",
      "execution_count": null,
      "metadata": {
        "ExecuteTime": {
          "end_time": "2021-05-05T23:25:37.139335Z",
          "start_time": "2021-05-05T23:25:37.135582Z"
        },
        "id": "t401Y7b2GNCQ"
      },
      "outputs": [],
      "source": [
        "lst"
      ]
    },
    {
      "cell_type": "code",
      "execution_count": null,
      "metadata": {
        "ExecuteTime": {
          "end_time": "2021-05-05T23:25:42.218226Z",
          "start_time": "2021-05-05T23:25:42.214237Z"
        },
        "id": "dI93T1QBGNE4"
      },
      "outputs": [],
      "source": [
        "lst.index(3)"
      ]
    },
    {
      "cell_type": "code",
      "execution_count": null,
      "metadata": {
        "ExecuteTime": {
          "end_time": "2021-05-05T23:25:43.174561Z",
          "start_time": "2021-05-05T23:25:43.171966Z"
        },
        "id": "butpqOnJGp2G"
      },
      "outputs": [],
      "source": [
        "lst.insert(3,'d')"
      ]
    },
    {
      "cell_type": "code",
      "execution_count": null,
      "metadata": {
        "ExecuteTime": {
          "end_time": "2021-05-05T23:25:43.936702Z",
          "start_time": "2021-05-05T23:25:43.932959Z"
        },
        "id": "_Nwo2XUAGp_k"
      },
      "outputs": [],
      "source": [
        "lst"
      ]
    },
    {
      "cell_type": "markdown",
      "metadata": {
        "id": "zJsk3sqMGqCG"
      },
      "source": [
        "---\n",
        "## Functions & Libraries"
      ]
    },
    {
      "cell_type": "code",
      "execution_count": null,
      "metadata": {
        "ExecuteTime": {
          "end_time": "2021-05-05T23:25:47.321501Z",
          "start_time": "2021-05-05T23:25:47.318742Z"
        },
        "id": "Evuug3SZKZVr"
      },
      "outputs": [],
      "source": [
        "def calc(val_1, val_2):\n",
        "    '''\n",
        "    return squared minimun value between inputs \n",
        "    '''\n",
        "    return (min(val_1, val_2))**2"
      ]
    },
    {
      "cell_type": "code",
      "execution_count": null,
      "metadata": {
        "ExecuteTime": {
          "end_time": "2021-05-05T23:25:47.992879Z",
          "start_time": "2021-05-05T23:25:47.988664Z"
        },
        "id": "ol5tRo6RLdmi"
      },
      "outputs": [],
      "source": [
        "calc(33, 10)"
      ]
    },
    {
      "cell_type": "code",
      "execution_count": null,
      "metadata": {
        "ExecuteTime": {
          "end_time": "2021-05-05T23:25:49.102324Z",
          "start_time": "2021-05-05T23:25:49.096342Z"
        },
        "id": "Np9GStDlLdwp"
      },
      "outputs": [],
      "source": [
        "def circle_area(rd):\n",
        "    '''\n",
        "    return area of a circle with a radius equal to rd\n",
        "    '''\n",
        "    pi = 3.1416\n",
        "    area = pi*rd**2\n",
        "    print(\"A area do círculo de raio {} é {:.2f}\".format(rd, area))\n",
        "    return rd, area"
      ]
    },
    {
      "cell_type": "code",
      "execution_count": null,
      "metadata": {
        "ExecuteTime": {
          "end_time": "2021-05-05T23:25:51.721872Z",
          "start_time": "2021-05-05T23:25:51.718881Z"
        },
        "id": "tQAJ5DuoLdzI"
      },
      "outputs": [],
      "source": [
        "rd, area = circle_area(5)"
      ]
    },
    {
      "cell_type": "code",
      "execution_count": null,
      "metadata": {
        "ExecuteTime": {
          "end_time": "2021-05-05T23:25:52.591893Z",
          "start_time": "2021-05-05T23:25:52.588360Z"
        },
        "id": "Epq82_LtNCgj"
      },
      "outputs": [],
      "source": [
        "area"
      ]
    },
    {
      "cell_type": "code",
      "execution_count": null,
      "metadata": {
        "ExecuteTime": {
          "end_time": "2021-05-05T23:25:54.916229Z",
          "start_time": "2021-05-05T23:25:54.911978Z"
        },
        "id": "WWO2hCOzL4AH"
      },
      "outputs": [],
      "source": [
        "area = round(area, 2)\n",
        "area"
      ]
    },
    {
      "cell_type": "code",
      "execution_count": null,
      "metadata": {
        "ExecuteTime": {
          "end_time": "2021-05-05T23:25:57.920162Z",
          "start_time": "2021-05-05T23:25:57.916490Z"
        },
        "id": "ShAuFcAWNCi-"
      },
      "outputs": [],
      "source": [
        "# ups! Remember that we changed the value \n",
        "pi"
      ]
    },
    {
      "cell_type": "code",
      "execution_count": null,
      "metadata": {
        "ExecuteTime": {
          "end_time": "2021-05-05T23:26:31.917301Z",
          "start_time": "2021-05-05T23:26:31.914823Z"
        },
        "id": "d3BNS6A-NTEU"
      },
      "outputs": [],
      "source": [
        "import math"
      ]
    },
    {
      "cell_type": "code",
      "execution_count": null,
      "metadata": {
        "ExecuteTime": {
          "end_time": "2021-05-05T23:26:32.675586Z",
          "start_time": "2021-05-05T23:26:32.671790Z"
        },
        "id": "iXhgR2qYNTNm"
      },
      "outputs": [],
      "source": [
        "math.pi"
      ]
    },
    {
      "cell_type": "code",
      "execution_count": null,
      "metadata": {
        "ExecuteTime": {
          "end_time": "2021-05-05T23:26:36.037291Z",
          "start_time": "2021-05-05T23:26:36.033372Z"
        },
        "id": "9iuEqRZqNpAp"
      },
      "outputs": [],
      "source": [
        "math.pow(3, 3)"
      ]
    },
    {
      "cell_type": "code",
      "execution_count": null,
      "metadata": {
        "ExecuteTime": {
          "end_time": "2021-05-05T23:27:01.019063Z",
          "start_time": "2021-05-05T23:26:58.580119Z"
        },
        "id": "5I40qkNjNpDm"
      },
      "outputs": [],
      "source": [
        "import matplotlib.pyplot as plt"
      ]
    },
    {
      "cell_type": "code",
      "execution_count": null,
      "metadata": {
        "ExecuteTime": {
          "end_time": "2021-05-05T23:27:03.751865Z",
          "start_time": "2021-05-05T23:27:03.571411Z"
        },
        "id": "-GtQzlVNL4AH"
      },
      "outputs": [],
      "source": [
        "x = [1, 2, 3.4, 6, 8]\n",
        "y = [2, 4, 9, 10, 7]\n",
        "plt.plot(x, y, color ='green', marker='o')"
      ]
    },
    {
      "cell_type": "code",
      "execution_count": null,
      "metadata": {
        "ExecuteTime": {
          "end_time": "2021-05-05T16:06:55.099016Z",
          "start_time": "2021-05-05T16:06:54.979766Z"
        },
        "id": "uUT_mSHBUurw"
      },
      "outputs": [],
      "source": [
        "plt.plot(x, y, 'go')\n",
        "plt.title(\"My Graph\")\n",
        "plt.axis([0,10, 0, 12]); # using ';' to prevent the info line"
      ]
    },
    {
      "cell_type": "code",
      "execution_count": null,
      "metadata": {
        "ExecuteTime": {
          "end_time": "2021-05-05T23:27:55.623984Z",
          "start_time": "2021-05-05T23:27:55.491634Z"
        },
        "id": "Hnam_oI2VEpV"
      },
      "outputs": [],
      "source": [
        "plt.plot(x);"
      ]
    },
    {
      "cell_type": "code",
      "execution_count": null,
      "metadata": {
        "ExecuteTime": {
          "end_time": "2021-05-05T23:28:02.129779Z",
          "start_time": "2021-05-05T23:28:02.127171Z"
        },
        "id": "oa79uiIOUuuY"
      },
      "outputs": [],
      "source": [
        "import numpy as np"
      ]
    },
    {
      "cell_type": "code",
      "execution_count": null,
      "metadata": {
        "ExecuteTime": {
          "end_time": "2021-05-05T23:28:03.954539Z",
          "start_time": "2021-05-05T23:28:03.951896Z"
        },
        "id": "iz6TTCx4L4AH"
      },
      "outputs": [],
      "source": [
        "x = np.arange(0, 4*np.pi, 0.1)"
      ]
    },
    {
      "cell_type": "code",
      "execution_count": null,
      "metadata": {
        "ExecuteTime": {
          "end_time": "2021-05-05T23:28:04.826605Z",
          "start_time": "2021-05-05T23:28:04.821420Z"
        },
        "id": "MRpzFPkkYD7n"
      },
      "outputs": [],
      "source": [
        "x"
      ]
    },
    {
      "cell_type": "code",
      "execution_count": null,
      "metadata": {
        "ExecuteTime": {
          "end_time": "2021-05-05T23:28:20.144240Z",
          "start_time": "2021-05-05T23:28:20.140027Z"
        },
        "id": "TGpLTdueL4AH"
      },
      "outputs": [],
      "source": [
        "type(x)"
      ]
    },
    {
      "cell_type": "code",
      "execution_count": null,
      "metadata": {
        "ExecuteTime": {
          "end_time": "2021-05-05T23:28:29.716869Z",
          "start_time": "2021-05-05T23:28:29.714227Z"
        },
        "id": "91b6PsdyYD-T"
      },
      "outputs": [],
      "source": [
        "y = np.sin(x)"
      ]
    },
    {
      "cell_type": "code",
      "execution_count": null,
      "metadata": {
        "ExecuteTime": {
          "end_time": "2021-05-05T23:28:31.655976Z",
          "start_time": "2021-05-05T23:28:31.517448Z"
        },
        "id": "d_mgILcNYEAP"
      },
      "outputs": [],
      "source": [
        "plt.plot(x,y);\n",
        "plt.title(\"Sinus Wave\")\n",
        "plt.grid();"
      ]
    },
    {
      "cell_type": "code",
      "execution_count": null,
      "metadata": {
        "ExecuteTime": {
          "end_time": "2021-05-05T23:28:39.684631Z",
          "start_time": "2021-05-05T23:28:39.412138Z"
        },
        "id": "o53T1OAoWaJ5"
      },
      "outputs": [],
      "source": [
        "plt.figure(figsize=(10,5))\n",
        "x = np.arange(0, 2*2*np.pi, 0.1)\n",
        "y = 1*np.sin(x)\n",
        "plt.plot(x,y)\n",
        "plt.title(\"Sine Wave\")\n",
        "plt.grid()\n",
        "plt.show()\n",
        "\n",
        "plt.figure(figsize=(10,5))\n",
        "z = np.arange(0, 4*2*np.pi, 0.1)\n",
        "t = np.cos(z)\n",
        "plt.plot(z, t)\n",
        "plt.title(\"Cosine Wave\")\n",
        "plt.grid()"
      ]
    },
    {
      "cell_type": "code",
      "execution_count": null,
      "metadata": {
        "ExecuteTime": {
          "end_time": "2021-05-05T23:29:31.152077Z",
          "start_time": "2021-05-05T23:29:30.966543Z"
        },
        "id": "QZcy1zzbgyn-"
      },
      "outputs": [],
      "source": [
        "plt.figure(figsize=(10,5))\n",
        "x = np.arange(0, 2*2*np.pi, 0.1)\n",
        "y = 1*np.sin(x)\n",
        "#plt.plot(x,y)\n",
        "z = np.arange(0, 4*2*np.pi, 0.1)\n",
        "t = np.cos(x)\n",
        "plt.plot(x, y, x, t)\n",
        "plt.title(\"Sine/Cosine Wave\")\n",
        "plt.grid()"
      ]
    },
    {
      "cell_type": "code",
      "execution_count": null,
      "metadata": {
        "ExecuteTime": {
          "end_time": "2021-05-05T23:29:36.063006Z",
          "start_time": "2021-05-05T23:29:36.058075Z"
        },
        "id": "vxtyGqbGY9Vr"
      },
      "outputs": [],
      "source": [
        "def plot_senoidal(nper=1, amp=1, ph=0):\n",
        "    plt.figure(figsize=(10,5))\n",
        "    x = np.arange(0, nper*2*np.pi, 0.1)\n",
        "    y = amp*np.sin(x+ph*np.pi)\n",
        "    plt.plot(x,y)\n",
        "    plt.title(\"Ondas senoidais\")\n",
        "    plt.grid()\n",
        "    plt.show();"
      ]
    },
    {
      "cell_type": "code",
      "execution_count": null,
      "metadata": {
        "ExecuteTime": {
          "end_time": "2021-05-05T23:29:41.214124Z",
          "start_time": "2021-05-05T23:29:41.073827Z"
        },
        "id": "xxvP3ITOaMCd"
      },
      "outputs": [],
      "source": [
        "plot_senoidal(nper=2, amp=2, ph=-1/2)"
      ]
    },
    {
      "cell_type": "markdown",
      "metadata": {
        "id": "5F0tXC-mjtlm"
      },
      "source": [
        "# Pandas"
      ]
    },
    {
      "cell_type": "code",
      "execution_count": null,
      "metadata": {
        "ExecuteTime": {
          "end_time": "2021-05-05T23:30:17.274873Z",
          "start_time": "2021-05-05T23:30:13.230739Z"
        },
        "id": "DIr8EgqVjy37"
      },
      "outputs": [],
      "source": [
        "import pandas as pd"
      ]
    },
    {
      "cell_type": "markdown",
      "metadata": {
        "id": "QBIKjfLn7MMr"
      },
      "source": [
        "## Creating a Dataframe"
      ]
    },
    {
      "cell_type": "code",
      "execution_count": null,
      "metadata": {
        "ExecuteTime": {
          "end_time": "2021-05-05T23:30:19.254917Z",
          "start_time": "2021-05-05T23:30:19.247149Z"
        },
        "id": "QaW9PfDT7Ywc"
      },
      "outputs": [],
      "source": [
        "df = pd.DataFrame({'label': ['A', 'B', 'C', 'A', 'B', 'C'],\n",
        "                   'value_1': [1, 22, 3, 455, 50, 6],\n",
        "                   'value_2': [1.5, 2.8, 3.9, 4.85, 50.67, 6.78],\n",
        "                   })\n",
        "df.shape"
      ]
    },
    {
      "cell_type": "code",
      "execution_count": null,
      "metadata": {
        "ExecuteTime": {
          "end_time": "2021-05-05T23:30:20.088034Z",
          "start_time": "2021-05-05T23:30:20.060929Z"
        },
        "id": "vNUvEz7t7Y5B"
      },
      "outputs": [],
      "source": [
        "df"
      ]
    },
    {
      "cell_type": "code",
      "execution_count": null,
      "metadata": {
        "ExecuteTime": {
          "end_time": "2021-05-05T23:30:21.214701Z",
          "start_time": "2021-05-05T23:30:21.208102Z"
        },
        "id": "FqPG4_Zz7_qL"
      },
      "outputs": [],
      "source": [
        "df.info()"
      ]
    },
    {
      "cell_type": "code",
      "execution_count": null,
      "metadata": {
        "ExecuteTime": {
          "end_time": "2021-05-05T23:30:26.174556Z",
          "start_time": "2021-05-05T23:30:26.164041Z"
        },
        "id": "Q3jrPC8f8gGY"
      },
      "outputs": [],
      "source": [
        "df['value_3'] = [True, True, False, False, True, True]\n",
        "df"
      ]
    },
    {
      "cell_type": "code",
      "execution_count": null,
      "metadata": {
        "ExecuteTime": {
          "end_time": "2021-05-05T23:30:29.681145Z",
          "start_time": "2021-05-05T23:30:29.673868Z"
        },
        "id": "M4T48LZx9GHB"
      },
      "outputs": [],
      "source": [
        "df.info()"
      ]
    },
    {
      "cell_type": "code",
      "execution_count": null,
      "metadata": {
        "ExecuteTime": {
          "end_time": "2021-05-05T23:30:30.650584Z",
          "start_time": "2021-05-05T23:30:30.642320Z"
        },
        "id": "vTX2T3Hj9j0S"
      },
      "outputs": [],
      "source": [
        "df.head(2)"
      ]
    },
    {
      "cell_type": "code",
      "execution_count": null,
      "metadata": {
        "ExecuteTime": {
          "end_time": "2021-05-05T23:30:33.384453Z",
          "start_time": "2021-05-05T23:30:33.375475Z"
        },
        "id": "tnYJee0n92Tr"
      },
      "outputs": [],
      "source": [
        "df.tail(2)"
      ]
    },
    {
      "cell_type": "code",
      "execution_count": null,
      "metadata": {
        "ExecuteTime": {
          "end_time": "2021-05-05T23:30:42.133190Z",
          "start_time": "2021-05-05T23:30:42.117467Z"
        },
        "id": "g9b_U-PB99LW"
      },
      "outputs": [],
      "source": [
        "# Generate descriptive statistics - numeric values\n",
        "df.describe()"
      ]
    },
    {
      "cell_type": "markdown",
      "metadata": {
        "id": "CMbopbGWL4AI"
      },
      "source": [
        "Inspecting non numeric values"
      ]
    },
    {
      "cell_type": "code",
      "execution_count": null,
      "metadata": {
        "ExecuteTime": {
          "end_time": "2021-05-05T23:30:46.866823Z",
          "start_time": "2021-05-05T23:30:46.861463Z"
        },
        "id": "xF5CbB3h9kGr"
      },
      "outputs": [],
      "source": [
        "df.label.value_counts()"
      ]
    },
    {
      "cell_type": "code",
      "execution_count": null,
      "metadata": {
        "ExecuteTime": {
          "end_time": "2021-05-05T23:30:47.663162Z",
          "start_time": "2021-05-05T23:30:47.656549Z"
        },
        "id": "v5Upx1BK-hDC"
      },
      "outputs": [],
      "source": [
        "df.value_3.value_counts()"
      ]
    },
    {
      "cell_type": "markdown",
      "metadata": {
        "id": "LQJWK8Wu-yuZ"
      },
      "source": [
        "## Downloading a dataset from a URL"
      ]
    },
    {
      "cell_type": "code",
      "execution_count": null,
      "metadata": {
        "ExecuteTime": {
          "end_time": "2021-05-05T23:30:53.384467Z",
          "start_time": "2021-05-05T23:30:52.763365Z"
        },
        "id": "Dsngz5Tjllg_"
      },
      "outputs": [],
      "source": [
        "url=\"https://raw.githubusercontent.com/cs109/2014_data/master/countries.csv\"\n",
        "df=pd.read_csv(url)\n",
        "df.shape"
      ]
    },
    {
      "cell_type": "code",
      "execution_count": null,
      "metadata": {
        "ExecuteTime": {
          "end_time": "2021-05-05T23:30:54.258506Z",
          "start_time": "2021-05-05T23:30:54.251070Z"
        },
        "id": "jCocvcNfllj9"
      },
      "outputs": [],
      "source": [
        "df.head()"
      ]
    },
    {
      "cell_type": "code",
      "execution_count": null,
      "metadata": {
        "ExecuteTime": {
          "end_time": "2021-05-05T23:30:57.165360Z",
          "start_time": "2021-05-05T23:30:57.159221Z"
        },
        "id": "Gf4aBwTrlln4"
      },
      "outputs": [],
      "source": [
        "df.Region.value_counts()"
      ]
    },
    {
      "cell_type": "code",
      "execution_count": null,
      "metadata": {
        "ExecuteTime": {
          "end_time": "2021-05-05T23:30:58.953498Z",
          "start_time": "2021-05-05T23:30:58.948607Z"
        },
        "id": "UT6ok3LgllpZ"
      },
      "outputs": [],
      "source": [
        "sa_countries = df[df.Region == 'SOUTH AMERICA'].Country.values\n",
        "sa_countries"
      ]
    },
    {
      "cell_type": "code",
      "execution_count": null,
      "metadata": {
        "ExecuteTime": {
          "end_time": "2021-05-05T23:30:59.917458Z",
          "start_time": "2021-05-05T23:30:59.911316Z"
        },
        "id": "2k84EQKn_rtB"
      },
      "outputs": [],
      "source": [
        "ww_regions = df.Region.value_counts()\n",
        "ww_regions"
      ]
    },
    {
      "cell_type": "code",
      "execution_count": null,
      "metadata": {
        "ExecuteTime": {
          "end_time": "2021-05-05T23:31:04.493747Z",
          "start_time": "2021-05-05T23:31:04.490042Z"
        },
        "id": "-35A_GkJ_7du"
      },
      "outputs": [],
      "source": [
        "type(ww_regions)"
      ]
    },
    {
      "cell_type": "markdown",
      "metadata": {
        "id": "7dd2n7b2AUKU"
      },
      "source": [
        "## Uploading dataset from local computer"
      ]
    },
    {
      "cell_type": "markdown",
      "metadata": {
        "id": "NXnLTUvpL4AJ"
      },
      "source": [
        "### Direct in the Computer"
      ]
    },
    {
      "cell_type": "code",
      "execution_count": null,
      "metadata": {
        "ExecuteTime": {
          "end_time": "2021-05-05T23:40:13.082124Z",
          "start_time": "2021-05-05T23:40:12.925557Z"
        },
        "id": "K-U4EpnmL4AJ"
      },
      "outputs": [],
      "source": [
        "# here are my files, you should be different\n",
        "!ls"
      ]
    },
    {
      "cell_type": "code",
      "execution_count": null,
      "metadata": {
        "ExecuteTime": {
          "end_time": "2021-05-05T16:21:55.710265Z",
          "start_time": "2021-05-05T16:21:55.582449Z"
        },
        "id": "SiCPmG17L4AJ"
      },
      "outputs": [],
      "source": [
        "# going \"one layer up\"\n",
        "!ls ../"
      ]
    },
    {
      "cell_type": "code",
      "execution_count": null,
      "metadata": {
        "ExecuteTime": {
          "end_time": "2021-05-05T16:22:10.052447Z",
          "start_time": "2021-05-05T16:22:09.920143Z"
        },
        "id": "khQ1z5W6L4AJ"
      },
      "outputs": [],
      "source": [
        "!ls ../data"
      ]
    },
    {
      "cell_type": "code",
      "execution_count": null,
      "metadata": {
        "ExecuteTime": {
          "end_time": "2021-05-05T23:33:06.430736Z",
          "start_time": "2021-05-05T23:33:06.427839Z"
        },
        "id": "aoFwkDDDL4AJ"
      },
      "outputs": [],
      "source": [
        "path = '../data/brazil_states_info.csv'"
      ]
    },
    {
      "cell_type": "markdown",
      "metadata": {
        "id": "PhzH1BaNL4AJ"
      },
      "source": [
        "### From Computer - Colab"
      ]
    },
    {
      "cell_type": "code",
      "execution_count": null,
      "metadata": {
        "id": "wRGvG_pFkZwv"
      },
      "outputs": [],
      "source": [
        "from google.colab import files\n",
        "uploaded = files.upload()"
      ]
    },
    {
      "cell_type": "code",
      "execution_count": null,
      "metadata": {
        "id": "iWG88aNeAhYl"
      },
      "outputs": [],
      "source": [
        "uploaded"
      ]
    },
    {
      "cell_type": "code",
      "execution_count": null,
      "metadata": {
        "id": "JrWiqDsEAheb"
      },
      "outputs": [],
      "source": [
        "path = \"/content/brazil_states_info.csv\""
      ]
    },
    {
      "cell_type": "markdown",
      "metadata": {
        "id": "fVLpFPG2L4AJ"
      },
      "source": [
        "### Creating Dataframe and Inspecting data"
      ]
    },
    {
      "cell_type": "code",
      "execution_count": null,
      "metadata": {
        "ExecuteTime": {
          "end_time": "2021-05-05T23:33:11.177421Z",
          "start_time": "2021-05-05T23:33:11.160972Z"
        },
        "id": "uUaJFBx1Ahir"
      },
      "outputs": [],
      "source": [
        "br = pd.read_csv(path)\n",
        "br.shape"
      ]
    },
    {
      "cell_type": "code",
      "execution_count": null,
      "metadata": {
        "ExecuteTime": {
          "end_time": "2021-05-05T23:33:12.327895Z",
          "start_time": "2021-05-05T23:33:12.315757Z"
        },
        "id": "sSD3UrXDDk26"
      },
      "outputs": [],
      "source": [
        "br.head()"
      ]
    },
    {
      "cell_type": "code",
      "execution_count": null,
      "metadata": {
        "ExecuteTime": {
          "end_time": "2021-05-05T23:33:13.756967Z",
          "start_time": "2021-05-05T23:33:13.746809Z"
        },
        "id": "tvhErianDk5z"
      },
      "outputs": [],
      "source": [
        "del br['Unnamed: 0']\n",
        "br.head()"
      ]
    },
    {
      "cell_type": "code",
      "execution_count": null,
      "metadata": {
        "ExecuteTime": {
          "end_time": "2021-05-05T23:33:16.397139Z",
          "start_time": "2021-05-05T23:33:16.390403Z"
        },
        "id": "Bv_r3lCOEH8A"
      },
      "outputs": [],
      "source": [
        "br[br['Area(km2)'] == br['Area(km2)'].min()].state"
      ]
    },
    {
      "cell_type": "code",
      "execution_count": null,
      "metadata": {
        "ExecuteTime": {
          "end_time": "2021-05-05T23:33:17.171683Z",
          "start_time": "2021-05-05T23:33:17.160108Z"
        },
        "id": "Zgv_G38vFY6a"
      },
      "outputs": [],
      "source": [
        "br[br['Area(km2)'] == br['Area(km2)'].max()]"
      ]
    },
    {
      "cell_type": "code",
      "execution_count": null,
      "metadata": {
        "ExecuteTime": {
          "end_time": "2021-05-05T23:33:18.729623Z",
          "start_time": "2021-05-05T23:33:18.407479Z"
        },
        "id": "wCYjbTjpEIGj"
      },
      "outputs": [],
      "source": [
        "br.plot.bar(x='UF', y='Population(2019)');"
      ]
    },
    {
      "cell_type": "code",
      "execution_count": null,
      "metadata": {
        "ExecuteTime": {
          "end_time": "2021-05-05T23:33:20.027710Z",
          "start_time": "2021-05-05T23:33:19.766555Z"
        },
        "id": "s4Dka17mHyOi"
      },
      "outputs": [],
      "source": [
        "br[['UF', 'GDP (R$millions, 2016)', 'Population(2019)']].plot.bar(stacked=True);"
      ]
    },
    {
      "cell_type": "markdown",
      "metadata": {
        "id": "j5VxZ0pGJvdu"
      },
      "source": [
        "https://pandas.pydata.org/docs/reference/api/pandas.DataFrame.plot.bar.html"
      ]
    },
    {
      "cell_type": "markdown",
      "metadata": {
        "id": "xfi4r1OoAgdZ"
      },
      "source": [
        "## Other datasets"
      ]
    },
    {
      "cell_type": "code",
      "execution_count": null,
      "metadata": {
        "ExecuteTime": {
          "end_time": "2021-05-05T16:26:37.122640Z",
          "start_time": "2021-05-05T16:26:19.772658Z"
        },
        "id": "QiolfiMhpcN3",
        "scrolled": true
      },
      "outputs": [],
      "source": [
        "!pip install world_bank_data --upgrade"
      ]
    },
    {
      "cell_type": "code",
      "execution_count": null,
      "metadata": {
        "ExecuteTime": {
          "end_time": "2021-05-05T16:26:42.785604Z",
          "start_time": "2021-05-05T16:26:42.701608Z"
        },
        "id": "ZM84VnqYpjMj"
      },
      "outputs": [],
      "source": [
        "import world_bank_data as wb"
      ]
    },
    {
      "cell_type": "code",
      "execution_count": null,
      "metadata": {
        "id": "ODEMWgCUpwPH"
      },
      "outputs": [],
      "source": [
        "df = wb.get_countries()\n",
        "df.shape"
      ]
    },
    {
      "cell_type": "code",
      "execution_count": null,
      "metadata": {
        "id": "WLFiXED_qCS_"
      },
      "outputs": [],
      "source": [
        "df.head()"
      ]
    },
    {
      "cell_type": "code",
      "execution_count": null,
      "metadata": {
        "id": "TsDo1WKQqHKT"
      },
      "outputs": [],
      "source": [
        "plt.plot(df.longitude, df.latitude, 'ro');"
      ]
    }
  ],
  "metadata": {
    "colab": {
      "name": "Test Python.ipynb",
      "provenance": []
    },
    "hide_input": false,
    "kernelspec": {
      "display_name": "Python 3",
      "name": "python3"
    },
    "language_info": {
      "name": "python"
    },
    "nbTranslate": {
      "displayLangs": [
        "*"
      ],
      "hotkey": "alt-t",
      "langInMainMenu": true,
      "sourceLang": "en",
      "targetLang": "fr",
      "useGoogleTranslate": true
    },
    "toc": {
      "base_numbering": 1,
      "nav_menu": {},
      "number_sections": true,
      "sideBar": true,
      "skip_h1_title": true,
      "title_cell": "Table of Contents",
      "title_sidebar": "Contents",
      "toc_cell": false,
      "toc_position": {},
      "toc_section_display": true,
      "toc_window_display": true
    },
    "varInspector": {
      "cols": {
        "lenName": 16,
        "lenType": 16,
        "lenVar": 40
      },
      "kernels_config": {
        "python": {
          "delete_cmd_postfix": "",
          "delete_cmd_prefix": "del ",
          "library": "var_list.py",
          "varRefreshCmd": "print(var_dic_list())"
        },
        "r": {
          "delete_cmd_postfix": ") ",
          "delete_cmd_prefix": "rm(",
          "library": "var_list.r",
          "varRefreshCmd": "cat(var_dic_list()) "
        }
      },
      "types_to_exclude": [
        "module",
        "function",
        "builtin_function_or_method",
        "instance",
        "_Feature"
      ],
      "window_display": false
    }
  },
  "nbformat": 4,
  "nbformat_minor": 0
}