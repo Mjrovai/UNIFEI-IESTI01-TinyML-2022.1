{
 "cells": [
  {
   "cell_type": "markdown",
   "metadata": {
    "id": "NCIjkytX6euH"
   },
   "source": [
    "# Notebook - Python "
   ]
  },
  {
   "cell_type": "code",
   "execution_count": null,
   "metadata": {
    "ExecuteTime": {
     "start_time": "2021-05-05T16:35:42.344Z"
    },
    "id": "WoiU90ha5N48"
   },
   "outputs": [],
   "source": [
    "# Notebook - Python "
   ]
  },
  {
   "cell_type": "markdown",
   "metadata": {
    "id": "ScZmDiLk70UF"
   },
   "source": [
    "This is a notebook for testing Python Code"
   ]
  },
  {
   "cell_type": "markdown",
   "metadata": {
    "id": "IOO7ZHav6laX"
   },
   "source": [
    "## Basic operation and main data types"
   ]
  },
  {
   "cell_type": "code",
   "execution_count": null,
   "metadata": {
    "ExecuteTime": {
     "end_time": "2021-05-05T23:20:03.999951Z",
     "start_time": "2021-05-05T23:20:03.997498Z"
    },
    "id": "Hz9nacVI7w4W"
   },
   "outputs": [],
   "source": [
    "x = 1"
   ]
  },
  {
   "cell_type": "code",
   "execution_count": null,
   "metadata": {
    "ExecuteTime": {
     "end_time": "2021-05-05T23:20:04.681468Z",
     "start_time": "2021-05-05T23:20:04.677368Z"
    },
    "colab": {
     "base_uri": "https://localhost:8080/"
    },
    "id": "s9T1YbXV8c1z",
    "outputId": "82d5be1a-a380-49d0-9f90-e32d77ca8342"
   },
   "outputs": [],
   "source": [
    "x"
   ]
  },
  {
   "cell_type": "code",
   "execution_count": null,
   "metadata": {
    "ExecuteTime": {
     "end_time": "2021-05-05T23:20:05.480939Z",
     "start_time": "2021-05-05T23:20:05.477570Z"
    },
    "id": "jD7Tj-EE8eRL"
   },
   "outputs": [],
   "source": [
    "y = 2"
   ]
  },
  {
   "cell_type": "code",
   "execution_count": null,
   "metadata": {
    "ExecuteTime": {
     "end_time": "2021-05-05T23:20:06.153584Z",
     "start_time": "2021-05-05T23:20:06.150059Z"
    },
    "colab": {
     "base_uri": "https://localhost:8080/"
    },
    "id": "aW30FcGm8gli",
    "outputId": "e3c3776b-afa6-4a2b-d653-df72a9987393"
   },
   "outputs": [],
   "source": [
    "y"
   ]
  },
  {
   "cell_type": "code",
   "execution_count": null,
   "metadata": {
    "ExecuteTime": {
     "end_time": "2021-05-05T23:20:07.000368Z",
     "start_time": "2021-05-05T23:20:06.997262Z"
    },
    "colab": {
     "base_uri": "https://localhost:8080/"
    },
    "id": "lsyryCV28lPo",
    "outputId": "f4a4fb25-d304-4c37-c339-0e70607ff76f"
   },
   "outputs": [],
   "source": [
    "print (x+y)"
   ]
  },
  {
   "cell_type": "code",
   "execution_count": null,
   "metadata": {
    "ExecuteTime": {
     "end_time": "2021-05-05T23:20:07.902989Z",
     "start_time": "2021-05-05T23:20:07.900480Z"
    },
    "id": "Xy5vScjN9OlM"
   },
   "outputs": [],
   "source": [
    "text = \"python is a good language\""
   ]
  },
  {
   "cell_type": "code",
   "execution_count": null,
   "metadata": {
    "ExecuteTime": {
     "end_time": "2021-05-05T23:20:10.813015Z",
     "start_time": "2021-05-05T23:20:10.808829Z"
    },
    "colab": {
     "base_uri": "https://localhost:8080/",
     "height": 35
    },
    "id": "0caTdpi7-Imy",
    "outputId": "2085ac9d-724c-42aa-cbd3-9921af05d4c2"
   },
   "outputs": [],
   "source": [
    "text"
   ]
  },
  {
   "cell_type": "code",
   "execution_count": null,
   "metadata": {
    "ExecuteTime": {
     "end_time": "2021-05-05T23:20:11.644615Z",
     "start_time": "2021-05-05T23:20:11.641466Z"
    },
    "colab": {
     "base_uri": "https://localhost:8080/"
    },
    "id": "6BapZT6k-Uz0",
    "outputId": "4387c5d7-d33d-4c28-90f3-cb586a4287cf"
   },
   "outputs": [],
   "source": [
    "print(text)"
   ]
  },
  {
   "cell_type": "code",
   "execution_count": null,
   "metadata": {
    "ExecuteTime": {
     "end_time": "2021-05-05T23:20:15.149209Z",
     "start_time": "2021-05-05T23:20:15.145444Z"
    },
    "colab": {
     "base_uri": "https://localhost:8080/"
    },
    "id": "vdtjeosH-Ug2",
    "outputId": "31670e49-6a1e-43c5-cab3-9e148f842655"
   },
   "outputs": [],
   "source": [
    "print(str(x)+text+str(y))"
   ]
  },
  {
   "cell_type": "code",
   "execution_count": null,
   "metadata": {
    "ExecuteTime": {
     "end_time": "2021-05-05T23:20:25.829332Z",
     "start_time": "2021-05-05T23:20:25.825883Z"
    },
    "colab": {
     "base_uri": "https://localhost:8080/"
    },
    "id": "n60O22bf-UWT",
    "outputId": "4b225019-53c3-4b0b-cd8d-afb85da90571"
   },
   "outputs": [],
   "source": [
    "print(\"A variável x tem um valor de {} e a y de {}\".format(x, y))"
   ]
  },
  {
   "cell_type": "code",
   "execution_count": null,
   "metadata": {
    "ExecuteTime": {
     "end_time": "2021-05-05T23:20:26.803213Z",
     "start_time": "2021-05-05T23:20:26.800652Z"
    },
    "id": "yp9zECVn_qy9"
   },
   "outputs": [],
   "source": [
    "pi = 3.1416"
   ]
  },
  {
   "cell_type": "code",
   "execution_count": null,
   "metadata": {
    "ExecuteTime": {
     "end_time": "2021-05-05T23:20:27.897484Z",
     "start_time": "2021-05-05T23:20:27.894549Z"
    }
   },
   "outputs": [],
   "source": [
    "print(\"Pi tem um valor aproximado de {:.2f}\".format(pi))"
   ]
  },
  {
   "cell_type": "markdown",
   "metadata": {},
   "source": [
    "https://mkaz.blog/code/python-string-format-cookbook/"
   ]
  },
  {
   "cell_type": "code",
   "execution_count": null,
   "metadata": {
    "ExecuteTime": {
     "end_time": "2021-05-05T23:20:33.505430Z",
     "start_time": "2021-05-05T23:20:33.502719Z"
    },
    "id": "q0x-bl1Q-UL6"
   },
   "outputs": [],
   "source": [
    "lista = [1, 2, 3, 4, 5]"
   ]
  },
  {
   "cell_type": "code",
   "execution_count": null,
   "metadata": {
    "ExecuteTime": {
     "end_time": "2021-05-05T23:20:34.365676Z",
     "start_time": "2021-05-05T23:20:34.361949Z"
    },
    "colab": {
     "base_uri": "https://localhost:8080/"
    },
    "id": "RyuO4uyT_bUS",
    "outputId": "24349a8e-9fe6-452d-ae9d-b7b182a0f256"
   },
   "outputs": [],
   "source": [
    "lista"
   ]
  },
  {
   "cell_type": "code",
   "execution_count": null,
   "metadata": {
    "ExecuteTime": {
     "end_time": "2021-05-05T23:20:35.265931Z",
     "start_time": "2021-05-05T23:20:35.261748Z"
    },
    "colab": {
     "base_uri": "https://localhost:8080/"
    },
    "id": "gGRs64hp_bR-",
    "outputId": "731cf3b4-f94d-4daf-f862-a69272af99c5"
   },
   "outputs": [],
   "source": [
    "print(type(lista))\n",
    "print(type(text))\n",
    "print(type(x))\n",
    "print(type(pi))"
   ]
  },
  {
   "cell_type": "code",
   "execution_count": null,
   "metadata": {
    "ExecuteTime": {
     "end_time": "2021-05-05T23:20:41.307167Z",
     "start_time": "2021-05-05T23:20:41.303629Z"
    },
    "colab": {
     "base_uri": "https://localhost:8080/"
    },
    "id": "TJy_qMZV_bPL",
    "outputId": "58f37b82-fed3-4dda-81ff-67443a703608"
   },
   "outputs": [],
   "source": [
    "int(pi)"
   ]
  },
  {
   "cell_type": "code",
   "execution_count": null,
   "metadata": {
    "ExecuteTime": {
     "end_time": "2021-05-05T23:20:42.285490Z",
     "start_time": "2021-05-05T23:20:42.281740Z"
    },
    "colab": {
     "base_uri": "https://localhost:8080/"
    },
    "id": "cDtU7rJv_bMr",
    "outputId": "edc1c341-4526-40c3-a4c4-7c0d0a6779b9"
   },
   "outputs": [],
   "source": [
    "pi"
   ]
  },
  {
   "cell_type": "code",
   "execution_count": null,
   "metadata": {
    "ExecuteTime": {
     "end_time": "2021-05-05T23:20:43.247433Z",
     "start_time": "2021-05-05T23:20:43.243231Z"
    },
    "colab": {
     "base_uri": "https://localhost:8080/"
    },
    "id": "2FglzAq__bJr",
    "outputId": "19638211-0880-45d7-f4b7-7443197b69a8"
   },
   "outputs": [],
   "source": [
    "# converting to integer, change the variable value\n",
    "pi = int(pi)\n",
    "pi"
   ]
  },
  {
   "cell_type": "code",
   "execution_count": null,
   "metadata": {
    "ExecuteTime": {
     "end_time": "2021-05-05T23:20:44.011046Z",
     "start_time": "2021-05-05T23:20:44.007184Z"
    },
    "colab": {
     "base_uri": "https://localhost:8080/"
    },
    "id": "2Xqmxs5d_bHI",
    "outputId": "da4f1a57-d213-4719-9c0c-0ac1422e520a"
   },
   "outputs": [],
   "source": [
    "# converting back to float does notreturn with original value\n",
    "float(pi)"
   ]
  },
  {
   "cell_type": "code",
   "execution_count": null,
   "metadata": {
    "ExecuteTime": {
     "end_time": "2021-05-05T23:22:39.805763Z",
     "start_time": "2021-05-05T23:22:39.802617Z"
    },
    "colab": {
     "base_uri": "https://localhost:8080/"
    },
    "id": "Plw0AHbDAfKn",
    "outputId": "73df0bda-3cc1-4a04-ea4b-da9b4008e234"
   },
   "outputs": [],
   "source": [
    "print(min(lista))\n",
    "print(max(lista))"
   ]
  },
  {
   "cell_type": "code",
   "execution_count": null,
   "metadata": {
    "ExecuteTime": {
     "end_time": "2021-05-05T23:22:40.931141Z",
     "start_time": "2021-05-05T23:22:40.927389Z"
    },
    "colab": {
     "base_uri": "https://localhost:8080/"
    },
    "id": "Jvo3UfmAAfcq",
    "outputId": "397ffe5b-f90b-4565-c8af-80f5e76e8132"
   },
   "outputs": [],
   "source": [
    "len(lista)"
   ]
  },
  {
   "cell_type": "code",
   "execution_count": null,
   "metadata": {
    "ExecuteTime": {
     "end_time": "2021-05-05T23:22:46.040249Z",
     "start_time": "2021-05-05T23:22:46.035909Z"
    },
    "colab": {
     "base_uri": "https://localhost:8080/"
    },
    "id": "E3ZCrEmfCEcc",
    "outputId": "4965c172-8acc-4802-be4a-ec1da227ecae"
   },
   "outputs": [],
   "source": [
    "lst = list(('a', 'b', 'c', 1, 2, 3))\n",
    "lst"
   ]
  },
  {
   "cell_type": "code",
   "execution_count": null,
   "metadata": {
    "ExecuteTime": {
     "end_time": "2021-05-05T23:22:47.669181Z",
     "start_time": "2021-05-05T23:22:47.664962Z"
    },
    "colab": {
     "base_uri": "https://localhost:8080/"
    },
    "id": "aa9k24iyCETU",
    "outputId": "fbe9d9a3-d46a-4253-d64f-84ede611f347"
   },
   "outputs": [],
   "source": [
    "lst.append(3)\n",
    "lst"
   ]
  },
  {
   "cell_type": "code",
   "execution_count": null,
   "metadata": {
    "ExecuteTime": {
     "end_time": "2021-05-05T23:22:53.535585Z",
     "start_time": "2021-05-05T23:22:53.531493Z"
    },
    "colab": {
     "base_uri": "https://localhost:8080/"
    },
    "id": "cgfcMOrNC4yA",
    "outputId": "ac28ff1f-a2a9-4b5b-9903-3470e2bba88d"
   },
   "outputs": [],
   "source": [
    "# set takes only unique values (ordering values)\n",
    "set(lst)"
   ]
  },
  {
   "cell_type": "code",
   "execution_count": null,
   "metadata": {
    "ExecuteTime": {
     "end_time": "2021-05-05T23:23:53.171158Z",
     "start_time": "2021-05-05T23:23:53.167247Z"
    },
    "colab": {
     "base_uri": "https://localhost:8080/"
    },
    "id": "qEFh7T7uC40j",
    "outputId": "f3c29b1c-244a-49e2-8b04-b242b613a865"
   },
   "outputs": [],
   "source": [
    "# original lst does not changed (to change it, do: lst = set(lst))\n",
    "lst"
   ]
  },
  {
   "cell_type": "code",
   "execution_count": null,
   "metadata": {
    "ExecuteTime": {
     "end_time": "2021-05-05T23:25:20.872975Z",
     "start_time": "2021-05-05T23:25:20.869078Z"
    },
    "colab": {
     "base_uri": "https://localhost:8080/"
    },
    "id": "xHiMmo0vC5BE",
    "outputId": "bccfd349-3a95-4d04-e5a6-2fb2f4cc1f10"
   },
   "outputs": [],
   "source": [
    "lista.append(0)\n",
    "lista.sort()\n",
    "lista"
   ]
  },
  {
   "cell_type": "code",
   "execution_count": null,
   "metadata": {
    "ExecuteTime": {
     "end_time": "2021-05-05T23:25:28.297625Z",
     "start_time": "2021-05-05T23:25:28.293709Z"
    },
    "colab": {
     "base_uri": "https://localhost:8080/"
    },
    "id": "31qXDMZWC5Dv",
    "outputId": "c12d24a2-5699-482e-90b3-a92a3ae3dfb3"
   },
   "outputs": [],
   "source": [
    "lista.pop(0)\n",
    "lista"
   ]
  },
  {
   "cell_type": "code",
   "execution_count": null,
   "metadata": {
    "ExecuteTime": {
     "end_time": "2021-05-05T23:25:37.139335Z",
     "start_time": "2021-05-05T23:25:37.135582Z"
    },
    "colab": {
     "base_uri": "https://localhost:8080/"
    },
    "id": "t401Y7b2GNCQ",
    "outputId": "95b3bd45-0943-46c6-89c9-7812a4260d50"
   },
   "outputs": [],
   "source": [
    "lst"
   ]
  },
  {
   "cell_type": "code",
   "execution_count": null,
   "metadata": {
    "ExecuteTime": {
     "end_time": "2021-05-05T23:25:42.218226Z",
     "start_time": "2021-05-05T23:25:42.214237Z"
    },
    "colab": {
     "base_uri": "https://localhost:8080/"
    },
    "id": "dI93T1QBGNE4",
    "outputId": "3011ea1a-1f6c-4189-e59b-9776682d9abe"
   },
   "outputs": [],
   "source": [
    "lst.index(3)"
   ]
  },
  {
   "cell_type": "code",
   "execution_count": null,
   "metadata": {
    "ExecuteTime": {
     "end_time": "2021-05-05T23:25:43.174561Z",
     "start_time": "2021-05-05T23:25:43.171966Z"
    },
    "id": "butpqOnJGp2G"
   },
   "outputs": [],
   "source": [
    "lst.insert(3,'d')"
   ]
  },
  {
   "cell_type": "code",
   "execution_count": null,
   "metadata": {
    "ExecuteTime": {
     "end_time": "2021-05-05T23:25:43.936702Z",
     "start_time": "2021-05-05T23:25:43.932959Z"
    },
    "colab": {
     "base_uri": "https://localhost:8080/"
    },
    "id": "_Nwo2XUAGp_k",
    "outputId": "f8eaa54c-32e3-499a-8a94-e4ad4a32c94e"
   },
   "outputs": [],
   "source": [
    "lst"
   ]
  },
  {
   "cell_type": "markdown",
   "metadata": {
    "id": "zJsk3sqMGqCG"
   },
   "source": [
    "---\n",
    "## Functions & Libraries"
   ]
  },
  {
   "cell_type": "code",
   "execution_count": null,
   "metadata": {
    "ExecuteTime": {
     "end_time": "2021-05-05T23:25:47.321501Z",
     "start_time": "2021-05-05T23:25:47.318742Z"
    },
    "id": "Evuug3SZKZVr"
   },
   "outputs": [],
   "source": [
    "def calc(val_1, val_2):\n",
    "    '''\n",
    "    return squared minimun value between inputs \n",
    "    '''\n",
    "    return (min(val_1, val_2))**2"
   ]
  },
  {
   "cell_type": "code",
   "execution_count": null,
   "metadata": {
    "ExecuteTime": {
     "end_time": "2021-05-05T23:25:47.992879Z",
     "start_time": "2021-05-05T23:25:47.988664Z"
    },
    "colab": {
     "base_uri": "https://localhost:8080/"
    },
    "id": "ol5tRo6RLdmi",
    "outputId": "fb49a43a-6500-47d4-d930-9301f60952c1"
   },
   "outputs": [],
   "source": [
    "calc(33, 10)"
   ]
  },
  {
   "cell_type": "code",
   "execution_count": null,
   "metadata": {
    "ExecuteTime": {
     "end_time": "2021-05-05T23:25:49.102324Z",
     "start_time": "2021-05-05T23:25:49.096342Z"
    },
    "id": "Np9GStDlLdwp"
   },
   "outputs": [],
   "source": [
    "def circle_area(rd):\n",
    "    '''\n",
    "    return area of a circle with a radius equal to rd\n",
    "    '''\n",
    "    pi = 3.1416\n",
    "    area = pi*rd**2\n",
    "    print(\"A area do círculo de raio {} é {:.2f}\".format(rd, area))\n",
    "    return rd, area"
   ]
  },
  {
   "cell_type": "code",
   "execution_count": null,
   "metadata": {
    "ExecuteTime": {
     "end_time": "2021-05-05T23:25:51.721872Z",
     "start_time": "2021-05-05T23:25:51.718881Z"
    },
    "colab": {
     "base_uri": "https://localhost:8080/"
    },
    "id": "tQAJ5DuoLdzI",
    "outputId": "8fed76f1-2755-4597-ff5e-6bf3d0cf3241"
   },
   "outputs": [],
   "source": [
    "rd, area = circle_area(5)"
   ]
  },
  {
   "cell_type": "code",
   "execution_count": null,
   "metadata": {
    "ExecuteTime": {
     "end_time": "2021-05-05T23:25:52.591893Z",
     "start_time": "2021-05-05T23:25:52.588360Z"
    },
    "colab": {
     "base_uri": "https://localhost:8080/"
    },
    "id": "Epq82_LtNCgj",
    "outputId": "347656e7-f803-4158-bef3-917dddddc75d"
   },
   "outputs": [],
   "source": [
    "area"
   ]
  },
  {
   "cell_type": "code",
   "execution_count": null,
   "metadata": {
    "ExecuteTime": {
     "end_time": "2021-05-05T23:25:54.916229Z",
     "start_time": "2021-05-05T23:25:54.911978Z"
    }
   },
   "outputs": [],
   "source": [
    "area = round(area, 2)\n",
    "area"
   ]
  },
  {
   "cell_type": "code",
   "execution_count": null,
   "metadata": {
    "ExecuteTime": {
     "end_time": "2021-05-05T23:25:57.920162Z",
     "start_time": "2021-05-05T23:25:57.916490Z"
    },
    "colab": {
     "base_uri": "https://localhost:8080/"
    },
    "id": "ShAuFcAWNCi-",
    "outputId": "17dbb1c1-a08c-4d44-92c2-d986113bfbb0"
   },
   "outputs": [],
   "source": [
    "# ups! Remember that we changed the value \n",
    "pi"
   ]
  },
  {
   "cell_type": "code",
   "execution_count": null,
   "metadata": {
    "ExecuteTime": {
     "end_time": "2021-05-05T23:26:31.917301Z",
     "start_time": "2021-05-05T23:26:31.914823Z"
    },
    "id": "d3BNS6A-NTEU"
   },
   "outputs": [],
   "source": [
    "import math"
   ]
  },
  {
   "cell_type": "code",
   "execution_count": null,
   "metadata": {
    "ExecuteTime": {
     "end_time": "2021-05-05T23:26:32.675586Z",
     "start_time": "2021-05-05T23:26:32.671790Z"
    },
    "colab": {
     "base_uri": "https://localhost:8080/"
    },
    "id": "iXhgR2qYNTNm",
    "outputId": "47871aa4-4d2c-4dcc-f476-ac3b4cd4dbac"
   },
   "outputs": [],
   "source": [
    "math.pi"
   ]
  },
  {
   "cell_type": "code",
   "execution_count": null,
   "metadata": {
    "ExecuteTime": {
     "end_time": "2021-05-05T23:26:36.037291Z",
     "start_time": "2021-05-05T23:26:36.033372Z"
    },
    "colab": {
     "base_uri": "https://localhost:8080/"
    },
    "id": "9iuEqRZqNpAp",
    "outputId": "0f90ee2e-8dae-49ad-b2f8-1a6a8d98bd77"
   },
   "outputs": [],
   "source": [
    "math.pow(3, 3)"
   ]
  },
  {
   "cell_type": "code",
   "execution_count": null,
   "metadata": {
    "ExecuteTime": {
     "end_time": "2021-05-05T23:27:01.019063Z",
     "start_time": "2021-05-05T23:26:58.580119Z"
    },
    "colab": {
     "base_uri": "https://localhost:8080/",
     "height": 283
    },
    "id": "5I40qkNjNpDm",
    "outputId": "57e4ea0a-4a8e-45ca-c6c5-3ef0e00d93e3"
   },
   "outputs": [],
   "source": [
    "import matplotlib.pyplot as plt"
   ]
  },
  {
   "cell_type": "code",
   "execution_count": null,
   "metadata": {
    "ExecuteTime": {
     "end_time": "2021-05-05T23:27:03.751865Z",
     "start_time": "2021-05-05T23:27:03.571411Z"
    },
    "colab": {
     "base_uri": "https://localhost:8080/",
     "height": 283
    },
    "id": "5I40qkNjNpDm",
    "outputId": "57e4ea0a-4a8e-45ca-c6c5-3ef0e00d93e3"
   },
   "outputs": [],
   "source": [
    "x = [1, 2, 3.4, 6, 8]\n",
    "y = [2, 4, 9, 10, 7]\n",
    "plt.plot(x, y, color ='green', marker='o')"
   ]
  },
  {
   "cell_type": "code",
   "execution_count": null,
   "metadata": {
    "ExecuteTime": {
     "end_time": "2021-05-05T16:06:55.099016Z",
     "start_time": "2021-05-05T16:06:54.979766Z"
    },
    "colab": {
     "base_uri": "https://localhost:8080/",
     "height": 281
    },
    "id": "uUT_mSHBUurw",
    "outputId": "e919b78a-91ae-49d4-fca1-249c9b46588a"
   },
   "outputs": [],
   "source": [
    "plt.plot(x, y, 'go')\n",
    "plt.title(\"My Graph\")\n",
    "plt.axis([0,10, 0, 12]); # using ';' to prevent the info line"
   ]
  },
  {
   "cell_type": "code",
   "execution_count": null,
   "metadata": {
    "ExecuteTime": {
     "end_time": "2021-05-05T23:27:55.623984Z",
     "start_time": "2021-05-05T23:27:55.491634Z"
    },
    "colab": {
     "base_uri": "https://localhost:8080/",
     "height": 265
    },
    "id": "Hnam_oI2VEpV",
    "outputId": "c0fb2a7e-67a3-4d37-c69c-657dbb876f56"
   },
   "outputs": [],
   "source": [
    "plt.plot(x);"
   ]
  },
  {
   "cell_type": "code",
   "execution_count": null,
   "metadata": {
    "ExecuteTime": {
     "end_time": "2021-05-05T23:28:02.129779Z",
     "start_time": "2021-05-05T23:28:02.127171Z"
    },
    "id": "oa79uiIOUuuY"
   },
   "outputs": [],
   "source": [
    "import numpy as np"
   ]
  },
  {
   "cell_type": "code",
   "execution_count": null,
   "metadata": {
    "ExecuteTime": {
     "end_time": "2021-05-05T23:28:03.954539Z",
     "start_time": "2021-05-05T23:28:03.951896Z"
    },
    "id": "oa79uiIOUuuY"
   },
   "outputs": [],
   "source": [
    "x = np.arange(0, 4*np.pi, 0.1)"
   ]
  },
  {
   "cell_type": "code",
   "execution_count": null,
   "metadata": {
    "ExecuteTime": {
     "end_time": "2021-05-05T23:28:04.826605Z",
     "start_time": "2021-05-05T23:28:04.821420Z"
    },
    "colab": {
     "base_uri": "https://localhost:8080/"
    },
    "id": "MRpzFPkkYD7n",
    "outputId": "e9467644-4747-4a47-aff7-5ebccb316e31"
   },
   "outputs": [],
   "source": [
    "x"
   ]
  },
  {
   "cell_type": "code",
   "execution_count": null,
   "metadata": {
    "ExecuteTime": {
     "end_time": "2021-05-05T23:28:20.144240Z",
     "start_time": "2021-05-05T23:28:20.140027Z"
    }
   },
   "outputs": [],
   "source": [
    "type(x)"
   ]
  },
  {
   "cell_type": "code",
   "execution_count": null,
   "metadata": {
    "ExecuteTime": {
     "end_time": "2021-05-05T23:28:29.716869Z",
     "start_time": "2021-05-05T23:28:29.714227Z"
    },
    "id": "91b6PsdyYD-T"
   },
   "outputs": [],
   "source": [
    "y = np.sin(x)"
   ]
  },
  {
   "cell_type": "code",
   "execution_count": null,
   "metadata": {
    "ExecuteTime": {
     "end_time": "2021-05-05T23:28:31.655976Z",
     "start_time": "2021-05-05T23:28:31.517448Z"
    },
    "colab": {
     "base_uri": "https://localhost:8080/",
     "height": 281
    },
    "id": "d_mgILcNYEAP",
    "outputId": "f8aa80d8-b52a-4d84-ec99-181be577278e"
   },
   "outputs": [],
   "source": [
    "plt.plot(x,y);\n",
    "plt.title(\"Sinus Wave\")\n",
    "plt.grid();"
   ]
  },
  {
   "cell_type": "code",
   "execution_count": null,
   "metadata": {
    "ExecuteTime": {
     "end_time": "2021-05-05T23:28:39.684631Z",
     "start_time": "2021-05-05T23:28:39.412138Z"
    },
    "colab": {
     "base_uri": "https://localhost:8080/",
     "height": 639
    },
    "id": "o53T1OAoWaJ5",
    "outputId": "39feea69-ca8d-468f-b551-8d27c0ae9bbb"
   },
   "outputs": [],
   "source": [
    "plt.figure(figsize=(10,5))\n",
    "x = np.arange(0, 2*2*np.pi, 0.1)\n",
    "y = 1*np.sin(x)\n",
    "plt.plot(x,y)\n",
    "plt.title(\"Sine Wave\")\n",
    "plt.grid()\n",
    "plt.show()\n",
    "\n",
    "plt.figure(figsize=(10,5))\n",
    "z = np.arange(0, 4*2*np.pi, 0.1)\n",
    "t = np.cos(z)\n",
    "plt.plot(z, t)\n",
    "plt.title(\"Cosine Wave\")\n",
    "plt.grid()"
   ]
  },
  {
   "cell_type": "code",
   "execution_count": null,
   "metadata": {
    "ExecuteTime": {
     "end_time": "2021-05-05T23:29:31.152077Z",
     "start_time": "2021-05-05T23:29:30.966543Z"
    },
    "colab": {
     "base_uri": "https://localhost:8080/",
     "height": 336
    },
    "id": "QZcy1zzbgyn-",
    "outputId": "5e8a237d-f318-47c8-cfad-1824f2d14e2c"
   },
   "outputs": [],
   "source": [
    "plt.figure(figsize=(10,5))\n",
    "x = np.arange(0, 2*2*np.pi, 0.1)\n",
    "y = 1*np.sin(x)\n",
    "#plt.plot(x,y)\n",
    "z = np.arange(0, 4*2*np.pi, 0.1)\n",
    "t = np.cos(x)\n",
    "plt.plot(x, y, x, t)\n",
    "plt.title(\"Sine/Cosine Wave\")\n",
    "plt.grid()"
   ]
  },
  {
   "cell_type": "code",
   "execution_count": null,
   "metadata": {
    "ExecuteTime": {
     "end_time": "2021-05-05T23:29:36.063006Z",
     "start_time": "2021-05-05T23:29:36.058075Z"
    },
    "id": "vxtyGqbGY9Vr"
   },
   "outputs": [],
   "source": [
    "def plot_senoidal(nper=1, amp=1, ph=0):\n",
    "    plt.figure(figsize=(10,5))\n",
    "    x = np.arange(0, nper*2*np.pi, 0.1)\n",
    "    y = amp*np.sin(x+ph*np.pi)\n",
    "    plt.plot(x,y)\n",
    "    plt.title(\"Ondas senoidais\")\n",
    "    plt.grid()\n",
    "    plt.show();"
   ]
  },
  {
   "cell_type": "code",
   "execution_count": null,
   "metadata": {
    "ExecuteTime": {
     "end_time": "2021-05-05T23:29:41.214124Z",
     "start_time": "2021-05-05T23:29:41.073827Z"
    },
    "colab": {
     "base_uri": "https://localhost:8080/",
     "height": 336
    },
    "id": "xxvP3ITOaMCd",
    "outputId": "f1a8a24e-21dc-4c74-e833-12696bb5ac1e"
   },
   "outputs": [],
   "source": [
    "plot_senoidal(nper=2, amp=2, ph=-1/2)"
   ]
  },
  {
   "cell_type": "markdown",
   "metadata": {
    "id": "5F0tXC-mjtlm"
   },
   "source": [
    "# Pandas"
   ]
  },
  {
   "cell_type": "code",
   "execution_count": null,
   "metadata": {
    "ExecuteTime": {
     "end_time": "2021-05-05T23:30:17.274873Z",
     "start_time": "2021-05-05T23:30:13.230739Z"
    },
    "id": "DIr8EgqVjy37"
   },
   "outputs": [],
   "source": [
    "import pandas as pd"
   ]
  },
  {
   "cell_type": "markdown",
   "metadata": {
    "id": "QBIKjfLn7MMr"
   },
   "source": [
    "## Creating a Dataframe"
   ]
  },
  {
   "cell_type": "code",
   "execution_count": null,
   "metadata": {
    "ExecuteTime": {
     "end_time": "2021-05-05T23:30:19.254917Z",
     "start_time": "2021-05-05T23:30:19.247149Z"
    },
    "colab": {
     "base_uri": "https://localhost:8080/"
    },
    "id": "QaW9PfDT7Ywc",
    "outputId": "fbf96792-6c53-4b7e-b26e-1121865e5dce"
   },
   "outputs": [],
   "source": [
    "df = pd.DataFrame({'label': ['A', 'B', 'C', 'A', 'B', 'C'],\n",
    "                   'value_1': [1, 22, 3, 455, 50, 6],\n",
    "                   'value_2': [1.5, 2.8, 3.9, 4.85, 50.67, 6.78],\n",
    "                   })\n",
    "df.shape"
   ]
  },
  {
   "cell_type": "code",
   "execution_count": null,
   "metadata": {
    "ExecuteTime": {
     "end_time": "2021-05-05T23:30:20.088034Z",
     "start_time": "2021-05-05T23:30:20.060929Z"
    },
    "colab": {
     "base_uri": "https://localhost:8080/",
     "height": 233
    },
    "id": "vNUvEz7t7Y5B",
    "outputId": "5413e982-f406-4ebe-ab90-e67bdfed9b6e"
   },
   "outputs": [],
   "source": [
    "df"
   ]
  },
  {
   "cell_type": "code",
   "execution_count": null,
   "metadata": {
    "ExecuteTime": {
     "end_time": "2021-05-05T23:30:21.214701Z",
     "start_time": "2021-05-05T23:30:21.208102Z"
    },
    "colab": {
     "base_uri": "https://localhost:8080/"
    },
    "id": "FqPG4_Zz7_qL",
    "outputId": "e45fbea3-e822-48b2-ca47-6296c33383eb"
   },
   "outputs": [],
   "source": [
    "df.info()"
   ]
  },
  {
   "cell_type": "code",
   "execution_count": null,
   "metadata": {
    "ExecuteTime": {
     "end_time": "2021-05-05T23:30:26.174556Z",
     "start_time": "2021-05-05T23:30:26.164041Z"
    },
    "colab": {
     "base_uri": "https://localhost:8080/",
     "height": 233
    },
    "id": "Q3jrPC8f8gGY",
    "outputId": "3dc5e032-2850-457b-952b-e11e4594880b"
   },
   "outputs": [],
   "source": [
    "df['value_3'] = [True, True, False, False, True, True]\n",
    "df"
   ]
  },
  {
   "cell_type": "code",
   "execution_count": null,
   "metadata": {
    "ExecuteTime": {
     "end_time": "2021-05-05T23:30:29.681145Z",
     "start_time": "2021-05-05T23:30:29.673868Z"
    },
    "colab": {
     "base_uri": "https://localhost:8080/"
    },
    "id": "M4T48LZx9GHB",
    "outputId": "043c17c6-b073-4197-d422-1fd8809538d6"
   },
   "outputs": [],
   "source": [
    "df.info()"
   ]
  },
  {
   "cell_type": "code",
   "execution_count": null,
   "metadata": {
    "ExecuteTime": {
     "end_time": "2021-05-05T23:30:30.650584Z",
     "start_time": "2021-05-05T23:30:30.642320Z"
    },
    "colab": {
     "base_uri": "https://localhost:8080/",
     "height": 110
    },
    "id": "vTX2T3Hj9j0S",
    "outputId": "c4ca7213-d6c4-40a1-c486-479bdad5bd21"
   },
   "outputs": [],
   "source": [
    "df.head(2)"
   ]
  },
  {
   "cell_type": "code",
   "execution_count": null,
   "metadata": {
    "ExecuteTime": {
     "end_time": "2021-05-05T23:30:33.384453Z",
     "start_time": "2021-05-05T23:30:33.375475Z"
    },
    "colab": {
     "base_uri": "https://localhost:8080/",
     "height": 110
    },
    "id": "tnYJee0n92Tr",
    "outputId": "2ad699e9-0040-43d7-a651-7e1c94834573"
   },
   "outputs": [],
   "source": [
    "df.tail(2)"
   ]
  },
  {
   "cell_type": "code",
   "execution_count": null,
   "metadata": {
    "ExecuteTime": {
     "end_time": "2021-05-05T23:30:42.133190Z",
     "start_time": "2021-05-05T23:30:42.117467Z"
    },
    "colab": {
     "base_uri": "https://localhost:8080/",
     "height": 294
    },
    "id": "g9b_U-PB99LW",
    "outputId": "2c7a7e4e-e90a-4c96-841d-00edf99d973a"
   },
   "outputs": [],
   "source": [
    "# Generate descriptive statistics - numeric values\n",
    "df.describe()"
   ]
  },
  {
   "cell_type": "markdown",
   "metadata": {},
   "source": [
    "Inspecting non numeric values"
   ]
  },
  {
   "cell_type": "code",
   "execution_count": null,
   "metadata": {
    "ExecuteTime": {
     "end_time": "2021-05-05T23:30:46.866823Z",
     "start_time": "2021-05-05T23:30:46.861463Z"
    },
    "colab": {
     "base_uri": "https://localhost:8080/"
    },
    "id": "xF5CbB3h9kGr",
    "outputId": "494e99c4-45be-4f44-86a0-fccc6a5f4847"
   },
   "outputs": [],
   "source": [
    "df.label.value_counts()"
   ]
  },
  {
   "cell_type": "code",
   "execution_count": null,
   "metadata": {
    "ExecuteTime": {
     "end_time": "2021-05-05T23:30:47.663162Z",
     "start_time": "2021-05-05T23:30:47.656549Z"
    },
    "colab": {
     "base_uri": "https://localhost:8080/"
    },
    "id": "v5Upx1BK-hDC",
    "outputId": "3a22eefa-888d-4685-d0fc-6da265f688ae"
   },
   "outputs": [],
   "source": [
    "df.value_3.value_counts()"
   ]
  },
  {
   "cell_type": "markdown",
   "metadata": {
    "id": "LQJWK8Wu-yuZ"
   },
   "source": [
    "## Downloading a dataset from a URL"
   ]
  },
  {
   "cell_type": "code",
   "execution_count": null,
   "metadata": {
    "ExecuteTime": {
     "end_time": "2021-05-05T23:30:53.384467Z",
     "start_time": "2021-05-05T23:30:52.763365Z"
    },
    "colab": {
     "base_uri": "https://localhost:8080/"
    },
    "id": "Dsngz5Tjllg_",
    "outputId": "5ad10139-f41f-4140-aaf9-8437af359175"
   },
   "outputs": [],
   "source": [
    "url=\"https://raw.githubusercontent.com/cs109/2014_data/master/countries.csv\"\n",
    "df=pd.read_csv(url)\n",
    "df.shape"
   ]
  },
  {
   "cell_type": "code",
   "execution_count": null,
   "metadata": {
    "ExecuteTime": {
     "end_time": "2021-05-05T23:30:54.258506Z",
     "start_time": "2021-05-05T23:30:54.251070Z"
    },
    "colab": {
     "base_uri": "https://localhost:8080/",
     "height": 202
    },
    "id": "jCocvcNfllj9",
    "outputId": "2ae309b9-c35c-4eae-ecc5-c9d6d81e3033"
   },
   "outputs": [],
   "source": [
    "df.head()"
   ]
  },
  {
   "cell_type": "code",
   "execution_count": null,
   "metadata": {
    "ExecuteTime": {
     "end_time": "2021-05-05T23:30:57.165360Z",
     "start_time": "2021-05-05T23:30:57.159221Z"
    },
    "colab": {
     "base_uri": "https://localhost:8080/"
    },
    "id": "Gf4aBwTrlln4",
    "outputId": "42f1efe1-c5df-45b7-94f3-c0c7f87e60d9"
   },
   "outputs": [],
   "source": [
    "df.Region.value_counts()"
   ]
  },
  {
   "cell_type": "code",
   "execution_count": null,
   "metadata": {
    "ExecuteTime": {
     "end_time": "2021-05-05T23:30:58.953498Z",
     "start_time": "2021-05-05T23:30:58.948607Z"
    },
    "colab": {
     "base_uri": "https://localhost:8080/"
    },
    "id": "UT6ok3LgllpZ",
    "outputId": "deadad89-c061-4dcb-868c-4355629f1d6b"
   },
   "outputs": [],
   "source": [
    "sa_countries = df[df.Region == 'SOUTH AMERICA'].Country.values\n",
    "sa_countries"
   ]
  },
  {
   "cell_type": "code",
   "execution_count": null,
   "metadata": {
    "ExecuteTime": {
     "end_time": "2021-05-05T23:30:59.917458Z",
     "start_time": "2021-05-05T23:30:59.911316Z"
    },
    "colab": {
     "base_uri": "https://localhost:8080/"
    },
    "id": "2k84EQKn_rtB",
    "outputId": "e34bb0f1-076c-46d7-a664-9a072b49ea5e"
   },
   "outputs": [],
   "source": [
    "ww_regions = df.Region.value_counts()\n",
    "ww_regions"
   ]
  },
  {
   "cell_type": "code",
   "execution_count": null,
   "metadata": {
    "ExecuteTime": {
     "end_time": "2021-05-05T23:31:04.493747Z",
     "start_time": "2021-05-05T23:31:04.490042Z"
    },
    "colab": {
     "base_uri": "https://localhost:8080/"
    },
    "id": "-35A_GkJ_7du",
    "outputId": "044d4ce1-d82b-4820-8f94-aa2af022819b"
   },
   "outputs": [],
   "source": [
    "type(ww_regions)"
   ]
  },
  {
   "cell_type": "markdown",
   "metadata": {
    "id": "7dd2n7b2AUKU"
   },
   "source": [
    "## Uploading dataset from local computer"
   ]
  },
  {
   "cell_type": "markdown",
   "metadata": {},
   "source": [
    "### Direct in the Computer"
   ]
  },
  {
   "cell_type": "code",
   "execution_count": null,
   "metadata": {
    "ExecuteTime": {
     "end_time": "2021-05-05T23:40:13.082124Z",
     "start_time": "2021-05-05T23:40:12.925557Z"
    }
   },
   "outputs": [],
   "source": [
    "# here are my files, you should be different\n",
    "!ls"
   ]
  },
  {
   "cell_type": "code",
   "execution_count": null,
   "metadata": {
    "ExecuteTime": {
     "end_time": "2021-05-05T16:21:55.710265Z",
     "start_time": "2021-05-05T16:21:55.582449Z"
    }
   },
   "outputs": [],
   "source": [
    "# going \"one layer up\"\n",
    "!ls ../"
   ]
  },
  {
   "cell_type": "code",
   "execution_count": null,
   "metadata": {
    "ExecuteTime": {
     "end_time": "2021-05-05T16:22:10.052447Z",
     "start_time": "2021-05-05T16:22:09.920143Z"
    }
   },
   "outputs": [],
   "source": [
    "!ls ../data"
   ]
  },
  {
   "cell_type": "code",
   "execution_count": null,
   "metadata": {
    "ExecuteTime": {
     "end_time": "2021-05-05T23:33:06.430736Z",
     "start_time": "2021-05-05T23:33:06.427839Z"
    }
   },
   "outputs": [],
   "source": [
    "path = '../data/brazil_states_info.csv'"
   ]
  },
  {
   "cell_type": "markdown",
   "metadata": {},
   "source": [
    "### From Computer - Colab"
   ]
  },
  {
   "cell_type": "code",
   "execution_count": null,
   "metadata": {
    "colab": {
     "base_uri": "https://localhost:8080/",
     "height": 73,
     "resources": {
      "http://localhost:8080/nbextensions/google.colab/files.js": {
       "data": "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",
       "headers": [
        [
         "content-type",
         "application/javascript"
        ]
       ],
       "ok": true,
       "status": 200,
       "status_text": ""
      }
     }
    },
    "id": "wRGvG_pFkZwv",
    "outputId": "5aa1dc9d-23a3-469f-88c1-2ddea6c8f0df"
   },
   "outputs": [],
   "source": [
    "from google.colab import files\n",
    "uploaded = files.upload()"
   ]
  },
  {
   "cell_type": "code",
   "execution_count": null,
   "metadata": {
    "colab": {
     "base_uri": "https://localhost:8080/"
    },
    "id": "iWG88aNeAhYl",
    "outputId": "37a8b5a9-e449-42b3-d73f-fdcfec1c6efa"
   },
   "outputs": [],
   "source": [
    "uploaded"
   ]
  },
  {
   "cell_type": "code",
   "execution_count": null,
   "metadata": {
    "id": "JrWiqDsEAheb"
   },
   "outputs": [],
   "source": [
    "path = \"/content/brazil_states_info.csv\""
   ]
  },
  {
   "cell_type": "markdown",
   "metadata": {},
   "source": [
    "### Creating Dataframe and Inspecting data"
   ]
  },
  {
   "cell_type": "code",
   "execution_count": null,
   "metadata": {
    "ExecuteTime": {
     "end_time": "2021-05-05T23:33:11.177421Z",
     "start_time": "2021-05-05T23:33:11.160972Z"
    },
    "colab": {
     "base_uri": "https://localhost:8080/"
    },
    "id": "uUaJFBx1Ahir",
    "outputId": "299e258c-56ff-4d08-fe99-e9f68710290e"
   },
   "outputs": [],
   "source": [
    "br = pd.read_csv(path)\n",
    "br.shape"
   ]
  },
  {
   "cell_type": "code",
   "execution_count": null,
   "metadata": {
    "ExecuteTime": {
     "end_time": "2021-05-05T23:33:12.327895Z",
     "start_time": "2021-05-05T23:33:12.315757Z"
    },
    "colab": {
     "base_uri": "https://localhost:8080/",
     "height": 237
    },
    "id": "sSD3UrXDDk26",
    "outputId": "7d5fd224-5bfa-44a7-b66d-30cf19580418"
   },
   "outputs": [],
   "source": [
    "br.head()"
   ]
  },
  {
   "cell_type": "code",
   "execution_count": null,
   "metadata": {
    "ExecuteTime": {
     "end_time": "2021-05-05T23:33:13.756967Z",
     "start_time": "2021-05-05T23:33:13.746809Z"
    },
    "colab": {
     "base_uri": "https://localhost:8080/",
     "height": 237
    },
    "id": "tvhErianDk5z",
    "outputId": "3d0f45d1-3859-4c5e-d9cd-0e68aad75d8f"
   },
   "outputs": [],
   "source": [
    "del br['Unnamed: 0']\n",
    "br.head()"
   ]
  },
  {
   "cell_type": "code",
   "execution_count": null,
   "metadata": {
    "ExecuteTime": {
     "end_time": "2021-05-05T23:33:16.397139Z",
     "start_time": "2021-05-05T23:33:16.390403Z"
    },
    "colab": {
     "base_uri": "https://localhost:8080/"
    },
    "id": "Bv_r3lCOEH8A",
    "outputId": "2ffc5c86-2a83-481f-b19b-4f78fb75fa95"
   },
   "outputs": [],
   "source": [
    "br[br['Area(km2)'] == br['Area(km2)'].min()].state"
   ]
  },
  {
   "cell_type": "code",
   "execution_count": null,
   "metadata": {
    "ExecuteTime": {
     "end_time": "2021-05-05T23:33:17.171683Z",
     "start_time": "2021-05-05T23:33:17.160108Z"
    },
    "colab": {
     "base_uri": "https://localhost:8080/",
     "height": 79
    },
    "id": "Zgv_G38vFY6a",
    "outputId": "a3ded464-1af8-4c74-bfc7-3c9731b3fc12"
   },
   "outputs": [],
   "source": [
    "br[br['Area(km2)'] == br['Area(km2)'].max()]"
   ]
  },
  {
   "cell_type": "code",
   "execution_count": null,
   "metadata": {
    "ExecuteTime": {
     "end_time": "2021-05-05T23:33:18.729623Z",
     "start_time": "2021-05-05T23:33:18.407479Z"
    },
    "colab": {
     "base_uri": "https://localhost:8080/",
     "height": 297
    },
    "id": "wCYjbTjpEIGj",
    "outputId": "ea177bc6-aa6b-40de-dd33-4110f075d100"
   },
   "outputs": [],
   "source": [
    "br.plot.bar(x='UF', y='Population(2019)');"
   ]
  },
  {
   "cell_type": "code",
   "execution_count": null,
   "metadata": {
    "ExecuteTime": {
     "end_time": "2021-05-05T23:33:20.027710Z",
     "start_time": "2021-05-05T23:33:19.766555Z"
    },
    "colab": {
     "base_uri": "https://localhost:8080/",
     "height": 279
    },
    "id": "s4Dka17mHyOi",
    "outputId": "17ff8917-e1fa-44b2-83c8-c7c562e3ca6c"
   },
   "outputs": [],
   "source": [
    "br[['UF', 'GDP (R$millions, 2016)', 'Population(2019)']].plot.bar(stacked=True);"
   ]
  },
  {
   "cell_type": "markdown",
   "metadata": {
    "id": "j5VxZ0pGJvdu"
   },
   "source": [
    "https://pandas.pydata.org/docs/reference/api/pandas.DataFrame.plot.bar.html"
   ]
  },
  {
   "cell_type": "markdown",
   "metadata": {
    "id": "xfi4r1OoAgdZ"
   },
   "source": [
    "## Other datasets"
   ]
  },
  {
   "cell_type": "code",
   "execution_count": null,
   "metadata": {
    "ExecuteTime": {
     "end_time": "2021-05-05T16:26:37.122640Z",
     "start_time": "2021-05-05T16:26:19.772658Z"
    },
    "colab": {
     "base_uri": "https://localhost:8080/"
    },
    "id": "QiolfiMhpcN3",
    "outputId": "741aa7b8-e2e0-4f3b-c2ee-2a5c99f33d4c",
    "scrolled": true
   },
   "outputs": [],
   "source": [
    "!pip install world_bank_data --upgrade"
   ]
  },
  {
   "cell_type": "code",
   "execution_count": null,
   "metadata": {
    "ExecuteTime": {
     "end_time": "2021-05-05T16:26:42.785604Z",
     "start_time": "2021-05-05T16:26:42.701608Z"
    },
    "id": "ZM84VnqYpjMj"
   },
   "outputs": [],
   "source": [
    "import world_bank_data as wb"
   ]
  },
  {
   "cell_type": "code",
   "execution_count": null,
   "metadata": {
    "colab": {
     "base_uri": "https://localhost:8080/"
    },
    "id": "ODEMWgCUpwPH",
    "outputId": "502a0a2f-7eee-446e-f35c-67ba7fe66d9c"
   },
   "outputs": [],
   "source": [
    "df = wb.get_countries()\n",
    "df.shape"
   ]
  },
  {
   "cell_type": "code",
   "execution_count": null,
   "metadata": {
    "colab": {
     "base_uri": "https://localhost:8080/",
     "height": 337
    },
    "id": "WLFiXED_qCS_",
    "outputId": "e2ed6b40-ed3b-4cd3-81f5-69449e5e4ce0"
   },
   "outputs": [],
   "source": [
    "df.head()"
   ]
  },
  {
   "cell_type": "code",
   "execution_count": null,
   "metadata": {
    "colab": {
     "base_uri": "https://localhost:8080/",
     "height": 265
    },
    "id": "TsDo1WKQqHKT",
    "outputId": "d4d86458-0604-49a2-f3e1-542fc2b89967"
   },
   "outputs": [],
   "source": [
    "plt.plot(df.longitude, df.latitude, 'ro');"
   ]
  }
 ],
 "metadata": {
  "colab": {
   "name": "Test Python.ipynb",
   "provenance": [],
   "toc_visible": true
  },
  "hide_input": false,
  "kernelspec": {
   "display_name": "Tf2_Py37",
   "language": "python",
   "name": "tf2_py37"
  },
  "language_info": {
   "codemirror_mode": {
    "name": "ipython",
    "version": 3
   },
   "file_extension": ".py",
   "mimetype": "text/x-python",
   "name": "python",
   "nbconvert_exporter": "python",
   "pygments_lexer": "ipython3",
   "version": "3.7.7"
  },
  "nbTranslate": {
   "displayLangs": [
    "*"
   ],
   "hotkey": "alt-t",
   "langInMainMenu": true,
   "sourceLang": "en",
   "targetLang": "fr",
   "useGoogleTranslate": true
  },
  "toc": {
   "base_numbering": 1,
   "nav_menu": {},
   "number_sections": true,
   "sideBar": true,
   "skip_h1_title": true,
   "title_cell": "Table of Contents",
   "title_sidebar": "Contents",
   "toc_cell": false,
   "toc_position": {},
   "toc_section_display": true,
   "toc_window_display": true
  },
  "varInspector": {
   "cols": {
    "lenName": 16,
    "lenType": 16,
    "lenVar": 40
   },
   "kernels_config": {
    "python": {
     "delete_cmd_postfix": "",
     "delete_cmd_prefix": "del ",
     "library": "var_list.py",
     "varRefreshCmd": "print(var_dic_list())"
    },
    "r": {
     "delete_cmd_postfix": ") ",
     "delete_cmd_prefix": "rm(",
     "library": "var_list.r",
     "varRefreshCmd": "cat(var_dic_list()) "
    }
   },
   "types_to_exclude": [
    "module",
    "function",
    "builtin_function_or_method",
    "instance",
    "_Feature"
   ],
   "window_display": false
  }
 },
 "nbformat": 4,
 "nbformat_minor": 1
}
