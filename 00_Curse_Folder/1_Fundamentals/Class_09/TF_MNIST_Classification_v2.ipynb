{
 "cells": [
  {
   "cell_type": "markdown",
   "metadata": {
    "id": "Zo2JiEtkzvQL"
   },
   "source": [
    "# Digit Classification using Dense Neural Network (DNN) - Version 2 \n",
    " - Using validation and test data "
   ]
  },
  {
   "cell_type": "markdown",
   "metadata": {
    "id": "ZLLenukpg6VN"
   },
   "source": [
    "## ==> Verify on Runtime tab if GPU is active on Runtime type"
   ]
  },
  {
   "cell_type": "markdown",
   "metadata": {
    "id": "z56YN3JZ0Duh"
   },
   "source": [
    "## Import Libraries"
   ]
  },
  {
   "cell_type": "code",
   "execution_count": 1,
   "metadata": {
    "id": "YfPnR74Gzc_q"
   },
   "outputs": [
    {
     "name": "stdout",
     "output_type": "stream",
     "text": [
      "Init Plugin\n",
      "Init Graph Optimizer\n",
      "Init Kernel\n"
     ]
    }
   ],
   "source": [
    "import numpy as np\n",
    "import matplotlib.pyplot as plt\n",
    "import tensorflow as tf"
   ]
  },
  {
   "cell_type": "markdown",
   "metadata": {
    "id": "xrGLDV6q0PCc"
   },
   "source": [
    "## Upload and Explore Dataset\n",
    "[MNIST](http://yann.lecun.com/exdb/mnist/) handwritten digits dataset\n",
    "\n",
    "The MNIST database of handwritten digits, is also available from this [TF page](https://www.tensorflow.org/api_docs/python/tf/keras/datasets/mnist/load_data), has a training set of 60,000 28x28 grayscale images of the 10 digits along a test set of 10,000 images. It is a subset of a larger set available from NIST. The digits have been size-normalized and centered in a fixed-size image.\n"
   ]
  },
  {
   "cell_type": "code",
   "execution_count": 2,
   "metadata": {
    "id": "Ib2Ihepx0N6h"
   },
   "outputs": [],
   "source": [
    "data = tf.keras.datasets.mnist\n",
    "\n",
    "(tt_images, tt_labels), (test_images, test_labels) = data.load_data()"
   ]
  },
  {
   "cell_type": "code",
   "execution_count": 3,
   "metadata": {
    "id": "78pNLabSX-LF"
   },
   "outputs": [
    {
     "name": "stdout",
     "output_type": "stream",
     "text": [
      "(60000, 28, 28)\n",
      "(60000,)\n"
     ]
    }
   ],
   "source": [
    "print(tt_images.shape)\n",
    "print(tt_labels.shape)"
   ]
  },
  {
   "cell_type": "code",
   "execution_count": 4,
   "metadata": {
    "id": "qHaUYnSs4bq4"
   },
   "outputs": [
    {
     "name": "stdout",
     "output_type": "stream",
     "text": [
      "(10000, 28, 28)\n",
      "(10000,)\n"
     ]
    }
   ],
   "source": [
    "print(test_images.shape)\n",
    "print(test_labels.shape)"
   ]
  },
  {
   "cell_type": "code",
   "execution_count": 5,
   "metadata": {
    "id": "fzQgqFXcXSba"
   },
   "outputs": [
    {
     "data": {
      "text/plain": [
       "array([5, 0, 4, 1, 9, 2, 1, 3, 1, 4], dtype=uint8)"
      ]
     },
     "execution_count": 5,
     "metadata": {},
     "output_type": "execute_result"
    }
   ],
   "source": [
    "tt_labels[:10]"
   ]
  },
  {
   "cell_type": "code",
   "execution_count": 6,
   "metadata": {
    "id": "IEmBmJqGYMpv"
   },
   "outputs": [
    {
     "data": {
      "image/png": "[encoded data removed]",
      "text/plain": [
       "<Figure size 432x288 with 1 Axes>"
      ]
     },
     "metadata": {
      "needs_background": "light"
     },
     "output_type": "display_data"
    }
   ],
   "source": [
    "plt.hist(tt_labels);\n",
    "plt.hist(test_labels);"
   ]
  },
  {
   "cell_type": "code",
   "execution_count": 7,
   "metadata": {
    "id": "u_e88OtBak7n"
   },
   "outputs": [],
   "source": [
    "val_images = tt_images[:10000]\n",
    "val_labels = tt_labels[:10000]"
   ]
  },
  {
   "cell_type": "code",
   "execution_count": 8,
   "metadata": {
    "id": "MtTSlX3TaDqj"
   },
   "outputs": [],
   "source": [
    "train_images = tt_images[10000:]\n",
    "train_labels = tt_labels[10000:]"
   ]
  },
  {
   "cell_type": "code",
   "execution_count": 9,
   "metadata": {
    "id": "pq1bMIRd38b8"
   },
   "outputs": [
    {
     "name": "stdout",
     "output_type": "stream",
     "text": [
      "(50000, 28, 28)\n",
      "(50000,)\n"
     ]
    }
   ],
   "source": [
    "print(train_images.shape)\n",
    "print(train_labels.shape)"
   ]
  },
  {
   "cell_type": "code",
   "execution_count": 10,
   "metadata": {
    "id": "Nj2dTT44awxD"
   },
   "outputs": [
    {
     "name": "stdout",
     "output_type": "stream",
     "text": [
      "(10000, 28, 28)\n",
      "(10000,)\n"
     ]
    }
   ],
   "source": [
    "print(val_images.shape)\n",
    "print(val_labels.shape)"
   ]
  },
  {
   "cell_type": "code",
   "execution_count": 11,
   "metadata": {
    "id": "8N4sFgGLaXYQ"
   },
   "outputs": [
    {
     "data": {
      "image/png": "[encoded data removed]",
      "text/plain": [
       "<Figure size 432x288 with 1 Axes>"
      ]
     },
     "metadata": {
      "needs_background": "light"
     },
     "output_type": "display_data"
    }
   ],
   "source": [
    "plt.hist(train_labels, alpha=0.5, label='Train')\n",
    "plt.hist(test_labels, alpha=0.5, label='Val')\n",
    "plt.hist(val_labels, alpha=0.5, label='Test');"
   ]
  },
  {
   "cell_type": "code",
   "execution_count": 12,
   "metadata": {
    "id": "zyaS6AgJd9_q"
   },
   "outputs": [
    {
     "name": "stdout",
     "output_type": "stream",
     "text": [
      "     Label of image 1000 is: 9\n"
     ]
    },
    {
     "data": {
      "image/png": "[encoded data removed]",
      "text/plain": [
       "<Figure size 432x288 with 1 Axes>"
      ]
     },
     "metadata": {
      "needs_background": "light"
     },
     "output_type": "display_data"
    }
   ],
   "source": [
    "img = 1000\n",
    "print(\"     Label of image {} is: {}\".format(img, test_labels[img]))\n",
    "plt.imshow(test_images[img], cmap='gray');"
   ]
  },
  {
   "cell_type": "markdown",
   "metadata": {
    "id": "0-H0LwB_7von"
   },
   "source": [
    "### Preprocessing Data \n",
    "\n",
    "**Normalizing Data**: \n",
    "We notice that all of the values in the number are between 0 and 255. If we are training a neural network, for various reasons it's easier if we treat all values as between 0 and 1, a process called 'normalizing'."
   ]
  },
  {
   "cell_type": "code",
   "execution_count": 13,
   "metadata": {
    "id": "uZrGVMsH0X3F"
   },
   "outputs": [],
   "source": [
    "train_images  = train_images / 255.0\n",
    "val_images = val_images / 255.0\n",
    "test_images = test_images / 255.0"
   ]
  },
  {
   "cell_type": "markdown",
   "metadata": {
    "id": "pYMsyOk8-xnf"
   },
   "source": [
    "## Define and Compile Model"
   ]
  },
  {
   "cell_type": "code",
   "execution_count": 14,
   "metadata": {
    "id": "dEdoqWl28dB3"
   },
   "outputs": [
    {
     "name": "stdout",
     "output_type": "stream",
     "text": [
      "Metal device set to: Apple M1 Pro\n",
      "Model: \"sequential\"\n",
      "_________________________________________________________________\n",
      "Layer (type)                 Output Shape              Param #   \n",
      "=================================================================\n",
      "flatten (Flatten)            (None, 784)               0         \n",
      "_________________________________________________________________\n",
      "dense (Dense)                (None, 20)                15700     \n",
      "_________________________________________________________________\n",
      "dense_1 (Dense)              (None, 10)                210       \n",
      "=================================================================\n",
      "Total params: 15,910\n",
      "Trainable params: 15,910\n",
      "Non-trainable params: 0\n",
      "_________________________________________________________________\n"
     ]
    },
    {
     "name": "stderr",
     "output_type": "stream",
     "text": [
      "2021-12-20 12:36:14.080477: I tensorflow/core/common_runtime/pluggable_device/pluggable_device_factory.cc:305] Could not identify NUMA node of platform GPU ID 0, defaulting to 0. Your kernel may not have been built with NUMA support.\n",
      "2021-12-20 12:36:14.081027: I tensorflow/core/common_runtime/pluggable_device/pluggable_device_factory.cc:271] Created TensorFlow device (/job:localhost/replica:0/task:0/device:GPU:0 with 0 MB memory) -> physical PluggableDevice (device: 0, name: METAL, pci bus id: <undefined>)\n"
     ]
    }
   ],
   "source": [
    "model = tf.keras.models.Sequential([tf.keras.layers.Flatten(input_shape=(28,28)),\n",
    "                                    tf.keras.layers.Dense(20, activation=tf.nn.relu),\n",
    "                                    tf.keras.layers.Dense(10, activation=tf.nn.softmax)])\n",
    "model.summary()"
   ]
  },
  {
   "cell_type": "code",
   "execution_count": 15,
   "metadata": {
    "id": "Qr_eCKjGbtOt"
   },
   "outputs": [],
   "source": [
    "from tensorflow.keras.models import Sequential\n",
    "from tensorflow.keras.layers import Flatten, Dense"
   ]
  },
  {
   "cell_type": "code",
   "execution_count": 16,
   "metadata": {
    "id": "xJz_2NgwcIiZ"
   },
   "outputs": [
    {
     "name": "stdout",
     "output_type": "stream",
     "text": [
      "Model: \"sequential_1\"\n",
      "_________________________________________________________________\n",
      "Layer (type)                 Output Shape              Param #   \n",
      "=================================================================\n",
      "flatten_1 (Flatten)          (None, 784)               0         \n",
      "_________________________________________________________________\n",
      "dense_2 (Dense)              (None, 20)                15700     \n",
      "_________________________________________________________________\n",
      "dense_3 (Dense)              (None, 10)                210       \n",
      "=================================================================\n",
      "Total params: 15,910\n",
      "Trainable params: 15,910\n",
      "Non-trainable params: 0\n",
      "_________________________________________________________________\n"
     ]
    }
   ],
   "source": [
    "model = Sequential([Flatten(input_shape=(28,28)),\n",
    "                    Dense(20, activation='relu'),\n",
    "                    Dense(10, activation='softmax')])\n",
    "model.summary()"
   ]
  },
  {
   "cell_type": "code",
   "execution_count": 17,
   "metadata": {
    "id": "ECBeHUKacZ_4"
   },
   "outputs": [
    {
     "name": "stdout",
     "output_type": "stream",
     "text": [
      "Model: \"sequential_2\"\n",
      "_________________________________________________________________\n",
      "Layer (type)                 Output Shape              Param #   \n",
      "=================================================================\n",
      "flatten_2 (Flatten)          (None, 784)               0         \n",
      "_________________________________________________________________\n",
      "dense_4 (Dense)              (None, 20)                15700     \n",
      "_________________________________________________________________\n",
      "dense_5 (Dense)              (None, 10)                210       \n",
      "=================================================================\n",
      "Total params: 15,910\n",
      "Trainable params: 15,910\n",
      "Non-trainable params: 0\n",
      "_________________________________________________________________\n"
     ]
    }
   ],
   "source": [
    "model = Sequential()\n",
    "model.add(Flatten(input_shape=(28,28)))\n",
    "#model.add(Dense(20, activation='relu'))\n",
    "model.add(Dense(20, activation='relu'))\n",
    "model.add(Dense(10, activation='softmax'))\n",
    "model.summary()"
   ]
  },
  {
   "cell_type": "code",
   "execution_count": 18,
   "metadata": {
    "id": "qQjO9CvIbdar"
   },
   "outputs": [],
   "source": [
    "def create_model():\n",
    "  model = Sequential()\n",
    "  model.add(Flatten(input_shape=(28,28)))\n",
    "  model.add(Dense(20, activation='relu'))\n",
    "  model.add(Dense(10, activation='softmax')) \n",
    "  return model "
   ]
  },
  {
   "cell_type": "code",
   "execution_count": 19,
   "metadata": {
    "id": "X920NSLjbsNp"
   },
   "outputs": [],
   "source": [
    "model = create_model()"
   ]
  },
  {
   "cell_type": "code",
   "execution_count": 20,
   "metadata": {
    "id": "NA21O9Y0_BJ7"
   },
   "outputs": [],
   "source": [
    "model.compile(\n",
    "    optimizer='adam', # uses default learning_rate=0.001\n",
    "    loss='sparse_categorical_crossentropy',\n",
    "    metrics=['accuracy']\n",
    "    )"
   ]
  },
  {
   "cell_type": "code",
   "execution_count": 21,
   "metadata": {
    "id": "Z7BSHPohdZ-Y"
   },
   "outputs": [],
   "source": [
    "from tensorflow.keras.optimizers import Adam, SGD"
   ]
  },
  {
   "cell_type": "code",
   "execution_count": 22,
   "metadata": {
    "id": "l_d2yHsqf_JI"
   },
   "outputs": [],
   "source": [
    "opt = Adam(learning_rate=0.01)\n",
    "model.compile(\n",
    "    optimizer=opt,\n",
    "    loss='sparse_categorical_crossentropy',\n",
    "    metrics=['accuracy']\n",
    "    )"
   ]
  },
  {
   "cell_type": "markdown",
   "metadata": {
    "id": "pJZ4fvT3_yd7"
   },
   "source": [
    "## Train the model"
   ]
  },
  {
   "cell_type": "markdown",
   "metadata": {
    "id": "jL6QDHJnGDm6"
   },
   "source": [
    "You could leave the training data with all samples, and alternativelly use: \n",
    "- `validation_split=0.1` instead of `validation_data=(val_images, val_labels)`.\n",
    "\n",
    "In this case, TF will split the validation data by itself. "
   ]
  },
  {
   "cell_type": "code",
   "execution_count": 23,
   "metadata": {
    "id": "RxklrX_R_uvn"
   },
   "outputs": [
    {
     "name": "stderr",
     "output_type": "stream",
     "text": [
      "2021-12-20 12:36:14.615652: I tensorflow/compiler/mlir/mlir_graph_optimization_pass.cc:176] None of the MLIR Optimization Passes are enabled (registered 2)\n",
      "2021-12-20 12:36:14.618001: W tensorflow/core/platform/profile_utils/cpu_utils.cc:128] Failed to get CPU frequency: 0 Hz\n",
      "2021-12-20 12:36:14.724358: I tensorflow/core/grappler/optimizers/custom_graph_optimizer_registry.cc:112] Plugin optimizer for device_type GPU is enabled.\n"
     ]
    },
    {
     "name": "stdout",
     "output_type": "stream",
     "text": [
      "Epoch 1/20\n",
      "1563/1563 [==============================] - ETA: 0s - loss: 0.3398 - accuracy: 0.8974"
     ]
    },
    {
     "name": "stderr",
     "output_type": "stream",
     "text": [
      "2021-12-20 12:36:21.932284: I tensorflow/core/grappler/optimizers/custom_graph_optimizer_registry.cc:112] Plugin optimizer for device_type GPU is enabled.\n"
     ]
    },
    {
     "name": "stdout",
     "output_type": "stream",
     "text": [
      "1563/1563 [==============================] - 8s 5ms/step - loss: 0.3398 - accuracy: 0.8974 - val_loss: 0.2457 - val_accuracy: 0.9282\n",
      "Epoch 2/20\n",
      "1563/1563 [==============================] - 7s 5ms/step - loss: 0.2388 - accuracy: 0.9303 - val_loss: 0.2324 - val_accuracy: 0.9350\n",
      "Epoch 3/20\n",
      "1563/1563 [==============================] - 7s 5ms/step - loss: 0.2178 - accuracy: 0.9373 - val_loss: 0.2226 - val_accuracy: 0.9366\n",
      "Epoch 4/20\n",
      "1563/1563 [==============================] - 7s 5ms/step - loss: 0.2066 - accuracy: 0.9407 - val_loss: 0.2208 - val_accuracy: 0.9377\n",
      "Epoch 5/20\n",
      "1563/1563 [==============================] - 8s 5ms/step - loss: 0.1951 - accuracy: 0.9423 - val_loss: 0.2059 - val_accuracy: 0.9422\n",
      "Epoch 6/20\n",
      "1563/1563 [==============================] - 8s 5ms/step - loss: 0.1892 - accuracy: 0.9440 - val_loss: 0.2147 - val_accuracy: 0.9388\n",
      "Epoch 7/20\n",
      "1563/1563 [==============================] - 7s 5ms/step - loss: 0.1845 - accuracy: 0.9464 - val_loss: 0.2123 - val_accuracy: 0.9435\n",
      "Epoch 8/20\n",
      "1563/1563 [==============================] - 7s 5ms/step - loss: 0.1788 - accuracy: 0.9482 - val_loss: 0.2106 - val_accuracy: 0.9462\n",
      "Epoch 9/20\n",
      "1563/1563 [==============================] - 7s 5ms/step - loss: 0.1749 - accuracy: 0.9493 - val_loss: 0.2427 - val_accuracy: 0.9399\n",
      "Epoch 10/20\n",
      "1563/1563 [==============================] - 7s 5ms/step - loss: 0.1699 - accuracy: 0.9502 - val_loss: 0.2522 - val_accuracy: 0.9363\n",
      "Epoch 11/20\n",
      "1563/1563 [==============================] - 8s 5ms/step - loss: 0.1683 - accuracy: 0.9498 - val_loss: 0.2536 - val_accuracy: 0.9375\n",
      "Epoch 12/20\n",
      "1563/1563 [==============================] - 8s 5ms/step - loss: 0.1656 - accuracy: 0.9522 - val_loss: 0.2484 - val_accuracy: 0.9357\n",
      "Epoch 13/20\n",
      "1563/1563 [==============================] - 8s 5ms/step - loss: 0.1650 - accuracy: 0.9519 - val_loss: 0.2378 - val_accuracy: 0.9399\n",
      "Epoch 14/20\n",
      "1563/1563 [==============================] - 8s 5ms/step - loss: 0.1616 - accuracy: 0.9531 - val_loss: 0.2215 - val_accuracy: 0.9424\n",
      "Epoch 15/20\n",
      "1563/1563 [==============================] - 7s 5ms/step - loss: 0.1572 - accuracy: 0.9533 - val_loss: 0.2580 - val_accuracy: 0.9412\n",
      "Epoch 16/20\n",
      "1563/1563 [==============================] - 7s 5ms/step - loss: 0.1587 - accuracy: 0.9533 - val_loss: 0.2498 - val_accuracy: 0.9400\n",
      "Epoch 17/20\n",
      "1563/1563 [==============================] - 7s 5ms/step - loss: 0.1548 - accuracy: 0.9541 - val_loss: 0.2550 - val_accuracy: 0.9406\n",
      "Epoch 18/20\n",
      "1563/1563 [==============================] - 7s 5ms/step - loss: 0.1526 - accuracy: 0.9542 - val_loss: 0.2503 - val_accuracy: 0.9402\n",
      "Epoch 19/20\n",
      "1563/1563 [==============================] - 7s 5ms/step - loss: 0.1499 - accuracy: 0.9556 - val_loss: 0.2433 - val_accuracy: 0.9438\n",
      "Epoch 20/20\n",
      "1563/1563 [==============================] - 7s 5ms/step - loss: 0.1530 - accuracy: 0.9548 - val_loss: 0.2615 - val_accuracy: 0.9381\n"
     ]
    }
   ],
   "source": [
    "history = model.fit(\n",
    "    train_images, \n",
    "    train_labels, \n",
    "    epochs=20, \n",
    "    validation_data=(val_images, val_labels) \n",
    "    )"
   ]
  },
  {
   "cell_type": "markdown",
   "metadata": {
    "id": "0xAXSo5-HCIo"
   },
   "source": [
    "Inspecting the model"
   ]
  },
  {
   "cell_type": "code",
   "execution_count": 24,
   "metadata": {
    "id": "g6qHpwg8BpZi"
   },
   "outputs": [
    {
     "data": {
      "image/png": "[encoded data removed]",
      "text/plain": [
       "<Figure size 432x288 with 1 Axes>"
      ]
     },
     "metadata": {
      "needs_background": "light"
     },
     "output_type": "display_data"
    }
   ],
   "source": [
    "plt.plot(history.history['accuracy'], label='accuracy')\n",
    "plt.plot(history.history['val_accuracy'], label='val_accuracy')\n",
    "plt.title('Model Accuracy')\n",
    "plt.ylabel('accuracy')\n",
    "plt.xlabel('epoch')\n",
    "plt.legend(loc='upper left')\n",
    "plt.show()"
   ]
  },
  {
   "cell_type": "markdown",
   "metadata": {
    "id": "CF1jssVyel8D"
   },
   "source": [
    "If validation accuracy seems “instable”, could be that Learning Rate is high (try to reduce it). \n",
    "\n",
    "Let's start over with a lower Lr (for exampe: 0.0001)"
   ]
  },
  {
   "cell_type": "code",
   "execution_count": 25,
   "metadata": {
    "id": "21HE2qcnbMCf",
    "scrolled": false
   },
   "outputs": [
    {
     "name": "stdout",
     "output_type": "stream",
     "text": [
      "Epoch 1/20\n",
      "  35/1563 [..............................] - ETA: 6s - loss: 2.3516 - accuracy: 0.1536"
     ]
    },
    {
     "name": "stderr",
     "output_type": "stream",
     "text": [
      "2021-12-20 12:38:46.186906: I tensorflow/core/grappler/optimizers/custom_graph_optimizer_registry.cc:112] Plugin optimizer for device_type GPU is enabled.\n"
     ]
    },
    {
     "name": "stdout",
     "output_type": "stream",
     "text": [
      "1562/1563 [============================>.] - ETA: 0s - loss: 1.2177 - accuracy: 0.6692"
     ]
    },
    {
     "name": "stderr",
     "output_type": "stream",
     "text": [
      "2021-12-20 12:38:53.292040: I tensorflow/core/grappler/optimizers/custom_graph_optimizer_registry.cc:112] Plugin optimizer for device_type GPU is enabled.\n"
     ]
    },
    {
     "name": "stdout",
     "output_type": "stream",
     "text": [
      "1563/1563 [==============================] - 8s 5ms/step - loss: 1.2177 - accuracy: 0.6692 - val_loss: 0.6191 - val_accuracy: 0.8565\n",
      "Epoch 2/20\n",
      "1563/1563 [==============================] - 7s 5ms/step - loss: 0.5025 - accuracy: 0.8763 - val_loss: 0.4137 - val_accuracy: 0.8925\n",
      "Epoch 3/20\n",
      "1563/1563 [==============================] - 8s 5ms/step - loss: 0.3834 - accuracy: 0.8985 - val_loss: 0.3482 - val_accuracy: 0.9072\n",
      "Epoch 4/20\n",
      "1563/1563 [==============================] - 8s 5ms/step - loss: 0.3346 - accuracy: 0.9085 - val_loss: 0.3152 - val_accuracy: 0.9143\n",
      "Epoch 5/20\n",
      "1563/1563 [==============================] - 8s 5ms/step - loss: 0.3070 - accuracy: 0.9143 - val_loss: 0.2956 - val_accuracy: 0.9195\n",
      "Epoch 6/20\n",
      "1563/1563 [==============================] - 7s 5ms/step - loss: 0.2884 - accuracy: 0.9189 - val_loss: 0.2800 - val_accuracy: 0.9219\n",
      "Epoch 7/20\n",
      "1563/1563 [==============================] - 7s 5ms/step - loss: 0.2747 - accuracy: 0.9228 - val_loss: 0.2703 - val_accuracy: 0.9239\n",
      "Epoch 8/20\n",
      "1563/1563 [==============================] - 8s 5ms/step - loss: 0.2636 - accuracy: 0.9255 - val_loss: 0.2608 - val_accuracy: 0.9273\n",
      "Epoch 9/20\n",
      "1563/1563 [==============================] - 9s 6ms/step - loss: 0.2547 - accuracy: 0.9288 - val_loss: 0.2548 - val_accuracy: 0.9277\n",
      "Epoch 10/20\n",
      "1563/1563 [==============================] - 7s 5ms/step - loss: 0.2469 - accuracy: 0.9309 - val_loss: 0.2471 - val_accuracy: 0.9303\n",
      "Epoch 11/20\n",
      "1563/1563 [==============================] - 7s 5ms/step - loss: 0.2402 - accuracy: 0.9321 - val_loss: 0.2414 - val_accuracy: 0.9326\n",
      "Epoch 12/20\n",
      "1563/1563 [==============================] - 7s 5ms/step - loss: 0.2340 - accuracy: 0.9346 - val_loss: 0.2371 - val_accuracy: 0.9325\n",
      "Epoch 13/20\n",
      "1563/1563 [==============================] - 7s 5ms/step - loss: 0.2285 - accuracy: 0.9364 - val_loss: 0.2325 - val_accuracy: 0.9353\n",
      "Epoch 14/20\n",
      "1563/1563 [==============================] - 7s 5ms/step - loss: 0.2233 - accuracy: 0.9373 - val_loss: 0.2279 - val_accuracy: 0.9354\n",
      "Epoch 15/20\n",
      "1563/1563 [==============================] - 7s 5ms/step - loss: 0.2183 - accuracy: 0.9389 - val_loss: 0.2259 - val_accuracy: 0.9351\n",
      "Epoch 16/20\n",
      "1563/1563 [==============================] - 7s 5ms/step - loss: 0.2144 - accuracy: 0.9399 - val_loss: 0.2211 - val_accuracy: 0.9370\n",
      "Epoch 17/20\n",
      "1563/1563 [==============================] - 7s 5ms/step - loss: 0.2102 - accuracy: 0.9413 - val_loss: 0.2178 - val_accuracy: 0.9381\n",
      "Epoch 18/20\n",
      "1563/1563 [==============================] - 8s 5ms/step - loss: 0.2062 - accuracy: 0.9429 - val_loss: 0.2162 - val_accuracy: 0.9383\n",
      "Epoch 19/20\n",
      "1563/1563 [==============================] - 7s 5ms/step - loss: 0.2024 - accuracy: 0.9436 - val_loss: 0.2129 - val_accuracy: 0.9398\n",
      "Epoch 20/20\n",
      "1563/1563 [==============================] - 7s 5ms/step - loss: 0.1990 - accuracy: 0.9446 - val_loss: 0.2092 - val_accuracy: 0.9405\n"
     ]
    }
   ],
   "source": [
    "opt = Adam(learning_rate=0.0001)\n",
    "\n",
    "model = create_model()\n",
    "model.compile(\n",
    "    optimizer=opt,\n",
    "    loss='sparse_categorical_crossentropy',\n",
    "    metrics=['accuracy']\n",
    "    )\n",
    "\n",
    "history = model.fit(\n",
    "    train_images, \n",
    "    train_labels, \n",
    "    epochs=20, \n",
    "    validation_data=(val_images, val_labels) \n",
    "    )"
   ]
  },
  {
   "cell_type": "code",
   "execution_count": 26,
   "metadata": {
    "id": "DYlZ1ZNrcrGC"
   },
   "outputs": [
    {
     "data": {
      "image/png": "[encoded data removed]",
      "text/plain": [
       "<Figure size 432x288 with 1 Axes>"
      ]
     },
     "metadata": {
      "needs_background": "light"
     },
     "output_type": "display_data"
    }
   ],
   "source": [
    "plt.plot(history.history['accuracy'], label='accuracy')\n",
    "plt.plot(history.history['val_accuracy'], label='val_accuracy')\n",
    "plt.title('Model Accuracy')\n",
    "plt.ylabel('accuracy')\n",
    "plt.xlabel('epoch')\n",
    "plt.legend(loc='upper left')\n",
    "plt.show()"
   ]
  },
  {
   "cell_type": "markdown",
   "metadata": {
    "id": "JYHTdEJVH0tZ"
   },
   "source": [
    "## Testing the trained model\n"
   ]
  },
  {
   "cell_type": "code",
   "execution_count": 27,
   "metadata": {
    "id": "QBuJGqbSH6xT"
   },
   "outputs": [
    {
     "name": "stdout",
     "output_type": "stream",
     "text": [
      "313/313 [==============================] - 1s 4ms/step - loss: 0.2027 - accuracy: 0.9429\n"
     ]
    },
    {
     "data": {
      "text/plain": [
       "[0.2026958018541336, 0.9429000616073608]"
      ]
     },
     "execution_count": 27,
     "metadata": {},
     "output_type": "execute_result"
    }
   ],
   "source": [
    "model.evaluate(test_images, test_labels)"
   ]
  },
  {
   "cell_type": "markdown",
   "metadata": {
    "id": "WVZcgwAQHZMl"
   },
   "source": [
    "**Accuracy**\n",
    "- Train: 0.97; \n",
    "- Validation: 0.96 \n",
    "- Test: 0.95"
   ]
  },
  {
   "cell_type": "code",
   "execution_count": 28,
   "metadata": {
    "id": "rvNEv5BPIwPE"
   },
   "outputs": [
    {
     "data": {
      "image/png": "[encoded data removed]",
      "text/plain": [
       "<Figure size 432x288 with 1 Axes>"
      ]
     },
     "metadata": {
      "needs_background": "light"
     },
     "output_type": "display_data"
    }
   ],
   "source": [
    "plt.imshow(test_images[0]);"
   ]
  },
  {
   "cell_type": "code",
   "execution_count": 29,
   "metadata": {
    "id": "ysGu1V_PJ28-"
   },
   "outputs": [
    {
     "name": "stdout",
     "output_type": "stream",
     "text": [
      "7\n"
     ]
    }
   ],
   "source": [
    "print(test_labels[0])"
   ]
  },
  {
   "cell_type": "code",
   "execution_count": 30,
   "metadata": {
    "id": "tkaTLMaTIbIL"
   },
   "outputs": [
    {
     "name": "stderr",
     "output_type": "stream",
     "text": [
      "2021-12-20 12:41:18.582662: I tensorflow/core/grappler/optimizers/custom_graph_optimizer_registry.cc:112] Plugin optimizer for device_type GPU is enabled.\n"
     ]
    },
    {
     "name": "stdout",
     "output_type": "stream",
     "text": [
      "[1.2957324e-05 4.7132467e-09 4.6839847e-05 2.2744534e-03 4.7890234e-09\n",
      " 1.4896801e-05 1.1495104e-11 9.9753976e-01 8.3034165e-06 1.0265063e-04]\n"
     ]
    }
   ],
   "source": [
    "predictions = model.predict(test_images)\n",
    "print(predictions[0])"
   ]
  },
  {
   "cell_type": "code",
   "execution_count": 31,
   "metadata": {
    "id": "yjenS2EZJH6h"
   },
   "outputs": [
    {
     "data": {
      "text/plain": [
       "7"
      ]
     },
     "execution_count": 31,
     "metadata": {},
     "output_type": "execute_result"
    }
   ],
   "source": [
    "# Returns the indices of the maximum values along an axis.\n",
    "np.argmax(predictions[0])"
   ]
  },
  {
   "cell_type": "code",
   "execution_count": 32,
   "metadata": {
    "id": "JeEgVvBTIx8z"
   },
   "outputs": [
    {
     "data": {
      "text/plain": [
       "(10000,)"
      ]
     },
     "execution_count": 32,
     "metadata": {},
     "output_type": "execute_result"
    }
   ],
   "source": [
    "predictions = np.argmax(predictions, axis=-1)\n",
    "predictions.shape"
   ]
  },
  {
   "cell_type": "code",
   "execution_count": 33,
   "metadata": {
    "id": "8N2zUFaZJIUF"
   },
   "outputs": [
    {
     "data": {
      "text/plain": [
       "array([7, 2, 1, 0, 4, 1, 4, 9, 6, 9])"
      ]
     },
     "execution_count": 33,
     "metadata": {},
     "output_type": "execute_result"
    }
   ],
   "source": [
    "predictions[:10]"
   ]
  },
  {
   "cell_type": "code",
   "execution_count": 34,
   "metadata": {
    "id": "VP0iVCbHHzDI"
   },
   "outputs": [
    {
     "name": "stdout",
     "output_type": "stream",
     "text": [
      "              precision    recall  f1-score   support\n",
      "\n",
      "           0       0.96      0.98      0.97       980\n",
      "           1       0.97      0.98      0.98      1135\n",
      "           2       0.93      0.93      0.93      1032\n",
      "           3       0.92      0.92      0.92      1010\n",
      "           4       0.94      0.95      0.95       982\n",
      "           5       0.94      0.92      0.93       892\n",
      "           6       0.95      0.96      0.95       958\n",
      "           7       0.95      0.94      0.94      1028\n",
      "           8       0.93      0.91      0.92       974\n",
      "           9       0.94      0.92      0.93      1009\n",
      "\n",
      "    accuracy                           0.94     10000\n",
      "   macro avg       0.94      0.94      0.94     10000\n",
      "weighted avg       0.94      0.94      0.94     10000\n",
      "\n"
     ]
    }
   ],
   "source": [
    "from sklearn.metrics import classification_report,confusion_matrix\n",
    "\n",
    "print(classification_report(test_labels, predictions))"
   ]
  },
  {
   "cell_type": "code",
   "execution_count": 35,
   "metadata": {
    "id": "RqQ4K-KqJYWe"
   },
   "outputs": [
    {
     "data": {
      "text/plain": [
       "array([[ 965,    0,    1,    2,    0,    4,    6,    1,    1,    0],\n",
       "       [   0, 1113,    5,    1,    0,    1,    3,    2,   10,    0],\n",
       "       [   6,    5,  961,   17,    8,    2,    7,    7,   17,    2],\n",
       "       [   2,    1,   21,  933,    0,   17,    1,   13,   15,    7],\n",
       "       [   1,    1,    6,    0,  934,    0,    8,    3,    6,   23],\n",
       "       [   8,    1,    2,   24,    4,  819,   12,    5,   10,    7],\n",
       "       [  10,    3,    3,    1,    8,   14,  916,    1,    2,    0],\n",
       "       [   0,    8,   22,    7,    1,    1,    0,  969,    3,   17],\n",
       "       [   5,    5,    6,   21,   10,   13,   11,   11,  886,    6],\n",
       "       [   9,    7,    1,   11,   26,    3,    1,   11,    7,  933]])"
      ]
     },
     "execution_count": 35,
     "metadata": {},
     "output_type": "execute_result"
    }
   ],
   "source": [
    "confusion_matrix(test_labels,predictions)"
   ]
  },
  {
   "cell_type": "code",
   "execution_count": null,
   "metadata": {},
   "outputs": [
    {
     "name": "stdout",
     "output_type": "stream",
     "text": [
      "Collecting package metadata (current_repodata.json): done\n",
      "Solving environment: done\n",
      "\n",
      "## Package Plan ##\n",
      "\n",
      "  environment location: /Users/marcelo_rovai/miniforge3\n",
      "\n",
      "  added / updated specs:\n",
      "    - seaborn\n",
      "\n",
      "\n",
      "The following packages will be downloaded:\n",
      "\n",
      "    package                    |            build\n",
      "    ---------------------------|-----------------\n",
      "    fonttools-4.28.5           |   py39h5161555_0         1.5 MB  conda-forge\n",
      "    munkres-1.1.4              |             py_0          13 KB  anaconda\n",
      "    olefile-0.46               |             py_0          33 KB  anaconda\n",
      "    seaborn-0.11.0             |             py_0         216 KB  anaconda\n",
      "    ------------------------------------------------------------\n",
      "                                           Total:         1.8 MB\n",
      "\n",
      "The following NEW packages will be INSTALLED:\n",
      "\n",
      "  brotli             conda-forge/osx-arm64::brotli-1.0.9-h3422bc3_6\n",
      "  brotli-bin         conda-forge/osx-arm64::brotli-bin-1.0.9-h3422bc3_6\n",
      "  cycler             conda-forge/noarch::cycler-0.11.0-pyhd8ed1ab_0\n",
      "  fonttools          conda-forge/osx-arm64::fonttools-4.28.5-py39h5161555_0\n",
      "  freetype           conda-forge/osx-arm64::freetype-2.10.4-h17b34a0_1\n",
      "  jbig               conda-forge/osx-arm64::jbig-2.1-h3422bc3_2003\n",
      "  jpeg               conda-forge/osx-arm64::jpeg-9d-h27ca646_0\n",
      "  kiwisolver         conda-forge/osx-arm64::kiwisolver-1.3.2-py39h4d2d688_1\n",
      "  lcms2              conda-forge/osx-arm64::lcms2-2.12-had6a04f_0\n",
      "  lerc               conda-forge/osx-arm64::lerc-3.0-hbdafb3b_0\n",
      "  libbrotlicommon    conda-forge/osx-arm64::libbrotlicommon-1.0.9-h3422bc3_6\n",
      "  libbrotlidec       conda-forge/osx-arm64::libbrotlidec-1.0.9-h3422bc3_6\n",
      "  libbrotlienc       conda-forge/osx-arm64::libbrotlienc-1.0.9-h3422bc3_6\n",
      "  libdeflate         conda-forge/osx-arm64::libdeflate-1.8-h3422bc3_0\n",
      "  libpng             conda-forge/osx-arm64::libpng-1.6.37-hf7e6567_2\n",
      "  libtiff            conda-forge/osx-arm64::libtiff-4.3.0-h74060c4_2\n",
      "  libwebp-base       conda-forge/osx-arm64::libwebp-base-1.2.1-h3422bc3_0\n",
      "  lz4-c              conda-forge/osx-arm64::lz4-c-1.9.3-hbdafb3b_1\n",
      "  matplotlib         conda-forge/osx-arm64::matplotlib-3.5.1-py39hdf13c20_0\n",
      "  matplotlib-base    conda-forge/osx-arm64::matplotlib-base-3.5.1-py39h5aa4fe7_0\n",
      "  munkres            anaconda/noarch::munkres-1.1.4-py_0\n",
      "  olefile            anaconda/noarch::olefile-0.46-py_0\n",
      "  openjpeg           conda-forge/osx-arm64::openjpeg-2.4.0-h062765e_1\n",
      "  pandas             conda-forge/osx-arm64::pandas-1.3.5-py39h7f752ed_0\n",
      "  pillow             conda-forge/osx-arm64::pillow-8.4.0-py39ha74c66e_0\n",
      "  pytz               anaconda/noarch::pytz-2020.1-py_0\n",
      "  seaborn            anaconda/noarch::seaborn-0.11.0-py_0\n",
      "  zstd               conda-forge/osx-arm64::zstd-1.5.0-h861e0a7_0\n",
      "\n",
      "\n",
      "\n",
      "Downloading and Extracting Packages\n",
      "seaborn-0.11.0       | 216 KB    |                                       |   0% "
     ]
    }
   ],
   "source": [
    "!conda install -c anaconda seaborn -y"
   ]
  },
  {
   "cell_type": "code",
   "execution_count": 36,
   "metadata": {
    "id": "WaXyFJffLLLY"
   },
   "outputs": [
    {
     "ename": "ModuleNotFoundError",
     "evalue": "No module named 'seaborn'",
     "output_type": "error",
     "traceback": [
      "\u001b[0;31m---------------------------------------------------------------------------\u001b[0m",
      "\u001b[0;31mModuleNotFoundError\u001b[0m                       Traceback (most recent call last)",
      "\u001b[0;32m/var/folders/5v/pg5r64d50z11vmcqp2074q2m0000gn/T/ipykernel_38796/103809710.py\u001b[0m in \u001b[0;36m<module>\u001b[0;34m\u001b[0m\n\u001b[0;32m----> 1\u001b[0;31m \u001b[0;32mimport\u001b[0m \u001b[0mseaborn\u001b[0m \u001b[0;32mas\u001b[0m \u001b[0msns\u001b[0m\u001b[0;34m\u001b[0m\u001b[0;34m\u001b[0m\u001b[0m\n\u001b[0m\u001b[1;32m      2\u001b[0m \u001b[0mplt\u001b[0m\u001b[0;34m.\u001b[0m\u001b[0mfigure\u001b[0m\u001b[0;34m(\u001b[0m\u001b[0mfigsize\u001b[0m\u001b[0;34m=\u001b[0m\u001b[0;34m(\u001b[0m\u001b[0;36m15\u001b[0m\u001b[0;34m,\u001b[0m\u001b[0;36m8\u001b[0m\u001b[0;34m)\u001b[0m\u001b[0;34m)\u001b[0m\u001b[0;34m\u001b[0m\u001b[0;34m\u001b[0m\u001b[0m\n\u001b[1;32m      3\u001b[0m \u001b[0msns\u001b[0m\u001b[0;34m.\u001b[0m\u001b[0mheatmap\u001b[0m\u001b[0;34m(\u001b[0m\u001b[0mconfusion_matrix\u001b[0m\u001b[0;34m(\u001b[0m\u001b[0mtest_labels\u001b[0m\u001b[0;34m,\u001b[0m\u001b[0mpredictions\u001b[0m\u001b[0;34m)\u001b[0m\u001b[0;34m,\u001b[0m \u001b[0mcmap\u001b[0m\u001b[0;34m=\u001b[0m\u001b[0;34m\"Blues\"\u001b[0m\u001b[0;34m,\u001b[0m \u001b[0mannot\u001b[0m\u001b[0;34m=\u001b[0m\u001b[0;32mTrue\u001b[0m\u001b[0;34m,\u001b[0m \u001b[0mfmt\u001b[0m\u001b[0;34m=\u001b[0m\u001b[0;34m'g'\u001b[0m\u001b[0;34m)\u001b[0m\u001b[0;34m;\u001b[0m\u001b[0;34m\u001b[0m\u001b[0;34m\u001b[0m\u001b[0m\n\u001b[1;32m      4\u001b[0m \u001b[0mplt\u001b[0m\u001b[0;34m.\u001b[0m\u001b[0mtitle\u001b[0m\u001b[0;34m(\u001b[0m\u001b[0;34m'Confusion Matrix'\u001b[0m\u001b[0;34m)\u001b[0m\u001b[0;34m\u001b[0m\u001b[0;34m\u001b[0m\u001b[0m\n\u001b[1;32m      5\u001b[0m \u001b[0mplt\u001b[0m\u001b[0;34m.\u001b[0m\u001b[0mxlabel\u001b[0m\u001b[0;34m(\u001b[0m\u001b[0;34m\"Predictions\"\u001b[0m\u001b[0;34m)\u001b[0m\u001b[0;34m\u001b[0m\u001b[0;34m\u001b[0m\u001b[0m\n",
      "\u001b[0;31mModuleNotFoundError\u001b[0m: No module named 'seaborn'"
     ]
    }
   ],
   "source": [
    "import seaborn as sns\n",
    "plt.figure(figsize=(15,8))\n",
    "sns.heatmap(confusion_matrix(test_labels,predictions), cmap=\"Blues\", annot=True, fmt='g');\n",
    "plt.title('Confusion Matrix')\n",
    "plt.xlabel(\"Predictions\")\n",
    "plt.ylabel(\"Real values\")\n",
    "plt.show()"
   ]
  },
  {
   "cell_type": "code",
   "execution_count": null,
   "metadata": {
    "id": "g1PyVPkhRx01"
   },
   "outputs": [],
   "source": [
    "model.save('MNIST_v2_model.h5')"
   ]
  },
  {
   "cell_type": "markdown",
   "metadata": {
    "id": "754rc-kPR7zH"
   },
   "source": [
    "Use [Netron](https://netron.app) to visualize the model, hyperparameters, tensor shapes, etc. Netron is a viewer for neural network, deep learning and machine learning models (See [GitHub](https://github.com/lutzroeder/netron) for instructions about instalation in your desktop). "
   ]
  },
  {
   "cell_type": "code",
   "execution_count": null,
   "metadata": {
    "id": "qFYKoEpsSCF8"
   },
   "outputs": [],
   "source": []
  }
 ],
 "metadata": {
  "accelerator": "GPU",
  "colab": {
   "collapsed_sections": [],
   "name": "TF_MNIST_Classification_v2.ipynb",
   "provenance": []
  },
  "kernelspec": {
   "display_name": "Python 3.9 (tensorflow)",
   "language": "python",
   "name": "tensorflow"
  },
  "language_info": {
   "codemirror_mode": {
    "name": "ipython",
    "version": 3
   },
   "file_extension": ".py",
   "mimetype": "text/x-python",
   "name": "python",
   "nbconvert_exporter": "python",
   "pygments_lexer": "ipython3",
   "version": "3.9.7"
  }
 },
 "nbformat": 4,
 "nbformat_minor": 1
}
