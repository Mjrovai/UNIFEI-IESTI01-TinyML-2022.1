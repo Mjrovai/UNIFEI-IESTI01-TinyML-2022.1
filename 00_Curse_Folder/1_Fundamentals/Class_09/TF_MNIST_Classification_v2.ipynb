{
  "cells": [
    {
      "cell_type": "markdown",
      "metadata": {
        "id": "Zo2JiEtkzvQL"
      },
      "source": [
        "# Digit Classification using Dense Neural Network (DNN) - Version 2 \n",
        " - Using validation and test data "
      ]
    },
    {
      "cell_type": "markdown",
      "metadata": {
        "id": "ZLLenukpg6VN"
      },
      "source": [
        "## ==> Verify on Runtime tab if GPU is active on Runtime type"
      ]
    },
    {
      "cell_type": "markdown",
      "metadata": {
        "id": "z56YN3JZ0Duh"
      },
      "source": [
        "## Import Libraries"
      ]
    },
    {
      "cell_type": "code",
      "execution_count": 1,
      "metadata": {
        "id": "YfPnR74Gzc_q"
      },
      "outputs": [],
      "source": [
        "import numpy as np\n",
        "import matplotlib.pyplot as plt\n",
        "import tensorflow as tf"
      ]
    },
    {
      "cell_type": "markdown",
      "metadata": {
        "id": "xrGLDV6q0PCc"
      },
      "source": [
        "## Upload and Explore Dataset\n",
        "[MNIST](http://yann.lecun.com/exdb/mnist/) handwritten digits dataset\n",
        "\n",
        "The MNIST database of handwritten digits, is also available from this [TF page](https://www.tensorflow.org/api_docs/python/tf/keras/datasets/mnist/load_data), has a training set of 60,000 28x28 grayscale images of the 10 digits along a test set of 10,000 images. It is a subset of a larger set available from NIST. The digits have been size-normalized and centered in a fixed-size image.\n"
      ]
    },
    {
      "cell_type": "code",
      "execution_count": 2,
      "metadata": {
        "id": "Ib2Ihepx0N6h",
        "outputId": "2b810435-7ec1-40a8-e86b-4a8255d8985c",
        "colab": {
          "base_uri": "https://localhost:8080/"
        }
      },
      "outputs": [
        {
          "output_type": "stream",
          "name": "stdout",
          "text": [
            "Downloading data from https://storage.googleapis.com/tensorflow/tf-keras-datasets/mnist.npz\n",
            "11493376/11490434 [==============================] - 0s 0us/step\n",
            "11501568/11490434 [==============================] - 0s 0us/step\n"
          ]
        }
      ],
      "source": [
        "data = tf.keras.datasets.mnist\n",
        "\n",
        "(tt_images, tt_labels), (test_images, test_labels) = data.load_data()"
      ]
    },
    {
      "cell_type": "code",
      "execution_count": 3,
      "metadata": {
        "id": "78pNLabSX-LF",
        "outputId": "bf377532-271b-4ef6-d13c-e846ef76f314",
        "colab": {
          "base_uri": "https://localhost:8080/"
        }
      },
      "outputs": [
        {
          "output_type": "stream",
          "name": "stdout",
          "text": [
            "(60000, 28, 28)\n",
            "(60000,)\n"
          ]
        }
      ],
      "source": [
        "print(tt_images.shape)\n",
        "print(tt_labels.shape)"
      ]
    },
    {
      "cell_type": "code",
      "execution_count": 4,
      "metadata": {
        "id": "qHaUYnSs4bq4",
        "outputId": "79cc6038-505e-4d04-efdb-719a946f52d0",
        "colab": {
          "base_uri": "https://localhost:8080/"
        }
      },
      "outputs": [
        {
          "output_type": "stream",
          "name": "stdout",
          "text": [
            "(10000, 28, 28)\n",
            "(10000,)\n"
          ]
        }
      ],
      "source": [
        "print(test_images.shape)\n",
        "print(test_labels.shape)"
      ]
    },
    {
      "cell_type": "code",
      "execution_count": 5,
      "metadata": {
        "id": "fzQgqFXcXSba",
        "outputId": "ea15ea21-352e-47c2-a9f3-4c23339c591d",
        "colab": {
          "base_uri": "https://localhost:8080/"
        }
      },
      "outputs": [
        {
          "output_type": "execute_result",
          "data": {
            "text/plain": [
              "array([5, 0, 4, 1, 9, 2, 1, 3, 1, 4], dtype=uint8)"
            ]
          },
          "metadata": {},
          "execution_count": 5
        }
      ],
      "source": [
        "tt_labels[:10]"
      ]
    },
    {
      "cell_type": "code",
      "execution_count": 6,
      "metadata": {
        "id": "IEmBmJqGYMpv",
        "outputId": "38d9a7db-0009-4a3b-d2fc-319d6e752ae2",
        "colab": {
          "base_uri": "https://localhost:8080/",
          "height": 267
        }
      },
      "outputs": [
        {
          "output_type": "display_data",
          "data": {
            "text/plain": [
              "<Figure size 432x288 with 1 Axes>"
            ],
            "image/png": "[encoded data removed]"
          },
          "metadata": {
            "needs_background": "light"
          }
        }
      ],
      "source": [
        "plt.hist(tt_labels);\n",
        "plt.hist(test_labels);"
      ]
    },
    {
      "cell_type": "code",
      "execution_count": 7,
      "metadata": {
        "id": "u_e88OtBak7n"
      },
      "outputs": [],
      "source": [
        "val_images = tt_images[:10000]\n",
        "val_labels = tt_labels[:10000]"
      ]
    },
    {
      "cell_type": "code",
      "execution_count": 8,
      "metadata": {
        "id": "MtTSlX3TaDqj"
      },
      "outputs": [],
      "source": [
        "train_images = tt_images[10000:]\n",
        "train_labels = tt_labels[10000:]"
      ]
    },
    {
      "cell_type": "code",
      "execution_count": 9,
      "metadata": {
        "id": "pq1bMIRd38b8",
        "outputId": "a24d7401-de6a-403c-8c1d-64589d9442ba",
        "colab": {
          "base_uri": "https://localhost:8080/"
        }
      },
      "outputs": [
        {
          "output_type": "stream",
          "name": "stdout",
          "text": [
            "(50000, 28, 28)\n",
            "(50000,)\n"
          ]
        }
      ],
      "source": [
        "print(train_images.shape)\n",
        "print(train_labels.shape)"
      ]
    },
    {
      "cell_type": "code",
      "execution_count": 10,
      "metadata": {
        "id": "Nj2dTT44awxD",
        "outputId": "942142e8-538f-41e9-de3f-2e52fedf5f82",
        "colab": {
          "base_uri": "https://localhost:8080/"
        }
      },
      "outputs": [
        {
          "output_type": "stream",
          "name": "stdout",
          "text": [
            "(10000, 28, 28)\n",
            "(10000,)\n"
          ]
        }
      ],
      "source": [
        "print(val_images.shape)\n",
        "print(val_labels.shape)"
      ]
    },
    {
      "cell_type": "code",
      "execution_count": 11,
      "metadata": {
        "id": "8N4sFgGLaXYQ",
        "outputId": "1964080e-a097-4f1d-b4f6-be7a0cf028c0",
        "colab": {
          "base_uri": "https://localhost:8080/",
          "height": 265
        }
      },
      "outputs": [
        {
          "output_type": "display_data",
          "data": {
            "text/plain": [
              "<Figure size 432x288 with 1 Axes>"
            ],
            "image/png": "[encoded data removed]"
          },
          "metadata": {
            "needs_background": "light"
          }
        }
      ],
      "source": [
        "plt.hist(train_labels, alpha=0.5, label='Train')\n",
        "plt.hist(test_labels, alpha=0.5, label='Val')\n",
        "plt.hist(val_labels, alpha=0.5, label='Test');"
      ]
    },
    {
      "cell_type": "code",
      "execution_count": 12,
      "metadata": {
        "id": "zyaS6AgJd9_q",
        "outputId": "e72e24bc-1c78-4654-fe0c-2d21aae95a59",
        "colab": {
          "base_uri": "https://localhost:8080/",
          "height": 282
        }
      },
      "outputs": [
        {
          "output_type": "stream",
          "name": "stdout",
          "text": [
            "     Label of image 1000 is: 9\n"
          ]
        },
        {
          "output_type": "display_data",
          "data": {
            "text/plain": [
              "<Figure size 432x288 with 1 Axes>"
            ],
            "image/png": "[encoded data removed]"
          },
          "metadata": {
            "needs_background": "light"
          }
        }
      ],
      "source": [
        "img = 1000\n",
        "print(\"     Label of image {} is: {}\".format(img, test_labels[img]))\n",
        "plt.imshow(test_images[img], cmap='gray');"
      ]
    },
    {
      "cell_type": "markdown",
      "metadata": {
        "id": "0-H0LwB_7von"
      },
      "source": [
        "### Preprocessing Data \n",
        "\n",
        "**Normalizing Data**: \n",
        "We notice that all of the values in the number are between 0 and 255. If we are training a neural network, for various reasons it's easier if we treat all values as between 0 and 1, a process called 'normalizing'."
      ]
    },
    {
      "cell_type": "code",
      "execution_count": 13,
      "metadata": {
        "id": "uZrGVMsH0X3F"
      },
      "outputs": [],
      "source": [
        "train_images  = train_images / 255.0\n",
        "val_images = val_images / 255.0\n",
        "test_images = test_images / 255.0"
      ]
    },
    {
      "cell_type": "markdown",
      "metadata": {
        "id": "pYMsyOk8-xnf"
      },
      "source": [
        "## Define and Compile Model"
      ]
    },
    {
      "cell_type": "code",
      "execution_count": 14,
      "metadata": {
        "id": "dEdoqWl28dB3",
        "outputId": "7927ef9d-2833-499b-8dc1-6bde7c9eef72",
        "colab": {
          "base_uri": "https://localhost:8080/"
        }
      },
      "outputs": [
        {
          "output_type": "stream",
          "name": "stdout",
          "text": [
            "Model: \"sequential\"\n",
            "_________________________________________________________________\n",
            " Layer (type)                Output Shape              Param #   \n",
            "=================================================================\n",
            " flatten (Flatten)           (None, 784)               0         \n",
            "                                                                 \n",
            " dense (Dense)               (None, 20)                15700     \n",
            "                                                                 \n",
            " dense_1 (Dense)             (None, 10)                210       \n",
            "                                                                 \n",
            "=================================================================\n",
            "Total params: 15,910\n",
            "Trainable params: 15,910\n",
            "Non-trainable params: 0\n",
            "_________________________________________________________________\n"
          ]
        }
      ],
      "source": [
        "model = tf.keras.models.Sequential([tf.keras.layers.Flatten(input_shape=(28,28)),\n",
        "                                    tf.keras.layers.Dense(20, activation=tf.nn.relu),\n",
        "                                    tf.keras.layers.Dense(10, activation=tf.nn.softmax)])\n",
        "model.summary()"
      ]
    },
    {
      "cell_type": "code",
      "execution_count": 15,
      "metadata": {
        "id": "Qr_eCKjGbtOt"
      },
      "outputs": [],
      "source": [
        "from tensorflow.keras.models import Sequential\n",
        "from tensorflow.keras.layers import Flatten, Dense"
      ]
    },
    {
      "cell_type": "code",
      "execution_count": null,
      "metadata": {
        "id": "xJz_2NgwcIiZ",
        "outputId": "aa6ddb7e-23bc-424a-d632-7eb6dbc55bed"
      },
      "outputs": [
        {
          "name": "stdout",
          "output_type": "stream",
          "text": [
            "Model: \"sequential_1\"\n",
            "_________________________________________________________________\n",
            "Layer (type)                 Output Shape              Param #   \n",
            "=================================================================\n",
            "flatten_1 (Flatten)          (None, 784)               0         \n",
            "_________________________________________________________________\n",
            "dense_2 (Dense)              (None, 20)                15700     \n",
            "_________________________________________________________________\n",
            "dense_3 (Dense)              (None, 10)                210       \n",
            "=================================================================\n",
            "Total params: 15,910\n",
            "Trainable params: 15,910\n",
            "Non-trainable params: 0\n",
            "_________________________________________________________________\n"
          ]
        }
      ],
      "source": [
        "model = Sequential([Flatten(input_shape=(28,28)),\n",
        "                    Dense(20, activation='relu'),\n",
        "                    Dense(10, activation='softmax')])\n",
        "model.summary()"
      ]
    },
    {
      "cell_type": "code",
      "execution_count": 16,
      "metadata": {
        "id": "ECBeHUKacZ_4",
        "outputId": "641debee-7f0a-4b73-86f1-515d3b5a46eb",
        "colab": {
          "base_uri": "https://localhost:8080/"
        }
      },
      "outputs": [
        {
          "output_type": "stream",
          "name": "stdout",
          "text": [
            "Model: \"sequential_1\"\n",
            "_________________________________________________________________\n",
            " Layer (type)                Output Shape              Param #   \n",
            "=================================================================\n",
            " flatten_1 (Flatten)         (None, 784)               0         \n",
            "                                                                 \n",
            " dense_2 (Dense)             (None, 20)                15700     \n",
            "                                                                 \n",
            " dense_3 (Dense)             (None, 10)                210       \n",
            "                                                                 \n",
            "=================================================================\n",
            "Total params: 15,910\n",
            "Trainable params: 15,910\n",
            "Non-trainable params: 0\n",
            "_________________________________________________________________\n"
          ]
        }
      ],
      "source": [
        "model = Sequential()\n",
        "model.add(Flatten(input_shape=(28,28)))\n",
        "#model.add(Dense(20, activation='relu'))\n",
        "model.add(Dense(20, activation='relu'))\n",
        "model.add(Dense(10, activation='softmax'))\n",
        "model.summary()"
      ]
    },
    {
      "cell_type": "code",
      "execution_count": 17,
      "metadata": {
        "id": "qQjO9CvIbdar"
      },
      "outputs": [],
      "source": [
        "def create_model():\n",
        "  model = Sequential()\n",
        "  model.add(Flatten(input_shape=(28,28)))\n",
        "  model.add(Dense(20, activation='relu'))\n",
        "  model.add(Dense(10, activation='softmax')) \n",
        "  return model "
      ]
    },
    {
      "cell_type": "code",
      "execution_count": 18,
      "metadata": {
        "id": "X920NSLjbsNp"
      },
      "outputs": [],
      "source": [
        "model = create_model()"
      ]
    },
    {
      "cell_type": "code",
      "execution_count": 19,
      "metadata": {
        "id": "NA21O9Y0_BJ7"
      },
      "outputs": [],
      "source": [
        "model.compile(\n",
        "    optimizer='adam', # uses default learning_rate=0.001\n",
        "    loss='sparse_categorical_crossentropy',\n",
        "    metrics=['accuracy']\n",
        "    )"
      ]
    },
    {
      "cell_type": "code",
      "execution_count": 20,
      "metadata": {
        "id": "Z7BSHPohdZ-Y"
      },
      "outputs": [],
      "source": [
        "from tensorflow.keras.optimizers import Adam, SGD"
      ]
    },
    {
      "cell_type": "code",
      "execution_count": 21,
      "metadata": {
        "id": "l_d2yHsqf_JI"
      },
      "outputs": [],
      "source": [
        "opt = Adam(learning_rate=0.01)\n",
        "model.compile(\n",
        "    optimizer=opt,\n",
        "    loss='sparse_categorical_crossentropy',\n",
        "    metrics=['accuracy']\n",
        "    )"
      ]
    },
    {
      "cell_type": "markdown",
      "metadata": {
        "id": "pJZ4fvT3_yd7"
      },
      "source": [
        "## Train the model"
      ]
    },
    {
      "cell_type": "markdown",
      "metadata": {
        "id": "jL6QDHJnGDm6"
      },
      "source": [
        "You could leave the training data with all samples, and alternativelly use: \n",
        "- `validation_split=0.1` instead of `validation_data=(val_images, val_labels)`.\n",
        "\n",
        "In this case, TF will split the validation data by itself. "
      ]
    },
    {
      "cell_type": "code",
      "execution_count": 22,
      "metadata": {
        "id": "RxklrX_R_uvn",
        "outputId": "45fb41ef-01ab-4ce4-a1a9-ba36a272930a",
        "colab": {
          "base_uri": "https://localhost:8080/"
        }
      },
      "outputs": [
        {
          "output_type": "stream",
          "name": "stdout",
          "text": [
            "Epoch 1/20\n",
            "1563/1563 [==============================] - 9s 4ms/step - loss: 0.3213 - accuracy: 0.9051 - val_loss: 0.2333 - val_accuracy: 0.9332\n",
            "Epoch 2/20\n",
            "1563/1563 [==============================] - 5s 3ms/step - loss: 0.2215 - accuracy: 0.9354 - val_loss: 0.2289 - val_accuracy: 0.9338\n",
            "Epoch 3/20\n",
            "1563/1563 [==============================] - 5s 3ms/step - loss: 0.2005 - accuracy: 0.9414 - val_loss: 0.2353 - val_accuracy: 0.9316\n",
            "Epoch 4/20\n",
            "1563/1563 [==============================] - 5s 3ms/step - loss: 0.1865 - accuracy: 0.9451 - val_loss: 0.2452 - val_accuracy: 0.9334\n",
            "Epoch 5/20\n",
            "1563/1563 [==============================] - 6s 4ms/step - loss: 0.1866 - accuracy: 0.9446 - val_loss: 0.2461 - val_accuracy: 0.9305\n",
            "Epoch 6/20\n",
            "1563/1563 [==============================] - 6s 4ms/step - loss: 0.1751 - accuracy: 0.9478 - val_loss: 0.2186 - val_accuracy: 0.9454\n",
            "Epoch 7/20\n",
            "1563/1563 [==============================] - 6s 4ms/step - loss: 0.1748 - accuracy: 0.9494 - val_loss: 0.2232 - val_accuracy: 0.9383\n",
            "Epoch 8/20\n",
            "1563/1563 [==============================] - 6s 4ms/step - loss: 0.1685 - accuracy: 0.9496 - val_loss: 0.2466 - val_accuracy: 0.9372\n",
            "Epoch 9/20\n",
            "1563/1563 [==============================] - 5s 3ms/step - loss: 0.1642 - accuracy: 0.9513 - val_loss: 0.2279 - val_accuracy: 0.9437\n",
            "Epoch 10/20\n",
            "1563/1563 [==============================] - 6s 4ms/step - loss: 0.1598 - accuracy: 0.9524 - val_loss: 0.2261 - val_accuracy: 0.9426\n",
            "Epoch 11/20\n",
            "1563/1563 [==============================] - 5s 3ms/step - loss: 0.1563 - accuracy: 0.9534 - val_loss: 0.2493 - val_accuracy: 0.9381\n",
            "Epoch 12/20\n",
            "1563/1563 [==============================] - 5s 3ms/step - loss: 0.1529 - accuracy: 0.9547 - val_loss: 0.2325 - val_accuracy: 0.9407\n",
            "Epoch 13/20\n",
            "1563/1563 [==============================] - 6s 4ms/step - loss: 0.1500 - accuracy: 0.9555 - val_loss: 0.2626 - val_accuracy: 0.9376\n",
            "Epoch 14/20\n",
            "1563/1563 [==============================] - 6s 4ms/step - loss: 0.1490 - accuracy: 0.9557 - val_loss: 0.2293 - val_accuracy: 0.9471\n",
            "Epoch 15/20\n",
            "1563/1563 [==============================] - 6s 4ms/step - loss: 0.1477 - accuracy: 0.9567 - val_loss: 0.2792 - val_accuracy: 0.9347\n",
            "Epoch 16/20\n",
            "1563/1563 [==============================] - 5s 3ms/step - loss: 0.1448 - accuracy: 0.9570 - val_loss: 0.2365 - val_accuracy: 0.9405\n",
            "Epoch 17/20\n",
            "1563/1563 [==============================] - 6s 4ms/step - loss: 0.1432 - accuracy: 0.9581 - val_loss: 0.2638 - val_accuracy: 0.9411\n",
            "Epoch 18/20\n",
            "1563/1563 [==============================] - 6s 4ms/step - loss: 0.1395 - accuracy: 0.9585 - val_loss: 0.2713 - val_accuracy: 0.9420\n",
            "Epoch 19/20\n",
            "1563/1563 [==============================] - 5s 3ms/step - loss: 0.1413 - accuracy: 0.9574 - val_loss: 0.2728 - val_accuracy: 0.9346\n",
            "Epoch 20/20\n",
            "1563/1563 [==============================] - 5s 4ms/step - loss: 0.1378 - accuracy: 0.9584 - val_loss: 0.2624 - val_accuracy: 0.9414\n"
          ]
        }
      ],
      "source": [
        "history = model.fit(\n",
        "    train_images, \n",
        "    train_labels, \n",
        "    epochs=20, \n",
        "    validation_data=(val_images, val_labels) \n",
        "    )"
      ]
    },
    {
      "cell_type": "markdown",
      "metadata": {
        "id": "0xAXSo5-HCIo"
      },
      "source": [
        "Inspecting the model"
      ]
    },
    {
      "cell_type": "code",
      "execution_count": 23,
      "metadata": {
        "id": "g6qHpwg8BpZi",
        "outputId": "ed7138c2-e471-4cd0-b9d2-6b11abffbae1",
        "colab": {
          "base_uri": "https://localhost:8080/",
          "height": 295
        }
      },
      "outputs": [
        {
          "output_type": "display_data",
          "data": {
            "text/plain": [
              "<Figure size 432x288 with 1 Axes>"
            ],
            "image/png": "[encoded data removed]"
          },
          "metadata": {
            "needs_background": "light"
          }
        }
      ],
      "source": [
        "plt.plot(history.history['accuracy'], label='accuracy')\n",
        "plt.plot(history.history['val_accuracy'], label='val_accuracy')\n",
        "plt.title('Model Accuracy')\n",
        "plt.ylabel('accuracy')\n",
        "plt.xlabel('epoch')\n",
        "plt.legend(loc='upper left')\n",
        "plt.show()"
      ]
    },
    {
      "cell_type": "markdown",
      "metadata": {
        "id": "CF1jssVyel8D"
      },
      "source": [
        "If validation accuracy seems “instable”, could be that Learning Rate is high (try to reduce it). \n",
        "\n",
        "Let's start over with a lower Lr (for exampe: 0.0001)"
      ]
    },
    {
      "cell_type": "code",
      "execution_count": 24,
      "metadata": {
        "id": "21HE2qcnbMCf",
        "scrolled": false,
        "outputId": "2774947c-0d83-413e-f7a7-a176d5fca555",
        "colab": {
          "base_uri": "https://localhost:8080/"
        }
      },
      "outputs": [
        {
          "output_type": "stream",
          "name": "stdout",
          "text": [
            "Epoch 1/20\n",
            "1563/1563 [==============================] - 7s 4ms/step - loss: 1.0737 - accuracy: 0.7167 - val_loss: 0.5739 - val_accuracy: 0.8609\n",
            "Epoch 2/20\n",
            "1563/1563 [==============================] - 6s 4ms/step - loss: 0.4899 - accuracy: 0.8720 - val_loss: 0.4165 - val_accuracy: 0.8915\n",
            "Epoch 3/20\n",
            "1563/1563 [==============================] - 5s 3ms/step - loss: 0.3924 - accuracy: 0.8916 - val_loss: 0.3620 - val_accuracy: 0.9012\n",
            "Epoch 4/20\n",
            "1563/1563 [==============================] - 6s 4ms/step - loss: 0.3494 - accuracy: 0.9015 - val_loss: 0.3332 - val_accuracy: 0.9087\n",
            "Epoch 5/20\n",
            "1563/1563 [==============================] - 5s 3ms/step - loss: 0.3243 - accuracy: 0.9084 - val_loss: 0.3160 - val_accuracy: 0.9104\n",
            "Epoch 6/20\n",
            "1563/1563 [==============================] - 5s 3ms/step - loss: 0.3073 - accuracy: 0.9130 - val_loss: 0.3032 - val_accuracy: 0.9149\n",
            "Epoch 7/20\n",
            "1563/1563 [==============================] - 5s 3ms/step - loss: 0.2946 - accuracy: 0.9168 - val_loss: 0.2917 - val_accuracy: 0.9172\n",
            "Epoch 8/20\n",
            "1563/1563 [==============================] - 6s 4ms/step - loss: 0.2844 - accuracy: 0.9196 - val_loss: 0.2840 - val_accuracy: 0.9204\n",
            "Epoch 9/20\n",
            "1563/1563 [==============================] - 5s 3ms/step - loss: 0.2761 - accuracy: 0.9222 - val_loss: 0.2764 - val_accuracy: 0.9223\n",
            "Epoch 10/20\n",
            "1563/1563 [==============================] - 6s 4ms/step - loss: 0.2689 - accuracy: 0.9240 - val_loss: 0.2716 - val_accuracy: 0.9232\n",
            "Epoch 11/20\n",
            "1563/1563 [==============================] - 6s 4ms/step - loss: 0.2625 - accuracy: 0.9256 - val_loss: 0.2661 - val_accuracy: 0.9250\n",
            "Epoch 12/20\n",
            "1563/1563 [==============================] - 6s 4ms/step - loss: 0.2566 - accuracy: 0.9271 - val_loss: 0.2622 - val_accuracy: 0.9246\n",
            "Epoch 13/20\n",
            "1563/1563 [==============================] - 9s 6ms/step - loss: 0.2515 - accuracy: 0.9285 - val_loss: 0.2600 - val_accuracy: 0.9258\n",
            "Epoch 14/20\n",
            "1563/1563 [==============================] - 11s 7ms/step - loss: 0.2469 - accuracy: 0.9299 - val_loss: 0.2545 - val_accuracy: 0.9282\n",
            "Epoch 15/20\n",
            "1563/1563 [==============================] - 9s 6ms/step - loss: 0.2424 - accuracy: 0.9312 - val_loss: 0.2525 - val_accuracy: 0.9284\n",
            "Epoch 16/20\n",
            "1563/1563 [==============================] - 9s 6ms/step - loss: 0.2378 - accuracy: 0.9319 - val_loss: 0.2470 - val_accuracy: 0.9289\n",
            "Epoch 17/20\n",
            "1563/1563 [==============================] - 6s 4ms/step - loss: 0.2336 - accuracy: 0.9333 - val_loss: 0.2441 - val_accuracy: 0.9304\n",
            "Epoch 18/20\n",
            "1563/1563 [==============================] - 8s 5ms/step - loss: 0.2295 - accuracy: 0.9346 - val_loss: 0.2402 - val_accuracy: 0.9316\n",
            "Epoch 19/20\n",
            "1563/1563 [==============================] - 6s 4ms/step - loss: 0.2253 - accuracy: 0.9361 - val_loss: 0.2377 - val_accuracy: 0.9326\n",
            "Epoch 20/20\n",
            "1563/1563 [==============================] - 6s 4ms/step - loss: 0.2212 - accuracy: 0.9368 - val_loss: 0.2351 - val_accuracy: 0.9328\n"
          ]
        }
      ],
      "source": [
        "opt = Adam(learning_rate=0.0001)\n",
        "\n",
        "model = create_model()\n",
        "model.compile(\n",
        "    optimizer=opt,\n",
        "    loss='sparse_categorical_crossentropy',\n",
        "    metrics=['accuracy']\n",
        "    )\n",
        "\n",
        "history = model.fit(\n",
        "    train_images, \n",
        "    train_labels, \n",
        "    epochs=20, \n",
        "    validation_data=(val_images, val_labels) \n",
        "    )"
      ]
    },
    {
      "cell_type": "code",
      "execution_count": 25,
      "metadata": {
        "id": "DYlZ1ZNrcrGC",
        "outputId": "54a7e939-bc06-4cf5-eb2e-a4c53edb68e8",
        "colab": {
          "base_uri": "https://localhost:8080/",
          "height": 295
        }
      },
      "outputs": [
        {
          "output_type": "display_data",
          "data": {
            "text/plain": [
              "<Figure size 432x288 with 1 Axes>"
            ],
            "image/png": "[encoded data removed]"
          },
          "metadata": {
            "needs_background": "light"
          }
        }
      ],
      "source": [
        "plt.plot(history.history['accuracy'], label='accuracy')\n",
        "plt.plot(history.history['val_accuracy'], label='val_accuracy')\n",
        "plt.title('Model Accuracy')\n",
        "plt.ylabel('accuracy')\n",
        "plt.xlabel('epoch')\n",
        "plt.legend(loc='upper left')\n",
        "plt.show()"
      ]
    },
    {
      "cell_type": "markdown",
      "metadata": {
        "id": "JYHTdEJVH0tZ"
      },
      "source": [
        "## Testing the trained model\n"
      ]
    },
    {
      "cell_type": "code",
      "execution_count": 26,
      "metadata": {
        "id": "QBuJGqbSH6xT",
        "outputId": "1950a560-751d-40e4-c82e-6e6d2450de74",
        "colab": {
          "base_uri": "https://localhost:8080/"
        }
      },
      "outputs": [
        {
          "output_type": "stream",
          "name": "stdout",
          "text": [
            "1563/1563 [==============================] - 4s 3ms/step - loss: 0.2191 - accuracy: 0.9383\n"
          ]
        },
        {
          "output_type": "execute_result",
          "data": {
            "text/plain": [
              "[0.21905943751335144, 0.938260018825531]"
            ]
          },
          "metadata": {},
          "execution_count": 26
        }
      ],
      "source": [
        "model.evaluate(train_images, train_labels)"
      ]
    },
    {
      "cell_type": "code",
      "source": [
        "model.evaluate(val_images, val_labels)"
      ],
      "metadata": {
        "id": "kvv19U6BbYeF",
        "outputId": "3d9e3ec9-6ac4-41c2-94e6-206e2f80b9cb",
        "colab": {
          "base_uri": "https://localhost:8080/"
        }
      },
      "execution_count": 27,
      "outputs": [
        {
          "output_type": "stream",
          "name": "stdout",
          "text": [
            "313/313 [==============================] - 1s 3ms/step - loss: 0.2351 - accuracy: 0.9328\n"
          ]
        },
        {
          "output_type": "execute_result",
          "data": {
            "text/plain": [
              "[0.23511266708374023, 0.9327999949455261]"
            ]
          },
          "metadata": {},
          "execution_count": 27
        }
      ]
    },
    {
      "cell_type": "code",
      "source": [
        "model.evaluate(test_images, test_labels)"
      ],
      "metadata": {
        "id": "bKgtMK9IbaYC",
        "outputId": "ad055426-6928-4c65-c6a1-d320474a22e0",
        "colab": {
          "base_uri": "https://localhost:8080/"
        }
      },
      "execution_count": 28,
      "outputs": [
        {
          "output_type": "stream",
          "name": "stdout",
          "text": [
            "313/313 [==============================] - 1s 3ms/step - loss: 0.2290 - accuracy: 0.9360\n"
          ]
        },
        {
          "output_type": "execute_result",
          "data": {
            "text/plain": [
              "[0.22895950078964233, 0.9359999895095825]"
            ]
          },
          "metadata": {},
          "execution_count": 28
        }
      ]
    },
    {
      "cell_type": "markdown",
      "metadata": {
        "id": "WVZcgwAQHZMl"
      },
      "source": [
        "**Accuracy**\n",
        "- Train: 0.97; \n",
        "- Validation: 0.96 \n",
        "- Test: 0.95"
      ]
    },
    {
      "cell_type": "code",
      "execution_count": 29,
      "metadata": {
        "id": "rvNEv5BPIwPE",
        "outputId": "80ab91f7-ecda-462b-fad4-188e175da372",
        "colab": {
          "base_uri": "https://localhost:8080/",
          "height": 265
        }
      },
      "outputs": [
        {
          "output_type": "display_data",
          "data": {
            "text/plain": [
              "<Figure size 432x288 with 1 Axes>"
            ],
            "image/png": "[encoded data removed]"
          },
          "metadata": {
            "needs_background": "light"
          }
        }
      ],
      "source": [
        "plt.imshow(test_images[0]);"
      ]
    },
    {
      "cell_type": "code",
      "execution_count": 30,
      "metadata": {
        "id": "ysGu1V_PJ28-",
        "outputId": "26cf5d6a-172d-4d6d-fd67-076f3149aa57",
        "colab": {
          "base_uri": "https://localhost:8080/"
        }
      },
      "outputs": [
        {
          "output_type": "stream",
          "name": "stdout",
          "text": [
            "7\n"
          ]
        }
      ],
      "source": [
        "print(test_labels[0])"
      ]
    },
    {
      "cell_type": "code",
      "execution_count": 31,
      "metadata": {
        "id": "tkaTLMaTIbIL",
        "outputId": "f8bf0618-4d8a-48bf-84b8-75e5986127e6",
        "colab": {
          "base_uri": "https://localhost:8080/"
        }
      },
      "outputs": [
        {
          "output_type": "stream",
          "name": "stdout",
          "text": [
            "[9.55202486e-05 6.39327169e-08 2.87630042e-04 3.14334454e-03\n",
            " 1.84103669e-07 1.04762206e-04 3.52122456e-08 9.96189654e-01\n",
            " 5.18725028e-06 1.73622102e-04]\n"
          ]
        }
      ],
      "source": [
        "predictions = model.predict(test_images)\n",
        "print(predictions[0])"
      ]
    },
    {
      "cell_type": "code",
      "execution_count": 32,
      "metadata": {
        "id": "yjenS2EZJH6h",
        "outputId": "2eb0fc8f-1ebd-4c2e-fb16-b6f32f0715c4",
        "colab": {
          "base_uri": "https://localhost:8080/"
        }
      },
      "outputs": [
        {
          "output_type": "execute_result",
          "data": {
            "text/plain": [
              "7"
            ]
          },
          "metadata": {},
          "execution_count": 32
        }
      ],
      "source": [
        "# Returns the indices of the maximum values along an axis.\n",
        "np.argmax(predictions[0])"
      ]
    },
    {
      "cell_type": "code",
      "execution_count": 33,
      "metadata": {
        "id": "JeEgVvBTIx8z",
        "outputId": "7f391be4-57bc-42a1-dee9-f8a3af38edff",
        "colab": {
          "base_uri": "https://localhost:8080/"
        }
      },
      "outputs": [
        {
          "output_type": "execute_result",
          "data": {
            "text/plain": [
              "(10000,)"
            ]
          },
          "metadata": {},
          "execution_count": 33
        }
      ],
      "source": [
        "predictions = np.argmax(predictions, axis=-1)\n",
        "predictions.shape"
      ]
    },
    {
      "cell_type": "code",
      "execution_count": 34,
      "metadata": {
        "id": "8N2zUFaZJIUF",
        "outputId": "c0ea6ad9-f10c-4cd2-db04-fd3adfbf2e94",
        "colab": {
          "base_uri": "https://localhost:8080/"
        }
      },
      "outputs": [
        {
          "output_type": "execute_result",
          "data": {
            "text/plain": [
              "array([7, 2, 1, 0, 4, 1, 4, 9, 6, 9])"
            ]
          },
          "metadata": {},
          "execution_count": 34
        }
      ],
      "source": [
        "predictions[:10]"
      ]
    },
    {
      "cell_type": "code",
      "execution_count": 35,
      "metadata": {
        "id": "VP0iVCbHHzDI",
        "outputId": "b0dd8796-edec-4e25-a597-d2767e39691e",
        "colab": {
          "base_uri": "https://localhost:8080/"
        }
      },
      "outputs": [
        {
          "output_type": "stream",
          "name": "stdout",
          "text": [
            "              precision    recall  f1-score   support\n",
            "\n",
            "           0       0.95      0.98      0.97       980\n",
            "           1       0.98      0.98      0.98      1135\n",
            "           2       0.94      0.92      0.93      1032\n",
            "           3       0.93      0.90      0.92      1010\n",
            "           4       0.93      0.95      0.94       982\n",
            "           5       0.93      0.90      0.91       892\n",
            "           6       0.95      0.96      0.95       958\n",
            "           7       0.94      0.92      0.93      1028\n",
            "           8       0.89      0.93      0.91       974\n",
            "           9       0.92      0.92      0.92      1009\n",
            "\n",
            "    accuracy                           0.94     10000\n",
            "   macro avg       0.94      0.94      0.94     10000\n",
            "weighted avg       0.94      0.94      0.94     10000\n",
            "\n"
          ]
        }
      ],
      "source": [
        "from sklearn.metrics import classification_report,confusion_matrix\n",
        "\n",
        "print(classification_report(test_labels, predictions))"
      ]
    },
    {
      "cell_type": "code",
      "execution_count": 36,
      "metadata": {
        "id": "RqQ4K-KqJYWe",
        "outputId": "3dd4acfe-f862-49fb-fe92-4161ddee42ef",
        "colab": {
          "base_uri": "https://localhost:8080/"
        }
      },
      "outputs": [
        {
          "output_type": "execute_result",
          "data": {
            "text/plain": [
              "array([[ 965,    0,    1,    1,    0,    4,    4,    1,    4,    0],\n",
              "       [   0, 1110,    3,    2,    1,    1,    3,    2,   13,    0],\n",
              "       [  11,    1,  946,    8,    9,    3,   11,    9,   30,    4],\n",
              "       [   2,    0,   21,  910,    2,   28,    0,   13,   27,    7],\n",
              "       [   1,    1,    3,    0,  932,    0,   12,    4,    9,   20],\n",
              "       [   7,    3,    4,   22,   10,  802,   14,    5,   18,    7],\n",
              "       [   8,    3,    5,    0,    7,   10,  921,    1,    3,    0],\n",
              "       [   2,    8,   19,    6,    8,    0,    0,  945,    4,   36],\n",
              "       [   6,    3,    5,   16,    9,   12,    9,    7,  902,    5],\n",
              "       [  10,    6,    2,   11,   24,    6,    0,   18,    5,  927]])"
            ]
          },
          "metadata": {},
          "execution_count": 36
        }
      ],
      "source": [
        "confusion_matrix(test_labels,predictions)"
      ]
    },
    {
      "cell_type": "code",
      "execution_count": 38,
      "metadata": {
        "id": "0FnJlVZfYxEi",
        "outputId": "8c7d83fa-2420-416f-d036-480ba42fbddd",
        "colab": {
          "base_uri": "https://localhost:8080/"
        }
      },
      "outputs": [
        {
          "output_type": "stream",
          "name": "stdout",
          "text": [
            "Requirement already satisfied: seaborn in /usr/local/lib/python3.7/dist-packages (0.11.2)\n",
            "Requirement already satisfied: scipy>=1.0 in /usr/local/lib/python3.7/dist-packages (from seaborn) (1.4.1)\n",
            "Requirement already satisfied: numpy>=1.15 in /usr/local/lib/python3.7/dist-packages (from seaborn) (1.21.6)\n",
            "Requirement already satisfied: matplotlib>=2.2 in /usr/local/lib/python3.7/dist-packages (from seaborn) (3.2.2)\n",
            "Requirement already satisfied: pandas>=0.23 in /usr/local/lib/python3.7/dist-packages (from seaborn) (1.3.5)\n",
            "Requirement already satisfied: pyparsing!=2.0.4,!=2.1.2,!=2.1.6,>=2.0.1 in /usr/local/lib/python3.7/dist-packages (from matplotlib>=2.2->seaborn) (3.0.8)\n",
            "Requirement already satisfied: kiwisolver>=1.0.1 in /usr/local/lib/python3.7/dist-packages (from matplotlib>=2.2->seaborn) (1.4.2)\n",
            "Requirement already satisfied: python-dateutil>=2.1 in /usr/local/lib/python3.7/dist-packages (from matplotlib>=2.2->seaborn) (2.8.2)\n",
            "Requirement already satisfied: cycler>=0.10 in /usr/local/lib/python3.7/dist-packages (from matplotlib>=2.2->seaborn) (0.11.0)\n",
            "Requirement already satisfied: typing-extensions in /usr/local/lib/python3.7/dist-packages (from kiwisolver>=1.0.1->matplotlib>=2.2->seaborn) (4.1.1)\n",
            "Requirement already satisfied: pytz>=2017.3 in /usr/local/lib/python3.7/dist-packages (from pandas>=0.23->seaborn) (2022.1)\n",
            "Requirement already satisfied: six>=1.5 in /usr/local/lib/python3.7/dist-packages (from python-dateutil>=2.1->matplotlib>=2.2->seaborn) (1.15.0)\n"
          ]
        }
      ],
      "source": [
        "!pip install seaborn"
      ]
    },
    {
      "cell_type": "code",
      "execution_count": 39,
      "metadata": {
        "id": "WaXyFJffLLLY",
        "outputId": "ebcbc85a-f3e1-43aa-fc4b-5ae075abc278",
        "colab": {
          "base_uri": "https://localhost:8080/",
          "height": 513
        }
      },
      "outputs": [
        {
          "output_type": "display_data",
          "data": {
            "text/plain": [
              "<Figure size 1080x576 with 2 Axes>"
            ],
            "image/png": "[encoded data removed]"
          },
          "metadata": {
            "needs_background": "light"
          }
        }
      ],
      "source": [
        "import seaborn as sns\n",
        "plt.figure(figsize=(15,8))\n",
        "sns.heatmap(confusion_matrix(test_labels,predictions), cmap=\"Blues\", annot=True, fmt='g');\n",
        "plt.title('Confusion Matrix')\n",
        "plt.xlabel(\"Predictions\")\n",
        "plt.ylabel(\"Real values\")\n",
        "plt.show()"
      ]
    },
    {
      "cell_type": "code",
      "execution_count": null,
      "metadata": {
        "id": "g1PyVPkhRx01"
      },
      "outputs": [],
      "source": [
        "model.save('MNIST_v2_model.h5')"
      ]
    },
    {
      "cell_type": "markdown",
      "metadata": {
        "id": "754rc-kPR7zH"
      },
      "source": [
        "Use [Netron](https://netron.app) to visualize the model, hyperparameters, tensor shapes, etc. Netron is a viewer for neural network, deep learning and machine learning models (See [GitHub](https://github.com/lutzroeder/netron) for instructions about instalation in your desktop). "
      ]
    },
    {
      "cell_type": "code",
      "execution_count": null,
      "metadata": {
        "id": "qFYKoEpsSCF8"
      },
      "outputs": [],
      "source": [
        ""
      ]
    }
  ],
  "metadata": {
    "accelerator": "GPU",
    "colab": {
      "collapsed_sections": [],
      "name": "TF_MNIST_Classification_v2.ipynb",
      "provenance": []
    },
    "kernelspec": {
      "display_name": "Python 3",
      "name": "python3"
    },
    "language_info": {
      "name": "python"
    }
  },
  "nbformat": 4,
  "nbformat_minor": 0
}