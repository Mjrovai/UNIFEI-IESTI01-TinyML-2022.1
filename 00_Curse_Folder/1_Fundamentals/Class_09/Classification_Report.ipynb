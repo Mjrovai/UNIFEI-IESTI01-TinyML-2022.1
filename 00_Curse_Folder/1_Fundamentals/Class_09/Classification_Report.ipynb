{
  "nbformat": 4,
  "nbformat_minor": 0,
  "metadata": {
    "colab": {
      "name": "Classification_Report.ipynb",
      "provenance": []
    },
    "kernelspec": {
      "name": "python3",
      "display_name": "Python 3"
    },
    "language_info": {
      "name": "python"
    }
  },
  "cells": [
    {
      "cell_type": "code",
      "metadata": {
        "id": "IjL6WJDZtlBZ"
      },
      "source": [
        "from sklearn.metrics import classification_report"
      ],
      "execution_count": null,
      "outputs": []
    },
    {
      "cell_type": "code",
      "metadata": {
        "id": "bQ99YgDZt7W9"
      },
      "source": [
        "actual = [1, 1, 1, 1, 1, 1, 1, 1, 0, 0, 0, 0]\n",
        "prediction = [0, 0, 1, 1, 1, 1, 1, 1, 0, 0, 0, 1]"
      ],
      "execution_count": null,
      "outputs": []
    },
    {
      "cell_type": "code",
      "metadata": {
        "id": "-4ct_XqjuZ36"
      },
      "source": [
        "target_names = ['Dogs', 'Cats']"
      ],
      "execution_count": null,
      "outputs": []
    },
    {
      "cell_type": "code",
      "metadata": {
        "id": "vhvS6tvmuh6h"
      },
      "source": [
        "print(classification_report(actual, prediction, target_names=target_names))"
      ],
      "execution_count": null,
      "outputs": []
    },
    {
      "cell_type": "code",
      "metadata": {
        "id": "sUJwh0bcvEMw"
      },
      "source": [
        ""
      ],
      "execution_count": null,
      "outputs": []
    }
  ]
}