{
  "nbformat": 4,
  "nbformat_minor": 0,
  "metadata": {
    "hide_input": false,
    "kernelspec": {
      "name": "python3",
      "display_name": "Python 3"
    },
    "nbTranslate": {
      "displayLangs": [
        "*"
      ],
      "hotkey": "alt-t",
      "langInMainMenu": true,
      "sourceLang": "en",
      "targetLang": "fr",
      "useGoogleTranslate": true
    },
    "toc": {
      "base_numbering": 1,
      "nav_menu": {},
      "number_sections": true,
      "sideBar": true,
      "skip_h1_title": false,
      "title_cell": "Table of Contents",
      "title_sidebar": "Contents",
      "toc_cell": false,
      "toc_position": {},
      "toc_section_display": true,
      "toc_window_display": false
    },
    "varInspector": {
      "cols": {
        "lenName": 16,
        "lenType": 16,
        "lenVar": 40
      },
      "kernels_config": {
        "python": {
          "delete_cmd_postfix": "",
          "delete_cmd_prefix": "del ",
          "library": "var_list.py",
          "varRefreshCmd": "print(var_dic_list())"
        },
        "r": {
          "delete_cmd_postfix": ") ",
          "delete_cmd_prefix": "rm(",
          "library": "var_list.r",
          "varRefreshCmd": "cat(var_dic_list()) "
        }
      },
      "types_to_exclude": [
        "module",
        "function",
        "builtin_function_or_method",
        "instance",
        "_Feature"
      ],
      "window_display": false
    },
    "colab": {
      "name": "List4-Assignment-CNN-FashionMNIST.ipynb",
      "provenance": []
    },
    "language_info": {
      "name": "python"
    },
    "accelerator": "GPU"
  },
  "cells": [
    {
      "cell_type": "markdown",
      "metadata": {
        "id": "54wtANo3r5ae"
      },
      "source": [
        "# Exploring CNN learning with TensorFlow\n",
        "\n",
        "In this assignment we will work again with the [Fashion MNIST Dataset](https://www.tensorflow.org/api_docs/python/tf/keras/datasets/fashion_mnist/load_data). This is a dataset of 60,000 28x28 grayscale images of 10 fashion categories, along with a test set of 10,000 images. \n",
        "\n",
        "A base notbook is provide for you to start. Complete the values when required, for example:\n",
        "- VALUE = #ENTER YOUR VALUE; This will initialize a variable that will be used on the code.\n",
        "\n",
        "Once you run the model at leat once without errors, try change the given hyperparameters, as number of filters, layers and neurons (units). Comment your obsevations. \n",
        "\n",
        "Try to modify the notebook, creating functions to show the images, together with their labels. Save the model and explored it with Netron.\n"
      ]
    },
    {
      "cell_type": "code",
      "metadata": {
        "ExecuteTime": {
          "end_time": "2020-06-22T17:24:26.890662Z",
          "start_time": "2020-06-22T17:24:26.887618Z"
        },
        "id": "BB_R-WuKdaVD"
      },
      "source": [
        "import numpy as np\n",
        "import matplotlib.pyplot as plt\n",
        "import tensorflow as tf"
      ],
      "execution_count": 1,
      "outputs": []
    },
    {
      "cell_type": "code",
      "metadata": {
        "id": "Vp-irgw1eGMJ"
      },
      "source": [
        "# Load in fashion MNIST\n",
        "mnist = tf.keras.datasets.fashion_mnist\n",
        "(x_train, y_train), (x_test, y_test) = mnist.load_data()"
      ],
      "execution_count": null,
      "outputs": []
    },
    {
      "cell_type": "markdown",
      "metadata": {
        "id": "eq3prQ3edaVE"
      },
      "source": [
        "##  Visualizing the Image Data"
      ]
    },
    {
      "cell_type": "code",
      "metadata": {
        "id": "C70CYNCMdaVF"
      },
      "source": [
        "x_train.shape"
      ],
      "execution_count": null,
      "outputs": []
    },
    {
      "cell_type": "code",
      "metadata": {
        "id": "ONkpiR91daVH"
      },
      "source": [
        "plt.imshow(x_train[0]);"
      ],
      "execution_count": null,
      "outputs": []
    },
    {
      "cell_type": "markdown",
      "metadata": {
        "id": "RPXpudgkdaVI"
      },
      "source": [
        "# PreProcessing Data\n",
        "\n",
        "Let's change the labels to categorical (it is not necessary, but it is good to explore it). PAY ATTENTION TO LOSS, when compiling."
      ]
    },
    {
      "cell_type": "markdown",
      "metadata": {
        "id": "T7_raF06daVI"
      },
      "source": [
        "## Labels"
      ]
    },
    {
      "cell_type": "code",
      "metadata": {
        "id": "Hi7npvQvdaVI"
      },
      "source": [
        "y_train"
      ],
      "execution_count": null,
      "outputs": []
    },
    {
      "cell_type": "code",
      "metadata": {
        "id": "ByFDbQtedaVJ"
      },
      "source": [
        "y_test"
      ],
      "execution_count": null,
      "outputs": []
    },
    {
      "cell_type": "markdown",
      "metadata": {
        "id": "JnPwRo_9daVJ"
      },
      "source": [
        "The labels are literally categories of numbers, so we will translate them to be \"one hot encoded\":"
      ]
    },
    {
      "cell_type": "code",
      "metadata": {
        "ExecuteTime": {
          "end_time": "2020-06-22T17:30:32.708965Z",
          "start_time": "2020-06-22T17:30:32.706067Z"
        },
        "id": "2fvn6a0mdaVK"
      },
      "source": [
        "from tensorflow.keras.utils import to_categorical"
      ],
      "execution_count": 7,
      "outputs": []
    },
    {
      "cell_type": "code",
      "metadata": {
        "id": "cZdl3qKtdaVK"
      },
      "source": [
        "y_train.shape"
      ],
      "execution_count": null,
      "outputs": []
    },
    {
      "cell_type": "code",
      "metadata": {
        "id": "CX6ORkd7daVM"
      },
      "source": [
        "y_cat_test = to_categorical(y_test,10)\n",
        "y_cat_test.shape"
      ],
      "execution_count": null,
      "outputs": []
    },
    {
      "cell_type": "code",
      "metadata": {
        "id": "gtr51Q80daVM"
      },
      "source": [
        "y_cat_train = to_categorical(y_train,10)\n",
        "y_cat_train.shape"
      ],
      "execution_count": null,
      "outputs": []
    },
    {
      "cell_type": "code",
      "metadata": {
        "id": "M4P-HF6Hfsd1"
      },
      "source": [
        "# verifing one sample label\n",
        "print(y_train[0])\n",
        "print(y_cat_train[0])"
      ],
      "execution_count": null,
      "outputs": []
    },
    {
      "cell_type": "markdown",
      "metadata": {
        "id": "aLDhcm4-daVM"
      },
      "source": [
        "### Processing X Data\n",
        "\n",
        "We should normalize the X data"
      ]
    },
    {
      "cell_type": "code",
      "metadata": {
        "id": "yEvVxUAGdaVM"
      },
      "source": [
        "x_train.max()"
      ],
      "execution_count": null,
      "outputs": []
    },
    {
      "cell_type": "code",
      "metadata": {
        "id": "TmYNgmNcdaVN"
      },
      "source": [
        "x_train.min()"
      ],
      "execution_count": null,
      "outputs": []
    },
    {
      "cell_type": "code",
      "metadata": {
        "id": "XhBNIx6fpdD8"
      },
      "source": [
        "VALUE = #ENTER YOUR VALUE"
      ],
      "execution_count": null,
      "outputs": []
    },
    {
      "cell_type": "code",
      "metadata": {
        "ExecuteTime": {
          "end_time": "2020-06-22T17:33:53.279050Z",
          "start_time": "2020-06-22T17:33:53.013477Z"
        },
        "id": "moCF3-NXdaVN"
      },
      "source": [
        "x_train = x_train/VALUE\n",
        "x_test = x_test/VALUE"
      ],
      "execution_count": 14,
      "outputs": []
    },
    {
      "cell_type": "code",
      "metadata": {
        "id": "lJIsNDMndaVO"
      },
      "source": [
        "plt.imshow(x_train[0]);"
      ],
      "execution_count": null,
      "outputs": []
    },
    {
      "cell_type": "markdown",
      "metadata": {
        "id": "TBzuSjuidaVO"
      },
      "source": [
        "## Reshaping the Data\n",
        "\n",
        "Right now our data is 60,000 images stored in 28 by 28 pixel array formation. \n",
        "\n",
        "For to use it with CNN, we need to add one more dimension to show we're dealing with 1 RGB channel \n",
        "- The images are in black and white, only showing values from 0-255 on a single channel, an color image would have 3 dimensions."
      ]
    },
    {
      "cell_type": "code",
      "metadata": {
        "id": "XND6BAKrdaVP"
      },
      "source": [
        "x_train.shape"
      ],
      "execution_count": null,
      "outputs": []
    },
    {
      "cell_type": "code",
      "metadata": {
        "id": "0jNuDTRfdaVP"
      },
      "source": [
        "x_test.shape"
      ],
      "execution_count": null,
      "outputs": []
    },
    {
      "cell_type": "markdown",
      "metadata": {
        "id": "P8GoezeGdaVP"
      },
      "source": [
        "Reshaping to include channel dimension (in this case, 1 channel)"
      ]
    },
    {
      "cell_type": "code",
      "metadata": {
        "ExecuteTime": {
          "end_time": "2020-06-22T17:36:40.859036Z",
          "start_time": "2020-06-22T17:36:40.855137Z"
        },
        "id": "frXT0zU-daVQ"
      },
      "source": [
        "x_train = x_train.reshape(60000, 28, 28, 1)"
      ],
      "execution_count": 18,
      "outputs": []
    },
    {
      "cell_type": "code",
      "metadata": {
        "id": "Yv4EYmvkdaVQ"
      },
      "source": [
        "# batch_size, widht, height, color_channels\n",
        "x_train.shape"
      ],
      "execution_count": null,
      "outputs": []
    },
    {
      "cell_type": "code",
      "metadata": {
        "ExecuteTime": {
          "end_time": "2020-06-22T17:38:23.931295Z",
          "start_time": "2020-06-22T17:38:23.928512Z"
        },
        "id": "tti9WIzRdaVQ"
      },
      "source": [
        "x_test = x_test.reshape(10000,28,28,1)"
      ],
      "execution_count": 20,
      "outputs": []
    },
    {
      "cell_type": "code",
      "metadata": {
        "id": "_dNYdZgTdaVQ"
      },
      "source": [
        "x_test.shape"
      ],
      "execution_count": null,
      "outputs": []
    },
    {
      "cell_type": "markdown",
      "metadata": {
        "id": "SRMMcTK9daVR"
      },
      "source": [
        "## Create Model Arquitecture and Compile"
      ]
    },
    {
      "cell_type": "code",
      "metadata": {
        "ExecuteTime": {
          "end_time": "2020-06-22T17:40:05.070235Z",
          "start_time": "2020-06-22T17:40:05.067001Z"
        },
        "id": "5HDUJklRdaVR"
      },
      "source": [
        "from tensorflow.keras.models import Sequential\n",
        "from tensorflow.keras.layers import Dense, Conv2D, MaxPool2D, Flatten"
      ],
      "execution_count": 22,
      "outputs": []
    },
    {
      "cell_type": "code",
      "metadata": {
        "id": "mfm9X3VLpy2I"
      },
      "source": [
        "LAYER_ACTIVATION = # Enter your answer\n",
        "LAST_LAYER_ACTIVATION = # Enter your answer\n",
        "OUTPUT_LAYER_NEURONS = # Enter your answer\n",
        "LOSS = # Enter your answer\n",
        "OPT = # Enter your answer"
      ],
      "execution_count": null,
      "outputs": []
    },
    {
      "cell_type": "code",
      "metadata": {
        "id": "rKy22xhudaVR"
      },
      "source": [
        "model = Sequential()\n",
        "\n",
        "model.add(\n",
        "    Conv2D(\n",
        "        filters=32,\n",
        "        kernel_size=(4, 4),\n",
        "        input_shape=(28, 28, 1),\n",
        "        activation=LAYER_ACTIVATION,\n",
        "    ))\n",
        "model.add(MaxPool2D(pool_size=(2, 2)))\n",
        "model.add(Flatten())\n",
        "model.add(Dense(128, activation=LAYER_ACTIVATION))\n",
        "model.add(Dense(OUTPUT_LAYER_NEURONS, activation=LAST_LAYER_ACTIVATION))\n",
        "\n",
        "model.summary()"
      ],
      "execution_count": null,
      "outputs": []
    },
    {
      "cell_type": "code",
      "metadata": {
        "ExecuteTime": {
          "end_time": "2020-06-22T17:57:58.916305Z",
          "start_time": "2020-06-22T17:57:58.904410Z"
        },
        "id": "UI3bs5Q7daVS"
      },
      "source": [
        "model.compile(loss=LOSS,\n",
        "              optimizer=OPT,\n",
        "              metrics=['accuracy']) "
      ],
      "execution_count": 24,
      "outputs": []
    },
    {
      "cell_type": "markdown",
      "metadata": {
        "id": "lSy3nDVddaVT"
      },
      "source": [
        "## Train the Model"
      ]
    },
    {
      "cell_type": "markdown",
      "metadata": {
        "id": "5ZSAi--Ujizm"
      },
      "source": [
        "Let's add a callback, \"EarlyStopping\". This one of the techinics to prevent overfitting.\n"
      ]
    },
    {
      "cell_type": "code",
      "metadata": {
        "ExecuteTime": {
          "end_time": "2020-06-22T18:06:01.970020Z",
          "start_time": "2020-06-22T18:06:01.966900Z"
        },
        "id": "14rriIOodaVS"
      },
      "source": [
        "from tensorflow.keras.callbacks import EarlyStopping"
      ],
      "execution_count": 25,
      "outputs": []
    },
    {
      "cell_type": "code",
      "metadata": {
        "ExecuteTime": {
          "end_time": "2020-06-22T18:06:05.919154Z",
          "start_time": "2020-06-22T18:06:05.915458Z"
        },
        "id": "oyHbQCFjdaVS"
      },
      "source": [
        "early_stop = EarlyStopping(monitor='val_loss',patience=2)"
      ],
      "execution_count": 26,
      "outputs": []
    },
    {
      "cell_type": "code",
      "metadata": {
        "id": "UBNdojtlrGdt"
      },
      "source": [
        "EPOCHS = # Enter your answer\n",
        "VAL_SPLIT = # Enter your answer"
      ],
      "execution_count": null,
      "outputs": []
    },
    {
      "cell_type": "code",
      "metadata": {
        "id": "spheyRwFdaVT"
      },
      "source": [
        "history = model.fit(x_train,\n",
        "                    y_cat_train,\n",
        "                    epochs=EPOCHS,\n",
        "                    validation_split=VAL_SPLIT,\n",
        "                    callbacks=[early_stop])"
      ],
      "execution_count": null,
      "outputs": []
    },
    {
      "cell_type": "code",
      "metadata": {
        "id": "vnOivRxYl3Pi"
      },
      "source": [
        "# summarize history for loss\n",
        "plt.plot(history.history['loss'])\n",
        "plt.plot(history.history['val_loss'])\n",
        "plt.title('model loss')\n",
        "plt.ylabel('loss')\n",
        "plt.xlabel('epoch')\n",
        "plt.legend(['train', 'validation'], loc='upper left')\n",
        "plt.show()"
      ],
      "execution_count": null,
      "outputs": []
    },
    {
      "cell_type": "code",
      "metadata": {
        "id": "nzWtqzNllQP4"
      },
      "source": [
        "# summarize history for accuracy\n",
        "plt.plot(history.history['accuracy'])\n",
        "plt.plot(history.history['val_accuracy'])\n",
        "plt.title('model accuracy')\n",
        "plt.ylabel('accuracy')\n",
        "plt.xlabel('epoch')\n",
        "plt.legend(['train', 'validation'], loc='upper left')\n",
        "plt.show()"
      ],
      "execution_count": null,
      "outputs": []
    },
    {
      "cell_type": "markdown",
      "metadata": {
        "id": "yEiwOLvmdaVT"
      },
      "source": [
        "## Evaluate the Model"
      ]
    },
    {
      "cell_type": "code",
      "metadata": {
        "id": "I58YRc4ymfvg"
      },
      "source": [
        "print(model.metrics_names)\n",
        "print(model.evaluate(x_test,y_cat_test,verbose=0))"
      ],
      "execution_count": null,
      "outputs": []
    },
    {
      "cell_type": "code",
      "metadata": {
        "ExecuteTime": {
          "end_time": "2020-06-22T18:11:18.389748Z",
          "start_time": "2020-06-22T18:11:15.013268Z"
        },
        "id": "O-z0KSmWdaVV"
      },
      "source": [
        "from sklearn.metrics import classification_report,confusion_matrix"
      ],
      "execution_count": 36,
      "outputs": []
    },
    {
      "cell_type": "code",
      "metadata": {
        "id": "0na0BaOsm4Md"
      },
      "source": [
        "predictions = np.argmax(model.predict(x_test), axis=-1)\n",
        "predictions.shape"
      ],
      "execution_count": null,
      "outputs": []
    },
    {
      "cell_type": "code",
      "metadata": {
        "id": "fKhvSgQUdaVV"
      },
      "source": [
        "y_cat_test.shape"
      ],
      "execution_count": null,
      "outputs": []
    },
    {
      "cell_type": "code",
      "metadata": {
        "id": "9MYh6eMWdaVW"
      },
      "source": [
        "y_cat_test[0]"
      ],
      "execution_count": null,
      "outputs": []
    },
    {
      "cell_type": "code",
      "metadata": {
        "id": "DocEY85xdaVW"
      },
      "source": [
        "predictions[0]"
      ],
      "execution_count": null,
      "outputs": []
    },
    {
      "cell_type": "code",
      "metadata": {
        "id": "MBd0ZVSGdaVW"
      },
      "source": [
        "y_test"
      ],
      "execution_count": null,
      "outputs": []
    },
    {
      "cell_type": "code",
      "metadata": {
        "id": "IZ_wRaPtdaVW"
      },
      "source": [
        "print(classification_report(y_test,predictions))"
      ],
      "execution_count": null,
      "outputs": []
    },
    {
      "cell_type": "code",
      "metadata": {
        "id": "3jjuikasdaVX"
      },
      "source": [
        "confusion_matrix(y_test,predictions)"
      ],
      "execution_count": null,
      "outputs": []
    },
    {
      "cell_type": "code",
      "metadata": {
        "ExecuteTime": {
          "end_time": "2020-06-22T18:12:23.860860Z",
          "start_time": "2020-06-22T18:12:23.560656Z"
        },
        "id": "bdxOEOpfdaVX"
      },
      "source": [
        "import seaborn as sns"
      ],
      "execution_count": 44,
      "outputs": []
    },
    {
      "cell_type": "code",
      "metadata": {
        "id": "Wj2E3l2XdaVX"
      },
      "source": [
        "plt.figure(figsize=(15,8))\n",
        "sns.heatmap(confusion_matrix(y_test,predictions), cmap='Blues', annot=True, fmt='g');"
      ],
      "execution_count": null,
      "outputs": []
    }
  ]
}