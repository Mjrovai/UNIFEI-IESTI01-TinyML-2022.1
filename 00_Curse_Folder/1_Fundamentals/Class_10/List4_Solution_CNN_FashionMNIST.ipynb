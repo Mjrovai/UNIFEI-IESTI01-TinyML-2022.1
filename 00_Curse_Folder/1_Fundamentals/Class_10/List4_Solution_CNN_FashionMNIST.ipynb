{
 "cells": [
  {
   "cell_type": "code",
   "execution_count": 1,
   "metadata": {
    "ExecuteTime": {
     "end_time": "2020-06-22T17:24:26.890662Z",
     "start_time": "2020-06-22T17:24:26.887618Z"
    },
    "id": "BB_R-WuKdaVD"
   },
   "outputs": [],
   "source": [
    "import numpy as np\n",
    "import matplotlib.pyplot as plt\n",
    "import tensorflow as tf"
   ]
  },
  {
   "cell_type": "code",
   "execution_count": 2,
   "metadata": {
    "colab": {
     "base_uri": "https://localhost:8080/"
    },
    "id": "Vp-irgw1eGMJ",
    "outputId": "a53cf2a2-1d11-4b46-cf24-c60512001782"
   },
   "outputs": [
    {
     "name": "stdout",
     "output_type": "stream",
     "text": [
      "Downloading data from https://storage.googleapis.com/tensorflow/tf-keras-datasets/train-labels-idx1-ubyte.gz\n",
      "32768/29515 [=================================] - 0s 0us/step\n",
      "Downloading data from https://storage.googleapis.com/tensorflow/tf-keras-datasets/train-images-idx3-ubyte.gz\n",
      "26427392/26421880 [==============================] - 0s 0us/step\n",
      "Downloading data from https://storage.googleapis.com/tensorflow/tf-keras-datasets/t10k-labels-idx1-ubyte.gz\n",
      "8192/5148 [===============================================] - 0s 0us/step\n",
      "Downloading data from https://storage.googleapis.com/tensorflow/tf-keras-datasets/t10k-images-idx3-ubyte.gz\n",
      "4423680/4422102 [==============================] - 0s 0us/step\n"
     ]
    }
   ],
   "source": [
    "# Load in fashion MNIST\n",
    "mnist = tf.keras.datasets.fashion_mnist\n",
    "(x_train, y_train), (x_test, y_test) = mnist.load_data()"
   ]
  },
  {
   "cell_type": "markdown",
   "metadata": {
    "id": "eq3prQ3edaVE"
   },
   "source": [
    "##  Visualizing the Image Data"
   ]
  },
  {
   "cell_type": "code",
   "execution_count": 3,
   "metadata": {
    "ExecuteTime": {
     "end_time": "2020-06-22T17:25:11.091587Z",
     "start_time": "2020-06-22T17:25:11.086533Z"
    },
    "colab": {
     "base_uri": "https://localhost:8080/"
    },
    "id": "C70CYNCMdaVF",
    "outputId": "5b9cb156-751d-494f-ecb4-a84c763cd7fd"
   },
   "outputs": [
    {
     "data": {
      "text/plain": [
       "(60000, 28, 28)"
      ]
     },
     "execution_count": 3,
     "metadata": {
      "tags": []
     },
     "output_type": "execute_result"
    }
   ],
   "source": [
    "x_train.shape"
   ]
  },
  {
   "cell_type": "code",
   "execution_count": 4,
   "metadata": {
    "ExecuteTime": {
     "end_time": "2020-06-22T17:26:50.470143Z",
     "start_time": "2020-06-22T17:26:50.222805Z"
    },
    "colab": {
     "base_uri": "https://localhost:8080/",
     "height": 286
    },
    "id": "ONkpiR91daVH",
    "outputId": "d70d57a1-5d6c-4286-dbf7-e88ef729756a"
   },
   "outputs": [
    {
     "data": {
      "image/png": "[encoded data removed]",
      "text/plain": [
       "<Figure size 432x288 with 1 Axes>"
      ]
     },
     "metadata": {
      "needs_background": "light",
      "tags": []
     },
     "output_type": "display_data"
    }
   ],
   "source": [
    "plt.imshow(x_train[0]);"
   ]
  },
  {
   "cell_type": "markdown",
   "metadata": {
    "id": "RPXpudgkdaVI"
   },
   "source": [
    "# PreProcessing Data\n",
    "\n",
    "Let's change the labels to categorical (it is not necessary, but it is good to explore it). "
   ]
  },
  {
   "cell_type": "markdown",
   "metadata": {
    "id": "T7_raF06daVI"
   },
   "source": [
    "## Labels"
   ]
  },
  {
   "cell_type": "code",
   "execution_count": 5,
   "metadata": {
    "ExecuteTime": {
     "end_time": "2020-06-22T17:29:33.208093Z",
     "start_time": "2020-06-22T17:29:33.203197Z"
    },
    "colab": {
     "base_uri": "https://localhost:8080/"
    },
    "id": "Hi7npvQvdaVI",
    "outputId": "695e6218-fd0f-476b-e887-fc0164ab6229"
   },
   "outputs": [
    {
     "data": {
      "text/plain": [
       "array([9, 0, 0, ..., 3, 0, 5], dtype=uint8)"
      ]
     },
     "execution_count": 5,
     "metadata": {
      "tags": []
     },
     "output_type": "execute_result"
    }
   ],
   "source": [
    "y_train"
   ]
  },
  {
   "cell_type": "code",
   "execution_count": 6,
   "metadata": {
    "ExecuteTime": {
     "end_time": "2020-06-22T17:29:36.076407Z",
     "start_time": "2020-06-22T17:29:36.072090Z"
    },
    "colab": {
     "base_uri": "https://localhost:8080/"
    },
    "id": "ByFDbQtedaVJ",
    "outputId": "b14b6c70-73bc-4106-9a30-e53ccd2ef7bf"
   },
   "outputs": [
    {
     "data": {
      "text/plain": [
       "array([9, 2, 1, ..., 8, 1, 5], dtype=uint8)"
      ]
     },
     "execution_count": 6,
     "metadata": {
      "tags": []
     },
     "output_type": "execute_result"
    }
   ],
   "source": [
    "y_test"
   ]
  },
  {
   "cell_type": "markdown",
   "metadata": {
    "id": "JnPwRo_9daVJ"
   },
   "source": [
    "The labels are literally categories of numbers, so we will translate them to be \"one hot encoded\":"
   ]
  },
  {
   "cell_type": "code",
   "execution_count": 7,
   "metadata": {
    "ExecuteTime": {
     "end_time": "2020-06-22T17:30:32.708965Z",
     "start_time": "2020-06-22T17:30:32.706067Z"
    },
    "id": "2fvn6a0mdaVK"
   },
   "outputs": [],
   "source": [
    "from tensorflow.keras.utils import to_categorical"
   ]
  },
  {
   "cell_type": "code",
   "execution_count": 8,
   "metadata": {
    "ExecuteTime": {
     "end_time": "2020-06-22T17:30:42.485158Z",
     "start_time": "2020-06-22T17:30:42.481007Z"
    },
    "colab": {
     "base_uri": "https://localhost:8080/"
    },
    "id": "cZdl3qKtdaVK",
    "outputId": "916caa5c-7825-4256-dcaf-6ffc615476a2"
   },
   "outputs": [
    {
     "data": {
      "text/plain": [
       "(60000,)"
      ]
     },
     "execution_count": 8,
     "metadata": {
      "tags": []
     },
     "output_type": "execute_result"
    }
   ],
   "source": [
    "y_train.shape"
   ]
  },
  {
   "cell_type": "code",
   "execution_count": 9,
   "metadata": {
    "ExecuteTime": {
     "end_time": "2020-06-22T17:32:06.400174Z",
     "start_time": "2020-06-22T17:32:06.396848Z"
    },
    "colab": {
     "base_uri": "https://localhost:8080/"
    },
    "id": "CX6ORkd7daVM",
    "outputId": "31acd3bf-4df1-49f9-cf90-092232bb66f3"
   },
   "outputs": [
    {
     "data": {
      "text/plain": [
       "(10000, 10)"
      ]
     },
     "execution_count": 9,
     "metadata": {
      "tags": []
     },
     "output_type": "execute_result"
    }
   ],
   "source": [
    "y_cat_test = to_categorical(y_test,10)\n",
    "y_cat_test.shape"
   ]
  },
  {
   "cell_type": "code",
   "execution_count": 10,
   "metadata": {
    "ExecuteTime": {
     "end_time": "2020-06-22T17:32:07.201448Z",
     "start_time": "2020-06-22T17:32:07.195061Z"
    },
    "colab": {
     "base_uri": "https://localhost:8080/"
    },
    "id": "gtr51Q80daVM",
    "outputId": "7651e0e7-bb40-49ae-a036-8876e1a5b7bf"
   },
   "outputs": [
    {
     "data": {
      "text/plain": [
       "(60000, 10)"
      ]
     },
     "execution_count": 10,
     "metadata": {
      "tags": []
     },
     "output_type": "execute_result"
    }
   ],
   "source": [
    "y_cat_train = to_categorical(y_train,10)\n",
    "y_cat_train.shape"
   ]
  },
  {
   "cell_type": "code",
   "execution_count": 11,
   "metadata": {
    "colab": {
     "base_uri": "https://localhost:8080/"
    },
    "id": "M4P-HF6Hfsd1",
    "outputId": "237af5cf-2119-4d94-97ab-1b6da194f3d7"
   },
   "outputs": [
    {
     "name": "stdout",
     "output_type": "stream",
     "text": [
      "9\n",
      "[0. 0. 0. 0. 0. 0. 0. 0. 0. 1.]\n"
     ]
    }
   ],
   "source": [
    "# verifing one sample label\n",
    "print(y_train[0])\n",
    "print(y_cat_train[0])"
   ]
  },
  {
   "cell_type": "markdown",
   "metadata": {
    "id": "aLDhcm4-daVM"
   },
   "source": [
    "### Processing X Data\n",
    "\n",
    "We should normalize the X data"
   ]
  },
  {
   "cell_type": "code",
   "execution_count": 12,
   "metadata": {
    "ExecuteTime": {
     "end_time": "2020-06-22T17:33:39.777813Z",
     "start_time": "2020-06-22T17:33:39.773116Z"
    },
    "colab": {
     "base_uri": "https://localhost:8080/"
    },
    "id": "yEvVxUAGdaVM",
    "outputId": "8d594f5c-045b-49df-d6eb-9fb2fc801c3b"
   },
   "outputs": [
    {
     "data": {
      "text/plain": [
       "255"
      ]
     },
     "execution_count": 12,
     "metadata": {
      "tags": []
     },
     "output_type": "execute_result"
    }
   ],
   "source": [
    "x_train.max()"
   ]
  },
  {
   "cell_type": "code",
   "execution_count": 13,
   "metadata": {
    "ExecuteTime": {
     "end_time": "2020-06-22T17:33:49.350691Z",
     "start_time": "2020-06-22T17:33:49.346171Z"
    },
    "colab": {
     "base_uri": "https://localhost:8080/"
    },
    "id": "TmYNgmNcdaVN",
    "outputId": "f0c18e90-8912-4b5f-b1bc-954a4c89f123"
   },
   "outputs": [
    {
     "data": {
      "text/plain": [
       "0"
      ]
     },
     "execution_count": 13,
     "metadata": {
      "tags": []
     },
     "output_type": "execute_result"
    }
   ],
   "source": [
    "x_train.min()"
   ]
  },
  {
   "cell_type": "code",
   "execution_count": 14,
   "metadata": {
    "ExecuteTime": {
     "end_time": "2020-06-22T17:33:53.279050Z",
     "start_time": "2020-06-22T17:33:53.013477Z"
    },
    "id": "moCF3-NXdaVN"
   },
   "outputs": [],
   "source": [
    "x_train = x_train/255\n",
    "x_test = x_test/255"
   ]
  },
  {
   "cell_type": "code",
   "execution_count": 15,
   "metadata": {
    "ExecuteTime": {
     "end_time": "2020-06-22T17:35:22.059058Z",
     "start_time": "2020-06-22T17:35:21.931123Z"
    },
    "colab": {
     "base_uri": "https://localhost:8080/",
     "height": 286
    },
    "id": "lJIsNDMndaVO",
    "outputId": "fddb53f2-2747-455b-b951-698c3352f024"
   },
   "outputs": [
    {
     "data": {
      "image/png": "[encoded data removed]",
      "text/plain": [
       "<Figure size 432x288 with 1 Axes>"
      ]
     },
     "metadata": {
      "needs_background": "light",
      "tags": []
     },
     "output_type": "display_data"
    }
   ],
   "source": [
    "plt.imshow(x_train[0]);"
   ]
  },
  {
   "cell_type": "markdown",
   "metadata": {
    "id": "TBzuSjuidaVO"
   },
   "source": [
    "## Reshaping the Data\n",
    "\n",
    "Right now our data is 60,000 images stored in 28 by 28 pixel array formation. \n",
    "\n",
    "For to use it with CNN, we need to add one more dimension to show we're dealing with 1 RGB channel \n",
    "- The images are in black and white, only showing values from 0-255 on a single channel, an color image would have 3 dimensions."
   ]
  },
  {
   "cell_type": "code",
   "execution_count": 16,
   "metadata": {
    "ExecuteTime": {
     "end_time": "2020-06-22T17:36:11.907567Z",
     "start_time": "2020-06-22T17:36:11.903156Z"
    },
    "colab": {
     "base_uri": "https://localhost:8080/"
    },
    "id": "XND6BAKrdaVP",
    "outputId": "5136d7a8-6a1a-4981-97c5-d5d3d6812678"
   },
   "outputs": [
    {
     "data": {
      "text/plain": [
       "(60000, 28, 28)"
      ]
     },
     "execution_count": 16,
     "metadata": {
      "tags": []
     },
     "output_type": "execute_result"
    }
   ],
   "source": [
    "x_train.shape"
   ]
  },
  {
   "cell_type": "code",
   "execution_count": 17,
   "metadata": {
    "ExecuteTime": {
     "end_time": "2020-06-22T17:36:17.143501Z",
     "start_time": "2020-06-22T17:36:17.138890Z"
    },
    "colab": {
     "base_uri": "https://localhost:8080/"
    },
    "id": "0jNuDTRfdaVP",
    "outputId": "6c67a036-9939-4d25-bb69-b0badca47ad7"
   },
   "outputs": [
    {
     "data": {
      "text/plain": [
       "(10000, 28, 28)"
      ]
     },
     "execution_count": 17,
     "metadata": {
      "tags": []
     },
     "output_type": "execute_result"
    }
   ],
   "source": [
    "x_test.shape"
   ]
  },
  {
   "cell_type": "markdown",
   "metadata": {
    "id": "P8GoezeGdaVP"
   },
   "source": [
    "Reshaping to include channel dimension (in this case, 1 channel)"
   ]
  },
  {
   "cell_type": "code",
   "execution_count": 18,
   "metadata": {
    "ExecuteTime": {
     "end_time": "2020-06-22T17:36:40.859036Z",
     "start_time": "2020-06-22T17:36:40.855137Z"
    },
    "id": "frXT0zU-daVQ"
   },
   "outputs": [],
   "source": [
    "x_train = x_train.reshape(60000, 28, 28, 1)"
   ]
  },
  {
   "cell_type": "code",
   "execution_count": 19,
   "metadata": {
    "ExecuteTime": {
     "end_time": "2020-06-22T17:37:04.213653Z",
     "start_time": "2020-06-22T17:37:04.209404Z"
    },
    "colab": {
     "base_uri": "https://localhost:8080/"
    },
    "id": "Yv4EYmvkdaVQ",
    "outputId": "00d1f6b6-af2c-4105-e5c9-51217e208f4b"
   },
   "outputs": [
    {
     "data": {
      "text/plain": [
       "(60000, 28, 28, 1)"
      ]
     },
     "execution_count": 19,
     "metadata": {
      "tags": []
     },
     "output_type": "execute_result"
    }
   ],
   "source": [
    "# batch_size, widht, height, color_channels\n",
    "x_train.shape"
   ]
  },
  {
   "cell_type": "code",
   "execution_count": 20,
   "metadata": {
    "ExecuteTime": {
     "end_time": "2020-06-22T17:38:23.931295Z",
     "start_time": "2020-06-22T17:38:23.928512Z"
    },
    "id": "tti9WIzRdaVQ"
   },
   "outputs": [],
   "source": [
    "x_test = x_test.reshape(10000,28,28,1)"
   ]
  },
  {
   "cell_type": "code",
   "execution_count": 21,
   "metadata": {
    "ExecuteTime": {
     "end_time": "2020-06-22T17:38:24.517119Z",
     "start_time": "2020-06-22T17:38:24.512880Z"
    },
    "colab": {
     "base_uri": "https://localhost:8080/"
    },
    "id": "_dNYdZgTdaVQ",
    "outputId": "c190528f-4759-450a-cd46-912f7337823d"
   },
   "outputs": [
    {
     "data": {
      "text/plain": [
       "(10000, 28, 28, 1)"
      ]
     },
     "execution_count": 21,
     "metadata": {
      "tags": []
     },
     "output_type": "execute_result"
    }
   ],
   "source": [
    "x_test.shape"
   ]
  },
  {
   "cell_type": "markdown",
   "metadata": {
    "id": "SRMMcTK9daVR"
   },
   "source": [
    "# Training the Model"
   ]
  },
  {
   "cell_type": "code",
   "execution_count": 22,
   "metadata": {
    "ExecuteTime": {
     "end_time": "2020-06-22T17:40:05.070235Z",
     "start_time": "2020-06-22T17:40:05.067001Z"
    },
    "id": "5HDUJklRdaVR"
   },
   "outputs": [],
   "source": [
    "from tensorflow.keras.models import Sequential\n",
    "from tensorflow.keras.layers import Dense, Conv2D, MaxPool2D, Flatten"
   ]
  },
  {
   "cell_type": "code",
   "execution_count": 23,
   "metadata": {
    "ExecuteTime": {
     "end_time": "2020-06-22T17:52:07.997132Z",
     "start_time": "2020-06-22T17:52:07.942987Z"
    },
    "colab": {
     "base_uri": "https://localhost:8080/"
    },
    "id": "rKy22xhudaVR",
    "outputId": "525a8c03-55ca-45ab-9bfb-6eb650faf96f"
   },
   "outputs": [
    {
     "name": "stdout",
     "output_type": "stream",
     "text": [
      "Model: \"sequential\"\n",
      "_________________________________________________________________\n",
      "Layer (type)                 Output Shape              Param #   \n",
      "=================================================================\n",
      "conv2d (Conv2D)              (None, 25, 25, 32)        544       \n",
      "_________________________________________________________________\n",
      "max_pooling2d (MaxPooling2D) (None, 12, 12, 32)        0         \n",
      "_________________________________________________________________\n",
      "flatten (Flatten)            (None, 4608)              0         \n",
      "_________________________________________________________________\n",
      "dense (Dense)                (None, 128)               589952    \n",
      "_________________________________________________________________\n",
      "dense_1 (Dense)              (None, 10)                1290      \n",
      "=================================================================\n",
      "Total params: 591,786\n",
      "Trainable params: 591,786\n",
      "Non-trainable params: 0\n",
      "_________________________________________________________________\n"
     ]
    }
   ],
   "source": [
    "model = Sequential()\n",
    "\n",
    "# CONVOLUTIONAL LAYER\n",
    "model.add(\n",
    "    Conv2D(\n",
    "        filters=32,\n",
    "        kernel_size=(4, 4),\n",
    "        input_shape=(28, 28, 1),\n",
    "        activation='relu',\n",
    "    ))\n",
    "\n",
    "# POOLING LAYER\n",
    "model.add(MaxPool2D(pool_size=(2, 2)))\n",
    "\n",
    "# FLATTEN IMAGES FROM 28 by 28 to 764 BEFORE FINAL LAYER\n",
    "model.add(Flatten())\n",
    "\n",
    "# 128 NEURONS IN DENSE HIDDEN LAYER (YOU CAN CHANGE THIS NUMBER OF NEURONS)\n",
    "model.add(Dense(128, activation='relu'))\n",
    "\n",
    "# LAST LAYER IS THE CLASSIFIER, THUS 10 POSSIBLE CLASSES AND SOFTMAX ==> MULTI CLASS\n",
    "model.add(Dense(10, activation='softmax'))\n",
    "\n",
    "model.summary()"
   ]
  },
  {
   "cell_type": "code",
   "execution_count": 24,
   "metadata": {
    "ExecuteTime": {
     "end_time": "2020-06-22T17:57:58.916305Z",
     "start_time": "2020-06-22T17:57:58.904410Z"
    },
    "id": "UI3bs5Q7daVS"
   },
   "outputs": [],
   "source": [
    "model.compile(loss='categorical_crossentropy',\n",
    "              optimizer='adam',\n",
    "              metrics=['accuracy']) "
   ]
  },
  {
   "cell_type": "markdown",
   "metadata": {
    "id": "lSy3nDVddaVT"
   },
   "source": [
    "## Train the Model"
   ]
  },
  {
   "cell_type": "markdown",
   "metadata": {
    "id": "5ZSAi--Ujizm"
   },
   "source": [
    "Let's add a callback, \"EarlyStopping\". This one of the techinics to prevent overfitting.\n"
   ]
  },
  {
   "cell_type": "code",
   "execution_count": 25,
   "metadata": {
    "ExecuteTime": {
     "end_time": "2020-06-22T18:06:01.970020Z",
     "start_time": "2020-06-22T18:06:01.966900Z"
    },
    "id": "14rriIOodaVS"
   },
   "outputs": [],
   "source": [
    "from tensorflow.keras.callbacks import EarlyStopping"
   ]
  },
  {
   "cell_type": "code",
   "execution_count": 26,
   "metadata": {
    "ExecuteTime": {
     "end_time": "2020-06-22T18:06:05.919154Z",
     "start_time": "2020-06-22T18:06:05.915458Z"
    },
    "id": "oyHbQCFjdaVS"
   },
   "outputs": [],
   "source": [
    "early_stop = EarlyStopping(monitor='val_loss',patience=2)"
   ]
  },
  {
   "cell_type": "code",
   "execution_count": 28,
   "metadata": {
    "ExecuteTime": {
     "end_time": "2020-06-22T18:08:51.988978Z",
     "start_time": "2020-06-22T18:06:46.303236Z"
    },
    "colab": {
     "base_uri": "https://localhost:8080/"
    },
    "id": "spheyRwFdaVT",
    "outputId": "41f07a50-ad65-47cc-d44e-b57bfea6d41b"
   },
   "outputs": [
    {
     "name": "stdout",
     "output_type": "stream",
     "text": [
      "Epoch 1/10\n",
      "1688/1688 [==============================] - 36s 3ms/step - loss: 0.4211 - accuracy: 0.8499 - val_loss: 0.3428 - val_accuracy: 0.8755\n",
      "Epoch 2/10\n",
      "1688/1688 [==============================] - 6s 3ms/step - loss: 0.2890 - accuracy: 0.8956 - val_loss: 0.2920 - val_accuracy: 0.8933\n",
      "Epoch 3/10\n",
      "1688/1688 [==============================] - 6s 3ms/step - loss: 0.2417 - accuracy: 0.9108 - val_loss: 0.2867 - val_accuracy: 0.8958\n",
      "Epoch 4/10\n",
      "1688/1688 [==============================] - 6s 3ms/step - loss: 0.2065 - accuracy: 0.9234 - val_loss: 0.2604 - val_accuracy: 0.9075\n",
      "Epoch 5/10\n",
      "1688/1688 [==============================] - 5s 3ms/step - loss: 0.1813 - accuracy: 0.9326 - val_loss: 0.2751 - val_accuracy: 0.9022\n",
      "Epoch 6/10\n",
      "1688/1688 [==============================] - 6s 3ms/step - loss: 0.1566 - accuracy: 0.9412 - val_loss: 0.2444 - val_accuracy: 0.9152\n",
      "Epoch 7/10\n",
      "1688/1688 [==============================] - 5s 3ms/step - loss: 0.1338 - accuracy: 0.9501 - val_loss: 0.2563 - val_accuracy: 0.9173\n",
      "Epoch 8/10\n",
      "1688/1688 [==============================] - 6s 3ms/step - loss: 0.1169 - accuracy: 0.9571 - val_loss: 0.2667 - val_accuracy: 0.9140\n"
     ]
    }
   ],
   "source": [
    "history = model.fit(x_train,\n",
    "                    y_cat_train,\n",
    "                    epochs=10,\n",
    "                    validation_split=0.1,\n",
    "                    callbacks=[early_stop])"
   ]
  },
  {
   "cell_type": "code",
   "execution_count": 33,
   "metadata": {
    "colab": {
     "base_uri": "https://localhost:8080/",
     "height": 315
    },
    "id": "vnOivRxYl3Pi",
    "outputId": "781ab8d5-530a-4b90-e909-0edf5f47061d"
   },
   "outputs": [
    {
     "data": {
      "image/png": "[encoded data removed]",
      "text/plain": [
       "<Figure size 432x288 with 1 Axes>"
      ]
     },
     "metadata": {
      "needs_background": "light",
      "tags": []
     },
     "output_type": "display_data"
    }
   ],
   "source": [
    "# summarize history for loss\n",
    "plt.plot(history.history['loss'])\n",
    "plt.plot(history.history['val_loss'])\n",
    "plt.title('model loss')\n",
    "plt.ylabel('loss')\n",
    "plt.xlabel('epoch')\n",
    "plt.legend(['train', 'validation'], loc='upper left')\n",
    "plt.show()"
   ]
  },
  {
   "cell_type": "code",
   "execution_count": 32,
   "metadata": {
    "colab": {
     "base_uri": "https://localhost:8080/",
     "height": 315
    },
    "id": "nzWtqzNllQP4",
    "outputId": "780b00c9-3f97-4662-cf26-5eedbf3aa397"
   },
   "outputs": [
    {
     "data": {
      "image/png": "[encoded data removed]",
      "text/plain": [
       "<Figure size 432x288 with 1 Axes>"
      ]
     },
     "metadata": {
      "needs_background": "light",
      "tags": []
     },
     "output_type": "display_data"
    }
   ],
   "source": [
    "# summarize history for accuracy\n",
    "plt.plot(history.history['accuracy'])\n",
    "plt.plot(history.history['val_accuracy'])\n",
    "plt.title('model accuracy')\n",
    "plt.ylabel('accuracy')\n",
    "plt.xlabel('epoch')\n",
    "plt.legend(['train', 'validation'], loc='upper left')\n",
    "plt.show()"
   ]
  },
  {
   "cell_type": "markdown",
   "metadata": {
    "id": "yEiwOLvmdaVT"
   },
   "source": [
    "## Evaluate the Model"
   ]
  },
  {
   "cell_type": "code",
   "execution_count": 35,
   "metadata": {
    "colab": {
     "base_uri": "https://localhost:8080/"
    },
    "id": "I58YRc4ymfvg",
    "outputId": "d07238d0-ed28-4484-bcad-719bb2e5fb92"
   },
   "outputs": [
    {
     "name": "stdout",
     "output_type": "stream",
     "text": [
      "['loss', 'accuracy']\n",
      "[0.28008365631103516, 0.9100000262260437]\n"
     ]
    }
   ],
   "source": [
    "print(model.metrics_names)\n",
    "print(model.evaluate(x_test,y_cat_test,verbose=0))"
   ]
  },
  {
   "cell_type": "code",
   "execution_count": 36,
   "metadata": {
    "ExecuteTime": {
     "end_time": "2020-06-22T18:11:18.389748Z",
     "start_time": "2020-06-22T18:11:15.013268Z"
    },
    "id": "O-z0KSmWdaVV"
   },
   "outputs": [],
   "source": [
    "from sklearn.metrics import classification_report,confusion_matrix"
   ]
  },
  {
   "cell_type": "code",
   "execution_count": 37,
   "metadata": {
    "colab": {
     "base_uri": "https://localhost:8080/"
    },
    "id": "0na0BaOsm4Md",
    "outputId": "f972c76b-9396-4c05-cb5a-71cbe6873726"
   },
   "outputs": [
    {
     "data": {
      "text/plain": [
       "(10000,)"
      ]
     },
     "execution_count": 37,
     "metadata": {
      "tags": []
     },
     "output_type": "execute_result"
    }
   ],
   "source": [
    "predictions = np.argmax(model.predict(x_test), axis=-1)\n",
    "predictions.shape"
   ]
  },
  {
   "cell_type": "code",
   "execution_count": 38,
   "metadata": {
    "ExecuteTime": {
     "end_time": "2020-06-22T18:11:33.467613Z",
     "start_time": "2020-06-22T18:11:33.462816Z"
    },
    "colab": {
     "base_uri": "https://localhost:8080/"
    },
    "id": "fKhvSgQUdaVV",
    "outputId": "c95cdd32-baaa-4d27-cbac-8707d1a5b707"
   },
   "outputs": [
    {
     "data": {
      "text/plain": [
       "(10000, 10)"
      ]
     },
     "execution_count": 38,
     "metadata": {
      "tags": []
     },
     "output_type": "execute_result"
    }
   ],
   "source": [
    "y_cat_test.shape"
   ]
  },
  {
   "cell_type": "code",
   "execution_count": 39,
   "metadata": {
    "ExecuteTime": {
     "end_time": "2020-06-22T18:11:35.864346Z",
     "start_time": "2020-06-22T18:11:35.859714Z"
    },
    "colab": {
     "base_uri": "https://localhost:8080/"
    },
    "id": "9MYh6eMWdaVW",
    "outputId": "dd73ae26-cf78-46d9-d425-5ac204b56234"
   },
   "outputs": [
    {
     "data": {
      "text/plain": [
       "array([0., 0., 0., 0., 0., 0., 0., 0., 0., 1.], dtype=float32)"
      ]
     },
     "execution_count": 39,
     "metadata": {
      "tags": []
     },
     "output_type": "execute_result"
    }
   ],
   "source": [
    "y_cat_test[0]"
   ]
  },
  {
   "cell_type": "code",
   "execution_count": 40,
   "metadata": {
    "ExecuteTime": {
     "end_time": "2020-06-22T18:11:39.947776Z",
     "start_time": "2020-06-22T18:11:39.943018Z"
    },
    "colab": {
     "base_uri": "https://localhost:8080/"
    },
    "id": "DocEY85xdaVW",
    "outputId": "4299e5b6-a0fd-4dee-8f6e-d7fc28523c83"
   },
   "outputs": [
    {
     "data": {
      "text/plain": [
       "9"
      ]
     },
     "execution_count": 40,
     "metadata": {
      "tags": []
     },
     "output_type": "execute_result"
    }
   ],
   "source": [
    "predictions[0]"
   ]
  },
  {
   "cell_type": "code",
   "execution_count": 41,
   "metadata": {
    "ExecuteTime": {
     "end_time": "2020-06-22T18:11:41.219815Z",
     "start_time": "2020-06-22T18:11:41.214420Z"
    },
    "colab": {
     "base_uri": "https://localhost:8080/"
    },
    "id": "MBd0ZVSGdaVW",
    "outputId": "b8bde4b7-612e-4c33-8c06-8440a7de98ac"
   },
   "outputs": [
    {
     "data": {
      "text/plain": [
       "array([9, 2, 1, ..., 8, 1, 5], dtype=uint8)"
      ]
     },
     "execution_count": 41,
     "metadata": {
      "tags": []
     },
     "output_type": "execute_result"
    }
   ],
   "source": [
    "y_test"
   ]
  },
  {
   "cell_type": "code",
   "execution_count": 42,
   "metadata": {
    "ExecuteTime": {
     "end_time": "2020-06-22T18:11:52.128045Z",
     "start_time": "2020-06-22T18:11:52.093784Z"
    },
    "colab": {
     "base_uri": "https://localhost:8080/"
    },
    "id": "IZ_wRaPtdaVW",
    "outputId": "87f3b006-76c7-435b-c5a1-c8e988342ccd",
    "scrolled": true
   },
   "outputs": [
    {
     "name": "stdout",
     "output_type": "stream",
     "text": [
      "              precision    recall  f1-score   support\n",
      "\n",
      "           0       0.88      0.83      0.86      1000\n",
      "           1       0.99      0.99      0.99      1000\n",
      "           2       0.82      0.89      0.85      1000\n",
      "           3       0.93      0.92      0.92      1000\n",
      "           4       0.84      0.88      0.86      1000\n",
      "           5       0.98      0.98      0.98      1000\n",
      "           6       0.78      0.71      0.75      1000\n",
      "           7       0.97      0.95      0.96      1000\n",
      "           8       0.95      0.99      0.97      1000\n",
      "           9       0.95      0.97      0.96      1000\n",
      "\n",
      "    accuracy                           0.91     10000\n",
      "   macro avg       0.91      0.91      0.91     10000\n",
      "weighted avg       0.91      0.91      0.91     10000\n",
      "\n"
     ]
    }
   ],
   "source": [
    "print(classification_report(y_test,predictions))"
   ]
  },
  {
   "cell_type": "code",
   "execution_count": 43,
   "metadata": {
    "ExecuteTime": {
     "end_time": "2020-06-22T18:12:16.545823Z",
     "start_time": "2020-06-22T18:12:16.506498Z"
    },
    "colab": {
     "base_uri": "https://localhost:8080/"
    },
    "id": "3jjuikasdaVX",
    "outputId": "91d4d43f-8c93-4e52-d0d3-1bf421fe41e4"
   },
   "outputs": [
    {
     "data": {
      "text/plain": [
       "array([[830,   2,  27,  13,   7,   1, 106,   0,  14,   0],\n",
       "       [  0, 986,   0,   7,   5,   0,   0,   0,   2,   0],\n",
       "       [ 11,   0, 891,   6,  52,   0,  37,   0,   3,   0],\n",
       "       [ 11,   5,  16, 915,  16,   0,  28,   0,   9,   0],\n",
       "       [  2,   2,  70,  20, 877,   0,  29,   0,   0,   0],\n",
       "       [  0,   0,   0,   0,   0, 981,   0,   7,   4,   8],\n",
       "       [ 85,   0,  87,  20,  81,   0, 714,   0,  13,   0],\n",
       "       [  0,   0,   0,   0,   0,  12,   0, 946,   2,  40],\n",
       "       [  1,   3,   2,   2,   3,   1,   0,   1, 987,   0],\n",
       "       [  0,   0,   0,   0,   0,   5,   0,  20,   2, 973]])"
      ]
     },
     "execution_count": 43,
     "metadata": {
      "tags": []
     },
     "output_type": "execute_result"
    }
   ],
   "source": [
    "confusion_matrix(y_test,predictions)"
   ]
  },
  {
   "cell_type": "code",
   "execution_count": 44,
   "metadata": {
    "ExecuteTime": {
     "end_time": "2020-06-22T18:12:23.860860Z",
     "start_time": "2020-06-22T18:12:23.560656Z"
    },
    "id": "bdxOEOpfdaVX"
   },
   "outputs": [],
   "source": [
    "import seaborn as sns"
   ]
  },
  {
   "cell_type": "code",
   "execution_count": 49,
   "metadata": {
    "ExecuteTime": {
     "end_time": "2020-06-22T18:12:24.740259Z",
     "start_time": "2020-06-22T18:12:24.251274Z"
    },
    "colab": {
     "base_uri": "https://localhost:8080/",
     "height": 503
    },
    "id": "Wj2E3l2XdaVX",
    "outputId": "c8e651fa-6dd9-4982-acd8-88c477fd218d"
   },
   "outputs": [
    {
     "data": {
      "image/png": "[encoded data removed]",
      "text/plain": [
       "<Figure size 1080x576 with 2 Axes>"
      ]
     },
     "metadata": {
      "needs_background": "light",
      "tags": []
     },
     "output_type": "display_data"
    }
   ],
   "source": [
    "plt.figure(figsize=(15,8))\n",
    "sns.heatmap(confusion_matrix(y_test,predictions), cmap='Blues', annot=True, fmt='g');"
   ]
  }
 ],
 "metadata": {
  "accelerator": "GPU",
  "colab": {
   "name": "List4-Solution-CNN-FashionMNIST.ipynb",
   "provenance": []
  },
  "hide_input": false,
  "kernelspec": {
   "display_name": "Python 3",
   "language": "python",
   "name": "python3"
  },
  "language_info": {
   "name": "python"
  },
  "nbTranslate": {
   "displayLangs": [
    "*"
   ],
   "hotkey": "alt-t",
   "langInMainMenu": true,
   "sourceLang": "en",
   "targetLang": "fr",
   "useGoogleTranslate": true
  },
  "toc": {
   "base_numbering": 1,
   "nav_menu": {},
   "number_sections": true,
   "sideBar": true,
   "skip_h1_title": false,
   "title_cell": "Table of Contents",
   "title_sidebar": "Contents",
   "toc_cell": false,
   "toc_position": {},
   "toc_section_display": true,
   "toc_window_display": false
  },
  "varInspector": {
   "cols": {
    "lenName": 16,
    "lenType": 16,
    "lenVar": 40
   },
   "kernels_config": {
    "python": {
     "delete_cmd_postfix": "",
     "delete_cmd_prefix": "del ",
     "library": "var_list.py",
     "varRefreshCmd": "print(var_dic_list())"
    },
    "r": {
     "delete_cmd_postfix": ") ",
     "delete_cmd_prefix": "rm(",
     "library": "var_list.r",
     "varRefreshCmd": "cat(var_dic_list()) "
    }
   },
   "types_to_exclude": [
    "module",
    "function",
    "builtin_function_or_method",
    "instance",
    "_Feature"
   ],
   "window_display": false
  }
 },
 "nbformat": 4,
 "nbformat_minor": 1
}
